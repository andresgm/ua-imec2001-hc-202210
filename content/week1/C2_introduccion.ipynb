{
 "cells": [
  {
   "cell_type": "markdown",
   "metadata": {},
   "source": [
    "# IMEC2201 Herramientas Computacionales \n",
    "## Semana 1: Introducción\n",
    "### Clase 1: Bases y Librerías\n",
    "\n",
    "Universidad de los Andes — Marzo 28, 2022.\n",
    "\n",
    "---\n",
    "\n",
    "## TABLA DE CONTENIDO\n",
    "\n",
    "### Sección 1: Empecemos con Julia [→](#section1)\n",
    "- 1.1. Imprimir en Pantalla\n",
    "- 1.2. Asignación de Variables\n",
    "- 1.3. Matemática Básica\n",
    "- 1.4. String\n",
    "- 1.5. Contenedores\n",
    "    - 1.5.1. Tuples\n",
    "    - 1.5.2. Dictionaries\n",
    "    - 1.5.3. Arrays\n",
    "- 1.6. Iteradores\n",
    "    - 1.6.1. While loop\n",
    "    - 1.6.2. For loop\n",
    "- 1.7. Condicionales\n",
    "- 1.8. Funciones\n",
    "\n",
    "### Sección 2: Extender las Bases [→](#section2)\n",
    "- 2.1. Librerías\n",
    "- 2.2. Gráficas\n",
    "___"
   ]
  },
  {
   "cell_type": "markdown",
   "metadata": {},
   "source": [
    "<a id=\"section1\"></a>\n",
    "# Sección 1: Empecemos con Julia"
   ]
  },
  {
   "cell_type": "markdown",
   "metadata": {},
   "source": [
    "## 1.1. Imprimir en Pantalla\n",
    "Podemos utilizar las funciones `print()` y `println()`."
   ]
  },
  {
   "cell_type": "code",
   "execution_count": 1,
   "metadata": {},
   "outputs": [
    {
     "name": "stdout",
     "output_type": "stream",
     "text": [
      "Hello World!\n"
     ]
    }
   ],
   "source": [
    "println(\"Hello World!\")"
   ]
  },
  {
   "cell_type": "markdown",
   "metadata": {},
   "source": [
    "Pero... ¿cuál es la diferencia?"
   ]
  },
  {
   "cell_type": "code",
   "execution_count": 2,
   "metadata": {},
   "outputs": [
    {
     "name": "stdout",
     "output_type": "stream",
     "text": [
      "Texto 1Texto 2Texto 3"
     ]
    }
   ],
   "source": [
    "print(\"Texto 1\")\n",
    "print(\"Texto 2\")\n",
    "print(\"Texto 3\")"
   ]
  },
  {
   "cell_type": "code",
   "execution_count": 3,
   "metadata": {},
   "outputs": [
    {
     "name": "stdout",
     "output_type": "stream",
     "text": [
      "Texto 1\n",
      "Texto 2\n",
      "Texto 3\n"
     ]
    }
   ],
   "source": [
    "println(\"Texto 1\")\n",
    "println(\"Texto 2\")\n",
    "println(\"Texto 3\")"
   ]
  },
  {
   "cell_type": "markdown",
   "metadata": {},
   "source": [
    "¿Y si agregamos '\\n' al final de `print()`?"
   ]
  },
  {
   "cell_type": "code",
   "execution_count": 4,
   "metadata": {},
   "outputs": [
    {
     "name": "stdout",
     "output_type": "stream",
     "text": [
      "Texto 1\n",
      "Texto 2\n",
      "Texto 3\n"
     ]
    }
   ],
   "source": [
    "print(\"Texto 1\\n\")\n",
    "print(\"Texto 2\\n\")\n",
    "print(\"Texto 3\\n\")"
   ]
  },
  {
   "cell_type": "code",
   "execution_count": 5,
   "metadata": {},
   "outputs": [
    {
     "name": "stdout",
     "output_type": "stream",
     "text": [
      "stdin> Nelson Salazar\n",
      "¿Cuál es tu nombre?: \n",
      "Hola, Nelson Salazar. ¡Bienvenido/a al curso IMEC2001!\n"
     ]
    }
   ],
   "source": [
    "#= \n",
    "Definimos la función 'greet_to_IMEC2001' que\n",
    "pregunta por un nombre y devuelve un saludo\n",
    "con la bienvenida al curso\n",
    "=#\n",
    "\n",
    "function greet_to_IMEC2001()\n",
    "    print(\"¿Cuál es tu nombre?: \")\n",
    "    name = readline()\n",
    "    println(\"\\nHola, $name. ¡Bienvenido/a al curso IMEC2001!\")\n",
    "end\n",
    "\n",
    "greet_to_IMEC2001()"
   ]
  },
  {
   "cell_type": "markdown",
   "metadata": {},
   "source": [
    "## 1.2. Asignación de Variables"
   ]
  },
  {
   "cell_type": "code",
   "execution_count": 6,
   "metadata": {},
   "outputs": [
    {
     "name": "stdout",
     "output_type": "stream",
     "text": [
      "100\n",
      "Int64\n"
     ]
    }
   ],
   "source": [
    "a = 100\n",
    "println(a)\n",
    "println(   typeof(a)   )"
   ]
  },
  {
   "cell_type": "code",
   "execution_count": 7,
   "metadata": {},
   "outputs": [
    {
     "name": "stdout",
     "output_type": "stream",
     "text": [
      "false\n"
     ]
    }
   ],
   "source": [
    "A = 5\n",
    "println(A == a)"
   ]
  },
  {
   "cell_type": "code",
   "execution_count": 8,
   "metadata": {},
   "outputs": [
    {
     "name": "stdout",
     "output_type": "stream",
     "text": [
      "44\n",
      "π\n",
      "Texto\n",
      "8.55\n",
      "Increíble\n"
     ]
    }
   ],
   "source": [
    "#=\n",
    "Podemos asignar símbolos con formato LaTex,\n",
    "al escribir '\\' seguido del nombre del símbolo.\n",
    "Por ejemplo, \\beta\n",
    "=#\n",
    "β = 44\n",
    "println(β)\n",
    "\n",
    "# Pi ya está definido como π\n",
    "println(π)\n",
    "\n",
    "# Incluso con super y subíndices\n",
    "α₁ = \"Texto\"\n",
    "αʲ = 8.55\n",
    "println(α₁)\n",
    "println(αʲ)\n",
    "\n",
    "# ¡También con emoji!\n",
    "😱 = \"Increíble\"\n",
    "println(😱)"
   ]
  },
  {
   "cell_type": "code",
   "execution_count": 9,
   "metadata": {},
   "outputs": [
    {
     "name": "stdout",
     "output_type": "stream",
     "text": [
      "Int64\n",
      "String\n"
     ]
    }
   ],
   "source": [
    "#=\n",
    "Podemos redefinir una variable\n",
    "=#\n",
    "println(typeof(β)) # Tipo inicial\n",
    "\n",
    "β = \"Nuevo valor\"\n",
    "println(typeof(β)) # Tipo nuevo\n"
   ]
  },
  {
   "cell_type": "markdown",
   "metadata": {},
   "source": [
    "## 1.3. Matemática Básica"
   ]
  },
  {
   "cell_type": "code",
   "execution_count": 10,
   "metadata": {},
   "outputs": [
    {
     "name": "stdout",
     "output_type": "stream",
     "text": [
      "La suma de 15 y 3 es 18.\n",
      "La resta de 15 y 3 es 12.\n",
      "El producto de 15 y 3 es 45.\n",
      "La división de 15 y 3 es 5.0.\n",
      "La potencia de 15 a la 3 es 3375.\n",
      "El módulo de 15 y 3 es 0.\n"
     ]
    }
   ],
   "source": [
    "var1 = 15\n",
    "var2 = 3\n",
    "\n",
    "# Suma (+)\n",
    "println(\"La suma de $var1 y $var2 es $(var1 + var2).\")\n",
    "\n",
    "# Resta (-)\n",
    "println(\"La resta de $var1 y $var2 es $(var1 - var2).\")\n",
    "\n",
    "# Producto (*)\n",
    "println(\"El producto de $var1 y $var2 es $(var1 * var2).\")\n",
    "\n",
    "# División (/)\n",
    "println(\"La división de $var1 y $var2 es $(var1 / var2).\")\n",
    "\n",
    "# Potencia (^)\n",
    "println(\"La potencia de $var1 a la $var2 es $(var1 ^ var2).\")\n",
    "\n",
    "# Módulo (%)\n",
    "println(\"El módulo de $var1 y $var2 es $(var1 % var2).\")"
   ]
  },
  {
   "cell_type": "markdown",
   "metadata": {},
   "source": [
    "## 1.4. String\n",
    "\n",
    "Importante tener en cuenta que las variables tipo String se definen entre comillas dobles, i.e., `\"\"`. Las comillas singulares `''` se utilizan para definir el tipo Char, es decir, un único caracter."
   ]
  },
  {
   "cell_type": "code",
   "execution_count": 11,
   "metadata": {},
   "outputs": [
    {
     "name": "stdout",
     "output_type": "stream",
     "text": [
      "String\n",
      "Char\n"
     ]
    }
   ],
   "source": [
    "# String\n",
    "texto1 = \"Soy un String\"\n",
    "println(typeof(texto1))\n",
    "\n",
    "# Char\n",
    "char1 = 'a'\n",
    "println(typeof(char1))"
   ]
  },
  {
   "cell_type": "markdown",
   "metadata": {},
   "source": [
    "¿Qué sucede si definimos un único caracter en comilla doble o un texto en comilla singular?"
   ]
  },
  {
   "cell_type": "code",
   "execution_count": 12,
   "metadata": {},
   "outputs": [
    {
     "name": "stdout",
     "output_type": "stream",
     "text": [
      "a\n"
     ]
    },
    {
     "ename": "LoadError",
     "evalue": "syntax: character literal contains multiple characters",
     "output_type": "error",
     "traceback": [
      "syntax: character literal contains multiple characters",
      "",
      "Stacktrace:",
      " [1] top-level scope",
      "   @ In[12]:5",
      " [2] eval",
      "   @ ./boot.jl:373 [inlined]",
      " [3] include_string(mapexpr::typeof(REPL.softscope), mod::Module, code::String, filename::String)",
      "   @ Base ./loading.jl:1196"
     ]
    }
   ],
   "source": [
    "# Char con doble comilla\n",
    "println(\"a\") # No error\n",
    "\n",
    "# String en comilla singular\n",
    "println('texto') # Error"
   ]
  },
  {
   "cell_type": "code",
   "execution_count": 13,
   "metadata": {},
   "outputs": [
    {
     "name": "stdout",
     "output_type": "stream",
     "text": [
      "Estamos en la segunda clase del cursoHerramientas Computacionales\n",
      "IMEC2001 Herramientas Computacionales\n",
      "Estamos en la segunda clase del cursoHerramientas Computacionales\n"
     ]
    }
   ],
   "source": [
    "#=\n",
    "Podemos concatenar textos de diferentes maneras\n",
    "=#\n",
    "\n",
    "txt1 = \"Estamos en la segunda clase del curso\"\n",
    "txt2 = \"Herramientas Computacionales\"\n",
    "\n",
    "# Forma 1\n",
    "println(string(txt1, txt2)) # ¿Cómo agrego un espacio entre txt1 y txt2?\n",
    "\n",
    "# Forma 2\n",
    "println(string(\"IMEC2001 \", txt2))\n",
    "\n",
    "# Forma 3\n",
    "println((txt1 * txt2))"
   ]
  },
  {
   "cell_type": "code",
   "execution_count": 14,
   "metadata": {},
   "outputs": [
    {
     "data": {
      "text/plain": [
       "\"Hola Hola Hola Hola Hola Hola Hola Hola Hola Hola \""
      ]
     },
     "execution_count": 14,
     "metadata": {},
     "output_type": "execute_result"
    }
   ],
   "source": [
    "# Texto + ^n repite el texto n veces\n",
    "\n",
    "\"Hola \" ^10"
   ]
  },
  {
   "cell_type": "markdown",
   "metadata": {},
   "source": [
    "## 1.5. Contenedores\n",
    "\n",
    "Los contenedores permiten almacenar múltiple información en una única variable. Las principales estructuras son:\n",
    "\n",
    "- Tuples\n",
    "- Dictionaries\n",
    "- Arrays"
   ]
  },
  {
   "cell_type": "markdown",
   "metadata": {},
   "source": [
    "### 1.5.1. Tuples\n",
    "\n",
    "Contenedor que **no** permite modificaciones una vez se define. Su sintaxis es:\n",
    "\n",
    " ```julia\n",
    " (item1, item2, ...)\n",
    " ```"
   ]
  },
  {
   "cell_type": "code",
   "execution_count": 15,
   "metadata": {},
   "outputs": [
    {
     "name": "stdout",
     "output_type": "stream",
     "text": [
      "Tuple{String, String, String}\n",
      "chicharrón\n"
     ]
    },
    {
     "ename": "LoadError",
     "evalue": "MethodError: no method matching setindex!(::Tuple{String, String, String}, ::String, ::Int64)",
     "output_type": "error",
     "traceback": [
      "MethodError: no method matching setindex!(::Tuple{String, String, String}, ::String, ::Int64)",
      "",
      "Stacktrace:",
      " [1] top-level scope",
      "   @ In[15]:10",
      " [2] eval",
      "   @ ./boot.jl:373 [inlined]",
      " [3] include_string(mapexpr::typeof(REPL.softscope), mod::Module, code::String, filename::String)",
      "   @ Base ./loading.jl:1196"
     ]
    }
   ],
   "source": [
    "bandeja_paisa = (\"frijol\", \"carne molida\", \"chicharrón\")\n",
    "\n",
    "# Tipo\n",
    "println(typeof(bandeja_paisa))\n",
    "\n",
    "# Index\n",
    "println(bandeja_paisa[3]) # ¡Importante! El conteo de índices inicia desde 1\n",
    "\n",
    "# Si intentamos modificarlo...\n",
    "bandeja_paisa[4] = \"chorizo\""
   ]
  },
  {
   "cell_type": "markdown",
   "metadata": {},
   "source": [
    "### 1.5.2. Dictionaries\n",
    "\n",
    "Los diccionarios, definidos con la función `Dict()`, son aprovechables para almacenar información relacionada. Su sintaxis es:\n",
    "\n",
    "```julia\n",
    "Dict(key1 => value1, key2 => value2, ...)\n",
    "```"
   ]
  },
  {
   "cell_type": "code",
   "execution_count": 16,
   "metadata": {},
   "outputs": [
    {
     "name": "stdout",
     "output_type": "stream",
     "text": [
      "Dict{String, String}\n",
      "[\"Diego Quintero\", \"Luis Montenegro\", \"Juan Ortiz\"]\n",
      "[\"da.quintero3014\", \"ls.montenegro\", \"jf.ortizm\"]\n"
     ]
    }
   ],
   "source": [
    "usuarios = Dict(\"Diego Quintero\" => \"da.quintero3014\",\n",
    "                \"Luis Montenegro\" => \"ls.montenegro\",\n",
    "                \"Juan Ortiz\" => \"jf.ortizm\")\n",
    "\n",
    "# Tipo\n",
    "println(typeof(usuarios))\n",
    "\n",
    "# Keys\n",
    "println(    keys(usuarios)       )\n",
    "\n",
    "# Values\n",
    "println(     values(usuarios)     )"
   ]
  },
  {
   "cell_type": "code",
   "execution_count": 17,
   "metadata": {},
   "outputs": [
    {
     "name": "stdout",
     "output_type": "stream",
     "text": [
      "[\"Diego Quintero\", \"Luis Montenegro\", \"Juan Ortiz\"]\n",
      "Vector{Any}[[\"da.quintero3014\", 201017845], [\"ls.montenegro\", 201713878], [\"jf.ortizm\", 201814530]]\n",
      "\n",
      "[\"Diego Quintero\", \"Luis Montenegro\", \"Juan Ortiz\"]\n",
      "Dict{String, Any}[Dict(\"Correo\" => \"da.quintero3014\", \"Código\" => 201017845), Dict(\"Correo\" => \"ls.montenegro\", \"Código\" => 201713878), Dict(\"Correo\" => \"jf.ortizm\", \"Código\" => 201814530)]\n",
      "\n",
      "201713878\n",
      "201713878\n",
      "\n",
      "[\"Juan Sabogal\", \"Diego Quintero\", \"Luis Montenegro\", \"Juan Ortiz\"]\n",
      "Dict{String, Any}[Dict(\"Correo\" => \"jd.sabogal\", \"Código\" => 201815222), Dict(\"Correo\" => \"da.quintero3014\", \"Código\" => 201017845), Dict(\"Correo\" => \"ls.montenegro\", \"Código\" => 201713878), Dict(\"Correo\" => \"jf.ortizm\", \"Código\" => 201814530)]\n"
     ]
    }
   ],
   "source": [
    "#=\n",
    "En los diccionarios podemos almacenar cualquier tipo de variables\n",
    "=#\n",
    "\n",
    "# Arrays en Dict\n",
    "estudiantes = Dict(\"Diego Quintero\" => [\"da.quintero3014\", 201017845],\n",
    "                   \"Luis Montenegro\" => [\"ls.montenegro\", 201713878],\n",
    "                   \"Juan Ortiz\" => [\"jf.ortizm\", 201814530])\n",
    "\n",
    "println(keys(estudiantes)) # Keys\n",
    "println(values(estudiantes), \"\\n\") # Values\n",
    "\n",
    "# Dict en Dict\n",
    "estudiantes = Dict(\"Diego Quintero\" => Dict(\"Correo\" => \"da.quintero3014\", \"Código\" => 201017845),\n",
    "                   \"Luis Montenegro\" => Dict(\"Correo\" => \"ls.montenegro\", \"Código\" => 201713878),\n",
    "                   \"Juan Ortiz\" => Dict(\"Correo\" => \"jf.ortizm\", \"Código\" => 201814530))\n",
    "\n",
    "println(keys(estudiantes)) # Keys\n",
    "println(values(estudiantes)) # Values\n",
    "println()\n",
    "\n",
    "# Acceso por Index\n",
    "println(estudiantes[\"Luis Montenegro\"][\"Código\"])\n",
    "println(estudiantes[collect(keys(estudiantes))[2]][\"Código\"]) # ¿Qué obtenemos con collect(keys(estudiantes))[2]?\n",
    "println()\n",
    "\n",
    "# Para Agregar...\n",
    "estudiantes[\"Juan Sabogal\"] = Dict(\"Correo\" => \"jd.sabogal\", \"Código\" => 201815222) # ¿Por qué '=' y no '=>'?\n",
    "println(keys(estudiantes)) # Keys\n",
    "println(values(estudiantes)) # Values"
   ]
  },
  {
   "cell_type": "markdown",
   "metadata": {},
   "source": [
    "### 1.5.3. Arrays\n",
    "Los Array difieren de los Tuple porque **sí** se pueden modificar. Además, difieren de los Dictionaries porque son contenedores ordenados. La sintaxis es:\n",
    "\n",
    "```julia\n",
    "[item1, item2, ...]\n",
    "```\n",
    "\n",
    "**Importante:** Note que los Array se definen con `[]` mientras que los Tuples como `()`.\n",
    "\n",
    "Note que ciertas funciones incluyen `!` pues alteran el contenido de la variable de entrada."
   ]
  },
  {
   "cell_type": "code",
   "execution_count": 18,
   "metadata": {},
   "outputs": [
    {
     "data": {
      "text/plain": [
       "5-element Vector{String}:\n",
       " \"Introducción\"\n",
       " \"Fundamentos\"\n",
       " \"Dinámica\"\n",
       " \"Sólidos Rígidos\"\n",
       " \"Conversión\""
      ]
     },
     "execution_count": 18,
     "metadata": {},
     "output_type": "execute_result"
    }
   ],
   "source": [
    "cursos_IMEC = [\"Introducción\", \"Fundamentos\", \"Dinámica\", \"Sólidos Rígidos\", \"Conversión\"]"
   ]
  },
  {
   "cell_type": "code",
   "execution_count": 19,
   "metadata": {},
   "outputs": [
    {
     "name": "stdout",
     "output_type": "stream",
     "text": [
      "Dinámica\n",
      "[\"Introducción\", \"Fundamentos\", \"Dinámica\", \"Sólidos Deformables\", \"Conversión\"]\n",
      "[\"Introducción\", \"Fundamentos\", \"Dinámica\", \"Sólidos Deformables\", \"Conversión\", \"Herramientas Computacionales\"]\n"
     ]
    }
   ],
   "source": [
    "# Index\n",
    "println(cursos_IMEC[3])\n",
    "\n",
    "# Modificación\n",
    "replace!(cursos_IMEC, \"Sólidos Rígidos\" => \"Sólidos Deformables\") # Usamos la función replace() con el símbolo '!', ¿por qué?\n",
    "println(cursos_IMEC)\n",
    "\n",
    "# Agregar\n",
    "push!(cursos_IMEC, \"Herramientas Computacionales\") # Usamos la función push() con el símbolo '!', ¿por qué?\n",
    "println(cursos_IMEC)"
   ]
  },
  {
   "cell_type": "code",
   "execution_count": 20,
   "metadata": {},
   "outputs": [
    {
     "data": {
      "text/plain": [
       "3-element Vector{Vector{Any}}:\n",
       " [\"A\", \"B\", \"C\"]\n",
       " [1, 2]\n",
       " [\"a\", \"b\", 3, 4, \"e\"]"
      ]
     },
     "execution_count": 20,
     "metadata": {},
     "output_type": "execute_result"
    }
   ],
   "source": [
    "#=\n",
    "También puedo definir un Array dentro de otro Array\n",
    "=#\n",
    "\n",
    "mix = [[\"A\", \"B\", \"C\"], [1, 2], [\"a\", \"b\", 3, 4, \"e\"]]"
   ]
  },
  {
   "cell_type": "code",
   "execution_count": 21,
   "metadata": {},
   "outputs": [
    {
     "name": "stdout",
     "output_type": "stream",
     "text": [
      "array1 = array2\n",
      "Original: [1, 4, 9, 16, 25]\n",
      "Copia: [1, 4, 1000, 16, 25]\n",
      "Original: [1, 4, 1000, 16, 25]\n",
      "\n",
      "FUNCIÓN copy()\n",
      "Original: [1, 4, 9, 16, 25]\n",
      "Copia: [1, 4, 1000, 16, 25]\n",
      "Original: [1, 4, 9, 16, 25]\n"
     ]
    }
   ],
   "source": [
    "#=\n",
    "Debemos tener cuidado al copiar un Array\n",
    "=#\n",
    "println(\"array1 = array2\")\n",
    "\n",
    "original = [1, 4, 9, 16, 25]\n",
    "println(\"Original: $original\")\n",
    "\n",
    "copia = original\n",
    "copia[3] = 1000\n",
    "println(\"Copia: $copia\")\n",
    "println(\"Original: $original\")\n",
    "println()\n",
    "\n",
    "# Pero, al usar la función 'copy()'\n",
    "println(\"FUNCIÓN copy()\")\n",
    "\n",
    "original = [1, 4, 9, 16, 25]\n",
    "println(\"Original: $original\")\n",
    "\n",
    "copia = copy(original)\n",
    "copia[3] = 1000\n",
    "println(\"Copia: $copia\")\n",
    "println(\"Original: $original\")"
   ]
  },
  {
   "cell_type": "markdown",
   "metadata": {},
   "source": [
    "## 1.6. Iteradores\n",
    "\n",
    "Se disponen dos iteradores: `While` y `For`."
   ]
  },
  {
   "cell_type": "markdown",
   "metadata": {},
   "source": [
    "### 1.6.1. While Loop\n",
    "Tiene la sintaxis:\n",
    "\n",
    "```julia\n",
    "while *condición*\n",
    "    *algoritmo*\n",
    "end\n",
    "```"
   ]
  },
  {
   "cell_type": "code",
   "execution_count": 22,
   "metadata": {},
   "outputs": [
    {
     "name": "stdout",
     "output_type": "stream",
     "text": [
      "0\n",
      "1\n",
      "2\n",
      "3\n",
      "4\n",
      "5\n",
      "6\n",
      "7\n",
      "8\n",
      "9\n",
      "10\n"
     ]
    }
   ],
   "source": [
    "i = 0\n",
    "\n",
    "while i <= 10\n",
    "    println(\"$i\")\n",
    "    i += 1 # i = i + 1\n",
    "end"
   ]
  },
  {
   "cell_type": "markdown",
   "metadata": {},
   "source": [
    "### 1.6.2. For Loop\n",
    "Tiene la sintaxis:\n",
    "\n",
    "```julia\n",
    "for *var* in *iteración*\n",
    "    *algoritmo*\n",
    "end\n",
    "```"
   ]
  },
  {
   "cell_type": "code",
   "execution_count": 23,
   "metadata": {},
   "outputs": [
    {
     "name": "stdout",
     "output_type": "stream",
     "text": [
      "0\n",
      "1\n",
      "2\n",
      "3\n",
      "4\n",
      "5\n",
      "6\n",
      "7\n",
      "8\n",
      "9\n",
      "10\n"
     ]
    }
   ],
   "source": [
    "for i in 0:1:10 # first:step:last\n",
    "    println(i)\n",
    "end"
   ]
  },
  {
   "cell_type": "code",
   "execution_count": 24,
   "metadata": {},
   "outputs": [
    {
     "data": {
      "text/plain": [
       "4-element Vector{String}:\n",
       " \"Juan Sabogal\"\n",
       " \"Diego Quintero\"\n",
       " \"Luis Montenegro\"\n",
       " \"Juan Ortiz\""
      ]
     },
     "execution_count": 24,
     "metadata": {},
     "output_type": "execute_result"
    }
   ],
   "source": [
    "collect(keys(estudiantes))"
   ]
  },
  {
   "cell_type": "code",
   "execution_count": 25,
   "metadata": {},
   "outputs": [
    {
     "name": "stdout",
     "output_type": "stream",
     "text": [
      "¡Hola, Juan Sabogal!\n",
      "¡Hola, Diego Quintero!\n",
      "¡Hola, Luis Montenegro!\n",
      "¡Hola, Juan Ortiz!\n"
     ]
    }
   ],
   "source": [
    "#=\n",
    "También podemos iterar en una lista\n",
    "=#\n",
    "for estudiante in collect(keys(estudiantes))\n",
    "    println(\"¡Hola, $(estudiante)!\")\n",
    "end"
   ]
  },
  {
   "cell_type": "code",
   "execution_count": 26,
   "metadata": {},
   "outputs": [
    {
     "name": "stdout",
     "output_type": "stream",
     "text": [
      "(1,1) (1,2) (1,3) (1,4) (1,5) \n",
      "(2,1) (2,2) (2,3) (2,4) (2,5) \n",
      "(3,1) (3,2) (3,3) (3,4) (3,5) \n"
     ]
    }
   ],
   "source": [
    "# Si concatenamos los For-loop...\n",
    "for i = 1 : 3\n",
    "    for j = 1 : 5\n",
    "        print(\"($i,$j) \")\n",
    "    end\n",
    "    println() # blank line\n",
    "end"
   ]
  },
  {
   "cell_type": "code",
   "execution_count": 27,
   "metadata": {},
   "outputs": [
    {
     "name": "stdout",
     "output_type": "stream",
     "text": [
      "(1,1) (1,2) (1,3) (1,4) (1,5) (2,1) (2,2) (2,3) (2,4) (2,5) (3,1) (3,2) (3,3) (3,4) (3,5) "
     ]
    }
   ],
   "source": [
    "# También es posible hacerlo en menos líneas de código\n",
    "for i = 1 : 3, j = 1 : 5\n",
    "    print(\"($i,$j) \")\n",
    "end"
   ]
  },
  {
   "cell_type": "markdown",
   "metadata": {},
   "source": [
    "## 1.7. Condicionales\n",
    "La sintaxis es:\n",
    "\n",
    "```julia\n",
    "if *condición 1*\n",
    "    *opción 1*\n",
    "\n",
    "elseif *condición 2*\n",
    "    *opción 2*\n",
    "    \n",
    "else\n",
    "    *opción 3*\n",
    "end\n",
    "```"
   ]
  },
  {
   "cell_type": "code",
   "execution_count": 28,
   "metadata": {},
   "outputs": [
    {
     "name": "stdout",
     "output_type": "stream",
     "text": [
      "Suficiente\n"
     ]
    }
   ],
   "source": [
    "puntaje = 81\n",
    "    \n",
    "if puntaje >= 90\n",
    "    println(\"Sobresaliente\")\n",
    "\n",
    "elseif puntaje < 90 && puntaje >= 80 # && es AND y || es OR\n",
    "    println(\"Suficiente\")\n",
    "\n",
    "else\n",
    "    println(\"Aceptable\")\n",
    "end"
   ]
  },
  {
   "cell_type": "markdown",
   "metadata": {},
   "source": [
    "## 1.8. Funciones"
   ]
  },
  {
   "cell_type": "code",
   "execution_count": 29,
   "metadata": {},
   "outputs": [
    {
     "name": "stdout",
     "output_type": "stream",
     "text": [
      "The average of 5.3, 17 and 2 is 8.1.\n"
     ]
    }
   ],
   "source": [
    "#=\n",
    "Por ejemplo, para calcular el promedio de tres números\n",
    "=#\n",
    "function average3(num1::Float64, num2::Int64, num3)\n",
    "    avg = round((num1+num2+num3)/3, digits=2)\n",
    "    println(\"The average of $num1, $num2 and $num3 is $avg.\")\n",
    "end\n",
    "\n",
    "average3(5.3, 17, 2)"
   ]
  },
  {
   "cell_type": "markdown",
   "metadata": {},
   "source": [
    "<a id=\"section2\"></a>\n",
    "# Sección 2: Extender las Bases\n",
    "## 2.1. Librerías\n",
    "\n",
    "**¡Importante!** Note que la carpeta `week1` contiene dos archivos: `Project.toml` y `Manifest.toml`. Estos configuran el <font color=\"#FF5733\">*ambiente de trabajo*</font> y facilitan el manejo de <font color=\"#FF5733\">librerías</font>.\n",
    "\n",
    "Para inicializar el ambiente desde el terminal, ejecute lo siguiente:\n",
    "\n",
    "```shell\n",
    "$ (v1.7) pkg > activate .\n",
    "$ (week1) pkg> instantiate\n",
    "```\n",
    "\n",
    "**Nota:** Para acceder al Pkg REPL, escriba el corchete derecho `]` en el Julia REPL. Note que el REPL cambie de color de verde (Julia REPL) a azul (Pkg REPL). Una vez ejecutado el código `activate .`, el prefijo entre paréntesis que indica el ambiente activo, cambia de `v1.7`a `week1`.\n",
    "\n",
    "O, desde Jupyter Notebook, ejecute:\n",
    "\n",
    "```julia\n",
    "$ using Pkg\n",
    "$ Pkg.activate()\n",
    "$ Pkg.instantiate()\n",
    "```\n",
    "\n",
    "**Nota:** La activación del ambiente <font color=\"#FF5733\">*precompila*</font> las librerías por lo que puede tardar un momento su ejecución completa.\n",
    "\n",
    "<div class=\"alert alert-block alert-info\">\n",
    "    \n",
    "<i class=\"fa fa-info-circle\" aria-hidden=\"true\"></i>\n",
    "Puede obtener más información en la documentación oficial de la librería [`Pkg.jl`](https://pkgdocs.julialang.org/v1/environments/) y en el documento dando clic [aquí](https://towardsdatascience.com/how-to-setup-project-environments-in-julia-ec8ae73afe9c).\n",
    "</div>"
   ]
  },
  {
   "cell_type": "code",
   "execution_count": 30,
   "metadata": {},
   "outputs": [
    {
     "name": "stderr",
     "output_type": "stream",
     "text": [
      "\u001b[32m\u001b[1m  Activating\u001b[22m\u001b[39m project at `~/Documents/GitHub/ua-imec2001-hc-202210/content/week1`\n"
     ]
    }
   ],
   "source": [
    "using Pkg\n",
    "Pkg.activate(pwd())\n",
    "Pkg.instantiate()"
   ]
  },
  {
   "cell_type": "code",
   "execution_count": 31,
   "metadata": {},
   "outputs": [
    {
     "name": "stderr",
     "output_type": "stream",
     "text": [
      "\u001b[32m\u001b[1m    Updating\u001b[22m\u001b[39m registry at `~/.julia/registries/General`\n",
      "\u001b[32m\u001b[1m    Updating\u001b[22m\u001b[39m git-repo `https://github.com/JuliaRegistries/General.git`\n",
      "\u001b[32m\u001b[1m   Resolving\u001b[22m\u001b[39m package versions...\n",
      "\u001b[32m\u001b[1m  No Changes\u001b[22m\u001b[39m to `~/Documents/GitHub/ua-imec2001-hc-202210/content/week1/Project.toml`\n",
      "\u001b[32m\u001b[1m  No Changes\u001b[22m\u001b[39m to `~/Documents/GitHub/ua-imec2001-hc-202210/content/week1/Manifest.toml`\n",
      "\u001b[32m\u001b[1m   Resolving\u001b[22m\u001b[39m package versions...\n",
      "\u001b[32m\u001b[1m  No Changes\u001b[22m\u001b[39m to `~/Documents/GitHub/ua-imec2001-hc-202210/content/week1/Project.toml`\n",
      "\u001b[32m\u001b[1m  No Changes\u001b[22m\u001b[39m to `~/Documents/GitHub/ua-imec2001-hc-202210/content/week1/Manifest.toml`\n",
      "\u001b[32m\u001b[1m   Resolving\u001b[22m\u001b[39m package versions...\n",
      "\u001b[32m\u001b[1m  No Changes\u001b[22m\u001b[39m to `~/Documents/GitHub/ua-imec2001-hc-202210/content/week1/Project.toml`\n",
      "\u001b[32m\u001b[1m  No Changes\u001b[22m\u001b[39m to `~/Documents/GitHub/ua-imec2001-hc-202210/content/week1/Manifest.toml`\n"
     ]
    }
   ],
   "source": [
    "using Pkg\n",
    "Pkg.add(\"XLSX\")\n",
    "Pkg.add(\"CSV\")\n",
    "Pkg.add(\"DataFrames\")"
   ]
  },
  {
   "cell_type": "code",
   "execution_count": 32,
   "metadata": {},
   "outputs": [
    {
     "name": "stdout",
     "output_type": "stream",
     "text": [
      "\u001b[32m\u001b[1m      Status\u001b[22m\u001b[39m `~/Documents/GitHub/ua-imec2001-hc-202210/content/week1/Project.toml`\n",
      " \u001b[90m [336ed68f] \u001b[39mCSV v0.10.3\n",
      " \u001b[90m [a93c6f00] \u001b[39mDataFrames v1.3.2\n",
      " \u001b[90m [91a5bcdd] \u001b[39mPlots v1.27.3\n",
      " \u001b[90m [fdbf4ff8] \u001b[39mXLSX v0.7.9\n"
     ]
    }
   ],
   "source": [
    "Pkg.status()"
   ]
  },
  {
   "cell_type": "code",
   "execution_count": 33,
   "metadata": {},
   "outputs": [
    {
     "name": "stdout",
     "output_type": "stream",
     "text": [
      "El DataFrame tiene 17 filas y 5 columnas.\n"
     ]
    },
    {
     "data": {
      "text/html": [
       "<div class=\"data-frame\"><p>5 rows × 5 columns</p><table class=\"data-frame\"><thead><tr><th></th><th>OrgDefinedId</th><th>Username</th><th>Last Name</th><th>First Name</th><th>Email</th></tr><tr><th></th><th title=\"Any\">Any</th><th title=\"Any\">Any</th><th title=\"Any\">Any</th><th title=\"Any\">Any</th><th title=\"Any\">Any</th></tr></thead><tbody><tr><th>1</th><td>201017845</td><td>da.quintero3014</td><td>Quintero Vasquez</td><td>Diego Armando</td><td>da.quintero3014@uniandes.edu.co</td></tr><tr><th>2</th><td>201713878</td><td>ls.montenegro</td><td>Montenegro Gualteros</td><td>Luis Santiago</td><td>ls.montenegro@uniandes.edu.co</td></tr><tr><th>3</th><td>201814530</td><td>jf.ortizm</td><td>Ortiz Monzon</td><td>Juan Felipe</td><td>jf.ortizm@uniandes.edu.co</td></tr><tr><th>4</th><td>201815222</td><td>jd.sabogal</td><td>Sabogal Serrato</td><td>Juan David</td><td>jd.sabogal@uniandes.edu.co</td></tr><tr><th>5</th><td>201821670</td><td>ja.parraga</td><td>Parraga Ariza</td><td>Jorge Alejandro</td><td>ja.parraga@uniandes.edu.co</td></tr></tbody></table></div>"
      ],
      "text/latex": [
       "\\begin{tabular}{r|ccccc}\n",
       "\t& OrgDefinedId & Username & Last Name & First Name & Email\\\\\n",
       "\t\\hline\n",
       "\t& Any & Any & Any & Any & Any\\\\\n",
       "\t\\hline\n",
       "\t1 & 201017845 & da.quintero3014 & Quintero Vasquez & Diego Armando & da.quintero3014@uniandes.edu.co \\\\\n",
       "\t2 & 201713878 & ls.montenegro & Montenegro Gualteros & Luis Santiago & ls.montenegro@uniandes.edu.co \\\\\n",
       "\t3 & 201814530 & jf.ortizm & Ortiz Monzon & Juan Felipe & jf.ortizm@uniandes.edu.co \\\\\n",
       "\t4 & 201815222 & jd.sabogal & Sabogal Serrato & Juan David & jd.sabogal@uniandes.edu.co \\\\\n",
       "\t5 & 201821670 & ja.parraga & Parraga Ariza & Jorge Alejandro & ja.parraga@uniandes.edu.co \\\\\n",
       "\\end{tabular}\n"
      ],
      "text/plain": [
       "\u001b[1m5×5 DataFrame\u001b[0m\n",
       "\u001b[1m Row \u001b[0m│\u001b[1m OrgDefinedId \u001b[0m\u001b[1m Username        \u001b[0m\u001b[1m Last Name            \u001b[0m\u001b[1m First Name      \u001b[0m\u001b[1m E\u001b[0m ⋯\n",
       "\u001b[1m     \u001b[0m│\u001b[90m Any          \u001b[0m\u001b[90m Any             \u001b[0m\u001b[90m Any                  \u001b[0m\u001b[90m Any             \u001b[0m\u001b[90m A\u001b[0m ⋯\n",
       "─────┼──────────────────────────────────────────────────────────────────────────\n",
       "   1 │ 201017845     da.quintero3014  Quintero Vasquez      Diego Armando    d ⋯\n",
       "   2 │ 201713878     ls.montenegro    Montenegro Gualteros  Luis Santiago    l\n",
       "   3 │ 201814530     jf.ortizm        Ortiz Monzon          Juan Felipe      j\n",
       "   4 │ 201815222     jd.sabogal       Sabogal Serrato       Juan David       j\n",
       "   5 │ 201821670     ja.parraga       Parraga Ariza         Jorge Alejandro  j ⋯\n",
       "\u001b[36m                                                                1 column omitted\u001b[0m"
      ]
     },
     "execution_count": 33,
     "metadata": {},
     "output_type": "execute_result"
    }
   ],
   "source": [
    "using DataFrames, XLSX\n",
    "df1 = DataFrame(XLSX.readtable(\"./data/hc-users.xlsx\", \"Users\")...)\n",
    "\n",
    "println(\"El DataFrame tiene $(size(df1)[1]) filas y $(size(df1)[2]) columnas.\")\n",
    "\n",
    "first(df1, 5)"
   ]
  },
  {
   "cell_type": "markdown",
   "metadata": {},
   "source": [
    "Es posible trabajar con esta información para obtener métricas descriptivas interesantes. Por ejemplo, podemos analizar en qué\n",
    "año ingresaron a la Universidad los estudiantes del curso (asumiendo que esta información la da los cuatro primeros dígitos del código, es decir, de la columna `OrgDefinedId`)."
   ]
  },
  {
   "cell_type": "code",
   "execution_count": 34,
   "metadata": {},
   "outputs": [
    {
     "name": "stdout",
     "output_type": "stream",
     "text": [
      "Any[2010, 2017, 2018, 2018, 2018]\n",
      "\n",
      "\u001b[1m5×2 DataFrame\u001b[0m\n",
      "\u001b[1m Row \u001b[0m│\u001b[1m Username        \u001b[0m\u001b[1m Year \u001b[0m\n",
      "\u001b[1m     \u001b[0m│\u001b[90m Any             \u001b[0m\u001b[90m Any  \u001b[0m\n",
      "─────┼───────────────────────\n",
      "   1 │ da.quintero3014  2010\n",
      "   2 │ ls.montenegro    2017\n",
      "   3 │ jf.ortizm        2018\n",
      "   4 │ jd.sabogal       2018\n",
      "   5 │ ja.parraga       2018"
     ]
    },
    {
     "data": {
      "text/html": [
       "<div class=\"data-frame\"><p>1 rows × 7 columns</p><table class=\"data-frame\"><thead><tr><th></th><th>variable</th><th>mean</th><th>min</th><th>median</th><th>max</th><th>nmissing</th><th>eltype</th></tr><tr><th></th><th title=\"Symbol\">Symbol</th><th title=\"Float64\">Float64</th><th title=\"Int64\">Int64</th><th title=\"Float64\">Float64</th><th title=\"Int64\">Int64</th><th title=\"Int64\">Int64</th><th title=\"DataType\">DataType</th></tr></thead><tbody><tr><th>1</th><td>Year</td><td>2018.82</td><td>2010</td><td>2019.0</td><td>2021</td><td>0</td><td>Any</td></tr></tbody></table></div>"
      ],
      "text/latex": [
       "\\begin{tabular}{r|ccccccc}\n",
       "\t& variable & mean & min & median & max & nmissing & eltype\\\\\n",
       "\t\\hline\n",
       "\t& Symbol & Float64 & Int64 & Float64 & Int64 & Int64 & DataType\\\\\n",
       "\t\\hline\n",
       "\t1 & Year & 2018.82 & 2010 & 2019.0 & 2021 & 0 & Any \\\\\n",
       "\\end{tabular}\n"
      ],
      "text/plain": [
       "\u001b[1m1×7 DataFrame\u001b[0m\n",
       "\u001b[1m Row \u001b[0m│\u001b[1m variable \u001b[0m\u001b[1m mean    \u001b[0m\u001b[1m min   \u001b[0m\u001b[1m median  \u001b[0m\u001b[1m max   \u001b[0m\u001b[1m nmissing \u001b[0m\u001b[1m eltype   \u001b[0m\n",
       "\u001b[1m     \u001b[0m│\u001b[90m Symbol   \u001b[0m\u001b[90m Float64 \u001b[0m\u001b[90m Int64 \u001b[0m\u001b[90m Float64 \u001b[0m\u001b[90m Int64 \u001b[0m\u001b[90m Int64    \u001b[0m\u001b[90m DataType \u001b[0m\n",
       "─────┼──────────────────────────────────────────────────────────────\n",
       "   1 │ Year      2018.82   2010   2019.0   2021         0  Any"
      ]
     },
     "execution_count": 34,
     "metadata": {},
     "output_type": "execute_result"
    }
   ],
   "source": [
    "# 1. Lista para almacenar los cuatro primeros dígitos del código (i.e., año)\n",
    "id_year = []\n",
    "\n",
    "# 2. Iteración para extraer el año del código y almacenarlo en la lista 'id_year'\n",
    "for i in df1.OrgDefinedId\n",
    "    push!(id_year, parse(Int64, i[1:4]))\n",
    "end\n",
    "\n",
    "println(id_year[1:5])\n",
    "println(\"\") # Línea en blanco para mejor visualización\n",
    "\n",
    "# 3. Agregar esta información en el DataFrame 'df1'\n",
    "df1[!, :Year] = id_year\n",
    "show(df1[1:5, [:Username, :Year]])\n",
    "\n",
    "# 4. Análisis del año\n",
    "describe(df1, cols=:Year)"
   ]
  },
  {
   "cell_type": "markdown",
   "metadata": {},
   "source": [
    "Para el caso de datos tabulares en formato CSV, usamos la correspondiente librería (i.e., `CSV`)."
   ]
  },
  {
   "cell_type": "code",
   "execution_count": 35,
   "metadata": {},
   "outputs": [
    {
     "data": {
      "text/html": [
       "<div class=\"data-frame\"><p>5 rows × 5 columns</p><table class=\"data-frame\"><thead><tr><th></th><th>OrgDefinedId</th><th>Username</th><th>Last Name</th><th>First Name</th><th>Email</th></tr><tr><th></th><th title=\"Int64\">Int64</th><th title=\"String15\">String15</th><th title=\"String31\">String31</th><th title=\"String15\">String15</th><th title=\"String31\">String31</th></tr></thead><tbody><tr><th>1</th><td>201017845</td><td>da.quintero3014</td><td>Quintero Vasquez</td><td>Diego Armando</td><td>da.quintero3014@uniandes.edu.co</td></tr><tr><th>2</th><td>201713878</td><td>ls.montenegro</td><td>Montenegro Gualteros</td><td>Luis Santiago</td><td>ls.montenegro@uniandes.edu.co</td></tr><tr><th>3</th><td>201814530</td><td>jf.ortizm</td><td>Ortiz Monzon</td><td>Juan Felipe</td><td>jf.ortizm@uniandes.edu.co</td></tr><tr><th>4</th><td>201815222</td><td>jd.sabogal</td><td>Sabogal Serrato</td><td>Juan David</td><td>jd.sabogal@uniandes.edu.co</td></tr><tr><th>5</th><td>201821670</td><td>ja.parraga</td><td>Parraga Ariza</td><td>Jorge Alejandro</td><td>ja.parraga@uniandes.edu.co</td></tr></tbody></table></div>"
      ],
      "text/latex": [
       "\\begin{tabular}{r|ccccc}\n",
       "\t& OrgDefinedId & Username & Last Name & First Name & Email\\\\\n",
       "\t\\hline\n",
       "\t& Int64 & String15 & String31 & String15 & String31\\\\\n",
       "\t\\hline\n",
       "\t1 & 201017845 & da.quintero3014 & Quintero Vasquez & Diego Armando & da.quintero3014@uniandes.edu.co \\\\\n",
       "\t2 & 201713878 & ls.montenegro & Montenegro Gualteros & Luis Santiago & ls.montenegro@uniandes.edu.co \\\\\n",
       "\t3 & 201814530 & jf.ortizm & Ortiz Monzon & Juan Felipe & jf.ortizm@uniandes.edu.co \\\\\n",
       "\t4 & 201815222 & jd.sabogal & Sabogal Serrato & Juan David & jd.sabogal@uniandes.edu.co \\\\\n",
       "\t5 & 201821670 & ja.parraga & Parraga Ariza & Jorge Alejandro & ja.parraga@uniandes.edu.co \\\\\n",
       "\\end{tabular}\n"
      ],
      "text/plain": [
       "\u001b[1m5×5 DataFrame\u001b[0m\n",
       "\u001b[1m Row \u001b[0m│\u001b[1m OrgDefinedId \u001b[0m\u001b[1m Username        \u001b[0m\u001b[1m Last Name            \u001b[0m\u001b[1m First Name      \u001b[0m\u001b[1m E\u001b[0m ⋯\n",
       "\u001b[1m     \u001b[0m│\u001b[90m Int64        \u001b[0m\u001b[90m String15        \u001b[0m\u001b[90m String31             \u001b[0m\u001b[90m String15        \u001b[0m\u001b[90m S\u001b[0m ⋯\n",
       "─────┼──────────────────────────────────────────────────────────────────────────\n",
       "   1 │    201017845  da.quintero3014  Quintero Vasquez      Diego Armando    d ⋯\n",
       "   2 │    201713878  ls.montenegro    Montenegro Gualteros  Luis Santiago    l\n",
       "   3 │    201814530  jf.ortizm        Ortiz Monzon          Juan Felipe      j\n",
       "   4 │    201815222  jd.sabogal       Sabogal Serrato       Juan David       j\n",
       "   5 │    201821670  ja.parraga       Parraga Ariza         Jorge Alejandro  j ⋯\n",
       "\u001b[36m                                                                1 column omitted\u001b[0m"
      ]
     },
     "execution_count": 35,
     "metadata": {},
     "output_type": "execute_result"
    }
   ],
   "source": [
    "using CSV\n",
    "\n",
    "file = CSV.File(\"./data/hc-users.csv\", header=1, delim=';')\n",
    "df2 = DataFrame(file)\n",
    "\n",
    "first(df2, 5)"
   ]
  },
  {
   "cell_type": "markdown",
   "metadata": {},
   "source": [
    "## 2.2. Gráficas\n",
    "\n",
    "Julia dispone de diversas librerías para generar visualizaciones ([aquí](https://juliapackages.com/c/graphics)). En este caso, usaremos `Plots.jl`."
   ]
  },
  {
   "cell_type": "code",
   "execution_count": 36,
   "metadata": {},
   "outputs": [
    {
     "data": {
      "image/svg+xml": [
       "<?xml version=\"1.0\" encoding=\"utf-8\"?>\n",
       "<svg xmlns=\"http://www.w3.org/2000/svg\" xmlns:xlink=\"http://www.w3.org/1999/xlink\" width=\"600\" height=\"400\" viewBox=\"0 0 2400 1600\">\n",
       "<defs>\n",
       "  <clipPath id=\"clip300\">\n",
       "    <rect x=\"0\" y=\"0\" width=\"2400\" height=\"1600\"/>\n",
       "  </clipPath>\n",
       "</defs>\n",
       "<path clip-path=\"url(#clip300)\" d=\"\n",
       "M0 1600 L2400 1600 L2400 0 L0 0  Z\n",
       "  \" fill=\"#ffffff\" fill-rule=\"evenodd\" fill-opacity=\"1\"/>\n",
       "<defs>\n",
       "  <clipPath id=\"clip301\">\n",
       "    <rect x=\"480\" y=\"0\" width=\"1681\" height=\"1600\"/>\n",
       "  </clipPath>\n",
       "</defs>\n",
       "<path clip-path=\"url(#clip300)\" d=\"\n",
       "M156.598 1486.45 L2352.76 1486.45 L2352.76 47.2441 L156.598 47.2441  Z\n",
       "  \" fill=\"#ffffff\" fill-rule=\"evenodd\" fill-opacity=\"1\"/>\n",
       "<defs>\n",
       "  <clipPath id=\"clip302\">\n",
       "    <rect x=\"156\" y=\"47\" width=\"2197\" height=\"1440\"/>\n",
       "  </clipPath>\n",
       "</defs>\n",
       "<polyline clip-path=\"url(#clip302)\" style=\"stroke:#000000; stroke-linecap:butt; stroke-linejoin:round; stroke-width:2; stroke-opacity:0.1; fill:none\" points=\"\n",
       "  218.754,1486.45 218.754,47.2441 \n",
       "  \"/>\n",
       "<polyline clip-path=\"url(#clip302)\" style=\"stroke:#000000; stroke-linecap:butt; stroke-linejoin:round; stroke-width:2; stroke-opacity:0.1; fill:none\" points=\"\n",
       "  909.369,1486.45 909.369,47.2441 \n",
       "  \"/>\n",
       "<polyline clip-path=\"url(#clip302)\" style=\"stroke:#000000; stroke-linecap:butt; stroke-linejoin:round; stroke-width:2; stroke-opacity:0.1; fill:none\" points=\"\n",
       "  1599.98,1486.45 1599.98,47.2441 \n",
       "  \"/>\n",
       "<polyline clip-path=\"url(#clip302)\" style=\"stroke:#000000; stroke-linecap:butt; stroke-linejoin:round; stroke-width:2; stroke-opacity:0.1; fill:none\" points=\"\n",
       "  2290.6,1486.45 2290.6,47.2441 \n",
       "  \"/>\n",
       "<polyline clip-path=\"url(#clip300)\" style=\"stroke:#000000; stroke-linecap:butt; stroke-linejoin:round; stroke-width:4; stroke-opacity:1; fill:none\" points=\"\n",
       "  156.598,1486.45 2352.76,1486.45 \n",
       "  \"/>\n",
       "<polyline clip-path=\"url(#clip300)\" style=\"stroke:#000000; stroke-linecap:butt; stroke-linejoin:round; stroke-width:4; stroke-opacity:1; fill:none\" points=\"\n",
       "  218.754,1486.45 218.754,1467.55 \n",
       "  \"/>\n",
       "<polyline clip-path=\"url(#clip300)\" style=\"stroke:#000000; stroke-linecap:butt; stroke-linejoin:round; stroke-width:4; stroke-opacity:1; fill:none\" points=\"\n",
       "  909.369,1486.45 909.369,1467.55 \n",
       "  \"/>\n",
       "<polyline clip-path=\"url(#clip300)\" style=\"stroke:#000000; stroke-linecap:butt; stroke-linejoin:round; stroke-width:4; stroke-opacity:1; fill:none\" points=\"\n",
       "  1599.98,1486.45 1599.98,1467.55 \n",
       "  \"/>\n",
       "<polyline clip-path=\"url(#clip300)\" style=\"stroke:#000000; stroke-linecap:butt; stroke-linejoin:round; stroke-width:4; stroke-opacity:1; fill:none\" points=\"\n",
       "  2290.6,1486.45 2290.6,1467.55 \n",
       "  \"/>\n",
       "<path clip-path=\"url(#clip300)\" d=\"M209.136 1544.91 L216.774 1544.91 L216.774 1518.55 L208.464 1520.21 L208.464 1515.95 L216.728 1514.29 L221.404 1514.29 L221.404 1544.91 L229.043 1544.91 L229.043 1548.85 L209.136 1548.85 L209.136 1544.91 Z\" fill=\"#000000\" fill-rule=\"evenodd\" fill-opacity=\"1\" /><path clip-path=\"url(#clip300)\" d=\"M904.022 1544.91 L920.341 1544.91 L920.341 1548.85 L898.397 1548.85 L898.397 1544.91 Q901.059 1542.16 905.642 1537.53 Q910.249 1532.88 911.429 1531.53 Q913.675 1529.01 914.554 1527.27 Q915.457 1525.51 915.457 1523.82 Q915.457 1521.07 913.513 1519.33 Q911.591 1517.6 908.49 1517.6 Q906.291 1517.6 903.837 1518.36 Q901.406 1519.13 898.629 1520.68 L898.629 1515.95 Q901.453 1514.82 903.906 1514.24 Q906.36 1513.66 908.397 1513.66 Q913.767 1513.66 916.962 1516.35 Q920.156 1519.03 920.156 1523.52 Q920.156 1525.65 919.346 1527.57 Q918.559 1529.47 916.453 1532.07 Q915.874 1532.74 912.772 1535.95 Q909.67 1539.15 904.022 1544.91 Z\" fill=\"#000000\" fill-rule=\"evenodd\" fill-opacity=\"1\" /><path clip-path=\"url(#clip300)\" d=\"M1604.23 1530.21 Q1607.59 1530.93 1609.46 1533.2 Q1611.36 1535.47 1611.36 1538.8 Q1611.36 1543.92 1607.84 1546.72 Q1604.33 1549.52 1597.84 1549.52 Q1595.67 1549.52 1593.35 1549.08 Q1591.06 1548.66 1588.61 1547.81 L1588.61 1543.29 Q1590.55 1544.43 1592.87 1545.01 Q1595.18 1545.58 1597.7 1545.58 Q1602.1 1545.58 1604.39 1543.85 Q1606.71 1542.11 1606.71 1538.8 Q1606.71 1535.75 1604.56 1534.03 Q1602.43 1532.3 1598.61 1532.3 L1594.58 1532.3 L1594.58 1528.45 L1598.79 1528.45 Q1602.24 1528.45 1604.07 1527.09 Q1605.9 1525.7 1605.9 1523.11 Q1605.9 1520.45 1604 1519.03 Q1602.13 1517.6 1598.61 1517.6 Q1596.69 1517.6 1594.49 1518.01 Q1592.29 1518.43 1589.65 1519.31 L1589.65 1515.14 Q1592.31 1514.4 1594.63 1514.03 Q1596.96 1513.66 1599.02 1513.66 Q1604.35 1513.66 1607.45 1516.09 Q1610.55 1518.5 1610.55 1522.62 Q1610.55 1525.49 1608.91 1527.48 Q1607.26 1529.45 1604.23 1530.21 Z\" fill=\"#000000\" fill-rule=\"evenodd\" fill-opacity=\"1\" /><path clip-path=\"url(#clip300)\" d=\"M2293.61 1518.36 L2281.8 1536.81 L2293.61 1536.81 L2293.61 1518.36 M2292.38 1514.29 L2298.26 1514.29 L2298.26 1536.81 L2303.19 1536.81 L2303.19 1540.7 L2298.26 1540.7 L2298.26 1548.85 L2293.61 1548.85 L2293.61 1540.7 L2278.01 1540.7 L2278.01 1536.19 L2292.38 1514.29 Z\" fill=\"#000000\" fill-rule=\"evenodd\" fill-opacity=\"1\" /><polyline clip-path=\"url(#clip302)\" style=\"stroke:#000000; stroke-linecap:butt; stroke-linejoin:round; stroke-width:2; stroke-opacity:0.1; fill:none\" points=\"\n",
       "  156.598,1197.69 2352.76,1197.69 \n",
       "  \"/>\n",
       "<polyline clip-path=\"url(#clip302)\" style=\"stroke:#000000; stroke-linecap:butt; stroke-linejoin:round; stroke-width:2; stroke-opacity:0.1; fill:none\" points=\"\n",
       "  156.598,889.062 2352.76,889.062 \n",
       "  \"/>\n",
       "<polyline clip-path=\"url(#clip302)\" style=\"stroke:#000000; stroke-linecap:butt; stroke-linejoin:round; stroke-width:2; stroke-opacity:0.1; fill:none\" points=\"\n",
       "  156.598,580.435 2352.76,580.435 \n",
       "  \"/>\n",
       "<polyline clip-path=\"url(#clip302)\" style=\"stroke:#000000; stroke-linecap:butt; stroke-linejoin:round; stroke-width:2; stroke-opacity:0.1; fill:none\" points=\"\n",
       "  156.598,271.808 2352.76,271.808 \n",
       "  \"/>\n",
       "<polyline clip-path=\"url(#clip300)\" style=\"stroke:#000000; stroke-linecap:butt; stroke-linejoin:round; stroke-width:4; stroke-opacity:1; fill:none\" points=\"\n",
       "  156.598,1486.45 156.598,47.2441 \n",
       "  \"/>\n",
       "<polyline clip-path=\"url(#clip300)\" style=\"stroke:#000000; stroke-linecap:butt; stroke-linejoin:round; stroke-width:4; stroke-opacity:1; fill:none\" points=\"\n",
       "  156.598,1197.69 175.496,1197.69 \n",
       "  \"/>\n",
       "<polyline clip-path=\"url(#clip300)\" style=\"stroke:#000000; stroke-linecap:butt; stroke-linejoin:round; stroke-width:4; stroke-opacity:1; fill:none\" points=\"\n",
       "  156.598,889.062 175.496,889.062 \n",
       "  \"/>\n",
       "<polyline clip-path=\"url(#clip300)\" style=\"stroke:#000000; stroke-linecap:butt; stroke-linejoin:round; stroke-width:4; stroke-opacity:1; fill:none\" points=\"\n",
       "  156.598,580.435 175.496,580.435 \n",
       "  \"/>\n",
       "<polyline clip-path=\"url(#clip300)\" style=\"stroke:#000000; stroke-linecap:butt; stroke-linejoin:round; stroke-width:4; stroke-opacity:1; fill:none\" points=\"\n",
       "  156.598,271.808 175.496,271.808 \n",
       "  \"/>\n",
       "<path clip-path=\"url(#clip300)\" d=\"M65.0198 1183.49 Q61.4087 1183.49 59.58 1187.05 Q57.7745 1190.59 57.7745 1197.72 Q57.7745 1204.83 59.58 1208.39 Q61.4087 1211.94 65.0198 1211.94 Q68.6541 1211.94 70.4596 1208.39 Q72.2883 1204.83 72.2883 1197.72 Q72.2883 1190.59 70.4596 1187.05 Q68.6541 1183.49 65.0198 1183.49 M65.0198 1179.78 Q70.83 1179.78 73.8855 1184.39 Q76.9642 1188.97 76.9642 1197.72 Q76.9642 1206.45 73.8855 1211.06 Q70.83 1215.64 65.0198 1215.64 Q59.2097 1215.64 56.131 1211.06 Q53.0754 1206.45 53.0754 1197.72 Q53.0754 1188.97 56.131 1184.39 Q59.2097 1179.78 65.0198 1179.78 Z\" fill=\"#000000\" fill-rule=\"evenodd\" fill-opacity=\"1\" /><path clip-path=\"url(#clip300)\" d=\"M85.1818 1209.09 L90.066 1209.09 L90.066 1214.97 L85.1818 1214.97 L85.1818 1209.09 Z\" fill=\"#000000\" fill-rule=\"evenodd\" fill-opacity=\"1\" /><path clip-path=\"url(#clip300)\" d=\"M104.279 1211.03 L120.598 1211.03 L120.598 1214.97 L98.6539 1214.97 L98.6539 1211.03 Q101.316 1208.28 105.899 1203.65 Q110.506 1199 111.686 1197.65 Q113.932 1195.13 114.811 1193.39 Q115.714 1191.64 115.714 1189.95 Q115.714 1187.19 113.77 1185.45 Q111.848 1183.72 108.746 1183.72 Q106.547 1183.72 104.094 1184.48 Q101.663 1185.25 98.8854 1186.8 L98.8854 1182.08 Q101.709 1180.94 104.163 1180.36 Q106.617 1179.78 108.654 1179.78 Q114.024 1179.78 117.219 1182.47 Q120.413 1185.15 120.413 1189.64 Q120.413 1191.77 119.603 1193.7 Q118.816 1195.59 116.709 1198.19 Q116.131 1198.86 113.029 1202.07 Q109.927 1205.27 104.279 1211.03 Z\" fill=\"#000000\" fill-rule=\"evenodd\" fill-opacity=\"1\" /><path clip-path=\"url(#clip300)\" d=\"M62.9365 874.86 Q59.3254 874.86 57.4967 878.425 Q55.6912 881.967 55.6912 889.096 Q55.6912 896.203 57.4967 899.768 Q59.3254 903.309 62.9365 903.309 Q66.5707 903.309 68.3763 899.768 Q70.205 896.203 70.205 889.096 Q70.205 881.967 68.3763 878.425 Q66.5707 874.86 62.9365 874.86 M62.9365 871.157 Q68.7467 871.157 71.8022 875.763 Q74.8809 880.346 74.8809 889.096 Q74.8809 897.823 71.8022 902.43 Q68.7467 907.013 62.9365 907.013 Q57.1264 907.013 54.0477 902.43 Q50.9921 897.823 50.9921 889.096 Q50.9921 880.346 54.0477 875.763 Q57.1264 871.157 62.9365 871.157 Z\" fill=\"#000000\" fill-rule=\"evenodd\" fill-opacity=\"1\" /><path clip-path=\"url(#clip300)\" d=\"M83.0984 900.462 L87.9827 900.462 L87.9827 906.342 L83.0984 906.342 L83.0984 900.462 Z\" fill=\"#000000\" fill-rule=\"evenodd\" fill-opacity=\"1\" /><path clip-path=\"url(#clip300)\" d=\"M111.015 875.856 L99.2095 894.305 L111.015 894.305 L111.015 875.856 M109.788 871.782 L115.668 871.782 L115.668 894.305 L120.598 894.305 L120.598 898.194 L115.668 898.194 L115.668 906.342 L111.015 906.342 L111.015 898.194 L95.4132 898.194 L95.4132 893.68 L109.788 871.782 Z\" fill=\"#000000\" fill-rule=\"evenodd\" fill-opacity=\"1\" /><path clip-path=\"url(#clip300)\" d=\"M63.2606 566.234 Q59.6495 566.234 57.8208 569.798 Q56.0152 573.34 56.0152 580.47 Q56.0152 587.576 57.8208 591.141 Q59.6495 594.682 63.2606 594.682 Q66.8948 594.682 68.7004 591.141 Q70.5291 587.576 70.5291 580.47 Q70.5291 573.34 68.7004 569.798 Q66.8948 566.234 63.2606 566.234 M63.2606 562.53 Q69.0707 562.53 72.1263 567.136 Q75.205 571.72 75.205 580.47 Q75.205 589.196 72.1263 593.803 Q69.0707 598.386 63.2606 598.386 Q57.4504 598.386 54.3717 593.803 Q51.3162 589.196 51.3162 580.47 Q51.3162 571.72 54.3717 567.136 Q57.4504 562.53 63.2606 562.53 Z\" fill=\"#000000\" fill-rule=\"evenodd\" fill-opacity=\"1\" /><path clip-path=\"url(#clip300)\" d=\"M83.4225 591.835 L88.3067 591.835 L88.3067 597.715 L83.4225 597.715 L83.4225 591.835 Z\" fill=\"#000000\" fill-rule=\"evenodd\" fill-opacity=\"1\" /><path clip-path=\"url(#clip300)\" d=\"M109.071 578.571 Q105.922 578.571 104.071 580.724 Q102.242 582.877 102.242 586.627 Q102.242 590.354 104.071 592.53 Q105.922 594.682 109.071 594.682 Q112.219 594.682 114.047 592.53 Q115.899 590.354 115.899 586.627 Q115.899 582.877 114.047 580.724 Q112.219 578.571 109.071 578.571 M118.353 563.919 L118.353 568.178 Q116.594 567.345 114.788 566.905 Q113.006 566.465 111.246 566.465 Q106.617 566.465 104.163 569.59 Q101.733 572.715 101.385 579.034 Q102.751 577.021 104.811 575.956 Q106.871 574.868 109.348 574.868 Q114.557 574.868 117.566 578.039 Q120.598 581.187 120.598 586.627 Q120.598 591.951 117.45 595.169 Q114.302 598.386 109.071 598.386 Q103.075 598.386 99.9039 593.803 Q96.7326 589.196 96.7326 580.47 Q96.7326 572.275 100.621 567.414 Q104.51 562.53 111.061 562.53 Q112.82 562.53 114.603 562.877 Q116.408 563.224 118.353 563.919 Z\" fill=\"#000000\" fill-rule=\"evenodd\" fill-opacity=\"1\" /><path clip-path=\"url(#clip300)\" d=\"M63.5152 257.607 Q59.9041 257.607 58.0754 261.172 Q56.2699 264.713 56.2699 271.843 Q56.2699 278.949 58.0754 282.514 Q59.9041 286.056 63.5152 286.056 Q67.1494 286.056 68.955 282.514 Q70.7837 278.949 70.7837 271.843 Q70.7837 264.713 68.955 261.172 Q67.1494 257.607 63.5152 257.607 M63.5152 253.903 Q69.3254 253.903 72.3809 258.51 Q75.4596 263.093 75.4596 271.843 Q75.4596 280.57 72.3809 285.176 Q69.3254 289.759 63.5152 289.759 Q57.7051 289.759 54.6264 285.176 Q51.5708 280.57 51.5708 271.843 Q51.5708 263.093 54.6264 258.51 Q57.7051 253.903 63.5152 253.903 Z\" fill=\"#000000\" fill-rule=\"evenodd\" fill-opacity=\"1\" /><path clip-path=\"url(#clip300)\" d=\"M83.6771 283.208 L88.5614 283.208 L88.5614 289.088 L83.6771 289.088 L83.6771 283.208 Z\" fill=\"#000000\" fill-rule=\"evenodd\" fill-opacity=\"1\" /><path clip-path=\"url(#clip300)\" d=\"M108.746 272.676 Q105.413 272.676 103.492 274.459 Q101.594 276.241 101.594 279.366 Q101.594 282.491 103.492 284.273 Q105.413 286.056 108.746 286.056 Q112.08 286.056 114.001 284.273 Q115.922 282.468 115.922 279.366 Q115.922 276.241 114.001 274.459 Q112.103 272.676 108.746 272.676 M104.071 270.685 Q101.061 269.945 99.3715 267.884 Q97.7048 265.824 97.7048 262.861 Q97.7048 258.718 100.645 256.31 Q103.608 253.903 108.746 253.903 Q113.908 253.903 116.848 256.31 Q119.788 258.718 119.788 262.861 Q119.788 265.824 118.098 267.884 Q116.432 269.945 113.445 270.685 Q116.825 271.472 118.7 273.764 Q120.598 276.056 120.598 279.366 Q120.598 284.389 117.52 287.074 Q114.464 289.759 108.746 289.759 Q103.029 289.759 99.9502 287.074 Q96.8947 284.389 96.8947 279.366 Q96.8947 276.056 98.7928 273.764 Q100.691 271.472 104.071 270.685 M102.358 263.301 Q102.358 265.986 104.024 267.491 Q105.714 268.996 108.746 268.996 Q111.756 268.996 113.445 267.491 Q115.158 265.986 115.158 263.301 Q115.158 260.616 113.445 259.111 Q111.756 257.607 108.746 257.607 Q105.714 257.607 104.024 259.111 Q102.358 260.616 102.358 263.301 Z\" fill=\"#000000\" fill-rule=\"evenodd\" fill-opacity=\"1\" /><polyline clip-path=\"url(#clip302)\" style=\"stroke:#009af9; stroke-linecap:butt; stroke-linejoin:round; stroke-width:4; stroke-opacity:1; fill:none\" points=\"\n",
       "  218.754,926.889 909.369,475.851 1599.98,404.43 2290.6,87.9763 \n",
       "  \"/>\n",
       "<polyline clip-path=\"url(#clip302)\" style=\"stroke:#e26f46; stroke-linecap:butt; stroke-linejoin:round; stroke-width:4; stroke-opacity:1; fill:none\" points=\"\n",
       "  218.754,166.946 909.369,894.497 1599.98,1445.72 2290.6,318.253 \n",
       "  \"/>\n",
       "<polyline clip-path=\"url(#clip302)\" style=\"stroke:#3da44d; stroke-linecap:butt; stroke-linejoin:round; stroke-width:4; stroke-opacity:1; fill:none\" points=\"\n",
       "  218.754,778.796 909.369,625.026 1599.98,426.674 2290.6,867.906 \n",
       "  \"/>\n",
       "<polyline clip-path=\"url(#clip302)\" style=\"stroke:#c271d2; stroke-linecap:butt; stroke-linejoin:round; stroke-width:4; stroke-opacity:1; fill:none\" points=\"\n",
       "  218.754,1237.71 909.369,893.216 1599.98,891.577 2290.6,626.747 \n",
       "  \"/>\n",
       "<path clip-path=\"url(#clip300)\" d=\"\n",
       "M1981.39 354.418 L2279.55 354.418 L2279.55 95.2176 L1981.39 95.2176  Z\n",
       "  \" fill=\"#ffffff\" fill-rule=\"evenodd\" fill-opacity=\"1\"/>\n",
       "<polyline clip-path=\"url(#clip300)\" style=\"stroke:#000000; stroke-linecap:butt; stroke-linejoin:round; stroke-width:4; stroke-opacity:1; fill:none\" points=\"\n",
       "  1981.39,354.418 2279.55,354.418 2279.55,95.2176 1981.39,95.2176 1981.39,354.418 \n",
       "  \"/>\n",
       "<polyline clip-path=\"url(#clip300)\" style=\"stroke:#009af9; stroke-linecap:butt; stroke-linejoin:round; stroke-width:4; stroke-opacity:1; fill:none\" points=\"\n",
       "  2005.79,147.058 2152.2,147.058 \n",
       "  \"/>\n",
       "<path clip-path=\"url(#clip300)\" d=\"M2190.45 166.745 Q2188.64 171.375 2186.93 172.787 Q2185.21 174.199 2182.34 174.199 L2178.94 174.199 L2178.94 170.634 L2181.44 170.634 Q2183.2 170.634 2184.17 169.8 Q2185.15 168.967 2186.33 165.865 L2187.09 163.921 L2176.6 138.412 L2181.12 138.412 L2189.22 158.689 L2197.32 138.412 L2201.84 138.412 L2190.45 166.745 Z\" fill=\"#000000\" fill-rule=\"evenodd\" fill-opacity=\"1\" /><path clip-path=\"url(#clip300)\" d=\"M2209.13 160.402 L2216.77 160.402 L2216.77 134.037 L2208.46 135.703 L2208.46 131.444 L2216.72 129.778 L2221.4 129.778 L2221.4 160.402 L2229.03 160.402 L2229.03 164.338 L2209.13 164.338 L2209.13 160.402 Z\" fill=\"#000000\" fill-rule=\"evenodd\" fill-opacity=\"1\" /><polyline clip-path=\"url(#clip300)\" style=\"stroke:#e26f46; stroke-linecap:butt; stroke-linejoin:round; stroke-width:4; stroke-opacity:1; fill:none\" points=\"\n",
       "  2005.79,198.898 2152.2,198.898 \n",
       "  \"/>\n",
       "<path clip-path=\"url(#clip300)\" d=\"M2190.45 218.585 Q2188.64 223.215 2186.93 224.627 Q2185.21 226.039 2182.34 226.039 L2178.94 226.039 L2178.94 222.474 L2181.44 222.474 Q2183.2 222.474 2184.17 221.64 Q2185.15 220.807 2186.33 217.705 L2187.09 215.761 L2176.6 190.252 L2181.12 190.252 L2189.22 210.529 L2197.32 190.252 L2201.84 190.252 L2190.45 218.585 Z\" fill=\"#000000\" fill-rule=\"evenodd\" fill-opacity=\"1\" /><path clip-path=\"url(#clip300)\" d=\"M2212.34 212.242 L2228.66 212.242 L2228.66 216.178 L2206.72 216.178 L2206.72 212.242 Q2209.38 209.488 2213.96 204.858 Q2218.57 200.205 2219.75 198.863 Q2222 196.34 2222.88 194.604 Q2223.78 192.844 2223.78 191.155 Q2223.78 188.4 2221.84 186.664 Q2219.91 184.928 2216.81 184.928 Q2214.61 184.928 2212.16 185.692 Q2209.73 186.455 2206.95 188.006 L2206.95 183.284 Q2209.78 182.15 2212.23 181.571 Q2214.68 180.993 2216.72 180.993 Q2222.09 180.993 2225.28 183.678 Q2228.48 186.363 2228.48 190.854 Q2228.48 192.983 2227.67 194.905 Q2226.88 196.803 2224.77 199.395 Q2224.2 200.067 2221.09 203.284 Q2217.99 206.479 2212.34 212.242 Z\" fill=\"#000000\" fill-rule=\"evenodd\" fill-opacity=\"1\" /><polyline clip-path=\"url(#clip300)\" style=\"stroke:#3da44d; stroke-linecap:butt; stroke-linejoin:round; stroke-width:4; stroke-opacity:1; fill:none\" points=\"\n",
       "  2005.79,250.738 2152.2,250.738 \n",
       "  \"/>\n",
       "<path clip-path=\"url(#clip300)\" d=\"M2190.45 270.425 Q2188.64 275.055 2186.93 276.467 Q2185.21 277.879 2182.34 277.879 L2178.94 277.879 L2178.94 274.314 L2181.44 274.314 Q2183.2 274.314 2184.17 273.48 Q2185.15 272.647 2186.33 269.545 L2187.09 267.601 L2176.6 242.092 L2181.12 242.092 L2189.22 262.369 L2197.32 242.092 L2201.84 242.092 L2190.45 270.425 Z\" fill=\"#000000\" fill-rule=\"evenodd\" fill-opacity=\"1\" /><path clip-path=\"url(#clip300)\" d=\"M2222.48 249.383 Q2225.84 250.101 2227.71 252.369 Q2229.61 254.638 2229.61 257.971 Q2229.61 263.087 2226.09 265.888 Q2222.58 268.689 2216.09 268.689 Q2213.92 268.689 2211.6 268.249 Q2209.31 267.832 2206.86 266.976 L2206.86 262.462 Q2208.8 263.596 2211.12 264.175 Q2213.43 264.754 2215.96 264.754 Q2220.35 264.754 2222.65 263.018 Q2224.96 261.281 2224.96 257.971 Q2224.96 254.916 2222.81 253.203 Q2220.68 251.467 2216.86 251.467 L2212.83 251.467 L2212.83 247.624 L2217.04 247.624 Q2220.49 247.624 2222.32 246.258 Q2224.15 244.87 2224.15 242.277 Q2224.15 239.615 2222.25 238.203 Q2220.38 236.768 2216.86 236.768 Q2214.94 236.768 2212.74 237.184 Q2210.54 237.601 2207.9 238.481 L2207.9 234.314 Q2210.56 233.573 2212.88 233.203 Q2215.21 232.833 2217.27 232.833 Q2222.6 232.833 2225.7 235.263 Q2228.8 237.67 2228.8 241.791 Q2228.8 244.661 2227.16 246.652 Q2225.52 248.62 2222.48 249.383 Z\" fill=\"#000000\" fill-rule=\"evenodd\" fill-opacity=\"1\" /><polyline clip-path=\"url(#clip300)\" style=\"stroke:#c271d2; stroke-linecap:butt; stroke-linejoin:round; stroke-width:4; stroke-opacity:1; fill:none\" points=\"\n",
       "  2005.79,302.578 2152.2,302.578 \n",
       "  \"/>\n",
       "<path clip-path=\"url(#clip300)\" d=\"M2190.45 322.265 Q2188.64 326.895 2186.93 328.307 Q2185.21 329.719 2182.34 329.719 L2178.94 329.719 L2178.94 326.154 L2181.44 326.154 Q2183.2 326.154 2184.17 325.32 Q2185.15 324.487 2186.33 321.385 L2187.09 319.441 L2176.6 293.932 L2181.12 293.932 L2189.22 314.209 L2197.32 293.932 L2201.84 293.932 L2190.45 322.265 Z\" fill=\"#000000\" fill-rule=\"evenodd\" fill-opacity=\"1\" /><path clip-path=\"url(#clip300)\" d=\"M2221.16 289.372 L2209.36 307.821 L2221.16 307.821 L2221.16 289.372 M2219.94 285.298 L2225.82 285.298 L2225.82 307.821 L2230.75 307.821 L2230.75 311.709 L2225.82 311.709 L2225.82 319.858 L2221.16 319.858 L2221.16 311.709 L2205.56 311.709 L2205.56 307.196 L2219.94 285.298 Z\" fill=\"#000000\" fill-rule=\"evenodd\" fill-opacity=\"1\" /></svg>\n"
      ]
     },
     "execution_count": 36,
     "metadata": {},
     "output_type": "execute_result"
    }
   ],
   "source": [
    "using Plots\n",
    "plot(rand(4,4))"
   ]
  },
  {
   "cell_type": "code",
   "execution_count": 37,
   "metadata": {},
   "outputs": [
    {
     "data": {
      "image/svg+xml": [
       "<?xml version=\"1.0\" encoding=\"utf-8\"?>\n",
       "<svg xmlns=\"http://www.w3.org/2000/svg\" xmlns:xlink=\"http://www.w3.org/1999/xlink\" width=\"600\" height=\"400\" viewBox=\"0 0 2400 1600\">\n",
       "<defs>\n",
       "  <clipPath id=\"clip340\">\n",
       "    <rect x=\"0\" y=\"0\" width=\"2400\" height=\"1600\"/>\n",
       "  </clipPath>\n",
       "</defs>\n",
       "<path clip-path=\"url(#clip340)\" d=\"\n",
       "M0 1600 L2400 1600 L2400 0 L0 0  Z\n",
       "  \" fill=\"#ffffff\" fill-rule=\"evenodd\" fill-opacity=\"1\"/>\n",
       "<defs>\n",
       "  <clipPath id=\"clip341\">\n",
       "    <rect x=\"480\" y=\"0\" width=\"1681\" height=\"1600\"/>\n",
       "  </clipPath>\n",
       "</defs>\n",
       "<path clip-path=\"url(#clip340)\" d=\"\n",
       "M156.598 1486.45 L2352.76 1486.45 L2352.76 47.2441 L156.598 47.2441  Z\n",
       "  \" fill=\"#ffffff\" fill-rule=\"evenodd\" fill-opacity=\"1\"/>\n",
       "<defs>\n",
       "  <clipPath id=\"clip342\">\n",
       "    <rect x=\"156\" y=\"47\" width=\"2197\" height=\"1440\"/>\n",
       "  </clipPath>\n",
       "</defs>\n",
       "<polyline clip-path=\"url(#clip342)\" style=\"stroke:#000000; stroke-linecap:butt; stroke-linejoin:round; stroke-width:2; stroke-opacity:0.1; fill:none\" points=\"\n",
       "  218.754,1486.45 218.754,47.2441 \n",
       "  \"/>\n",
       "<polyline clip-path=\"url(#clip342)\" style=\"stroke:#000000; stroke-linecap:butt; stroke-linejoin:round; stroke-width:2; stroke-opacity:0.1; fill:none\" points=\"\n",
       "  909.369,1486.45 909.369,47.2441 \n",
       "  \"/>\n",
       "<polyline clip-path=\"url(#clip342)\" style=\"stroke:#000000; stroke-linecap:butt; stroke-linejoin:round; stroke-width:2; stroke-opacity:0.1; fill:none\" points=\"\n",
       "  1599.98,1486.45 1599.98,47.2441 \n",
       "  \"/>\n",
       "<polyline clip-path=\"url(#clip342)\" style=\"stroke:#000000; stroke-linecap:butt; stroke-linejoin:round; stroke-width:2; stroke-opacity:0.1; fill:none\" points=\"\n",
       "  2290.6,1486.45 2290.6,47.2441 \n",
       "  \"/>\n",
       "<polyline clip-path=\"url(#clip340)\" style=\"stroke:#000000; stroke-linecap:butt; stroke-linejoin:round; stroke-width:4; stroke-opacity:1; fill:none\" points=\"\n",
       "  156.598,1486.45 2352.76,1486.45 \n",
       "  \"/>\n",
       "<polyline clip-path=\"url(#clip340)\" style=\"stroke:#000000; stroke-linecap:butt; stroke-linejoin:round; stroke-width:4; stroke-opacity:1; fill:none\" points=\"\n",
       "  218.754,1486.45 218.754,1467.55 \n",
       "  \"/>\n",
       "<polyline clip-path=\"url(#clip340)\" style=\"stroke:#000000; stroke-linecap:butt; stroke-linejoin:round; stroke-width:4; stroke-opacity:1; fill:none\" points=\"\n",
       "  909.369,1486.45 909.369,1467.55 \n",
       "  \"/>\n",
       "<polyline clip-path=\"url(#clip340)\" style=\"stroke:#000000; stroke-linecap:butt; stroke-linejoin:round; stroke-width:4; stroke-opacity:1; fill:none\" points=\"\n",
       "  1599.98,1486.45 1599.98,1467.55 \n",
       "  \"/>\n",
       "<polyline clip-path=\"url(#clip340)\" style=\"stroke:#000000; stroke-linecap:butt; stroke-linejoin:round; stroke-width:4; stroke-opacity:1; fill:none\" points=\"\n",
       "  2290.6,1486.45 2290.6,1467.55 \n",
       "  \"/>\n",
       "<path clip-path=\"url(#clip340)\" d=\"M209.136 1544.91 L216.774 1544.91 L216.774 1518.55 L208.464 1520.21 L208.464 1515.95 L216.728 1514.29 L221.404 1514.29 L221.404 1544.91 L229.043 1544.91 L229.043 1548.85 L209.136 1548.85 L209.136 1544.91 Z\" fill=\"#000000\" fill-rule=\"evenodd\" fill-opacity=\"1\" /><path clip-path=\"url(#clip340)\" d=\"M904.022 1544.91 L920.341 1544.91 L920.341 1548.85 L898.397 1548.85 L898.397 1544.91 Q901.059 1542.16 905.642 1537.53 Q910.249 1532.88 911.429 1531.53 Q913.675 1529.01 914.554 1527.27 Q915.457 1525.51 915.457 1523.82 Q915.457 1521.07 913.513 1519.33 Q911.591 1517.6 908.49 1517.6 Q906.291 1517.6 903.837 1518.36 Q901.406 1519.13 898.629 1520.68 L898.629 1515.95 Q901.453 1514.82 903.906 1514.24 Q906.36 1513.66 908.397 1513.66 Q913.767 1513.66 916.962 1516.35 Q920.156 1519.03 920.156 1523.52 Q920.156 1525.65 919.346 1527.57 Q918.559 1529.47 916.453 1532.07 Q915.874 1532.74 912.772 1535.95 Q909.67 1539.15 904.022 1544.91 Z\" fill=\"#000000\" fill-rule=\"evenodd\" fill-opacity=\"1\" /><path clip-path=\"url(#clip340)\" d=\"M1604.23 1530.21 Q1607.59 1530.93 1609.46 1533.2 Q1611.36 1535.47 1611.36 1538.8 Q1611.36 1543.92 1607.84 1546.72 Q1604.33 1549.52 1597.84 1549.52 Q1595.67 1549.52 1593.35 1549.08 Q1591.06 1548.66 1588.61 1547.81 L1588.61 1543.29 Q1590.55 1544.43 1592.87 1545.01 Q1595.18 1545.58 1597.7 1545.58 Q1602.1 1545.58 1604.39 1543.85 Q1606.71 1542.11 1606.71 1538.8 Q1606.71 1535.75 1604.56 1534.03 Q1602.43 1532.3 1598.61 1532.3 L1594.58 1532.3 L1594.58 1528.45 L1598.79 1528.45 Q1602.24 1528.45 1604.07 1527.09 Q1605.9 1525.7 1605.9 1523.11 Q1605.9 1520.45 1604 1519.03 Q1602.13 1517.6 1598.61 1517.6 Q1596.69 1517.6 1594.49 1518.01 Q1592.29 1518.43 1589.65 1519.31 L1589.65 1515.14 Q1592.31 1514.4 1594.63 1514.03 Q1596.96 1513.66 1599.02 1513.66 Q1604.35 1513.66 1607.45 1516.09 Q1610.55 1518.5 1610.55 1522.62 Q1610.55 1525.49 1608.91 1527.48 Q1607.26 1529.45 1604.23 1530.21 Z\" fill=\"#000000\" fill-rule=\"evenodd\" fill-opacity=\"1\" /><path clip-path=\"url(#clip340)\" d=\"M2293.61 1518.36 L2281.8 1536.81 L2293.61 1536.81 L2293.61 1518.36 M2292.38 1514.29 L2298.26 1514.29 L2298.26 1536.81 L2303.19 1536.81 L2303.19 1540.7 L2298.26 1540.7 L2298.26 1548.85 L2293.61 1548.85 L2293.61 1540.7 L2278.01 1540.7 L2278.01 1536.19 L2292.38 1514.29 Z\" fill=\"#000000\" fill-rule=\"evenodd\" fill-opacity=\"1\" /><polyline clip-path=\"url(#clip342)\" style=\"stroke:#000000; stroke-linecap:butt; stroke-linejoin:round; stroke-width:2; stroke-opacity:0.1; fill:none\" points=\"\n",
       "  156.598,1185.83 2352.76,1185.83 \n",
       "  \"/>\n",
       "<polyline clip-path=\"url(#clip342)\" style=\"stroke:#000000; stroke-linecap:butt; stroke-linejoin:round; stroke-width:2; stroke-opacity:0.1; fill:none\" points=\"\n",
       "  156.598,831.423 2352.76,831.423 \n",
       "  \"/>\n",
       "<polyline clip-path=\"url(#clip342)\" style=\"stroke:#000000; stroke-linecap:butt; stroke-linejoin:round; stroke-width:2; stroke-opacity:0.1; fill:none\" points=\"\n",
       "  156.598,477.016 2352.76,477.016 \n",
       "  \"/>\n",
       "<polyline clip-path=\"url(#clip342)\" style=\"stroke:#000000; stroke-linecap:butt; stroke-linejoin:round; stroke-width:2; stroke-opacity:0.1; fill:none\" points=\"\n",
       "  156.598,122.61 2352.76,122.61 \n",
       "  \"/>\n",
       "<polyline clip-path=\"url(#clip340)\" style=\"stroke:#000000; stroke-linecap:butt; stroke-linejoin:round; stroke-width:4; stroke-opacity:1; fill:none\" points=\"\n",
       "  156.598,1486.45 156.598,47.2441 \n",
       "  \"/>\n",
       "<polyline clip-path=\"url(#clip340)\" style=\"stroke:#000000; stroke-linecap:butt; stroke-linejoin:round; stroke-width:4; stroke-opacity:1; fill:none\" points=\"\n",
       "  156.598,1185.83 175.496,1185.83 \n",
       "  \"/>\n",
       "<polyline clip-path=\"url(#clip340)\" style=\"stroke:#000000; stroke-linecap:butt; stroke-linejoin:round; stroke-width:4; stroke-opacity:1; fill:none\" points=\"\n",
       "  156.598,831.423 175.496,831.423 \n",
       "  \"/>\n",
       "<polyline clip-path=\"url(#clip340)\" style=\"stroke:#000000; stroke-linecap:butt; stroke-linejoin:round; stroke-width:4; stroke-opacity:1; fill:none\" points=\"\n",
       "  156.598,477.016 175.496,477.016 \n",
       "  \"/>\n",
       "<polyline clip-path=\"url(#clip340)\" style=\"stroke:#000000; stroke-linecap:butt; stroke-linejoin:round; stroke-width:4; stroke-opacity:1; fill:none\" points=\"\n",
       "  156.598,122.61 175.496,122.61 \n",
       "  \"/>\n",
       "<path clip-path=\"url(#clip340)\" d=\"M65.0198 1171.63 Q61.4087 1171.63 59.58 1175.19 Q57.7745 1178.73 57.7745 1185.86 Q57.7745 1192.97 59.58 1196.53 Q61.4087 1200.08 65.0198 1200.08 Q68.6541 1200.08 70.4596 1196.53 Q72.2883 1192.97 72.2883 1185.86 Q72.2883 1178.73 70.4596 1175.19 Q68.6541 1171.63 65.0198 1171.63 M65.0198 1167.92 Q70.83 1167.92 73.8855 1172.53 Q76.9642 1177.11 76.9642 1185.86 Q76.9642 1194.59 73.8855 1199.2 Q70.83 1203.78 65.0198 1203.78 Q59.2097 1203.78 56.131 1199.2 Q53.0754 1194.59 53.0754 1185.86 Q53.0754 1177.11 56.131 1172.53 Q59.2097 1167.92 65.0198 1167.92 Z\" fill=\"#000000\" fill-rule=\"evenodd\" fill-opacity=\"1\" /><path clip-path=\"url(#clip340)\" d=\"M85.1818 1197.23 L90.066 1197.23 L90.066 1203.11 L85.1818 1203.11 L85.1818 1197.23 Z\" fill=\"#000000\" fill-rule=\"evenodd\" fill-opacity=\"1\" /><path clip-path=\"url(#clip340)\" d=\"M104.279 1199.17 L120.598 1199.17 L120.598 1203.11 L98.6539 1203.11 L98.6539 1199.17 Q101.316 1196.42 105.899 1191.79 Q110.506 1187.14 111.686 1185.79 Q113.932 1183.27 114.811 1181.53 Q115.714 1179.78 115.714 1178.09 Q115.714 1175.33 113.77 1173.6 Q111.848 1171.86 108.746 1171.86 Q106.547 1171.86 104.094 1172.62 Q101.663 1173.39 98.8854 1174.94 L98.8854 1170.22 Q101.709 1169.08 104.163 1168.5 Q106.617 1167.92 108.654 1167.92 Q114.024 1167.92 117.219 1170.61 Q120.413 1173.29 120.413 1177.78 Q120.413 1179.91 119.603 1181.84 Q118.816 1183.73 116.709 1186.33 Q116.131 1187 113.029 1190.22 Q109.927 1193.41 104.279 1199.17 Z\" fill=\"#000000\" fill-rule=\"evenodd\" fill-opacity=\"1\" /><path clip-path=\"url(#clip340)\" d=\"M62.9365 817.221 Q59.3254 817.221 57.4967 820.786 Q55.6912 824.328 55.6912 831.457 Q55.6912 838.564 57.4967 842.129 Q59.3254 845.67 62.9365 845.67 Q66.5707 845.67 68.3763 842.129 Q70.205 838.564 70.205 831.457 Q70.205 824.328 68.3763 820.786 Q66.5707 817.221 62.9365 817.221 M62.9365 813.518 Q68.7467 813.518 71.8022 818.124 Q74.8809 822.707 74.8809 831.457 Q74.8809 840.184 71.8022 844.791 Q68.7467 849.374 62.9365 849.374 Q57.1264 849.374 54.0477 844.791 Q50.9921 840.184 50.9921 831.457 Q50.9921 822.707 54.0477 818.124 Q57.1264 813.518 62.9365 813.518 Z\" fill=\"#000000\" fill-rule=\"evenodd\" fill-opacity=\"1\" /><path clip-path=\"url(#clip340)\" d=\"M83.0984 842.823 L87.9827 842.823 L87.9827 848.703 L83.0984 848.703 L83.0984 842.823 Z\" fill=\"#000000\" fill-rule=\"evenodd\" fill-opacity=\"1\" /><path clip-path=\"url(#clip340)\" d=\"M111.015 818.217 L99.2095 836.666 L111.015 836.666 L111.015 818.217 M109.788 814.143 L115.668 814.143 L115.668 836.666 L120.598 836.666 L120.598 840.554 L115.668 840.554 L115.668 848.703 L111.015 848.703 L111.015 840.554 L95.4132 840.554 L95.4132 836.041 L109.788 814.143 Z\" fill=\"#000000\" fill-rule=\"evenodd\" fill-opacity=\"1\" /><path clip-path=\"url(#clip340)\" d=\"M63.2606 462.815 Q59.6495 462.815 57.8208 466.38 Q56.0152 469.921 56.0152 477.051 Q56.0152 484.158 57.8208 487.722 Q59.6495 491.264 63.2606 491.264 Q66.8948 491.264 68.7004 487.722 Q70.5291 484.158 70.5291 477.051 Q70.5291 469.921 68.7004 466.38 Q66.8948 462.815 63.2606 462.815 M63.2606 459.111 Q69.0707 459.111 72.1263 463.718 Q75.205 468.301 75.205 477.051 Q75.205 485.778 72.1263 490.384 Q69.0707 494.968 63.2606 494.968 Q57.4504 494.968 54.3717 490.384 Q51.3162 485.778 51.3162 477.051 Q51.3162 468.301 54.3717 463.718 Q57.4504 459.111 63.2606 459.111 Z\" fill=\"#000000\" fill-rule=\"evenodd\" fill-opacity=\"1\" /><path clip-path=\"url(#clip340)\" d=\"M83.4225 488.417 L88.3067 488.417 L88.3067 494.296 L83.4225 494.296 L83.4225 488.417 Z\" fill=\"#000000\" fill-rule=\"evenodd\" fill-opacity=\"1\" /><path clip-path=\"url(#clip340)\" d=\"M109.071 475.153 Q105.922 475.153 104.071 477.306 Q102.242 479.458 102.242 483.208 Q102.242 486.935 104.071 489.111 Q105.922 491.264 109.071 491.264 Q112.219 491.264 114.047 489.111 Q115.899 486.935 115.899 483.208 Q115.899 479.458 114.047 477.306 Q112.219 475.153 109.071 475.153 M118.353 460.5 L118.353 464.759 Q116.594 463.926 114.788 463.486 Q113.006 463.047 111.246 463.047 Q106.617 463.047 104.163 466.172 Q101.733 469.296 101.385 475.616 Q102.751 473.602 104.811 472.537 Q106.871 471.449 109.348 471.449 Q114.557 471.449 117.566 474.621 Q120.598 477.769 120.598 483.208 Q120.598 488.532 117.45 491.75 Q114.302 494.968 109.071 494.968 Q103.075 494.968 99.9039 490.384 Q96.7326 485.778 96.7326 477.051 Q96.7326 468.857 100.621 463.996 Q104.51 459.111 111.061 459.111 Q112.82 459.111 114.603 459.459 Q116.408 459.806 118.353 460.5 Z\" fill=\"#000000\" fill-rule=\"evenodd\" fill-opacity=\"1\" /><path clip-path=\"url(#clip340)\" d=\"M63.5152 108.409 Q59.9041 108.409 58.0754 111.974 Q56.2699 115.515 56.2699 122.645 Q56.2699 129.751 58.0754 133.316 Q59.9041 136.858 63.5152 136.858 Q67.1494 136.858 68.955 133.316 Q70.7837 129.751 70.7837 122.645 Q70.7837 115.515 68.955 111.974 Q67.1494 108.409 63.5152 108.409 M63.5152 104.705 Q69.3254 104.705 72.3809 109.312 Q75.4596 113.895 75.4596 122.645 Q75.4596 131.372 72.3809 135.978 Q69.3254 140.561 63.5152 140.561 Q57.7051 140.561 54.6264 135.978 Q51.5708 131.372 51.5708 122.645 Q51.5708 113.895 54.6264 109.312 Q57.7051 104.705 63.5152 104.705 Z\" fill=\"#000000\" fill-rule=\"evenodd\" fill-opacity=\"1\" /><path clip-path=\"url(#clip340)\" d=\"M83.6771 134.011 L88.5614 134.011 L88.5614 139.89 L83.6771 139.89 L83.6771 134.011 Z\" fill=\"#000000\" fill-rule=\"evenodd\" fill-opacity=\"1\" /><path clip-path=\"url(#clip340)\" d=\"M108.746 123.478 Q105.413 123.478 103.492 125.261 Q101.594 127.043 101.594 130.168 Q101.594 133.293 103.492 135.075 Q105.413 136.858 108.746 136.858 Q112.08 136.858 114.001 135.075 Q115.922 133.27 115.922 130.168 Q115.922 127.043 114.001 125.261 Q112.103 123.478 108.746 123.478 M104.071 121.487 Q101.061 120.747 99.3715 118.687 Q97.7048 116.626 97.7048 113.663 Q97.7048 109.52 100.645 107.113 Q103.608 104.705 108.746 104.705 Q113.908 104.705 116.848 107.113 Q119.788 109.52 119.788 113.663 Q119.788 116.626 118.098 118.687 Q116.432 120.747 113.445 121.487 Q116.825 122.274 118.7 124.566 Q120.598 126.858 120.598 130.168 Q120.598 135.191 117.52 137.876 Q114.464 140.561 108.746 140.561 Q103.029 140.561 99.9502 137.876 Q96.8947 135.191 96.8947 130.168 Q96.8947 126.858 98.7928 124.566 Q100.691 122.274 104.071 121.487 M102.358 114.103 Q102.358 116.788 104.024 118.293 Q105.714 119.798 108.746 119.798 Q111.756 119.798 113.445 118.293 Q115.158 116.788 115.158 114.103 Q115.158 111.418 113.445 109.913 Q111.756 108.409 108.746 108.409 Q105.714 108.409 104.024 109.913 Q102.358 111.418 102.358 114.103 Z\" fill=\"#000000\" fill-rule=\"evenodd\" fill-opacity=\"1\" /><polyline clip-path=\"url(#clip342)\" style=\"stroke:#009af9; stroke-linecap:butt; stroke-linejoin:round; stroke-width:4; stroke-opacity:1; fill:none\" points=\"\n",
       "  218.754,943.525 909.369,190.722 1599.98,763.596 2290.6,673.798 \n",
       "  \"/>\n",
       "<polyline clip-path=\"url(#clip342)\" style=\"stroke:#e26f46; stroke-linecap:butt; stroke-linejoin:round; stroke-width:4; stroke-opacity:1; fill:none\" points=\"\n",
       "  218.754,628.959 909.369,87.9763 1599.98,1322.02 2290.6,594.954 \n",
       "  \"/>\n",
       "<polyline clip-path=\"url(#clip342)\" style=\"stroke:#3da44d; stroke-linecap:butt; stroke-linejoin:round; stroke-width:4; stroke-opacity:1; fill:none\" points=\"\n",
       "  218.754,742.606 909.369,1442.23 1599.98,370.161 2290.6,446.666 \n",
       "  \"/>\n",
       "<polyline clip-path=\"url(#clip342)\" style=\"stroke:#c271d2; stroke-linecap:butt; stroke-linejoin:round; stroke-width:4; stroke-opacity:1; fill:none\" points=\"\n",
       "  218.754,1445.72 909.369,1408.93 1599.98,540.708 2290.6,1325.18 \n",
       "  \"/>\n",
       "<path clip-path=\"url(#clip340)\" d=\"\n",
       "M1981.39 354.418 L2279.55 354.418 L2279.55 95.2176 L1981.39 95.2176  Z\n",
       "  \" fill=\"#ffffff\" fill-rule=\"evenodd\" fill-opacity=\"1\"/>\n",
       "<polyline clip-path=\"url(#clip340)\" style=\"stroke:#000000; stroke-linecap:butt; stroke-linejoin:round; stroke-width:4; stroke-opacity:1; fill:none\" points=\"\n",
       "  1981.39,354.418 2279.55,354.418 2279.55,95.2176 1981.39,95.2176 1981.39,354.418 \n",
       "  \"/>\n",
       "<polyline clip-path=\"url(#clip340)\" style=\"stroke:#009af9; stroke-linecap:butt; stroke-linejoin:round; stroke-width:4; stroke-opacity:1; fill:none\" points=\"\n",
       "  2005.79,147.058 2152.2,147.058 \n",
       "  \"/>\n",
       "<path clip-path=\"url(#clip340)\" d=\"M2190.45 166.745 Q2188.64 171.375 2186.93 172.787 Q2185.21 174.199 2182.34 174.199 L2178.94 174.199 L2178.94 170.634 L2181.44 170.634 Q2183.2 170.634 2184.17 169.8 Q2185.15 168.967 2186.33 165.865 L2187.09 163.921 L2176.6 138.412 L2181.12 138.412 L2189.22 158.689 L2197.32 138.412 L2201.84 138.412 L2190.45 166.745 Z\" fill=\"#000000\" fill-rule=\"evenodd\" fill-opacity=\"1\" /><path clip-path=\"url(#clip340)\" d=\"M2209.13 160.402 L2216.77 160.402 L2216.77 134.037 L2208.46 135.703 L2208.46 131.444 L2216.72 129.778 L2221.4 129.778 L2221.4 160.402 L2229.03 160.402 L2229.03 164.338 L2209.13 164.338 L2209.13 160.402 Z\" fill=\"#000000\" fill-rule=\"evenodd\" fill-opacity=\"1\" /><polyline clip-path=\"url(#clip340)\" style=\"stroke:#e26f46; stroke-linecap:butt; stroke-linejoin:round; stroke-width:4; stroke-opacity:1; fill:none\" points=\"\n",
       "  2005.79,198.898 2152.2,198.898 \n",
       "  \"/>\n",
       "<path clip-path=\"url(#clip340)\" d=\"M2190.45 218.585 Q2188.64 223.215 2186.93 224.627 Q2185.21 226.039 2182.34 226.039 L2178.94 226.039 L2178.94 222.474 L2181.44 222.474 Q2183.2 222.474 2184.17 221.64 Q2185.15 220.807 2186.33 217.705 L2187.09 215.761 L2176.6 190.252 L2181.12 190.252 L2189.22 210.529 L2197.32 190.252 L2201.84 190.252 L2190.45 218.585 Z\" fill=\"#000000\" fill-rule=\"evenodd\" fill-opacity=\"1\" /><path clip-path=\"url(#clip340)\" d=\"M2212.34 212.242 L2228.66 212.242 L2228.66 216.178 L2206.72 216.178 L2206.72 212.242 Q2209.38 209.488 2213.96 204.858 Q2218.57 200.205 2219.75 198.863 Q2222 196.34 2222.88 194.604 Q2223.78 192.844 2223.78 191.155 Q2223.78 188.4 2221.84 186.664 Q2219.91 184.928 2216.81 184.928 Q2214.61 184.928 2212.16 185.692 Q2209.73 186.455 2206.95 188.006 L2206.95 183.284 Q2209.78 182.15 2212.23 181.571 Q2214.68 180.993 2216.72 180.993 Q2222.09 180.993 2225.28 183.678 Q2228.48 186.363 2228.48 190.854 Q2228.48 192.983 2227.67 194.905 Q2226.88 196.803 2224.77 199.395 Q2224.2 200.067 2221.09 203.284 Q2217.99 206.479 2212.34 212.242 Z\" fill=\"#000000\" fill-rule=\"evenodd\" fill-opacity=\"1\" /><polyline clip-path=\"url(#clip340)\" style=\"stroke:#3da44d; stroke-linecap:butt; stroke-linejoin:round; stroke-width:4; stroke-opacity:1; fill:none\" points=\"\n",
       "  2005.79,250.738 2152.2,250.738 \n",
       "  \"/>\n",
       "<path clip-path=\"url(#clip340)\" d=\"M2190.45 270.425 Q2188.64 275.055 2186.93 276.467 Q2185.21 277.879 2182.34 277.879 L2178.94 277.879 L2178.94 274.314 L2181.44 274.314 Q2183.2 274.314 2184.17 273.48 Q2185.15 272.647 2186.33 269.545 L2187.09 267.601 L2176.6 242.092 L2181.12 242.092 L2189.22 262.369 L2197.32 242.092 L2201.84 242.092 L2190.45 270.425 Z\" fill=\"#000000\" fill-rule=\"evenodd\" fill-opacity=\"1\" /><path clip-path=\"url(#clip340)\" d=\"M2222.48 249.383 Q2225.84 250.101 2227.71 252.369 Q2229.61 254.638 2229.61 257.971 Q2229.61 263.087 2226.09 265.888 Q2222.58 268.689 2216.09 268.689 Q2213.92 268.689 2211.6 268.249 Q2209.31 267.832 2206.86 266.976 L2206.86 262.462 Q2208.8 263.596 2211.12 264.175 Q2213.43 264.754 2215.96 264.754 Q2220.35 264.754 2222.65 263.018 Q2224.96 261.281 2224.96 257.971 Q2224.96 254.916 2222.81 253.203 Q2220.68 251.467 2216.86 251.467 L2212.83 251.467 L2212.83 247.624 L2217.04 247.624 Q2220.49 247.624 2222.32 246.258 Q2224.15 244.87 2224.15 242.277 Q2224.15 239.615 2222.25 238.203 Q2220.38 236.768 2216.86 236.768 Q2214.94 236.768 2212.74 237.184 Q2210.54 237.601 2207.9 238.481 L2207.9 234.314 Q2210.56 233.573 2212.88 233.203 Q2215.21 232.833 2217.27 232.833 Q2222.6 232.833 2225.7 235.263 Q2228.8 237.67 2228.8 241.791 Q2228.8 244.661 2227.16 246.652 Q2225.52 248.62 2222.48 249.383 Z\" fill=\"#000000\" fill-rule=\"evenodd\" fill-opacity=\"1\" /><polyline clip-path=\"url(#clip340)\" style=\"stroke:#c271d2; stroke-linecap:butt; stroke-linejoin:round; stroke-width:4; stroke-opacity:1; fill:none\" points=\"\n",
       "  2005.79,302.578 2152.2,302.578 \n",
       "  \"/>\n",
       "<path clip-path=\"url(#clip340)\" d=\"M2190.45 322.265 Q2188.64 326.895 2186.93 328.307 Q2185.21 329.719 2182.34 329.719 L2178.94 329.719 L2178.94 326.154 L2181.44 326.154 Q2183.2 326.154 2184.17 325.32 Q2185.15 324.487 2186.33 321.385 L2187.09 319.441 L2176.6 293.932 L2181.12 293.932 L2189.22 314.209 L2197.32 293.932 L2201.84 293.932 L2190.45 322.265 Z\" fill=\"#000000\" fill-rule=\"evenodd\" fill-opacity=\"1\" /><path clip-path=\"url(#clip340)\" d=\"M2221.16 289.372 L2209.36 307.821 L2221.16 307.821 L2221.16 289.372 M2219.94 285.298 L2225.82 285.298 L2225.82 307.821 L2230.75 307.821 L2230.75 311.709 L2225.82 311.709 L2225.82 319.858 L2221.16 319.858 L2221.16 311.709 L2205.56 311.709 L2205.56 307.196 L2219.94 285.298 Z\" fill=\"#000000\" fill-rule=\"evenodd\" fill-opacity=\"1\" /></svg>\n"
      ]
     },
     "execution_count": 37,
     "metadata": {},
     "output_type": "execute_result"
    }
   ],
   "source": [
    "import Plots\n",
    "const plt = Plots # 'plt' es un alias de 'Plots'; equivalente a \"import Plots as pl\" en Python\n",
    "plt.plot(rand(4,4))"
   ]
  },
  {
   "cell_type": "code",
   "execution_count": 38,
   "metadata": {},
   "outputs": [
    {
     "data": {
      "image/svg+xml": [
       "<?xml version=\"1.0\" encoding=\"utf-8\"?>\n",
       "<svg xmlns=\"http://www.w3.org/2000/svg\" xmlns:xlink=\"http://www.w3.org/1999/xlink\" width=\"600\" height=\"400\" viewBox=\"0 0 2400 1600\">\n",
       "<defs>\n",
       "  <clipPath id=\"clip380\">\n",
       "    <rect x=\"0\" y=\"0\" width=\"2400\" height=\"1600\"/>\n",
       "  </clipPath>\n",
       "</defs>\n",
       "<path clip-path=\"url(#clip380)\" d=\"\n",
       "M0 1600 L2400 1600 L2400 0 L0 0  Z\n",
       "  \" fill=\"#ffffff\" fill-rule=\"evenodd\" fill-opacity=\"1\"/>\n",
       "<defs>\n",
       "  <clipPath id=\"clip381\">\n",
       "    <rect x=\"480\" y=\"0\" width=\"1681\" height=\"1600\"/>\n",
       "  </clipPath>\n",
       "</defs>\n",
       "<path clip-path=\"url(#clip380)\" d=\"\n",
       "M264.773 1198.98 L2352.76 1198.98 L2352.76 123.472 L264.773 123.472  Z\n",
       "  \" fill=\"#ffffff\" fill-rule=\"evenodd\" fill-opacity=\"1\"/>\n",
       "<defs>\n",
       "  <clipPath id=\"clip382\">\n",
       "    <rect x=\"264\" y=\"123\" width=\"2089\" height=\"1077\"/>\n",
       "  </clipPath>\n",
       "</defs>\n",
       "<polyline clip-path=\"url(#clip382)\" style=\"stroke:#000000; stroke-linecap:butt; stroke-linejoin:round; stroke-width:2; stroke-opacity:0.1; fill:none\" points=\"\n",
       "  423.861,1198.98 423.861,123.472 \n",
       "  \"/>\n",
       "<polyline clip-path=\"url(#clip382)\" style=\"stroke:#000000; stroke-linecap:butt; stroke-linejoin:round; stroke-width:2; stroke-opacity:0.1; fill:none\" points=\"\n",
       "  534.474,1198.98 534.474,123.472 \n",
       "  \"/>\n",
       "<polyline clip-path=\"url(#clip382)\" style=\"stroke:#000000; stroke-linecap:butt; stroke-linejoin:round; stroke-width:2; stroke-opacity:0.1; fill:none\" points=\"\n",
       "  645.087,1198.98 645.087,123.472 \n",
       "  \"/>\n",
       "<polyline clip-path=\"url(#clip382)\" style=\"stroke:#000000; stroke-linecap:butt; stroke-linejoin:round; stroke-width:2; stroke-opacity:0.1; fill:none\" points=\"\n",
       "  755.7,1198.98 755.7,123.472 \n",
       "  \"/>\n",
       "<polyline clip-path=\"url(#clip382)\" style=\"stroke:#000000; stroke-linecap:butt; stroke-linejoin:round; stroke-width:2; stroke-opacity:0.1; fill:none\" points=\"\n",
       "  866.313,1198.98 866.313,123.472 \n",
       "  \"/>\n",
       "<polyline clip-path=\"url(#clip382)\" style=\"stroke:#000000; stroke-linecap:butt; stroke-linejoin:round; stroke-width:2; stroke-opacity:0.1; fill:none\" points=\"\n",
       "  976.926,1198.98 976.926,123.472 \n",
       "  \"/>\n",
       "<polyline clip-path=\"url(#clip382)\" style=\"stroke:#000000; stroke-linecap:butt; stroke-linejoin:round; stroke-width:2; stroke-opacity:0.1; fill:none\" points=\"\n",
       "  1087.54,1198.98 1087.54,123.472 \n",
       "  \"/>\n",
       "<polyline clip-path=\"url(#clip382)\" style=\"stroke:#000000; stroke-linecap:butt; stroke-linejoin:round; stroke-width:2; stroke-opacity:0.1; fill:none\" points=\"\n",
       "  1198.15,1198.98 1198.15,123.472 \n",
       "  \"/>\n",
       "<polyline clip-path=\"url(#clip382)\" style=\"stroke:#000000; stroke-linecap:butt; stroke-linejoin:round; stroke-width:2; stroke-opacity:0.1; fill:none\" points=\"\n",
       "  1308.76,1198.98 1308.76,123.472 \n",
       "  \"/>\n",
       "<polyline clip-path=\"url(#clip382)\" style=\"stroke:#000000; stroke-linecap:butt; stroke-linejoin:round; stroke-width:2; stroke-opacity:0.1; fill:none\" points=\"\n",
       "  1419.38,1198.98 1419.38,123.472 \n",
       "  \"/>\n",
       "<polyline clip-path=\"url(#clip382)\" style=\"stroke:#000000; stroke-linecap:butt; stroke-linejoin:round; stroke-width:2; stroke-opacity:0.1; fill:none\" points=\"\n",
       "  1529.99,1198.98 1529.99,123.472 \n",
       "  \"/>\n",
       "<polyline clip-path=\"url(#clip382)\" style=\"stroke:#000000; stroke-linecap:butt; stroke-linejoin:round; stroke-width:2; stroke-opacity:0.1; fill:none\" points=\"\n",
       "  1640.6,1198.98 1640.6,123.472 \n",
       "  \"/>\n",
       "<polyline clip-path=\"url(#clip382)\" style=\"stroke:#000000; stroke-linecap:butt; stroke-linejoin:round; stroke-width:2; stroke-opacity:0.1; fill:none\" points=\"\n",
       "  1751.22,1198.98 1751.22,123.472 \n",
       "  \"/>\n",
       "<polyline clip-path=\"url(#clip382)\" style=\"stroke:#000000; stroke-linecap:butt; stroke-linejoin:round; stroke-width:2; stroke-opacity:0.1; fill:none\" points=\"\n",
       "  1861.83,1198.98 1861.83,123.472 \n",
       "  \"/>\n",
       "<polyline clip-path=\"url(#clip382)\" style=\"stroke:#000000; stroke-linecap:butt; stroke-linejoin:round; stroke-width:2; stroke-opacity:0.1; fill:none\" points=\"\n",
       "  1972.44,1198.98 1972.44,123.472 \n",
       "  \"/>\n",
       "<polyline clip-path=\"url(#clip382)\" style=\"stroke:#000000; stroke-linecap:butt; stroke-linejoin:round; stroke-width:2; stroke-opacity:0.1; fill:none\" points=\"\n",
       "  2083.06,1198.98 2083.06,123.472 \n",
       "  \"/>\n",
       "<polyline clip-path=\"url(#clip382)\" style=\"stroke:#000000; stroke-linecap:butt; stroke-linejoin:round; stroke-width:2; stroke-opacity:0.1; fill:none\" points=\"\n",
       "  2193.67,1198.98 2193.67,123.472 \n",
       "  \"/>\n",
       "<polyline clip-path=\"url(#clip380)\" style=\"stroke:#000000; stroke-linecap:butt; stroke-linejoin:round; stroke-width:4; stroke-opacity:1; fill:none\" points=\"\n",
       "  264.773,1198.98 2352.76,1198.98 \n",
       "  \"/>\n",
       "<polyline clip-path=\"url(#clip380)\" style=\"stroke:#000000; stroke-linecap:butt; stroke-linejoin:round; stroke-width:4; stroke-opacity:1; fill:none\" points=\"\n",
       "  423.861,1198.98 423.861,1180.08 \n",
       "  \"/>\n",
       "<polyline clip-path=\"url(#clip380)\" style=\"stroke:#000000; stroke-linecap:butt; stroke-linejoin:round; stroke-width:4; stroke-opacity:1; fill:none\" points=\"\n",
       "  534.474,1198.98 534.474,1180.08 \n",
       "  \"/>\n",
       "<polyline clip-path=\"url(#clip380)\" style=\"stroke:#000000; stroke-linecap:butt; stroke-linejoin:round; stroke-width:4; stroke-opacity:1; fill:none\" points=\"\n",
       "  645.087,1198.98 645.087,1180.08 \n",
       "  \"/>\n",
       "<polyline clip-path=\"url(#clip380)\" style=\"stroke:#000000; stroke-linecap:butt; stroke-linejoin:round; stroke-width:4; stroke-opacity:1; fill:none\" points=\"\n",
       "  755.7,1198.98 755.7,1180.08 \n",
       "  \"/>\n",
       "<polyline clip-path=\"url(#clip380)\" style=\"stroke:#000000; stroke-linecap:butt; stroke-linejoin:round; stroke-width:4; stroke-opacity:1; fill:none\" points=\"\n",
       "  866.313,1198.98 866.313,1180.08 \n",
       "  \"/>\n",
       "<polyline clip-path=\"url(#clip380)\" style=\"stroke:#000000; stroke-linecap:butt; stroke-linejoin:round; stroke-width:4; stroke-opacity:1; fill:none\" points=\"\n",
       "  976.926,1198.98 976.926,1180.08 \n",
       "  \"/>\n",
       "<polyline clip-path=\"url(#clip380)\" style=\"stroke:#000000; stroke-linecap:butt; stroke-linejoin:round; stroke-width:4; stroke-opacity:1; fill:none\" points=\"\n",
       "  1087.54,1198.98 1087.54,1180.08 \n",
       "  \"/>\n",
       "<polyline clip-path=\"url(#clip380)\" style=\"stroke:#000000; stroke-linecap:butt; stroke-linejoin:round; stroke-width:4; stroke-opacity:1; fill:none\" points=\"\n",
       "  1198.15,1198.98 1198.15,1180.08 \n",
       "  \"/>\n",
       "<polyline clip-path=\"url(#clip380)\" style=\"stroke:#000000; stroke-linecap:butt; stroke-linejoin:round; stroke-width:4; stroke-opacity:1; fill:none\" points=\"\n",
       "  1308.76,1198.98 1308.76,1180.08 \n",
       "  \"/>\n",
       "<polyline clip-path=\"url(#clip380)\" style=\"stroke:#000000; stroke-linecap:butt; stroke-linejoin:round; stroke-width:4; stroke-opacity:1; fill:none\" points=\"\n",
       "  1419.38,1198.98 1419.38,1180.08 \n",
       "  \"/>\n",
       "<polyline clip-path=\"url(#clip380)\" style=\"stroke:#000000; stroke-linecap:butt; stroke-linejoin:round; stroke-width:4; stroke-opacity:1; fill:none\" points=\"\n",
       "  1529.99,1198.98 1529.99,1180.08 \n",
       "  \"/>\n",
       "<polyline clip-path=\"url(#clip380)\" style=\"stroke:#000000; stroke-linecap:butt; stroke-linejoin:round; stroke-width:4; stroke-opacity:1; fill:none\" points=\"\n",
       "  1640.6,1198.98 1640.6,1180.08 \n",
       "  \"/>\n",
       "<polyline clip-path=\"url(#clip380)\" style=\"stroke:#000000; stroke-linecap:butt; stroke-linejoin:round; stroke-width:4; stroke-opacity:1; fill:none\" points=\"\n",
       "  1751.22,1198.98 1751.22,1180.08 \n",
       "  \"/>\n",
       "<polyline clip-path=\"url(#clip380)\" style=\"stroke:#000000; stroke-linecap:butt; stroke-linejoin:round; stroke-width:4; stroke-opacity:1; fill:none\" points=\"\n",
       "  1861.83,1198.98 1861.83,1180.08 \n",
       "  \"/>\n",
       "<polyline clip-path=\"url(#clip380)\" style=\"stroke:#000000; stroke-linecap:butt; stroke-linejoin:round; stroke-width:4; stroke-opacity:1; fill:none\" points=\"\n",
       "  1972.44,1198.98 1972.44,1180.08 \n",
       "  \"/>\n",
       "<polyline clip-path=\"url(#clip380)\" style=\"stroke:#000000; stroke-linecap:butt; stroke-linejoin:round; stroke-width:4; stroke-opacity:1; fill:none\" points=\"\n",
       "  2083.06,1198.98 2083.06,1180.08 \n",
       "  \"/>\n",
       "<polyline clip-path=\"url(#clip380)\" style=\"stroke:#000000; stroke-linecap:butt; stroke-linejoin:round; stroke-width:4; stroke-opacity:1; fill:none\" points=\"\n",
       "  2193.67,1198.98 2193.67,1180.08 \n",
       "  \"/>\n",
       "<path clip-path=\"url(#clip380)\" d=\"M419.151 1587.41 L405.123 1587.41 L405.123 1583.15 L441.141 1583.15 L441.141 1587.41 L437.252 1587.41 Q439.567 1588.75 440.702 1590.81 Q441.813 1592.85 441.813 1595.72 Q441.813 1600.42 438.063 1603.38 Q434.313 1606.32 428.202 1606.32 Q422.091 1606.32 418.341 1603.38 Q414.591 1600.42 414.591 1595.72 Q414.591 1592.85 415.725 1590.81 Q416.836 1588.75 419.151 1587.41 M428.202 1601.92 Q432.901 1601.92 435.586 1600 Q438.248 1598.06 438.248 1594.68 Q438.248 1591.3 435.586 1589.35 Q432.901 1587.41 428.202 1587.41 Q423.503 1587.41 420.841 1589.35 Q418.155 1591.3 418.155 1594.68 Q418.155 1598.06 420.841 1600 Q423.503 1601.92 428.202 1601.92 Z\" fill=\"#000000\" fill-rule=\"evenodd\" fill-opacity=\"1\" /><path clip-path=\"url(#clip380)\" d=\"M428.109 1562.6 Q428.109 1567.76 429.29 1569.75 Q430.47 1571.74 433.317 1571.74 Q435.586 1571.74 436.928 1570.26 Q438.248 1568.75 438.248 1566.18 Q438.248 1562.64 435.748 1560.51 Q433.225 1558.36 429.058 1558.36 L428.109 1558.36 L428.109 1562.6 M426.35 1554.1 L441.141 1554.1 L441.141 1558.36 L437.206 1558.36 Q439.567 1559.82 440.702 1561.99 Q441.813 1564.17 441.813 1567.32 Q441.813 1571.3 439.59 1573.66 Q437.345 1576 433.595 1576 Q429.22 1576 426.998 1573.08 Q424.776 1570.14 424.776 1564.33 L424.776 1558.36 L424.359 1558.36 Q421.419 1558.36 419.822 1560.3 Q418.202 1562.22 418.202 1565.72 Q418.202 1567.94 418.734 1570.05 Q419.266 1572.16 420.331 1574.1 L416.396 1574.1 Q415.493 1571.76 415.054 1569.56 Q414.591 1567.36 414.591 1565.28 Q414.591 1559.66 417.507 1556.88 Q420.424 1554.1 426.35 1554.1 Z\" fill=\"#000000\" fill-rule=\"evenodd\" fill-opacity=\"1\" /><path clip-path=\"url(#clip380)\" d=\"M435.262 1544.72 L435.262 1539.84 L441.141 1539.84 L441.141 1544.72 L435.262 1544.72 Z\" fill=\"#000000\" fill-rule=\"evenodd\" fill-opacity=\"1\" /><path clip-path=\"url(#clip380)\" d=\"M428.202 1527.71 Q432.901 1527.71 435.586 1525.79 Q438.248 1523.85 438.248 1520.47 Q438.248 1517.09 435.586 1515.14 Q432.901 1513.2 428.202 1513.2 Q423.503 1513.2 420.841 1515.14 Q418.155 1517.09 418.155 1520.47 Q418.155 1523.85 420.841 1525.79 Q423.503 1527.71 428.202 1527.71 M437.252 1513.2 Q439.567 1514.54 440.702 1516.6 Q441.813 1518.64 441.813 1521.51 Q441.813 1526.21 438.063 1529.17 Q434.313 1532.11 428.202 1532.11 Q422.091 1532.11 418.341 1529.17 Q414.591 1526.21 414.591 1521.51 Q414.591 1518.64 415.725 1516.6 Q416.836 1514.54 419.151 1513.2 L415.216 1513.2 L415.216 1508.94 L451.002 1508.94 L451.002 1513.2 L437.252 1513.2 Z\" fill=\"#000000\" fill-rule=\"evenodd\" fill-opacity=\"1\" /><path clip-path=\"url(#clip380)\" d=\"M430.91 1500.6 L415.216 1500.6 L415.216 1496.35 L430.748 1496.35 Q434.428 1496.35 436.28 1494.91 Q438.109 1493.48 438.109 1490.6 Q438.109 1487.16 435.91 1485.17 Q433.711 1483.15 429.915 1483.15 L415.216 1483.15 L415.216 1478.89 L441.141 1478.89 L441.141 1483.15 L437.16 1483.15 Q439.521 1484.7 440.678 1486.76 Q441.813 1488.8 441.813 1491.51 Q441.813 1495.98 439.035 1498.29 Q436.257 1500.6 430.91 1500.6 M414.591 1489.89 L414.591 1489.89 Z\" fill=\"#000000\" fill-rule=\"evenodd\" fill-opacity=\"1\" /><path clip-path=\"url(#clip380)\" d=\"M415.216 1470.12 L415.216 1465.86 L441.141 1465.86 L441.141 1470.12 L415.216 1470.12 M405.123 1470.12 L405.123 1465.86 L410.517 1465.86 L410.517 1470.12 L405.123 1470.12 Z\" fill=\"#000000\" fill-rule=\"evenodd\" fill-opacity=\"1\" /><path clip-path=\"url(#clip380)\" d=\"M425.493 1435.4 L441.141 1435.4 L441.141 1439.66 L425.632 1439.66 Q421.952 1439.66 420.123 1441.09 Q418.294 1442.53 418.294 1445.4 Q418.294 1448.85 420.493 1450.84 Q422.692 1452.83 426.489 1452.83 L441.141 1452.83 L441.141 1457.11 L415.216 1457.11 L415.216 1452.83 L419.243 1452.83 Q416.905 1451.3 415.748 1449.24 Q414.591 1447.16 414.591 1444.45 Q414.591 1439.98 417.368 1437.69 Q420.123 1435.4 425.493 1435.4 Z\" fill=\"#000000\" fill-rule=\"evenodd\" fill-opacity=\"1\" /><path clip-path=\"url(#clip380)\" d=\"M407.854 1422.69 L415.216 1422.69 L415.216 1413.92 L418.526 1413.92 L418.526 1422.69 L432.6 1422.69 Q435.771 1422.69 436.674 1421.83 Q437.577 1420.95 437.577 1418.29 L437.577 1413.92 L441.141 1413.92 L441.141 1418.29 Q441.141 1423.22 439.313 1425.1 Q437.461 1426.97 432.6 1426.97 L418.526 1426.97 L418.526 1430.1 L415.216 1430.1 L415.216 1426.97 L407.854 1426.97 L407.854 1422.69 Z\" fill=\"#000000\" fill-rule=\"evenodd\" fill-opacity=\"1\" /><path clip-path=\"url(#clip380)\" d=\"M427.114 1386.14 L429.197 1386.14 L429.197 1405.72 Q433.595 1405.44 435.91 1403.08 Q438.202 1400.7 438.202 1396.46 Q438.202 1394.01 437.6 1391.72 Q436.998 1389.4 435.794 1387.13 L439.822 1387.13 Q440.794 1389.42 441.303 1391.83 Q441.813 1394.24 441.813 1396.72 Q441.813 1402.92 438.202 1406.55 Q434.59 1410.17 428.433 1410.17 Q422.067 1410.17 418.341 1406.74 Q414.591 1403.29 414.591 1397.46 Q414.591 1392.23 417.97 1389.19 Q421.327 1386.14 427.114 1386.14 M425.864 1390.4 Q422.368 1390.44 420.285 1392.36 Q418.202 1394.26 418.202 1397.41 Q418.202 1400.98 420.216 1403.13 Q422.229 1405.26 425.887 1405.58 L425.864 1390.4 Z\" fill=\"#000000\" fill-rule=\"evenodd\" fill-opacity=\"1\" /><path clip-path=\"url(#clip380)\" d=\"M419.197 1364.12 Q418.78 1364.84 418.595 1365.7 Q418.387 1366.53 418.387 1367.55 Q418.387 1371.16 420.748 1373.11 Q423.086 1375.03 427.484 1375.03 L441.141 1375.03 L441.141 1379.31 L415.216 1379.31 L415.216 1375.03 L419.243 1375.03 Q416.882 1373.68 415.748 1371.53 Q414.591 1369.38 414.591 1366.3 Q414.591 1365.86 414.66 1365.33 Q414.706 1364.8 414.822 1364.15 L419.197 1364.12 Z\" fill=\"#000000\" fill-rule=\"evenodd\" fill-opacity=\"1\" /><path clip-path=\"url(#clip380)\" d=\"M418.202 1350.65 Q418.202 1354.08 420.887 1356.07 Q423.549 1358.06 428.202 1358.06 Q432.854 1358.06 435.54 1356.09 Q438.202 1354.1 438.202 1350.65 Q438.202 1347.25 435.516 1345.26 Q432.831 1343.27 428.202 1343.27 Q423.595 1343.27 420.91 1345.26 Q418.202 1347.25 418.202 1350.65 M414.591 1350.65 Q414.591 1345.1 418.202 1341.93 Q421.813 1338.75 428.202 1338.75 Q434.567 1338.75 438.202 1341.93 Q441.813 1345.1 441.813 1350.65 Q441.813 1356.23 438.202 1359.4 Q434.567 1362.55 428.202 1362.55 Q421.813 1362.55 418.202 1359.4 Q414.591 1356.23 414.591 1350.65 Z\" fill=\"#000000\" fill-rule=\"evenodd\" fill-opacity=\"1\" /><path clip-path=\"url(#clip380)\" d=\"M422.507 1316.93 Q423.225 1313.57 425.493 1311.69 Q427.762 1309.8 431.095 1309.8 Q436.211 1309.8 439.012 1313.31 Q441.813 1316.83 441.813 1323.31 Q441.813 1325.49 441.373 1327.8 Q440.956 1330.1 440.1 1332.55 L435.586 1332.55 Q436.72 1330.61 437.299 1328.29 Q437.877 1325.98 437.877 1323.45 Q437.877 1319.05 436.141 1316.76 Q434.405 1314.45 431.095 1314.45 Q428.04 1314.45 426.327 1316.6 Q424.591 1318.73 424.591 1322.55 L424.591 1326.58 L420.748 1326.58 L420.748 1322.37 Q420.748 1318.92 419.382 1317.09 Q417.993 1315.26 415.401 1315.26 Q412.739 1315.26 411.327 1317.16 Q409.892 1319.03 409.892 1322.55 Q409.892 1324.47 410.308 1326.67 Q410.725 1328.87 411.604 1331.51 L407.438 1331.51 Q406.697 1328.85 406.327 1326.53 Q405.956 1324.19 405.956 1322.13 Q405.956 1316.81 408.387 1313.71 Q410.794 1310.61 414.915 1310.61 Q417.785 1310.61 419.776 1312.25 Q421.743 1313.89 422.507 1316.93 Z\" fill=\"#000000\" fill-rule=\"evenodd\" fill-opacity=\"1\" /><path clip-path=\"url(#clip380)\" d=\"M409.66 1290.93 Q409.66 1294.54 413.225 1296.37 Q416.766 1298.18 423.896 1298.18 Q431.003 1298.18 434.567 1296.37 Q438.109 1294.54 438.109 1290.93 Q438.109 1287.3 434.567 1285.49 Q431.003 1283.66 423.896 1283.66 Q416.766 1283.66 413.225 1285.49 Q409.66 1287.3 409.66 1290.93 M405.956 1290.93 Q405.956 1285.12 410.563 1282.06 Q415.146 1278.99 423.896 1278.99 Q432.623 1278.99 437.229 1282.06 Q441.813 1285.12 441.813 1290.93 Q441.813 1296.74 437.229 1299.82 Q432.623 1302.87 423.896 1302.87 Q415.146 1302.87 410.563 1299.82 Q405.956 1296.74 405.956 1290.93 Z\" fill=\"#000000\" fill-rule=\"evenodd\" fill-opacity=\"1\" /><path clip-path=\"url(#clip380)\" d=\"M437.206 1269.96 L437.206 1262.32 L410.841 1262.32 L412.507 1270.63 L408.248 1270.63 L406.581 1262.37 L406.581 1257.69 L437.206 1257.69 L437.206 1250.05 L441.141 1250.05 L441.141 1269.96 L437.206 1269.96 Z\" fill=\"#000000\" fill-rule=\"evenodd\" fill-opacity=\"1\" /><path clip-path=\"url(#clip380)\" d=\"M410.655 1227.76 L429.104 1239.56 L429.104 1227.76 L410.655 1227.76 M406.581 1228.99 L406.581 1223.11 L429.104 1223.11 L429.104 1218.18 L432.993 1218.18 L432.993 1223.11 L441.141 1223.11 L441.141 1227.76 L432.993 1227.76 L432.993 1243.36 L428.479 1243.36 L406.581 1228.99 Z\" fill=\"#000000\" fill-rule=\"evenodd\" fill-opacity=\"1\" /><path clip-path=\"url(#clip380)\" d=\"M515.736 1553.8 L515.736 1549.54 L551.754 1549.54 L551.754 1553.8 L515.736 1553.8 Z\" fill=\"#000000\" fill-rule=\"evenodd\" fill-opacity=\"1\" /><path clip-path=\"url(#clip380)\" d=\"M526.592 1524.1 L530.62 1524.1 Q529.694 1525.91 529.231 1527.85 Q528.768 1529.79 528.768 1531.88 Q528.768 1535.05 529.74 1536.65 Q530.713 1538.22 532.657 1538.22 Q534.139 1538.22 534.995 1537.09 Q535.828 1535.95 536.592 1532.53 L536.916 1531.07 Q537.889 1526.53 539.671 1524.63 Q541.43 1522.71 544.602 1522.71 Q548.213 1522.71 550.319 1525.58 Q552.426 1528.43 552.426 1533.43 Q552.426 1535.51 552.009 1537.78 Q551.615 1540.03 550.805 1542.53 L546.407 1542.53 Q547.634 1540.16 548.259 1537.87 Q548.861 1535.58 548.861 1533.34 Q548.861 1530.33 547.842 1528.71 Q546.801 1527.09 544.926 1527.09 Q543.189 1527.09 542.264 1528.27 Q541.338 1529.42 540.481 1533.38 L540.134 1534.86 Q539.301 1538.82 537.588 1540.58 Q535.852 1542.34 532.842 1542.34 Q529.185 1542.34 527.194 1539.75 Q525.203 1537.16 525.203 1532.39 Q525.203 1530.03 525.551 1527.94 Q525.898 1525.86 526.592 1524.1 Z\" fill=\"#000000\" fill-rule=\"evenodd\" fill-opacity=\"1\" /><path clip-path=\"url(#clip380)\" d=\"M545.875 1515.33 L545.875 1510.44 L551.754 1510.44 L551.754 1515.33 L545.875 1515.33 Z\" fill=\"#000000\" fill-rule=\"evenodd\" fill-opacity=\"1\" /><path clip-path=\"url(#clip380)\" d=\"M530.805 1480.67 Q527.935 1479.08 526.569 1476.85 Q525.203 1474.63 525.203 1471.62 Q525.203 1467.57 528.051 1465.37 Q530.875 1463.17 536.106 1463.17 L551.754 1463.17 L551.754 1467.46 L536.245 1467.46 Q532.518 1467.46 530.713 1468.78 Q528.907 1470.1 528.907 1472.8 Q528.907 1476.11 531.106 1478.04 Q533.305 1479.96 537.102 1479.96 L551.754 1479.96 L551.754 1484.24 L536.245 1484.24 Q532.495 1484.24 530.713 1485.56 Q528.907 1486.88 528.907 1489.63 Q528.907 1492.9 531.129 1494.82 Q533.328 1496.74 537.102 1496.74 L551.754 1496.74 L551.754 1501.02 L525.828 1501.02 L525.828 1496.74 L529.856 1496.74 Q527.472 1495.28 526.338 1493.24 Q525.203 1491.21 525.203 1488.41 Q525.203 1485.58 526.639 1483.61 Q528.074 1481.62 530.805 1480.67 Z\" fill=\"#000000\" fill-rule=\"evenodd\" fill-opacity=\"1\" /><path clip-path=\"url(#clip380)\" d=\"M528.815 1444.63 Q528.815 1448.06 531.5 1450.05 Q534.162 1452.04 538.815 1452.04 Q543.467 1452.04 546.152 1450.07 Q548.814 1448.08 548.814 1444.63 Q548.814 1441.23 546.129 1439.24 Q543.444 1437.25 538.815 1437.25 Q534.208 1437.25 531.523 1439.24 Q528.815 1441.23 528.815 1444.63 M525.203 1444.63 Q525.203 1439.08 528.815 1435.91 Q532.426 1432.73 538.815 1432.73 Q545.18 1432.73 548.814 1435.91 Q552.426 1439.08 552.426 1444.63 Q552.426 1450.21 548.814 1453.38 Q545.18 1456.53 538.815 1456.53 Q532.426 1456.53 528.815 1453.38 Q525.203 1450.21 525.203 1444.63 Z\" fill=\"#000000\" fill-rule=\"evenodd\" fill-opacity=\"1\" /><path clip-path=\"url(#clip380)\" d=\"M536.106 1404.12 L551.754 1404.12 L551.754 1408.38 L536.245 1408.38 Q532.565 1408.38 530.736 1409.82 Q528.907 1411.25 528.907 1414.12 Q528.907 1417.57 531.106 1419.56 Q533.305 1421.55 537.102 1421.55 L551.754 1421.55 L551.754 1425.84 L525.828 1425.84 L525.828 1421.55 L529.856 1421.55 Q527.518 1420.03 526.361 1417.97 Q525.203 1415.88 525.203 1413.17 Q525.203 1408.71 527.981 1406.42 Q530.736 1404.12 536.106 1404.12 Z\" fill=\"#000000\" fill-rule=\"evenodd\" fill-opacity=\"1\" /><path clip-path=\"url(#clip380)\" d=\"M518.467 1391.42 L525.828 1391.42 L525.828 1382.64 L529.139 1382.64 L529.139 1391.42 L543.213 1391.42 Q546.384 1391.42 547.287 1390.56 Q548.189 1389.68 548.189 1387.02 L548.189 1382.64 L551.754 1382.64 L551.754 1387.02 Q551.754 1391.95 549.926 1393.82 Q548.074 1395.7 543.213 1395.7 L529.139 1395.7 L529.139 1398.82 L525.828 1398.82 L525.828 1395.7 L518.467 1395.7 L518.467 1391.42 Z\" fill=\"#000000\" fill-rule=\"evenodd\" fill-opacity=\"1\" /><path clip-path=\"url(#clip380)\" d=\"M537.727 1354.86 L539.81 1354.86 L539.81 1374.45 Q544.208 1374.17 546.523 1371.81 Q548.814 1369.42 548.814 1365.19 Q548.814 1362.74 548.213 1360.44 Q547.611 1358.13 546.407 1355.86 L550.435 1355.86 Q551.407 1358.15 551.916 1360.56 Q552.426 1362.97 552.426 1365.44 Q552.426 1371.65 548.814 1375.28 Q545.203 1378.89 539.046 1378.89 Q532.68 1378.89 528.953 1375.47 Q525.203 1372.02 525.203 1366.18 Q525.203 1360.95 528.583 1357.92 Q531.94 1354.86 537.727 1354.86 M536.477 1359.12 Q532.981 1359.17 530.898 1361.09 Q528.815 1362.99 528.815 1366.14 Q528.815 1369.7 530.828 1371.86 Q532.842 1373.99 536.5 1374.31 L536.477 1359.12 Z\" fill=\"#000000\" fill-rule=\"evenodd\" fill-opacity=\"1\" /><path clip-path=\"url(#clip380)\" d=\"M536.106 1326.32 L551.754 1326.32 L551.754 1330.58 L536.245 1330.58 Q532.565 1330.58 530.736 1332.02 Q528.907 1333.45 528.907 1336.32 Q528.907 1339.77 531.106 1341.76 Q533.305 1343.75 537.102 1343.75 L551.754 1343.75 L551.754 1348.04 L525.828 1348.04 L525.828 1343.75 L529.856 1343.75 Q527.518 1342.23 526.361 1340.17 Q525.203 1338.08 525.203 1335.37 Q525.203 1330.91 527.981 1328.62 Q530.736 1326.32 536.106 1326.32 Z\" fill=\"#000000\" fill-rule=\"evenodd\" fill-opacity=\"1\" /><path clip-path=\"url(#clip380)\" d=\"M537.727 1295.65 L539.81 1295.65 L539.81 1315.24 Q544.208 1314.96 546.523 1312.6 Q548.814 1310.21 548.814 1305.98 Q548.814 1303.52 548.213 1301.23 Q547.611 1298.92 546.407 1296.65 L550.435 1296.65 Q551.407 1298.94 551.916 1301.35 Q552.426 1303.75 552.426 1306.23 Q552.426 1312.43 548.814 1316.07 Q545.203 1319.68 539.046 1319.68 Q532.68 1319.68 528.953 1316.25 Q525.203 1312.8 525.203 1306.97 Q525.203 1301.74 528.583 1298.71 Q531.94 1295.65 537.727 1295.65 M536.477 1299.91 Q532.981 1299.96 530.898 1301.88 Q528.815 1303.78 528.815 1306.93 Q528.815 1310.49 530.828 1312.64 Q532.842 1314.77 536.5 1315.1 L536.477 1299.91 Z\" fill=\"#000000\" fill-rule=\"evenodd\" fill-opacity=\"1\" /><path clip-path=\"url(#clip380)\" d=\"M538.49 1271.6 Q533.861 1271.6 531.315 1273.52 Q528.768 1275.42 528.768 1278.87 Q528.768 1282.3 531.315 1284.22 Q533.861 1286.12 538.49 1286.12 Q543.097 1286.12 545.643 1284.22 Q548.189 1282.3 548.189 1278.87 Q548.189 1275.42 545.643 1273.52 Q543.097 1271.6 538.49 1271.6 M548.537 1267.34 Q555.157 1267.34 558.375 1270.28 Q561.615 1273.22 561.615 1279.29 Q561.615 1281.53 561.268 1283.52 Q560.944 1285.51 560.25 1287.39 L556.106 1287.39 Q557.125 1285.51 557.611 1283.68 Q558.097 1281.86 558.097 1279.96 Q558.097 1275.77 555.898 1273.68 Q553.722 1271.6 549.301 1271.6 L547.194 1271.6 Q549.486 1272.92 550.62 1274.98 Q551.754 1277.04 551.754 1279.91 Q551.754 1284.68 548.12 1287.6 Q544.486 1290.51 538.49 1290.51 Q532.472 1290.51 528.838 1287.6 Q525.203 1284.68 525.203 1279.91 Q525.203 1277.04 526.338 1274.98 Q527.472 1272.92 529.764 1271.6 L525.828 1271.6 L525.828 1267.34 L548.537 1267.34 Z\" fill=\"#000000\" fill-rule=\"evenodd\" fill-opacity=\"1\" /><path clip-path=\"url(#clip380)\" d=\"M529.81 1243.55 Q529.393 1244.26 529.208 1245.12 Q529 1245.95 529 1246.97 Q529 1250.58 531.361 1252.53 Q533.699 1254.45 538.097 1254.45 L551.754 1254.45 L551.754 1258.73 L525.828 1258.73 L525.828 1254.45 L529.856 1254.45 Q527.495 1253.11 526.361 1250.95 Q525.203 1248.8 525.203 1245.72 Q525.203 1245.28 525.273 1244.75 Q525.319 1244.22 525.435 1243.57 L529.81 1243.55 Z\" fill=\"#000000\" fill-rule=\"evenodd\" fill-opacity=\"1\" /><path clip-path=\"url(#clip380)\" d=\"M528.815 1230.07 Q528.815 1233.5 531.5 1235.49 Q534.162 1237.48 538.815 1237.48 Q543.467 1237.48 546.152 1235.51 Q548.814 1233.52 548.814 1230.07 Q548.814 1226.67 546.129 1224.68 Q543.444 1222.69 538.815 1222.69 Q534.208 1222.69 531.523 1224.68 Q528.815 1226.67 528.815 1230.07 M525.203 1230.07 Q525.203 1224.52 528.815 1221.35 Q532.426 1218.18 538.815 1218.18 Q545.18 1218.18 548.814 1221.35 Q552.426 1224.52 552.426 1230.07 Q552.426 1235.65 548.814 1238.82 Q545.18 1241.97 538.815 1241.97 Q532.426 1241.97 528.815 1238.82 Q525.203 1235.65 525.203 1230.07 Z\" fill=\"#000000\" fill-rule=\"evenodd\" fill-opacity=\"1\" /><path clip-path=\"url(#clip380)\" d=\"M636.441 1402.48 L636.441 1398.22 L662.83 1398.22 Q667.784 1398.22 670.006 1400.12 Q672.228 1401.99 672.228 1406.18 L672.228 1407.8 L668.617 1407.8 L668.617 1406.67 Q668.617 1404.24 667.483 1403.36 Q666.372 1402.48 662.83 1402.48 L636.441 1402.48 M626.349 1402.48 L626.349 1398.22 L631.742 1398.22 L631.742 1402.48 L626.349 1402.48 Z\" fill=\"#000000\" fill-rule=\"evenodd\" fill-opacity=\"1\" /><path clip-path=\"url(#clip380)\" d=\"M626.349 1376.18 L629.891 1376.18 L629.891 1380.26 Q629.891 1382.55 630.816 1383.45 Q631.742 1384.33 634.15 1384.33 L636.441 1384.33 L636.441 1377.32 L639.752 1377.32 L639.752 1384.33 L662.367 1384.33 L662.367 1388.61 L639.752 1388.61 L639.752 1392.69 L636.441 1392.69 L636.441 1388.61 L634.636 1388.61 Q630.307 1388.61 628.34 1386.6 Q626.349 1384.59 626.349 1380.21 L626.349 1376.18 Z\" fill=\"#000000\" fill-rule=\"evenodd\" fill-opacity=\"1\" /><path clip-path=\"url(#clip380)\" d=\"M656.488 1375.47 L656.488 1370.58 L662.367 1370.58 L662.367 1375.47 L656.488 1375.47 Z\" fill=\"#000000\" fill-rule=\"evenodd\" fill-opacity=\"1\" /><path clip-path=\"url(#clip380)\" d=\"M639.427 1350.95 Q639.427 1354.38 642.113 1356.37 Q644.775 1358.36 649.427 1358.36 Q654.08 1358.36 656.765 1356.39 Q659.427 1354.4 659.427 1350.95 Q659.427 1347.55 656.742 1345.56 Q654.057 1343.57 649.427 1343.57 Q644.821 1343.57 642.136 1345.56 Q639.427 1347.55 639.427 1350.95 M635.816 1350.95 Q635.816 1345.4 639.427 1342.23 Q643.039 1339.05 649.427 1339.05 Q655.793 1339.05 659.427 1342.23 Q663.038 1345.4 663.038 1350.95 Q663.038 1356.53 659.427 1359.7 Q655.793 1362.85 649.427 1362.85 Q643.039 1362.85 639.427 1359.7 Q635.816 1356.53 635.816 1350.95 Z\" fill=\"#000000\" fill-rule=\"evenodd\" fill-opacity=\"1\" /><path clip-path=\"url(#clip380)\" d=\"M640.423 1316.97 Q640.006 1317.69 639.821 1318.55 Q639.613 1319.38 639.613 1320.4 Q639.613 1324.01 641.974 1325.95 Q644.312 1327.87 648.71 1327.87 L662.367 1327.87 L662.367 1332.16 L636.441 1332.16 L636.441 1327.87 L640.469 1327.87 Q638.108 1326.53 636.974 1324.38 Q635.816 1322.23 635.816 1319.15 Q635.816 1318.71 635.886 1318.18 Q635.932 1317.64 636.048 1316.99 L640.423 1316.97 Z\" fill=\"#000000\" fill-rule=\"evenodd\" fill-opacity=\"1\" /><path clip-path=\"url(#clip380)\" d=\"M629.08 1308.29 L636.441 1308.29 L636.441 1299.52 L639.752 1299.52 L639.752 1308.29 L653.826 1308.29 Q656.997 1308.29 657.9 1307.43 Q658.802 1306.55 658.802 1303.89 L658.802 1299.52 L662.367 1299.52 L662.367 1303.89 Q662.367 1308.82 660.538 1310.7 Q658.687 1312.57 653.826 1312.57 L639.752 1312.57 L639.752 1315.7 L636.441 1315.7 L636.441 1312.57 L629.08 1312.57 L629.08 1308.29 Z\" fill=\"#000000\" fill-rule=\"evenodd\" fill-opacity=\"1\" /><path clip-path=\"url(#clip380)\" d=\"M636.441 1293.92 L636.441 1289.66 L662.367 1289.66 L662.367 1293.92 L636.441 1293.92 M626.349 1293.92 L626.349 1289.66 L631.742 1289.66 L631.742 1293.92 L626.349 1293.92 Z\" fill=\"#000000\" fill-rule=\"evenodd\" fill-opacity=\"1\" /><path clip-path=\"url(#clip380)\" d=\"M636.441 1282.6 L636.441 1262.37 L640.33 1262.37 L658.964 1278.38 L658.964 1262.37 L662.367 1262.37 L662.367 1283.18 L658.478 1283.18 L639.844 1267.16 L639.844 1282.6 L636.441 1282.6 Z\" fill=\"#000000\" fill-rule=\"evenodd\" fill-opacity=\"1\" /><path clip-path=\"url(#clip380)\" d=\"M641.418 1235.68 Q638.548 1234.08 637.182 1231.86 Q635.816 1229.63 635.816 1226.62 Q635.816 1222.57 638.664 1220.37 Q641.488 1218.18 646.719 1218.18 L662.367 1218.18 L662.367 1222.46 L646.858 1222.46 Q643.131 1222.46 641.326 1223.78 Q639.52 1225.1 639.52 1227.81 Q639.52 1231.12 641.719 1233.04 Q643.918 1234.96 647.714 1234.96 L662.367 1234.96 L662.367 1239.24 L646.858 1239.24 Q643.108 1239.24 641.326 1240.56 Q639.52 1241.88 639.52 1244.63 Q639.52 1247.9 641.742 1249.82 Q643.941 1251.74 647.714 1251.74 L662.367 1251.74 L662.367 1256.02 L636.441 1256.02 L636.441 1251.74 L640.469 1251.74 Q638.085 1250.28 636.951 1248.25 Q635.816 1246.21 635.816 1243.41 Q635.816 1240.58 637.252 1238.62 Q638.687 1236.62 641.418 1235.68 Z\" fill=\"#000000\" fill-rule=\"evenodd\" fill-opacity=\"1\" /><path clip-path=\"url(#clip380)\" d=\"M747.054 1452.76 L747.054 1448.5 L773.443 1448.5 Q778.397 1448.5 780.619 1450.4 Q782.841 1452.27 782.841 1456.46 L782.841 1458.08 L779.23 1458.08 L779.23 1456.95 Q779.23 1454.52 778.096 1453.64 Q776.985 1452.76 773.443 1452.76 L747.054 1452.76 M736.962 1452.76 L736.962 1448.5 L742.355 1448.5 L742.355 1452.76 L736.962 1452.76 Z\" fill=\"#000000\" fill-rule=\"evenodd\" fill-opacity=\"1\" /><path clip-path=\"url(#clip380)\" d=\"M750.989 1422.53 L736.962 1422.53 L736.962 1418.27 L772.98 1418.27 L772.98 1422.53 L769.091 1422.53 Q771.406 1423.87 772.54 1425.93 Q773.651 1427.97 773.651 1430.84 Q773.651 1435.54 769.901 1438.5 Q766.151 1441.44 760.04 1441.44 Q753.929 1441.44 750.179 1438.5 Q746.429 1435.54 746.429 1430.84 Q746.429 1427.97 747.564 1425.93 Q748.675 1423.87 750.989 1422.53 M760.04 1437.04 Q764.739 1437.04 767.425 1435.12 Q770.087 1433.17 770.087 1429.8 Q770.087 1426.42 767.425 1424.47 Q764.739 1422.53 760.04 1422.53 Q755.341 1422.53 752.679 1424.47 Q749.994 1426.42 749.994 1429.8 Q749.994 1433.17 752.679 1435.12 Q755.341 1437.04 760.04 1437.04 Z\" fill=\"#000000\" fill-rule=\"evenodd\" fill-opacity=\"1\" /><path clip-path=\"url(#clip380)\" d=\"M767.1 1408.89 L767.1 1404.01 L772.98 1404.01 L772.98 1408.89 L767.1 1408.89 Z\" fill=\"#000000\" fill-rule=\"evenodd\" fill-opacity=\"1\" /><path clip-path=\"url(#clip380)\" d=\"M747.818 1377.9 L751.846 1377.9 Q750.92 1379.7 750.457 1381.65 Q749.994 1383.59 749.994 1385.67 Q749.994 1388.85 750.966 1390.44 Q751.939 1392.02 753.883 1392.02 Q755.364 1392.02 756.221 1390.88 Q757.054 1389.75 757.818 1386.32 L758.142 1384.86 Q759.114 1380.33 760.897 1378.43 Q762.656 1376.51 765.827 1376.51 Q769.438 1376.51 771.545 1379.38 Q773.651 1382.23 773.651 1387.23 Q773.651 1389.31 773.235 1391.58 Q772.841 1393.82 772.031 1396.32 L767.633 1396.32 Q768.86 1393.96 769.485 1391.67 Q770.087 1389.38 770.087 1387.13 Q770.087 1384.12 769.068 1382.5 Q768.026 1380.88 766.151 1380.88 Q764.415 1380.88 763.489 1382.06 Q762.563 1383.22 761.707 1387.18 L761.36 1388.66 Q760.526 1392.62 758.814 1394.38 Q757.077 1396.14 754.068 1396.14 Q750.411 1396.14 748.42 1393.55 Q746.429 1390.95 746.429 1386.18 Q746.429 1383.82 746.777 1381.74 Q747.124 1379.66 747.818 1377.9 Z\" fill=\"#000000\" fill-rule=\"evenodd\" fill-opacity=\"1\" /><path clip-path=\"url(#clip380)\" d=\"M759.948 1357.94 Q759.948 1363.11 761.128 1365.1 Q762.309 1367.09 765.156 1367.09 Q767.425 1367.09 768.767 1365.61 Q770.087 1364.1 770.087 1361.53 Q770.087 1357.99 767.587 1355.86 Q765.063 1353.71 760.897 1353.71 L759.948 1353.71 L759.948 1357.94 M758.189 1349.45 L772.98 1349.45 L772.98 1353.71 L769.045 1353.71 Q771.406 1355.17 772.54 1357.34 Q773.651 1359.52 773.651 1362.67 Q773.651 1366.65 771.429 1369.01 Q769.184 1371.35 765.434 1371.35 Q761.059 1371.35 758.837 1368.43 Q756.614 1365.49 756.614 1359.68 L756.614 1353.71 L756.198 1353.71 Q753.258 1353.71 751.661 1355.65 Q750.04 1357.57 750.04 1361.07 Q750.04 1363.29 750.573 1365.4 Q751.105 1367.5 752.17 1369.45 L748.235 1369.45 Q747.332 1367.11 746.892 1364.91 Q746.429 1362.71 746.429 1360.63 Q746.429 1355 749.346 1352.23 Q752.263 1349.45 758.189 1349.45 Z\" fill=\"#000000\" fill-rule=\"evenodd\" fill-opacity=\"1\" /><path clip-path=\"url(#clip380)\" d=\"M760.04 1322.06 Q755.341 1322.06 752.679 1324.01 Q749.994 1325.93 749.994 1329.31 Q749.994 1332.69 752.679 1334.63 Q755.341 1336.55 760.04 1336.55 Q764.739 1336.55 767.425 1334.63 Q770.087 1332.69 770.087 1329.31 Q770.087 1325.93 767.425 1324.01 Q764.739 1322.06 760.04 1322.06 M750.989 1336.55 Q748.675 1335.21 747.564 1333.18 Q746.429 1331.12 746.429 1328.27 Q746.429 1323.55 750.179 1320.61 Q753.929 1317.64 760.04 1317.64 Q766.151 1317.64 769.901 1320.61 Q773.651 1323.55 773.651 1328.27 Q773.651 1331.12 772.54 1333.18 Q771.406 1335.21 769.091 1336.55 L772.98 1336.55 L772.98 1340.84 L736.962 1340.84 L736.962 1336.55 L750.989 1336.55 Z\" fill=\"#000000\" fill-rule=\"evenodd\" fill-opacity=\"1\" /><path clip-path=\"url(#clip380)\" d=\"M750.04 1300.54 Q750.04 1303.96 752.726 1305.95 Q755.388 1307.94 760.04 1307.94 Q764.693 1307.94 767.378 1305.98 Q770.04 1303.99 770.04 1300.54 Q770.04 1297.13 767.355 1295.14 Q764.67 1293.15 760.04 1293.15 Q755.434 1293.15 752.749 1295.14 Q750.04 1297.13 750.04 1300.54 M746.429 1300.54 Q746.429 1294.98 750.04 1291.81 Q753.651 1288.64 760.04 1288.64 Q766.406 1288.64 770.04 1291.81 Q773.651 1294.98 773.651 1300.54 Q773.651 1306.12 770.04 1309.29 Q766.406 1312.43 760.04 1312.43 Q753.651 1312.43 750.04 1309.29 Q746.429 1306.12 746.429 1300.54 Z\" fill=\"#000000\" fill-rule=\"evenodd\" fill-opacity=\"1\" /><path clip-path=\"url(#clip380)\" d=\"M759.716 1264.52 Q755.087 1264.52 752.54 1266.44 Q749.994 1268.34 749.994 1271.79 Q749.994 1275.21 752.54 1277.13 Q755.087 1279.03 759.716 1279.03 Q764.323 1279.03 766.869 1277.13 Q769.415 1275.21 769.415 1271.79 Q769.415 1268.34 766.869 1266.44 Q764.323 1264.52 759.716 1264.52 M769.763 1260.26 Q776.383 1260.26 779.6 1263.2 Q782.841 1266.14 782.841 1272.2 Q782.841 1274.45 782.494 1276.44 Q782.17 1278.43 781.475 1280.31 L777.332 1280.31 Q778.35 1278.43 778.837 1276.6 Q779.323 1274.77 779.323 1272.87 Q779.323 1268.68 777.124 1266.6 Q774.948 1264.52 770.526 1264.52 L768.42 1264.52 Q770.712 1265.84 771.846 1267.9 Q772.98 1269.96 772.98 1272.83 Q772.98 1277.6 769.346 1280.51 Q765.712 1283.43 759.716 1283.43 Q753.698 1283.43 750.064 1280.51 Q746.429 1277.6 746.429 1272.83 Q746.429 1269.96 747.564 1267.9 Q748.698 1265.84 750.989 1264.52 L747.054 1264.52 L747.054 1260.26 L769.763 1260.26 Z\" fill=\"#000000\" fill-rule=\"evenodd\" fill-opacity=\"1\" /><path clip-path=\"url(#clip380)\" d=\"M759.948 1239.7 Q759.948 1244.87 761.128 1246.86 Q762.309 1248.85 765.156 1248.85 Q767.425 1248.85 768.767 1247.37 Q770.087 1245.86 770.087 1243.29 Q770.087 1239.75 767.587 1237.62 Q765.063 1235.47 760.897 1235.47 L759.948 1235.47 L759.948 1239.7 M758.189 1231.21 L772.98 1231.21 L772.98 1235.47 L769.045 1235.47 Q771.406 1236.93 772.54 1239.1 Q773.651 1241.28 773.651 1244.43 Q773.651 1248.41 771.429 1250.77 Q769.184 1253.11 765.434 1253.11 Q761.059 1253.11 758.837 1250.19 Q756.614 1247.25 756.614 1241.44 L756.614 1235.47 L756.198 1235.47 Q753.258 1235.47 751.661 1237.41 Q750.04 1239.33 750.04 1242.83 Q750.04 1245.05 750.573 1247.16 Q751.105 1249.26 752.17 1251.21 L748.235 1251.21 Q747.332 1248.87 746.892 1246.67 Q746.429 1244.47 746.429 1242.39 Q746.429 1236.76 749.346 1233.99 Q752.263 1231.21 758.189 1231.21 Z\" fill=\"#000000\" fill-rule=\"evenodd\" fill-opacity=\"1\" /><path clip-path=\"url(#clip380)\" d=\"M736.962 1222.44 L736.962 1218.18 L772.98 1218.18 L772.98 1222.44 L736.962 1222.44 Z\" fill=\"#000000\" fill-rule=\"evenodd\" fill-opacity=\"1\" /><path clip-path=\"url(#clip380)\" d=\"M857.667 1452.18 L857.667 1447.92 L884.056 1447.92 Q889.01 1447.92 891.232 1449.82 Q893.454 1451.69 893.454 1455.88 L893.454 1457.5 L889.843 1457.5 L889.843 1456.37 Q889.843 1453.94 888.709 1453.06 Q887.598 1452.18 884.056 1452.18 L857.667 1452.18 M847.575 1452.18 L847.575 1447.92 L852.968 1447.92 L852.968 1452.18 L847.575 1452.18 Z\" fill=\"#000000\" fill-rule=\"evenodd\" fill-opacity=\"1\" /><path clip-path=\"url(#clip380)\" d=\"M870.561 1427.23 Q870.561 1432.39 871.741 1434.38 Q872.922 1436.37 875.769 1436.37 Q878.037 1436.37 879.38 1434.89 Q880.7 1433.38 880.7 1430.81 Q880.7 1427.27 878.2 1425.14 Q875.676 1422.99 871.51 1422.99 L870.561 1422.99 L870.561 1427.23 M868.801 1418.73 L883.593 1418.73 L883.593 1422.99 L879.658 1422.99 Q882.019 1424.45 883.153 1426.62 Q884.264 1428.8 884.264 1431.95 Q884.264 1435.93 882.042 1438.29 Q879.797 1440.63 876.047 1440.63 Q871.672 1440.63 869.45 1437.71 Q867.227 1434.77 867.227 1428.96 L867.227 1422.99 L866.811 1422.99 Q863.871 1422.99 862.274 1424.93 Q860.653 1426.86 860.653 1430.35 Q860.653 1432.57 861.186 1434.68 Q861.718 1436.79 862.783 1438.73 L858.848 1438.73 Q857.945 1436.39 857.505 1434.19 Q857.042 1431.99 857.042 1429.91 Q857.042 1424.29 859.959 1421.51 Q862.876 1418.73 868.801 1418.73 Z\" fill=\"#000000\" fill-rule=\"evenodd\" fill-opacity=\"1\" /><path clip-path=\"url(#clip380)\" d=\"M877.713 1409.36 L877.713 1404.47 L883.593 1404.47 L883.593 1409.36 L877.713 1409.36 Z\" fill=\"#000000\" fill-rule=\"evenodd\" fill-opacity=\"1\" /><path clip-path=\"url(#clip380)\" d=\"M879.704 1390.77 L893.454 1390.77 L893.454 1395.05 L857.667 1395.05 L857.667 1390.77 L861.602 1390.77 Q859.288 1389.42 858.176 1387.39 Q857.042 1385.33 857.042 1382.48 Q857.042 1377.76 860.792 1374.82 Q864.542 1371.86 870.653 1371.86 Q876.764 1371.86 880.514 1374.82 Q884.264 1377.76 884.264 1382.48 Q884.264 1385.33 883.153 1387.39 Q882.019 1389.42 879.704 1390.77 M870.653 1376.28 Q865.954 1376.28 863.292 1378.22 Q860.607 1380.14 860.607 1383.52 Q860.607 1386.9 863.292 1388.85 Q865.954 1390.77 870.653 1390.77 Q875.352 1390.77 878.037 1388.85 Q880.7 1386.9 880.7 1383.52 Q880.7 1380.14 878.037 1378.22 Q875.352 1376.28 870.653 1376.28 Z\" fill=\"#000000\" fill-rule=\"evenodd\" fill-opacity=\"1\" /><path clip-path=\"url(#clip380)\" d=\"M870.561 1353.01 Q870.561 1358.18 871.741 1360.17 Q872.922 1362.16 875.769 1362.16 Q878.037 1362.16 879.38 1360.68 Q880.7 1359.17 880.7 1356.6 Q880.7 1353.06 878.2 1350.93 Q875.676 1348.78 871.51 1348.78 L870.561 1348.78 L870.561 1353.01 M868.801 1344.52 L883.593 1344.52 L883.593 1348.78 L879.658 1348.78 Q882.019 1350.24 883.153 1352.41 Q884.264 1354.59 884.264 1357.74 Q884.264 1361.72 882.042 1364.08 Q879.797 1366.42 876.047 1366.42 Q871.672 1366.42 869.45 1363.5 Q867.227 1360.56 867.227 1354.75 L867.227 1348.78 L866.811 1348.78 Q863.871 1348.78 862.274 1350.72 Q860.653 1352.64 860.653 1356.14 Q860.653 1358.36 861.186 1360.47 Q861.718 1362.57 862.783 1364.52 L858.848 1364.52 Q857.945 1362.18 857.505 1359.98 Q857.042 1357.78 857.042 1355.7 Q857.042 1350.07 859.959 1347.3 Q862.876 1344.52 868.801 1344.52 Z\" fill=\"#000000\" fill-rule=\"evenodd\" fill-opacity=\"1\" /><path clip-path=\"url(#clip380)\" d=\"M861.649 1320.72 Q861.232 1321.44 861.047 1322.3 Q860.839 1323.13 860.839 1324.15 Q860.839 1327.76 863.2 1329.7 Q865.538 1331.62 869.936 1331.62 L883.593 1331.62 L883.593 1335.91 L857.667 1335.91 L857.667 1331.62 L861.695 1331.62 Q859.334 1330.28 858.2 1328.13 Q857.042 1325.98 857.042 1322.9 Q857.042 1322.46 857.112 1321.93 Q857.158 1321.39 857.274 1320.74 L861.649 1320.72 Z\" fill=\"#000000\" fill-rule=\"evenodd\" fill-opacity=\"1\" /><path clip-path=\"url(#clip380)\" d=\"M861.649 1302.06 Q861.232 1302.78 861.047 1303.64 Q860.839 1304.47 860.839 1305.49 Q860.839 1309.1 863.2 1311.05 Q865.538 1312.97 869.936 1312.97 L883.593 1312.97 L883.593 1317.25 L857.667 1317.25 L857.667 1312.97 L861.695 1312.97 Q859.334 1311.62 858.2 1309.47 Q857.042 1307.32 857.042 1304.24 Q857.042 1303.8 857.112 1303.27 Q857.158 1302.74 857.274 1302.09 L861.649 1302.06 Z\" fill=\"#000000\" fill-rule=\"evenodd\" fill-opacity=\"1\" /><path clip-path=\"url(#clip380)\" d=\"M870.561 1285.81 Q870.561 1290.98 871.741 1292.97 Q872.922 1294.96 875.769 1294.96 Q878.037 1294.96 879.38 1293.48 Q880.7 1291.97 880.7 1289.4 Q880.7 1285.86 878.2 1283.73 Q875.676 1281.58 871.51 1281.58 L870.561 1281.58 L870.561 1285.81 M868.801 1277.32 L883.593 1277.32 L883.593 1281.58 L879.658 1281.58 Q882.019 1283.04 883.153 1285.21 Q884.264 1287.39 884.264 1290.54 Q884.264 1294.52 882.042 1296.88 Q879.797 1299.22 876.047 1299.22 Q871.672 1299.22 869.45 1296.3 Q867.227 1293.36 867.227 1287.55 L867.227 1281.58 L866.811 1281.58 Q863.871 1281.58 862.274 1283.52 Q860.653 1285.44 860.653 1288.94 Q860.653 1291.16 861.186 1293.27 Q861.718 1295.37 862.783 1297.32 L858.848 1297.32 Q857.945 1294.98 857.505 1292.78 Q857.042 1290.58 857.042 1288.5 Q857.042 1282.87 859.959 1280.1 Q862.876 1277.32 868.801 1277.32 Z\" fill=\"#000000\" fill-rule=\"evenodd\" fill-opacity=\"1\" /><path clip-path=\"url(#clip380)\" d=\"M870.329 1251.49 Q865.7 1251.49 863.153 1253.41 Q860.607 1255.31 860.607 1258.75 Q860.607 1262.18 863.153 1264.1 Q865.7 1266 870.329 1266 Q874.936 1266 877.482 1264.1 Q880.028 1262.18 880.028 1258.75 Q880.028 1255.31 877.482 1253.41 Q874.936 1251.49 870.329 1251.49 M880.375 1247.23 Q886.996 1247.23 890.213 1250.17 Q893.454 1253.11 893.454 1259.17 Q893.454 1261.42 893.107 1263.41 Q892.783 1265.4 892.088 1267.27 L887.945 1267.27 Q888.963 1265.4 889.449 1263.57 Q889.936 1261.74 889.936 1259.84 Q889.936 1255.65 887.737 1253.57 Q885.561 1251.49 881.139 1251.49 L879.033 1251.49 Q881.325 1252.81 882.459 1254.87 Q883.593 1256.93 883.593 1259.8 Q883.593 1264.56 879.959 1267.48 Q876.325 1270.4 870.329 1270.4 Q864.311 1270.4 860.676 1267.48 Q857.042 1264.56 857.042 1259.8 Q857.042 1256.93 858.176 1254.87 Q859.311 1252.81 861.602 1251.49 L857.667 1251.49 L857.667 1247.23 L880.375 1247.23 Z\" fill=\"#000000\" fill-rule=\"evenodd\" fill-opacity=\"1\" /><path clip-path=\"url(#clip380)\" d=\"M870.561 1226.67 Q870.561 1231.83 871.741 1233.82 Q872.922 1235.81 875.769 1235.81 Q878.037 1235.81 879.38 1234.33 Q880.7 1232.83 880.7 1230.26 Q880.7 1226.72 878.2 1224.59 Q875.676 1222.44 871.51 1222.44 L870.561 1222.44 L870.561 1226.67 M868.801 1218.18 L883.593 1218.18 L883.593 1222.44 L879.658 1222.44 Q882.019 1223.89 883.153 1226.07 Q884.264 1228.25 884.264 1231.39 Q884.264 1235.37 882.042 1237.74 Q879.797 1240.07 876.047 1240.07 Q871.672 1240.07 869.45 1237.16 Q867.227 1234.22 867.227 1228.41 L867.227 1222.44 L866.811 1222.44 Q863.871 1222.44 862.274 1224.38 Q860.653 1226.3 860.653 1229.8 Q860.653 1232.02 861.186 1234.12 Q861.718 1236.23 862.783 1238.18 L858.848 1238.18 Q857.945 1235.84 857.505 1233.64 Q857.042 1231.44 857.042 1229.36 Q857.042 1223.73 859.959 1220.95 Q862.876 1218.18 868.801 1218.18 Z\" fill=\"#000000\" fill-rule=\"evenodd\" fill-opacity=\"1\" /><path clip-path=\"url(#clip380)\" d=\"M969.276 1386.55 L973.257 1386.55 Q972.262 1388.36 971.775 1390.19 Q971.266 1391.99 971.266 1393.85 Q971.266 1397.99 973.905 1400.28 Q976.521 1402.57 981.266 1402.57 Q986.012 1402.57 988.65 1400.28 Q991.266 1397.99 991.266 1393.85 Q991.266 1391.99 990.78 1390.19 Q990.271 1388.36 989.275 1386.55 L993.211 1386.55 Q994.044 1388.34 994.461 1390.26 Q994.877 1392.16 994.877 1394.31 Q994.877 1400.17 991.197 1403.61 Q987.516 1407.06 981.266 1407.06 Q974.924 1407.06 971.289 1403.59 Q967.655 1400.1 967.655 1394.03 Q967.655 1392.06 968.072 1390.19 Q968.465 1388.31 969.276 1386.55 Z\" fill=\"#000000\" fill-rule=\"evenodd\" fill-opacity=\"1\" /><path clip-path=\"url(#clip380)\" d=\"M988.326 1378.55 L988.326 1373.66 L994.206 1373.66 L994.206 1378.55 L988.326 1378.55 Z\" fill=\"#000000\" fill-rule=\"evenodd\" fill-opacity=\"1\" /><path clip-path=\"url(#clip380)\" d=\"M973.257 1343.89 Q970.387 1342.3 969.021 1340.07 Q967.655 1337.85 967.655 1334.84 Q967.655 1330.79 970.502 1328.59 Q973.326 1326.39 978.558 1326.39 L994.206 1326.39 L994.206 1330.68 L978.697 1330.68 Q974.97 1330.68 973.164 1331.99 Q971.359 1333.31 971.359 1336.02 Q971.359 1339.33 973.558 1341.25 Q975.757 1343.18 979.553 1343.18 L994.206 1343.18 L994.206 1347.46 L978.697 1347.46 Q974.947 1347.46 973.164 1348.78 Q971.359 1350.1 971.359 1352.85 Q971.359 1356.11 973.581 1358.04 Q975.78 1359.96 979.553 1359.96 L994.206 1359.96 L994.206 1364.24 L968.28 1364.24 L968.28 1359.96 L972.308 1359.96 Q969.924 1358.5 968.789 1356.46 Q967.655 1354.43 967.655 1351.62 Q967.655 1348.8 969.09 1346.83 Q970.525 1344.84 973.257 1343.89 Z\" fill=\"#000000\" fill-rule=\"evenodd\" fill-opacity=\"1\" /><path clip-path=\"url(#clip380)\" d=\"M971.266 1307.85 Q971.266 1311.28 973.951 1313.27 Q976.613 1315.26 981.266 1315.26 Q985.919 1315.26 988.604 1313.29 Q991.266 1311.3 991.266 1307.85 Q991.266 1304.45 988.581 1302.46 Q985.896 1300.47 981.266 1300.47 Q976.66 1300.47 973.975 1302.46 Q971.266 1304.45 971.266 1307.85 M967.655 1307.85 Q967.655 1302.3 971.266 1299.12 Q974.877 1295.95 981.266 1295.95 Q987.632 1295.95 991.266 1299.12 Q994.877 1302.3 994.877 1307.85 Q994.877 1313.43 991.266 1316.6 Q987.632 1319.75 981.266 1319.75 Q974.877 1319.75 971.266 1316.6 Q967.655 1313.43 967.655 1307.85 Z\" fill=\"#000000\" fill-rule=\"evenodd\" fill-opacity=\"1\" /><path clip-path=\"url(#clip380)\" d=\"M972.262 1273.87 Q971.845 1274.59 971.66 1275.44 Q971.451 1276.28 971.451 1277.3 Q971.451 1280.91 973.813 1282.85 Q976.15 1284.77 980.549 1284.77 L994.206 1284.77 L994.206 1289.06 L968.28 1289.06 L968.28 1284.77 L972.308 1284.77 Q969.947 1283.43 968.813 1281.28 Q967.655 1279.12 967.655 1276.05 Q967.655 1275.61 967.725 1275.07 Q967.771 1274.54 967.887 1273.89 L972.262 1273.87 Z\" fill=\"#000000\" fill-rule=\"evenodd\" fill-opacity=\"1\" /><path clip-path=\"url(#clip380)\" d=\"M981.174 1257.62 Q981.174 1262.78 982.354 1264.77 Q983.535 1266.76 986.382 1266.76 Q988.65 1266.76 989.993 1265.28 Q991.312 1263.78 991.312 1261.21 Q991.312 1257.67 988.812 1255.54 Q986.289 1253.38 982.123 1253.38 L981.174 1253.38 L981.174 1257.62 M979.414 1249.12 L994.206 1249.12 L994.206 1253.38 L990.271 1253.38 Q992.632 1254.84 993.766 1257.02 Q994.877 1259.19 994.877 1262.34 Q994.877 1266.32 992.655 1268.68 Q990.41 1271.02 986.66 1271.02 Q982.285 1271.02 980.062 1268.11 Q977.84 1265.17 977.84 1259.36 L977.84 1253.38 L977.424 1253.38 Q974.484 1253.38 972.887 1255.33 Q971.266 1257.25 971.266 1260.75 Q971.266 1262.97 971.799 1265.07 Q972.331 1267.18 973.396 1269.12 L969.461 1269.12 Q968.558 1266.79 968.118 1264.59 Q967.655 1262.39 967.655 1260.31 Q967.655 1254.68 970.572 1251.9 Q973.488 1249.12 979.414 1249.12 Z\" fill=\"#000000\" fill-rule=\"evenodd\" fill-opacity=\"1\" /><path clip-path=\"url(#clip380)\" d=\"M968.28 1243.41 L968.28 1238.89 L990.039 1230.79 L968.28 1222.69 L968.28 1218.18 L994.206 1227.9 L994.206 1233.68 L968.28 1243.41 Z\" fill=\"#000000\" fill-rule=\"evenodd\" fill-opacity=\"1\" /><path clip-path=\"url(#clip380)\" d=\"M1079.66 1428.34 L1083.68 1428.34 Q1082.76 1430.14 1082.3 1432.09 Q1081.83 1434.03 1081.83 1436.11 Q1081.83 1439.29 1082.81 1440.88 Q1083.78 1442.46 1085.72 1442.46 Q1087.2 1442.46 1088.06 1441.32 Q1088.89 1440.19 1089.66 1436.76 L1089.98 1435.3 Q1090.95 1430.77 1092.74 1428.87 Q1094.49 1426.95 1097.67 1426.95 Q1101.28 1426.95 1103.38 1429.82 Q1105.49 1432.67 1105.49 1437.67 Q1105.49 1439.75 1105.07 1442.02 Q1104.68 1444.26 1103.87 1446.76 L1099.47 1446.76 Q1100.7 1444.4 1101.32 1442.11 Q1101.93 1439.82 1101.93 1437.57 Q1101.93 1434.56 1100.91 1432.94 Q1099.87 1431.32 1097.99 1431.32 Q1096.25 1431.32 1095.33 1432.5 Q1094.4 1433.66 1093.55 1437.62 L1093.2 1439.1 Q1092.37 1443.06 1090.65 1444.82 Q1088.92 1446.58 1085.91 1446.58 Q1082.25 1446.58 1080.26 1443.98 Q1078.27 1441.39 1078.27 1436.62 Q1078.27 1434.26 1078.62 1432.18 Q1078.96 1430.1 1079.66 1428.34 Z\" fill=\"#000000\" fill-rule=\"evenodd\" fill-opacity=\"1\" /><path clip-path=\"url(#clip380)\" d=\"M1098.94 1419.56 L1098.94 1414.68 L1104.82 1414.68 L1104.82 1419.56 L1098.94 1419.56 Z\" fill=\"#000000\" fill-rule=\"evenodd\" fill-opacity=\"1\" /><path clip-path=\"url(#clip380)\" d=\"M1079.89 1386.44 L1083.87 1386.44 Q1082.87 1388.24 1082.39 1390.07 Q1081.88 1391.88 1081.88 1393.73 Q1081.88 1397.87 1084.52 1400.17 Q1087.13 1402.46 1091.88 1402.46 Q1096.62 1402.46 1099.26 1400.17 Q1101.88 1397.87 1101.88 1393.73 Q1101.88 1391.88 1101.39 1390.07 Q1100.88 1388.24 1099.89 1386.44 L1103.82 1386.44 Q1104.66 1388.22 1105.07 1390.14 Q1105.49 1392.04 1105.49 1394.19 Q1105.49 1400.05 1101.81 1403.5 Q1098.13 1406.95 1091.88 1406.95 Q1085.54 1406.95 1081.9 1403.48 Q1078.27 1399.98 1078.27 1393.92 Q1078.27 1391.95 1078.68 1390.07 Q1079.08 1388.2 1079.89 1386.44 Z\" fill=\"#000000\" fill-rule=\"evenodd\" fill-opacity=\"1\" /><path clip-path=\"url(#clip380)\" d=\"M1091.79 1367.25 Q1091.79 1372.41 1092.97 1374.4 Q1094.15 1376.39 1096.99 1376.39 Q1099.26 1376.39 1100.61 1374.91 Q1101.93 1373.41 1101.93 1370.84 Q1101.93 1367.3 1099.43 1365.17 Q1096.9 1363.01 1092.74 1363.01 L1091.79 1363.01 L1091.79 1367.25 M1090.03 1358.75 L1104.82 1358.75 L1104.82 1363.01 L1100.88 1363.01 Q1103.24 1364.47 1104.38 1366.65 Q1105.49 1368.82 1105.49 1371.97 Q1105.49 1375.95 1103.27 1378.31 Q1101.02 1380.65 1097.27 1380.65 Q1092.9 1380.65 1090.68 1377.74 Q1088.45 1374.8 1088.45 1368.99 L1088.45 1363.01 L1088.04 1363.01 Q1085.1 1363.01 1083.5 1364.96 Q1081.88 1366.88 1081.88 1370.37 Q1081.88 1372.6 1082.41 1374.7 Q1082.94 1376.81 1084.01 1378.75 L1080.07 1378.75 Q1079.17 1376.42 1078.73 1374.22 Q1078.27 1372.02 1078.27 1369.93 Q1078.27 1364.31 1081.18 1361.53 Q1084.1 1358.75 1090.03 1358.75 Z\" fill=\"#000000\" fill-rule=\"evenodd\" fill-opacity=\"1\" /><path clip-path=\"url(#clip380)\" d=\"M1079.89 1331.32 L1083.87 1331.32 Q1082.87 1333.13 1082.39 1334.96 Q1081.88 1336.76 1081.88 1338.61 Q1081.88 1342.76 1084.52 1345.05 Q1087.13 1347.34 1091.88 1347.34 Q1096.62 1347.34 1099.26 1345.05 Q1101.88 1342.76 1101.88 1338.61 Q1101.88 1336.76 1101.39 1334.96 Q1100.88 1333.13 1099.89 1331.32 L1103.82 1331.32 Q1104.66 1333.11 1105.07 1335.03 Q1105.49 1336.93 1105.49 1339.08 Q1105.49 1344.93 1101.81 1348.38 Q1098.13 1351.83 1091.88 1351.83 Q1085.54 1351.83 1081.9 1348.36 Q1078.27 1344.86 1078.27 1338.8 Q1078.27 1336.83 1078.68 1334.96 Q1079.08 1333.08 1079.89 1331.32 Z\" fill=\"#000000\" fill-rule=\"evenodd\" fill-opacity=\"1\" /><path clip-path=\"url(#clip380)\" d=\"M1090.79 1301.74 L1092.87 1301.74 L1092.87 1321.32 Q1097.27 1321.05 1099.59 1318.68 Q1101.88 1316.3 1101.88 1312.06 Q1101.88 1309.61 1101.28 1307.32 Q1100.68 1305 1099.47 1302.74 L1103.5 1302.74 Q1104.47 1305.03 1104.98 1307.43 Q1105.49 1309.84 1105.49 1312.32 Q1105.49 1318.52 1101.88 1322.16 Q1098.27 1325.77 1092.11 1325.77 Q1085.74 1325.77 1082.02 1322.34 Q1078.27 1318.89 1078.27 1313.06 Q1078.27 1307.83 1081.65 1304.8 Q1085 1301.74 1090.79 1301.74 M1089.54 1306 Q1086.05 1306.05 1083.96 1307.97 Q1081.88 1309.87 1081.88 1313.01 Q1081.88 1316.58 1083.89 1318.73 Q1085.91 1320.86 1089.56 1321.18 L1089.54 1306 Z\" fill=\"#000000\" fill-rule=\"evenodd\" fill-opacity=\"1\" /><path clip-path=\"url(#clip380)\" d=\"M1082.87 1279.73 Q1082.46 1280.44 1082.27 1281.3 Q1082.06 1282.13 1082.06 1283.15 Q1082.06 1286.76 1084.43 1288.71 Q1086.76 1290.63 1091.16 1290.63 L1104.82 1290.63 L1104.82 1294.91 L1078.89 1294.91 L1078.89 1290.63 L1082.92 1290.63 Q1080.56 1289.29 1079.43 1287.13 Q1078.27 1284.98 1078.27 1281.9 Q1078.27 1281.46 1078.34 1280.93 Q1078.38 1280.4 1078.5 1279.75 L1082.87 1279.73 Z\" fill=\"#000000\" fill-rule=\"evenodd\" fill-opacity=\"1\" /><path clip-path=\"url(#clip380)\" d=\"M1090.79 1254.12 L1092.87 1254.12 L1092.87 1273.71 Q1097.27 1273.43 1099.59 1271.07 Q1101.88 1268.68 1101.88 1264.45 Q1101.88 1262 1101.28 1259.7 Q1100.68 1257.39 1099.47 1255.12 L1103.5 1255.12 Q1104.47 1257.41 1104.98 1259.82 Q1105.49 1262.23 1105.49 1264.7 Q1105.49 1270.91 1101.88 1274.54 Q1098.27 1278.15 1092.11 1278.15 Q1085.74 1278.15 1082.02 1274.73 Q1078.27 1271.28 1078.27 1265.44 Q1078.27 1260.21 1081.65 1257.18 Q1085 1254.12 1090.79 1254.12 M1089.54 1258.38 Q1086.05 1258.43 1083.96 1260.35 Q1081.88 1262.25 1081.88 1265.4 Q1081.88 1268.96 1083.89 1271.12 Q1085.91 1273.24 1089.56 1273.57 L1089.54 1258.38 Z\" fill=\"#000000\" fill-rule=\"evenodd\" fill-opacity=\"1\" /><path clip-path=\"url(#clip380)\" d=\"M1079.66 1230.61 L1083.68 1230.61 Q1082.76 1232.41 1082.3 1234.36 Q1081.83 1236.3 1081.83 1238.38 Q1081.83 1241.56 1082.81 1243.15 Q1083.78 1244.73 1085.72 1244.73 Q1087.2 1244.73 1088.06 1243.59 Q1088.89 1242.46 1089.66 1239.03 L1089.98 1237.57 Q1090.95 1233.04 1092.74 1231.14 Q1094.49 1229.22 1097.67 1229.22 Q1101.28 1229.22 1103.38 1232.09 Q1105.49 1234.93 1105.49 1239.93 Q1105.49 1242.02 1105.07 1244.29 Q1104.68 1246.53 1103.87 1249.03 L1099.47 1249.03 Q1100.7 1246.67 1101.32 1244.38 Q1101.93 1242.09 1101.93 1239.84 Q1101.93 1236.83 1100.91 1235.21 Q1099.87 1233.59 1097.99 1233.59 Q1096.25 1233.59 1095.33 1234.77 Q1094.4 1235.93 1093.55 1239.89 L1093.2 1241.37 Q1092.37 1245.33 1090.65 1247.09 Q1088.92 1248.85 1085.91 1248.85 Q1082.25 1248.85 1080.26 1246.25 Q1078.27 1243.66 1078.27 1238.89 Q1078.27 1236.53 1078.62 1234.45 Q1078.96 1232.37 1079.66 1230.61 Z\" fill=\"#000000\" fill-rule=\"evenodd\" fill-opacity=\"1\" /><path clip-path=\"url(#clip380)\" d=\"M1078.89 1222.44 L1078.89 1218.18 L1105.28 1218.18 Q1110.24 1218.18 1112.46 1220.07 Q1114.68 1221.95 1114.68 1226.14 L1114.68 1227.76 L1111.07 1227.76 L1111.07 1226.62 Q1111.07 1224.19 1109.93 1223.31 Q1108.82 1222.44 1105.28 1222.44 L1078.89 1222.44 M1068.8 1222.44 L1068.8 1218.18 L1074.19 1218.18 L1074.19 1222.44 L1068.8 1222.44 Z\" fill=\"#000000\" fill-rule=\"evenodd\" fill-opacity=\"1\" /><path clip-path=\"url(#clip380)\" d=\"M1194.48 1470.4 Q1191.61 1468.8 1190.25 1466.58 Q1188.88 1464.36 1188.88 1461.35 Q1188.88 1457.29 1191.73 1455.1 Q1194.55 1452.9 1199.78 1452.9 L1215.43 1452.9 L1215.43 1457.18 L1199.92 1457.18 Q1196.2 1457.18 1194.39 1458.5 Q1192.58 1459.82 1192.58 1462.53 Q1192.58 1465.84 1194.78 1467.76 Q1196.98 1469.68 1200.78 1469.68 L1215.43 1469.68 L1215.43 1473.96 L1199.92 1473.96 Q1196.17 1473.96 1194.39 1475.28 Q1192.58 1476.6 1192.58 1479.35 Q1192.58 1482.62 1194.81 1484.54 Q1197.01 1486.46 1200.78 1486.46 L1215.43 1486.46 L1215.43 1490.74 L1189.51 1490.74 L1189.51 1486.46 L1193.53 1486.46 Q1191.15 1485 1190.02 1482.97 Q1188.88 1480.93 1188.88 1478.13 Q1188.88 1475.3 1190.32 1473.34 Q1191.75 1471.35 1194.48 1470.4 Z\" fill=\"#000000\" fill-rule=\"evenodd\" fill-opacity=\"1\" /><path clip-path=\"url(#clip380)\" d=\"M1209.55 1443.8 L1209.55 1438.92 L1215.43 1438.92 L1215.43 1443.8 L1209.55 1443.8 Z\" fill=\"#000000\" fill-rule=\"evenodd\" fill-opacity=\"1\" /><path clip-path=\"url(#clip380)\" d=\"M1190.5 1410.67 L1194.48 1410.67 Q1193.49 1412.48 1193 1414.31 Q1192.49 1416.11 1192.49 1417.97 Q1192.49 1422.11 1195.13 1424.4 Q1197.75 1426.69 1202.49 1426.69 Q1207.24 1426.69 1209.88 1424.4 Q1212.49 1422.11 1212.49 1417.97 Q1212.49 1416.11 1212.01 1414.31 Q1211.5 1412.48 1210.5 1410.67 L1214.44 1410.67 Q1215.27 1412.46 1215.69 1414.38 Q1216.1 1416.28 1216.1 1418.43 Q1216.1 1424.29 1212.42 1427.73 Q1208.74 1431.18 1202.49 1431.18 Q1196.15 1431.18 1192.52 1427.71 Q1188.88 1424.22 1188.88 1418.15 Q1188.88 1416.18 1189.3 1414.31 Q1189.69 1412.43 1190.5 1410.67 Z\" fill=\"#000000\" fill-rule=\"evenodd\" fill-opacity=\"1\" /><path clip-path=\"url(#clip380)\" d=\"M1202.4 1391.49 Q1202.4 1396.65 1203.58 1398.64 Q1204.76 1400.63 1207.61 1400.63 Q1209.88 1400.63 1211.22 1399.15 Q1212.54 1397.64 1212.54 1395.07 Q1212.54 1391.53 1210.04 1389.4 Q1207.52 1387.25 1203.35 1387.25 L1202.4 1387.25 L1202.4 1391.49 M1200.64 1382.99 L1215.43 1382.99 L1215.43 1387.25 L1211.5 1387.25 Q1213.86 1388.71 1214.99 1390.88 Q1216.1 1393.06 1216.1 1396.21 Q1216.1 1400.19 1213.88 1402.55 Q1211.64 1404.89 1207.89 1404.89 Q1203.51 1404.89 1201.29 1401.97 Q1199.07 1399.03 1199.07 1393.22 L1199.07 1387.25 L1198.65 1387.25 Q1195.71 1387.25 1194.11 1389.19 Q1192.49 1391.11 1192.49 1394.61 Q1192.49 1396.83 1193.02 1398.94 Q1193.56 1401.05 1194.62 1402.99 L1190.69 1402.99 Q1189.78 1400.65 1189.34 1398.45 Q1188.88 1396.25 1188.88 1394.17 Q1188.88 1388.55 1191.8 1385.77 Q1194.71 1382.99 1200.64 1382.99 Z\" fill=\"#000000\" fill-rule=\"evenodd\" fill-opacity=\"1\" /><path clip-path=\"url(#clip380)\" d=\"M1193.44 1357.16 L1179.41 1357.16 L1179.41 1352.9 L1215.43 1352.9 L1215.43 1357.16 L1211.54 1357.16 Q1213.86 1358.5 1214.99 1360.56 Q1216.1 1362.6 1216.1 1365.47 Q1216.1 1370.17 1212.35 1373.13 Q1208.6 1376.07 1202.49 1376.07 Q1196.38 1376.07 1192.63 1373.13 Q1188.88 1370.17 1188.88 1365.47 Q1188.88 1362.6 1190.02 1360.56 Q1191.13 1358.5 1193.44 1357.16 M1202.49 1371.67 Q1207.19 1371.67 1209.88 1369.75 Q1212.54 1367.8 1212.54 1364.43 Q1212.54 1361.05 1209.88 1359.1 Q1207.19 1357.16 1202.49 1357.16 Q1197.79 1357.16 1195.13 1359.1 Q1192.45 1361.05 1192.45 1364.43 Q1192.45 1367.8 1195.13 1369.75 Q1197.79 1371.67 1202.49 1371.67 Z\" fill=\"#000000\" fill-rule=\"evenodd\" fill-opacity=\"1\" /><path clip-path=\"url(#clip380)\" d=\"M1201.4 1321.95 L1203.49 1321.95 L1203.49 1341.53 Q1207.89 1341.25 1210.2 1338.89 Q1212.49 1336.51 1212.49 1332.27 Q1212.49 1329.82 1211.89 1327.53 Q1211.29 1325.21 1210.08 1322.94 L1214.11 1322.94 Q1215.08 1325.24 1215.59 1327.64 Q1216.1 1330.05 1216.1 1332.53 Q1216.1 1338.73 1212.49 1342.36 Q1208.88 1345.98 1202.72 1345.98 Q1196.36 1345.98 1192.63 1342.55 Q1188.88 1339.1 1188.88 1333.27 Q1188.88 1328.04 1192.26 1325 Q1195.62 1321.95 1201.4 1321.95 M1200.15 1326.21 Q1196.66 1326.25 1194.58 1328.18 Q1192.49 1330.07 1192.49 1333.22 Q1192.49 1336.79 1194.51 1338.94 Q1196.52 1341.07 1200.18 1341.39 L1200.15 1326.21 Z\" fill=\"#000000\" fill-rule=\"evenodd\" fill-opacity=\"1\" /><path clip-path=\"url(#clip380)\" d=\"M1199.78 1293.41 L1215.43 1293.41 L1215.43 1297.67 L1199.92 1297.67 Q1196.24 1297.67 1194.41 1299.1 Q1192.58 1300.54 1192.58 1303.41 Q1192.58 1306.86 1194.78 1308.85 Q1196.98 1310.84 1200.78 1310.84 L1215.43 1310.84 L1215.43 1315.12 L1189.51 1315.12 L1189.51 1310.84 L1193.53 1310.84 Q1191.2 1309.31 1190.04 1307.25 Q1188.88 1305.17 1188.88 1302.46 Q1188.88 1297.99 1191.66 1295.7 Q1194.41 1293.41 1199.78 1293.41 Z\" fill=\"#000000\" fill-rule=\"evenodd\" fill-opacity=\"1\" /><path clip-path=\"url(#clip380)\" d=\"M1202.4 1273.13 Q1202.4 1278.29 1203.58 1280.28 Q1204.76 1282.27 1207.61 1282.27 Q1209.88 1282.27 1211.22 1280.79 Q1212.54 1279.29 1212.54 1276.72 Q1212.54 1273.18 1210.04 1271.05 Q1207.52 1268.89 1203.35 1268.89 L1202.4 1268.89 L1202.4 1273.13 M1200.64 1264.63 L1215.43 1264.63 L1215.43 1268.89 L1211.5 1268.89 Q1213.86 1270.35 1214.99 1272.53 Q1216.1 1274.7 1216.1 1277.85 Q1216.1 1281.83 1213.88 1284.19 Q1211.64 1286.53 1207.89 1286.53 Q1203.51 1286.53 1201.29 1283.62 Q1199.07 1280.68 1199.07 1274.87 L1199.07 1268.89 L1198.65 1268.89 Q1195.71 1268.89 1194.11 1270.84 Q1192.49 1272.76 1192.49 1276.25 Q1192.49 1278.48 1193.02 1280.58 Q1193.56 1282.69 1194.62 1284.63 L1190.69 1284.63 Q1189.78 1282.3 1189.34 1280.1 Q1188.88 1277.9 1188.88 1275.81 Q1188.88 1270.19 1191.8 1267.41 Q1194.71 1264.63 1200.64 1264.63 Z\" fill=\"#000000\" fill-rule=\"evenodd\" fill-opacity=\"1\" /><path clip-path=\"url(#clip380)\" d=\"M1194.48 1235.68 Q1191.61 1234.08 1190.25 1231.86 Q1188.88 1229.63 1188.88 1226.62 Q1188.88 1222.57 1191.73 1220.37 Q1194.55 1218.18 1199.78 1218.18 L1215.43 1218.18 L1215.43 1222.46 L1199.92 1222.46 Q1196.2 1222.46 1194.39 1223.78 Q1192.58 1225.1 1192.58 1227.81 Q1192.58 1231.12 1194.78 1233.04 Q1196.98 1234.96 1200.78 1234.96 L1215.43 1234.96 L1215.43 1239.24 L1199.92 1239.24 Q1196.17 1239.24 1194.39 1240.56 Q1192.58 1241.88 1192.58 1244.63 Q1192.58 1247.9 1194.81 1249.82 Q1197.01 1251.74 1200.78 1251.74 L1215.43 1251.74 L1215.43 1256.02 L1189.51 1256.02 L1189.51 1251.74 L1193.53 1251.74 Q1191.15 1250.28 1190.02 1248.25 Q1188.88 1246.21 1188.88 1243.41 Q1188.88 1240.58 1190.32 1238.62 Q1191.75 1236.62 1194.48 1235.68 Z\" fill=\"#000000\" fill-rule=\"evenodd\" fill-opacity=\"1\" /><path clip-path=\"url(#clip380)\" d=\"M1313.01 1464.42 Q1313.01 1469.59 1314.19 1471.58 Q1315.37 1473.57 1318.22 1473.57 Q1320.49 1473.57 1321.83 1472.09 Q1323.15 1470.58 1323.15 1468.01 Q1323.15 1464.47 1320.65 1462.34 Q1318.13 1460.19 1313.96 1460.19 L1313.01 1460.19 L1313.01 1464.42 M1311.25 1455.93 L1326.04 1455.93 L1326.04 1460.19 L1322.11 1460.19 Q1324.47 1461.65 1325.6 1463.82 Q1326.72 1466 1326.72 1469.15 Q1326.72 1473.13 1324.49 1475.49 Q1322.25 1477.83 1318.5 1477.83 Q1314.12 1477.83 1311.9 1474.91 Q1309.68 1471.97 1309.68 1466.16 L1309.68 1460.19 L1309.26 1460.19 Q1306.32 1460.19 1304.73 1462.13 Q1303.1 1464.05 1303.1 1467.55 Q1303.1 1469.77 1303.64 1471.88 Q1304.17 1473.98 1305.23 1475.93 L1301.3 1475.93 Q1300.4 1473.59 1299.96 1471.39 Q1299.49 1469.19 1299.49 1467.11 Q1299.49 1461.48 1302.41 1458.71 Q1305.33 1455.93 1311.25 1455.93 Z\" fill=\"#000000\" fill-rule=\"evenodd\" fill-opacity=\"1\" /><path clip-path=\"url(#clip380)\" d=\"M1320.17 1446.55 L1320.17 1441.67 L1326.04 1441.67 L1326.04 1446.55 L1320.17 1446.55 Z\" fill=\"#000000\" fill-rule=\"evenodd\" fill-opacity=\"1\" /><path clip-path=\"url(#clip380)\" d=\"M1301.11 1413.43 L1305.1 1413.43 Q1304.1 1415.23 1303.61 1417.06 Q1303.1 1418.87 1303.1 1420.72 Q1303.1 1424.86 1305.74 1427.16 Q1308.36 1429.45 1313.1 1429.45 Q1317.85 1429.45 1320.49 1427.16 Q1323.1 1424.86 1323.1 1420.72 Q1323.1 1418.87 1322.62 1417.06 Q1322.11 1415.23 1321.11 1413.43 L1325.05 1413.43 Q1325.88 1415.21 1326.3 1417.13 Q1326.72 1419.03 1326.72 1421.18 Q1326.72 1427.04 1323.04 1430.49 Q1319.35 1433.94 1313.1 1433.94 Q1306.76 1433.94 1303.13 1430.47 Q1299.49 1426.97 1299.49 1420.91 Q1299.49 1418.94 1299.91 1417.06 Q1300.3 1415.19 1301.11 1413.43 Z\" fill=\"#000000\" fill-rule=\"evenodd\" fill-opacity=\"1\" /><path clip-path=\"url(#clip380)\" d=\"M1303.1 1395.98 Q1303.1 1399.4 1305.79 1401.39 Q1308.45 1403.38 1313.1 1403.38 Q1317.76 1403.38 1320.44 1401.42 Q1323.1 1399.42 1323.1 1395.98 Q1323.1 1392.57 1320.42 1390.58 Q1317.73 1388.59 1313.1 1388.59 Q1308.5 1388.59 1305.81 1390.58 Q1303.1 1392.57 1303.1 1395.98 M1299.49 1395.98 Q1299.49 1390.42 1303.1 1387.25 Q1306.72 1384.08 1313.1 1384.08 Q1319.47 1384.08 1323.1 1387.25 Q1326.72 1390.42 1326.72 1395.98 Q1326.72 1401.55 1323.1 1404.73 Q1319.47 1407.87 1313.1 1407.87 Q1306.72 1407.87 1303.1 1404.73 Q1299.49 1401.55 1299.49 1395.98 Z\" fill=\"#000000\" fill-rule=\"evenodd\" fill-opacity=\"1\" /><path clip-path=\"url(#clip380)\" d=\"M1304.1 1361.99 Q1303.68 1362.71 1303.5 1363.57 Q1303.29 1364.4 1303.29 1365.42 Q1303.29 1369.03 1305.65 1370.98 Q1307.99 1372.9 1312.39 1372.9 L1326.04 1372.9 L1326.04 1377.18 L1300.12 1377.18 L1300.12 1372.9 L1304.15 1372.9 Q1301.79 1371.55 1300.65 1369.4 Q1299.49 1367.25 1299.49 1364.17 Q1299.49 1363.73 1299.56 1363.2 Q1299.61 1362.67 1299.73 1362.02 L1304.1 1361.99 Z\" fill=\"#000000\" fill-rule=\"evenodd\" fill-opacity=\"1\" /><path clip-path=\"url(#clip380)\" d=\"M1304.05 1341.3 L1290.03 1341.3 L1290.03 1337.04 L1326.04 1337.04 L1326.04 1341.3 L1322.16 1341.3 Q1324.47 1342.64 1325.6 1344.7 Q1326.72 1346.74 1326.72 1349.61 Q1326.72 1354.31 1322.97 1357.27 Q1319.22 1360.21 1313.1 1360.21 Q1306.99 1360.21 1303.24 1357.27 Q1299.49 1354.31 1299.49 1349.61 Q1299.49 1346.74 1300.63 1344.7 Q1301.74 1342.64 1304.05 1341.3 M1313.1 1355.81 Q1317.8 1355.81 1320.49 1353.89 Q1323.15 1351.95 1323.15 1348.57 Q1323.15 1345.19 1320.49 1343.24 Q1317.8 1341.3 1313.1 1341.3 Q1308.41 1341.3 1305.74 1343.24 Q1303.06 1345.19 1303.06 1348.57 Q1303.06 1351.95 1305.74 1353.89 Q1308.41 1355.81 1313.1 1355.81 Z\" fill=\"#000000\" fill-rule=\"evenodd\" fill-opacity=\"1\" /><path clip-path=\"url(#clip380)\" d=\"M1303.1 1318.22 Q1303.1 1321.65 1305.79 1323.64 Q1308.45 1325.63 1313.1 1325.63 Q1317.76 1325.63 1320.44 1323.66 Q1323.1 1321.67 1323.1 1318.22 Q1323.1 1314.82 1320.42 1312.83 Q1317.73 1310.84 1313.1 1310.84 Q1308.5 1310.84 1305.81 1312.83 Q1303.1 1314.82 1303.1 1318.22 M1299.49 1318.22 Q1299.49 1312.67 1303.1 1309.49 Q1306.72 1306.32 1313.1 1306.32 Q1319.47 1306.32 1323.1 1309.49 Q1326.72 1312.67 1326.72 1318.22 Q1326.72 1323.8 1323.1 1326.97 Q1319.47 1330.12 1313.1 1330.12 Q1306.72 1330.12 1303.1 1326.97 Q1299.49 1323.8 1299.49 1318.22 Z\" fill=\"#000000\" fill-rule=\"evenodd\" fill-opacity=\"1\" /><path clip-path=\"url(#clip380)\" d=\"M1313.1 1280.65 Q1308.41 1280.65 1305.74 1282.6 Q1303.06 1284.52 1303.06 1287.9 Q1303.06 1291.28 1305.74 1293.22 Q1308.41 1295.14 1313.1 1295.14 Q1317.8 1295.14 1320.49 1293.22 Q1323.15 1291.28 1323.15 1287.9 Q1323.15 1284.52 1320.49 1282.6 Q1317.8 1280.65 1313.1 1280.65 M1304.05 1295.14 Q1301.74 1293.8 1300.63 1291.76 Q1299.49 1289.7 1299.49 1286.86 Q1299.49 1282.13 1303.24 1279.19 Q1306.99 1276.23 1313.1 1276.23 Q1319.22 1276.23 1322.97 1279.19 Q1326.72 1282.13 1326.72 1286.86 Q1326.72 1289.7 1325.6 1291.76 Q1324.47 1293.8 1322.16 1295.14 L1326.04 1295.14 L1326.04 1299.43 L1290.03 1299.43 L1290.03 1295.14 L1304.05 1295.14 Z\" fill=\"#000000\" fill-rule=\"evenodd\" fill-opacity=\"1\" /><path clip-path=\"url(#clip380)\" d=\"M1313.01 1257.39 Q1313.01 1262.55 1314.19 1264.54 Q1315.37 1266.53 1318.22 1266.53 Q1320.49 1266.53 1321.83 1265.05 Q1323.15 1263.55 1323.15 1260.98 Q1323.15 1257.43 1320.65 1255.31 Q1318.13 1253.15 1313.96 1253.15 L1313.01 1253.15 L1313.01 1257.39 M1311.25 1248.89 L1326.04 1248.89 L1326.04 1253.15 L1322.11 1253.15 Q1324.47 1254.61 1325.6 1256.79 Q1326.72 1258.96 1326.72 1262.11 Q1326.72 1266.09 1324.49 1268.45 Q1322.25 1270.79 1318.5 1270.79 Q1314.12 1270.79 1311.9 1267.87 Q1309.68 1264.93 1309.68 1259.12 L1309.68 1253.15 L1309.26 1253.15 Q1306.32 1253.15 1304.73 1255.1 Q1303.1 1257.02 1303.1 1260.51 Q1303.1 1262.74 1303.64 1264.84 Q1304.17 1266.95 1305.23 1268.89 L1301.3 1268.89 Q1300.4 1266.56 1299.96 1264.36 Q1299.49 1262.16 1299.49 1260.07 Q1299.49 1254.45 1302.41 1251.67 Q1305.33 1248.89 1311.25 1248.89 Z\" fill=\"#000000\" fill-rule=\"evenodd\" fill-opacity=\"1\" /><path clip-path=\"url(#clip380)\" d=\"M1303.1 1230.07 Q1303.1 1233.5 1305.79 1235.49 Q1308.45 1237.48 1313.1 1237.48 Q1317.76 1237.48 1320.44 1235.51 Q1323.1 1233.52 1323.1 1230.07 Q1323.1 1226.67 1320.42 1224.68 Q1317.73 1222.69 1313.1 1222.69 Q1308.5 1222.69 1305.81 1224.68 Q1303.1 1226.67 1303.1 1230.07 M1299.49 1230.07 Q1299.49 1224.52 1303.1 1221.35 Q1306.72 1218.18 1313.1 1218.18 Q1319.47 1218.18 1323.1 1221.35 Q1326.72 1224.52 1326.72 1230.07 Q1326.72 1235.65 1323.1 1238.82 Q1319.47 1241.97 1313.1 1241.97 Q1306.72 1241.97 1303.1 1238.82 Q1299.49 1235.65 1299.49 1230.07 Z\" fill=\"#000000\" fill-rule=\"evenodd\" fill-opacity=\"1\" /><path clip-path=\"url(#clip380)\" d=\"M1415.71 1552.5 Q1412.84 1550.91 1411.47 1548.68 Q1410.11 1546.46 1410.11 1543.45 Q1410.11 1539.4 1412.95 1537.2 Q1415.78 1535 1421.01 1535 L1436.66 1535 L1436.66 1539.29 L1421.15 1539.29 Q1417.42 1539.29 1415.62 1540.6 Q1413.81 1541.92 1413.81 1544.63 Q1413.81 1547.94 1416.01 1549.86 Q1418.21 1551.79 1422 1551.79 L1436.66 1551.79 L1436.66 1556.07 L1421.15 1556.07 Q1417.4 1556.07 1415.62 1557.39 Q1413.81 1558.71 1413.81 1561.46 Q1413.81 1564.72 1416.03 1566.65 Q1418.23 1568.57 1422 1568.57 L1436.66 1568.57 L1436.66 1572.85 L1410.73 1572.85 L1410.73 1568.57 L1414.76 1568.57 Q1412.38 1567.11 1411.24 1565.07 Q1410.11 1563.04 1410.11 1560.23 Q1410.11 1557.41 1411.54 1555.44 Q1412.98 1553.45 1415.71 1552.5 Z\" fill=\"#000000\" fill-rule=\"evenodd\" fill-opacity=\"1\" /><path clip-path=\"url(#clip380)\" d=\"M1423.63 1514.73 Q1423.63 1519.89 1424.81 1521.88 Q1425.99 1523.87 1428.83 1523.87 Q1431.1 1523.87 1432.44 1522.39 Q1433.76 1520.88 1433.76 1518.31 Q1433.76 1514.77 1431.26 1512.64 Q1428.74 1510.49 1424.57 1510.49 L1423.63 1510.49 L1423.63 1514.73 M1421.87 1506.23 L1436.66 1506.23 L1436.66 1510.49 L1432.72 1510.49 Q1435.08 1511.95 1436.22 1514.12 Q1437.33 1516.3 1437.33 1519.45 Q1437.33 1523.43 1435.11 1525.79 Q1432.86 1528.13 1429.11 1528.13 Q1424.74 1528.13 1422.51 1525.21 Q1420.29 1522.27 1420.29 1516.46 L1420.29 1510.49 L1419.88 1510.49 Q1416.94 1510.49 1415.34 1512.43 Q1413.72 1514.35 1413.72 1517.85 Q1413.72 1520.07 1414.25 1522.18 Q1414.78 1524.29 1415.85 1526.23 L1411.91 1526.23 Q1411.01 1523.89 1410.57 1521.69 Q1410.11 1519.49 1410.11 1517.41 Q1410.11 1511.79 1413.02 1509.01 Q1415.94 1506.23 1421.87 1506.23 Z\" fill=\"#000000\" fill-rule=\"evenodd\" fill-opacity=\"1\" /><path clip-path=\"url(#clip380)\" d=\"M1430.78 1496.85 L1430.78 1491.97 L1436.66 1491.97 L1436.66 1496.85 L1430.78 1496.85 Z\" fill=\"#000000\" fill-rule=\"evenodd\" fill-opacity=\"1\" /><path clip-path=\"url(#clip380)\" d=\"M1411.73 1463.73 L1415.71 1463.73 Q1414.71 1465.54 1414.23 1467.36 Q1413.72 1469.17 1413.72 1471.02 Q1413.72 1475.17 1416.36 1477.46 Q1418.97 1479.75 1423.72 1479.75 Q1428.46 1479.75 1431.1 1477.46 Q1433.72 1475.17 1433.72 1471.02 Q1433.72 1469.17 1433.23 1467.36 Q1432.72 1465.54 1431.73 1463.73 L1435.66 1463.73 Q1436.5 1465.51 1436.91 1467.43 Q1437.33 1469.33 1437.33 1471.48 Q1437.33 1477.34 1433.65 1480.79 Q1429.97 1484.24 1423.72 1484.24 Q1417.38 1484.24 1413.74 1480.77 Q1410.11 1477.27 1410.11 1471.21 Q1410.11 1469.24 1410.52 1467.36 Q1410.92 1465.49 1411.73 1463.73 Z\" fill=\"#000000\" fill-rule=\"evenodd\" fill-opacity=\"1\" /><path clip-path=\"url(#clip380)\" d=\"M1423.63 1444.54 Q1423.63 1449.7 1424.81 1451.69 Q1425.99 1453.68 1428.83 1453.68 Q1431.1 1453.68 1432.44 1452.2 Q1433.76 1450.7 1433.76 1448.13 Q1433.76 1444.59 1431.26 1442.46 Q1428.74 1440.3 1424.57 1440.3 L1423.63 1440.3 L1423.63 1444.54 M1421.87 1436.04 L1436.66 1436.04 L1436.66 1440.3 L1432.72 1440.3 Q1435.08 1441.76 1436.22 1443.94 Q1437.33 1446.11 1437.33 1449.26 Q1437.33 1453.24 1435.11 1455.61 Q1432.86 1457.94 1429.11 1457.94 Q1424.74 1457.94 1422.51 1455.03 Q1420.29 1452.09 1420.29 1446.28 L1420.29 1440.3 L1419.88 1440.3 Q1416.94 1440.3 1415.34 1442.25 Q1413.72 1444.17 1413.72 1447.67 Q1413.72 1449.89 1414.25 1451.99 Q1414.78 1454.1 1415.85 1456.04 L1411.91 1456.04 Q1411.01 1453.71 1410.57 1451.51 Q1410.11 1449.31 1410.11 1447.23 Q1410.11 1441.6 1413.02 1438.82 Q1415.94 1436.04 1421.87 1436.04 Z\" fill=\"#000000\" fill-rule=\"evenodd\" fill-opacity=\"1\" /><path clip-path=\"url(#clip380)\" d=\"M1414.71 1412.25 Q1414.3 1412.97 1414.11 1413.82 Q1413.9 1414.66 1413.9 1415.67 Q1413.9 1419.29 1416.26 1421.23 Q1418.6 1423.15 1423 1423.15 L1436.66 1423.15 L1436.66 1427.43 L1410.73 1427.43 L1410.73 1423.15 L1414.76 1423.15 Q1412.4 1421.81 1411.26 1419.66 Q1410.11 1417.5 1410.11 1414.42 Q1410.11 1413.98 1410.18 1413.45 Q1410.22 1412.92 1410.34 1412.27 L1414.71 1412.25 Z\" fill=\"#000000\" fill-rule=\"evenodd\" fill-opacity=\"1\" /><path clip-path=\"url(#clip380)\" d=\"M1414.67 1391.55 L1400.64 1391.55 L1400.64 1387.3 L1436.66 1387.3 L1436.66 1391.55 L1432.77 1391.55 Q1435.08 1392.9 1436.22 1394.96 Q1437.33 1396.99 1437.33 1399.86 Q1437.33 1404.56 1433.58 1407.53 Q1429.83 1410.47 1423.72 1410.47 Q1417.61 1410.47 1413.86 1407.53 Q1410.11 1404.56 1410.11 1399.86 Q1410.11 1396.99 1411.24 1394.96 Q1412.35 1392.9 1414.67 1391.55 M1423.72 1406.07 Q1428.42 1406.07 1431.1 1404.15 Q1433.76 1402.2 1433.76 1398.82 Q1433.76 1395.44 1431.1 1393.5 Q1428.42 1391.55 1423.72 1391.55 Q1419.02 1391.55 1416.36 1393.5 Q1413.67 1395.44 1413.67 1398.82 Q1413.67 1402.2 1416.36 1404.15 Q1419.02 1406.07 1423.72 1406.07 Z\" fill=\"#000000\" fill-rule=\"evenodd\" fill-opacity=\"1\" /><path clip-path=\"url(#clip380)\" d=\"M1422.63 1356.35 L1424.71 1356.35 L1424.71 1375.93 Q1429.11 1375.65 1431.43 1373.29 Q1433.72 1370.91 1433.72 1366.67 Q1433.72 1364.22 1433.12 1361.93 Q1432.51 1359.61 1431.31 1357.34 L1435.34 1357.34 Q1436.31 1359.63 1436.82 1362.04 Q1437.33 1364.45 1437.33 1366.92 Q1437.33 1373.13 1433.72 1376.76 Q1430.11 1380.37 1423.95 1380.37 Q1417.58 1380.37 1413.86 1376.95 Q1410.11 1373.5 1410.11 1367.67 Q1410.11 1362.43 1413.49 1359.4 Q1416.84 1356.35 1422.63 1356.35 M1421.38 1360.61 Q1417.88 1360.65 1415.8 1362.57 Q1413.72 1364.47 1413.72 1367.62 Q1413.72 1371.18 1415.73 1373.34 Q1417.75 1375.47 1421.4 1375.79 L1421.38 1360.61 Z\" fill=\"#000000\" fill-rule=\"evenodd\" fill-opacity=\"1\" /><path clip-path=\"url(#clip380)\" d=\"M1421.01 1327.8 L1436.66 1327.8 L1436.66 1332.06 L1421.15 1332.06 Q1417.47 1332.06 1415.64 1333.5 Q1413.81 1334.93 1413.81 1337.8 Q1413.81 1341.25 1416.01 1343.24 Q1418.21 1345.24 1422 1345.24 L1436.66 1345.24 L1436.66 1349.52 L1410.73 1349.52 L1410.73 1345.24 L1414.76 1345.24 Q1412.42 1343.71 1411.26 1341.65 Q1410.11 1339.56 1410.11 1336.86 Q1410.11 1332.39 1412.88 1330.1 Q1415.64 1327.8 1421.01 1327.8 Z\" fill=\"#000000\" fill-rule=\"evenodd\" fill-opacity=\"1\" /><path clip-path=\"url(#clip380)\" d=\"M1423.63 1307.53 Q1423.63 1312.69 1424.81 1314.68 Q1425.99 1316.67 1428.83 1316.67 Q1431.1 1316.67 1432.44 1315.19 Q1433.76 1313.68 1433.76 1311.12 Q1433.76 1307.57 1431.26 1305.44 Q1428.74 1303.29 1424.57 1303.29 L1423.63 1303.29 L1423.63 1307.53 M1421.87 1299.03 L1436.66 1299.03 L1436.66 1303.29 L1432.72 1303.29 Q1435.08 1304.75 1436.22 1306.93 Q1437.33 1309.1 1437.33 1312.25 Q1437.33 1316.23 1435.11 1318.59 Q1432.86 1320.93 1429.11 1320.93 Q1424.74 1320.93 1422.51 1318.01 Q1420.29 1315.07 1420.29 1309.26 L1420.29 1303.29 L1419.88 1303.29 Q1416.94 1303.29 1415.34 1305.24 Q1413.72 1307.16 1413.72 1310.65 Q1413.72 1312.87 1414.25 1314.98 Q1414.78 1317.09 1415.85 1319.03 L1411.91 1319.03 Q1411.01 1316.69 1410.57 1314.49 Q1410.11 1312.3 1410.11 1310.21 Q1410.11 1304.59 1413.02 1301.81 Q1415.94 1299.03 1421.87 1299.03 Z\" fill=\"#000000\" fill-rule=\"evenodd\" fill-opacity=\"1\" /><path clip-path=\"url(#clip380)\" d=\"M1411.5 1273.73 L1415.52 1273.73 Q1414.6 1275.54 1414.13 1277.48 Q1413.67 1279.43 1413.67 1281.51 Q1413.67 1284.68 1414.64 1286.28 Q1415.62 1287.85 1417.56 1287.85 Q1419.04 1287.85 1419.9 1286.72 Q1420.73 1285.58 1421.5 1282.16 L1421.82 1280.7 Q1422.79 1276.16 1424.57 1274.26 Q1426.33 1272.34 1429.5 1272.34 Q1433.12 1272.34 1435.22 1275.21 Q1437.33 1278.06 1437.33 1283.06 Q1437.33 1285.14 1436.91 1287.41 Q1436.52 1289.66 1435.71 1292.16 L1431.31 1292.16 Q1432.54 1289.8 1433.16 1287.5 Q1433.76 1285.21 1433.76 1282.97 Q1433.76 1279.96 1432.75 1278.34 Q1431.7 1276.72 1429.83 1276.72 Q1428.09 1276.72 1427.17 1277.9 Q1426.24 1279.06 1425.38 1283.01 L1425.04 1284.49 Q1424.2 1288.45 1422.49 1290.21 Q1420.75 1291.97 1417.75 1291.97 Q1414.09 1291.97 1412.1 1289.38 Q1410.11 1286.79 1410.11 1282.02 Q1410.11 1279.66 1410.45 1277.57 Q1410.8 1275.49 1411.5 1273.73 Z\" fill=\"#000000\" fill-rule=\"evenodd\" fill-opacity=\"1\" /><path clip-path=\"url(#clip380)\" d=\"M1411.73 1246.9 L1415.71 1246.9 Q1414.71 1248.71 1414.23 1250.54 Q1413.72 1252.34 1413.72 1254.19 Q1413.72 1258.34 1416.36 1260.63 Q1418.97 1262.92 1423.72 1262.92 Q1428.46 1262.92 1431.1 1260.63 Q1433.72 1258.34 1433.72 1254.19 Q1433.72 1252.34 1433.23 1250.54 Q1432.72 1248.71 1431.73 1246.9 L1435.66 1246.9 Q1436.5 1248.68 1436.91 1250.61 Q1437.33 1252.5 1437.33 1254.66 Q1437.33 1260.51 1433.65 1263.96 Q1429.97 1267.41 1423.72 1267.41 Q1417.38 1267.41 1413.74 1263.94 Q1410.11 1260.44 1410.11 1254.38 Q1410.11 1252.41 1410.52 1250.54 Q1410.92 1248.66 1411.73 1246.9 Z\" fill=\"#000000\" fill-rule=\"evenodd\" fill-opacity=\"1\" /><path clip-path=\"url(#clip380)\" d=\"M1432.72 1238.08 L1432.72 1230.44 L1406.36 1230.44 L1408.02 1238.75 L1403.76 1238.75 L1402.1 1230.49 L1402.1 1225.81 L1432.72 1225.81 L1432.72 1218.18 L1436.66 1218.18 L1436.66 1238.08 L1432.72 1238.08 Z\" fill=\"#000000\" fill-rule=\"evenodd\" fill-opacity=\"1\" /><path clip-path=\"url(#clip380)\" d=\"M1525.28 1394.75 L1511.25 1394.75 L1511.25 1390.49 L1547.27 1390.49 L1547.27 1394.75 L1543.38 1394.75 Q1545.7 1396.09 1546.83 1398.15 Q1547.94 1400.19 1547.94 1403.06 Q1547.94 1407.76 1544.19 1410.72 Q1540.44 1413.66 1534.33 1413.66 Q1528.22 1413.66 1524.47 1410.72 Q1520.72 1407.76 1520.72 1403.06 Q1520.72 1400.19 1521.85 1398.15 Q1522.97 1396.09 1525.28 1394.75 M1534.33 1409.26 Q1539.03 1409.26 1541.71 1407.34 Q1544.38 1405.4 1544.38 1402.02 Q1544.38 1398.64 1541.71 1396.69 Q1539.03 1394.75 1534.33 1394.75 Q1529.63 1394.75 1526.97 1396.69 Q1524.28 1398.64 1524.28 1402.02 Q1524.28 1405.4 1526.97 1407.34 Q1529.63 1409.26 1534.33 1409.26 Z\" fill=\"#000000\" fill-rule=\"evenodd\" fill-opacity=\"1\" /><path clip-path=\"url(#clip380)\" d=\"M1541.39 1381.11 L1541.39 1376.23 L1547.27 1376.23 L1547.27 1381.11 L1541.39 1381.11 Z\" fill=\"#000000\" fill-rule=\"evenodd\" fill-opacity=\"1\" /><path clip-path=\"url(#clip380)\" d=\"M1522.34 1347.99 L1526.32 1347.99 Q1525.33 1349.8 1524.84 1351.62 Q1524.33 1353.43 1524.33 1355.28 Q1524.33 1359.43 1526.97 1361.72 Q1529.59 1364.01 1534.33 1364.01 Q1539.08 1364.01 1541.71 1361.72 Q1544.33 1359.43 1544.33 1355.28 Q1544.33 1353.43 1543.84 1351.62 Q1543.34 1349.8 1542.34 1347.99 L1546.28 1347.99 Q1547.11 1349.77 1547.53 1351.69 Q1547.94 1353.59 1547.94 1355.74 Q1547.94 1361.6 1544.26 1365.05 Q1540.58 1368.5 1534.33 1368.5 Q1527.99 1368.5 1524.35 1365.03 Q1520.72 1361.53 1520.72 1355.47 Q1520.72 1353.5 1521.14 1351.62 Q1521.53 1349.75 1522.34 1347.99 Z\" fill=\"#000000\" fill-rule=\"evenodd\" fill-opacity=\"1\" /><path clip-path=\"url(#clip380)\" d=\"M1534.24 1328.8 Q1534.24 1333.96 1535.42 1335.95 Q1536.6 1337.94 1539.45 1337.94 Q1541.71 1337.94 1543.06 1336.46 Q1544.38 1334.96 1544.38 1332.39 Q1544.38 1328.85 1541.88 1326.72 Q1539.35 1324.56 1535.19 1324.56 L1534.24 1324.56 L1534.24 1328.8 M1532.48 1320.3 L1547.27 1320.3 L1547.27 1324.56 L1543.34 1324.56 Q1545.7 1326.02 1546.83 1328.2 Q1547.94 1330.37 1547.94 1333.52 Q1547.94 1337.5 1545.72 1339.86 Q1543.47 1342.2 1539.72 1342.2 Q1535.35 1342.2 1533.13 1339.29 Q1530.9 1336.35 1530.9 1330.54 L1530.9 1324.56 L1530.49 1324.56 Q1527.55 1324.56 1525.95 1326.51 Q1524.33 1328.43 1524.33 1331.93 Q1524.33 1334.15 1524.86 1336.25 Q1525.4 1338.36 1526.46 1340.3 L1522.53 1340.3 Q1521.62 1337.97 1521.18 1335.77 Q1520.72 1333.57 1520.72 1331.49 Q1520.72 1325.86 1523.64 1323.08 Q1526.55 1320.3 1532.48 1320.3 Z\" fill=\"#000000\" fill-rule=\"evenodd\" fill-opacity=\"1\" /><path clip-path=\"url(#clip380)\" d=\"M1531.62 1289.98 L1547.27 1289.98 L1547.27 1294.24 L1531.76 1294.24 Q1528.08 1294.24 1526.25 1295.68 Q1524.42 1297.11 1524.42 1299.98 Q1524.42 1303.43 1526.62 1305.42 Q1528.82 1307.41 1532.62 1307.41 L1547.27 1307.41 L1547.27 1311.69 L1521.34 1311.69 L1521.34 1307.41 L1525.37 1307.41 Q1523.03 1305.88 1521.88 1303.82 Q1520.72 1301.74 1520.72 1299.03 Q1520.72 1294.56 1523.5 1292.27 Q1526.25 1289.98 1531.62 1289.98 Z\" fill=\"#000000\" fill-rule=\"evenodd\" fill-opacity=\"1\" /><path clip-path=\"url(#clip380)\" d=\"M1524.33 1271.44 Q1524.33 1274.87 1527.02 1276.86 Q1529.68 1278.85 1534.33 1278.85 Q1538.98 1278.85 1541.67 1276.88 Q1544.33 1274.89 1544.33 1271.44 Q1544.33 1268.04 1541.65 1266.05 Q1538.96 1264.06 1534.33 1264.06 Q1529.72 1264.06 1527.04 1266.05 Q1524.33 1268.04 1524.33 1271.44 M1520.72 1271.44 Q1520.72 1265.88 1524.33 1262.71 Q1527.94 1259.54 1534.33 1259.54 Q1540.7 1259.54 1544.33 1262.71 Q1547.94 1265.88 1547.94 1271.44 Q1547.94 1277.02 1544.33 1280.19 Q1540.7 1283.34 1534.33 1283.34 Q1527.94 1283.34 1524.33 1280.19 Q1520.72 1277.02 1520.72 1271.44 Z\" fill=\"#000000\" fill-rule=\"evenodd\" fill-opacity=\"1\" /><path clip-path=\"url(#clip380)\" d=\"M1531.62 1230.93 L1547.27 1230.93 L1547.27 1235.19 L1531.76 1235.19 Q1528.08 1235.19 1526.25 1236.62 Q1524.42 1238.06 1524.42 1240.93 Q1524.42 1244.38 1526.62 1246.37 Q1528.82 1248.36 1532.62 1248.36 L1547.27 1248.36 L1547.27 1252.64 L1521.34 1252.64 L1521.34 1248.36 L1525.37 1248.36 Q1523.03 1246.83 1521.88 1244.77 Q1520.72 1242.69 1520.72 1239.98 Q1520.72 1235.51 1523.5 1233.22 Q1526.25 1230.93 1531.62 1230.93 Z\" fill=\"#000000\" fill-rule=\"evenodd\" fill-opacity=\"1\" /><path clip-path=\"url(#clip380)\" d=\"M1511.25 1222.44 L1511.25 1218.18 L1547.27 1218.18 L1547.27 1222.44 L1511.25 1222.44 Z\" fill=\"#000000\" fill-rule=\"evenodd\" fill-opacity=\"1\" /><path clip-path=\"url(#clip380)\" d=\"M1635.89 1538.96 L1621.87 1538.96 L1621.87 1534.7 L1657.88 1534.7 L1657.88 1538.96 L1653.99 1538.96 Q1656.31 1540.3 1657.44 1542.36 Q1658.55 1544.4 1658.55 1547.27 Q1658.55 1551.97 1654.8 1554.93 Q1651.05 1557.87 1644.94 1557.87 Q1638.83 1557.87 1635.08 1554.93 Q1631.33 1551.97 1631.33 1547.27 Q1631.33 1544.4 1632.47 1542.36 Q1633.58 1540.3 1635.89 1538.96 M1644.94 1553.47 Q1649.64 1553.47 1652.33 1551.55 Q1654.99 1549.61 1654.99 1546.23 Q1654.99 1542.85 1652.33 1540.91 Q1649.64 1538.96 1644.94 1538.96 Q1640.24 1538.96 1637.58 1540.91 Q1634.9 1542.85 1634.9 1546.23 Q1634.9 1549.61 1637.58 1551.55 Q1640.24 1553.47 1644.94 1553.47 Z\" fill=\"#000000\" fill-rule=\"evenodd\" fill-opacity=\"1\" /><path clip-path=\"url(#clip380)\" d=\"M1644.85 1514.15 Q1644.85 1519.31 1646.03 1521.3 Q1647.21 1523.29 1650.06 1523.29 Q1652.33 1523.29 1653.67 1521.81 Q1654.99 1520.3 1654.99 1517.73 Q1654.99 1514.19 1652.49 1512.06 Q1649.97 1509.91 1645.8 1509.91 L1644.85 1509.91 L1644.85 1514.15 M1643.09 1505.65 L1657.88 1505.65 L1657.88 1509.91 L1653.95 1509.91 Q1656.31 1511.37 1657.44 1513.54 Q1658.55 1515.72 1658.55 1518.87 Q1658.55 1522.85 1656.33 1525.21 Q1654.09 1527.55 1650.34 1527.55 Q1645.96 1527.55 1643.74 1524.63 Q1641.52 1521.69 1641.52 1515.88 L1641.52 1509.91 L1641.1 1509.91 Q1638.16 1509.91 1636.56 1511.85 Q1634.94 1513.78 1634.94 1517.27 Q1634.94 1519.49 1635.48 1521.6 Q1636.01 1523.71 1637.07 1525.65 L1633.14 1525.65 Q1632.24 1523.31 1631.8 1521.11 Q1631.33 1518.91 1631.33 1516.83 Q1631.33 1511.21 1634.25 1508.43 Q1637.17 1505.65 1643.09 1505.65 Z\" fill=\"#000000\" fill-rule=\"evenodd\" fill-opacity=\"1\" /><path clip-path=\"url(#clip380)\" d=\"M1652 1496.28 L1652 1491.39 L1657.88 1491.39 L1657.88 1496.28 L1652 1496.28 Z\" fill=\"#000000\" fill-rule=\"evenodd\" fill-opacity=\"1\" /><path clip-path=\"url(#clip380)\" d=\"M1644.62 1464.75 Q1639.99 1464.75 1637.44 1466.67 Q1634.9 1468.57 1634.9 1472.02 Q1634.9 1475.44 1637.44 1477.36 Q1639.99 1479.26 1644.62 1479.26 Q1649.23 1479.26 1651.77 1477.36 Q1654.32 1475.44 1654.32 1472.02 Q1654.32 1468.57 1651.77 1466.67 Q1649.23 1464.75 1644.62 1464.75 M1654.67 1460.49 Q1661.29 1460.49 1664.5 1463.43 Q1667.74 1466.37 1667.74 1472.43 Q1667.74 1474.68 1667.4 1476.67 Q1667.07 1478.66 1666.38 1480.54 L1662.24 1480.54 Q1663.25 1478.66 1663.74 1476.83 Q1664.23 1475 1664.23 1473.1 Q1664.23 1468.92 1662.03 1466.83 Q1659.85 1464.75 1655.43 1464.75 L1653.32 1464.75 Q1655.61 1466.07 1656.75 1468.13 Q1657.88 1470.19 1657.88 1473.06 Q1657.88 1477.83 1654.25 1480.74 Q1650.61 1483.66 1644.62 1483.66 Q1638.6 1483.66 1634.97 1480.74 Q1631.33 1477.83 1631.33 1473.06 Q1631.33 1470.19 1632.47 1468.13 Q1633.6 1466.07 1635.89 1464.75 L1631.96 1464.75 L1631.96 1460.49 L1654.67 1460.49 Z\" fill=\"#000000\" fill-rule=\"evenodd\" fill-opacity=\"1\" /><path clip-path=\"url(#clip380)\" d=\"M1647.65 1452.16 L1631.96 1452.16 L1631.96 1447.9 L1647.49 1447.9 Q1651.17 1447.9 1653.02 1446.46 Q1654.85 1445.03 1654.85 1442.16 Q1654.85 1438.71 1652.65 1436.72 Q1650.45 1434.7 1646.66 1434.7 L1631.96 1434.7 L1631.96 1430.44 L1657.88 1430.44 L1657.88 1434.7 L1653.9 1434.7 Q1656.26 1436.25 1657.42 1438.31 Q1658.55 1440.35 1658.55 1443.06 Q1658.55 1447.53 1655.78 1449.84 Q1653 1452.16 1647.65 1452.16 M1631.33 1441.44 L1631.33 1441.44 Z\" fill=\"#000000\" fill-rule=\"evenodd\" fill-opacity=\"1\" /><path clip-path=\"url(#clip380)\" d=\"M1624.6 1417.46 L1631.96 1417.46 L1631.96 1408.68 L1635.27 1408.68 L1635.27 1417.46 L1649.34 1417.46 Q1652.51 1417.46 1653.42 1416.6 Q1654.32 1415.72 1654.32 1413.06 L1654.32 1408.68 L1657.88 1408.68 L1657.88 1413.06 Q1657.88 1417.99 1656.05 1419.86 Q1654.2 1421.74 1649.34 1421.74 L1635.27 1421.74 L1635.27 1424.86 L1631.96 1424.86 L1631.96 1421.74 L1624.6 1421.74 L1624.6 1417.46 Z\" fill=\"#000000\" fill-rule=\"evenodd\" fill-opacity=\"1\" /><path clip-path=\"url(#clip380)\" d=\"M1631.96 1403.08 L1631.96 1398.82 L1657.88 1398.82 L1657.88 1403.08 L1631.96 1403.08 M1621.87 1403.08 L1621.87 1398.82 L1627.26 1398.82 L1627.26 1403.08 L1621.87 1403.08 Z\" fill=\"#000000\" fill-rule=\"evenodd\" fill-opacity=\"1\" /><path clip-path=\"url(#clip380)\" d=\"M1643.86 1367.74 L1645.94 1367.74 L1645.94 1387.32 Q1650.34 1387.04 1652.65 1384.68 Q1654.94 1382.3 1654.94 1378.06 Q1654.94 1375.61 1654.34 1373.31 Q1653.74 1371 1652.54 1368.73 L1656.56 1368.73 Q1657.54 1371.02 1658.05 1373.43 Q1658.55 1375.84 1658.55 1378.31 Q1658.55 1384.52 1654.94 1388.15 Q1651.33 1391.76 1645.18 1391.76 Q1638.81 1391.76 1635.08 1388.34 Q1631.33 1384.89 1631.33 1379.05 Q1631.33 1373.82 1634.71 1370.79 Q1638.07 1367.74 1643.86 1367.74 M1642.61 1371.99 Q1639.11 1372.04 1637.03 1373.96 Q1634.94 1375.86 1634.94 1379.01 Q1634.94 1382.57 1636.96 1384.73 Q1638.97 1386.86 1642.63 1387.18 L1642.61 1371.99 Z\" fill=\"#000000\" fill-rule=\"evenodd\" fill-opacity=\"1\" /><path clip-path=\"url(#clip380)\" d=\"M1635.94 1345.72 Q1635.52 1346.44 1635.34 1347.3 Q1635.13 1348.13 1635.13 1349.15 Q1635.13 1352.76 1637.49 1354.7 Q1639.83 1356.62 1644.23 1356.62 L1657.88 1356.62 L1657.88 1360.91 L1631.96 1360.91 L1631.96 1356.62 L1635.99 1356.62 Q1633.62 1355.28 1632.49 1353.13 Q1631.33 1350.98 1631.33 1347.9 Q1631.33 1347.46 1631.4 1346.93 Q1631.45 1346.39 1631.56 1345.74 L1635.94 1345.72 Z\" fill=\"#000000\" fill-rule=\"evenodd\" fill-opacity=\"1\" /><path clip-path=\"url(#clip380)\" d=\"M1635.94 1327.06 Q1635.52 1327.78 1635.34 1328.64 Q1635.13 1329.47 1635.13 1330.49 Q1635.13 1334.1 1637.49 1336.05 Q1639.83 1337.97 1644.23 1337.97 L1657.88 1337.97 L1657.88 1342.25 L1631.96 1342.25 L1631.96 1337.97 L1635.99 1337.97 Q1633.62 1336.62 1632.49 1334.47 Q1631.33 1332.32 1631.33 1329.24 Q1631.33 1328.8 1631.4 1328.27 Q1631.45 1327.74 1631.56 1327.09 L1635.94 1327.06 Z\" fill=\"#000000\" fill-rule=\"evenodd\" fill-opacity=\"1\" /><path clip-path=\"url(#clip380)\" d=\"M1643.86 1301.46 L1645.94 1301.46 L1645.94 1321.05 Q1650.34 1320.77 1652.65 1318.41 Q1654.94 1316.02 1654.94 1311.79 Q1654.94 1309.33 1654.34 1307.04 Q1653.74 1304.73 1652.54 1302.46 L1656.56 1302.46 Q1657.54 1304.75 1658.05 1307.16 Q1658.55 1309.56 1658.55 1312.04 Q1658.55 1318.24 1654.94 1321.88 Q1651.33 1325.49 1645.18 1325.49 Q1638.81 1325.49 1635.08 1322.06 Q1631.33 1318.62 1631.33 1312.78 Q1631.33 1307.55 1634.71 1304.52 Q1638.07 1301.46 1643.86 1301.46 M1642.61 1305.72 Q1639.11 1305.77 1637.03 1307.69 Q1634.94 1309.59 1634.94 1312.74 Q1634.94 1316.3 1636.96 1318.45 Q1638.97 1320.58 1642.63 1320.91 L1642.61 1305.72 Z\" fill=\"#000000\" fill-rule=\"evenodd\" fill-opacity=\"1\" /><path clip-path=\"url(#clip380)\" d=\"M1631.96 1296.32 L1631.96 1276.09 L1635.85 1276.09 L1654.48 1292.11 L1654.48 1276.09 L1657.88 1276.09 L1657.88 1296.9 L1653.99 1296.9 L1635.36 1280.88 L1635.36 1296.32 L1631.96 1296.32 Z\" fill=\"#000000\" fill-rule=\"evenodd\" fill-opacity=\"1\" /><path clip-path=\"url(#clip380)\" d=\"M1644.62 1252.53 Q1639.99 1252.53 1637.44 1254.45 Q1634.9 1256.35 1634.9 1259.8 Q1634.9 1263.22 1637.44 1265.14 Q1639.99 1267.04 1644.62 1267.04 Q1649.23 1267.04 1651.77 1265.14 Q1654.32 1263.22 1654.32 1259.8 Q1654.32 1256.35 1651.77 1254.45 Q1649.23 1252.53 1644.62 1252.53 M1654.67 1248.27 Q1661.29 1248.27 1664.5 1251.21 Q1667.74 1254.15 1667.74 1260.21 Q1667.74 1262.46 1667.4 1264.45 Q1667.07 1266.44 1666.38 1268.31 L1662.24 1268.31 Q1663.25 1266.44 1663.74 1264.61 Q1664.23 1262.78 1664.23 1260.88 Q1664.23 1256.69 1662.03 1254.61 Q1659.85 1252.53 1655.43 1252.53 L1653.32 1252.53 Q1655.61 1253.85 1656.75 1255.91 Q1657.88 1257.97 1657.88 1260.84 Q1657.88 1265.61 1654.25 1268.52 Q1650.61 1271.44 1644.62 1271.44 Q1638.6 1271.44 1634.97 1268.52 Q1631.33 1265.61 1631.33 1260.84 Q1631.33 1257.97 1632.47 1255.91 Q1633.6 1253.85 1635.89 1252.53 L1631.96 1252.53 L1631.96 1248.27 L1654.67 1248.27 Z\" fill=\"#000000\" fill-rule=\"evenodd\" fill-opacity=\"1\" /><path clip-path=\"url(#clip380)\" d=\"M1653.95 1238.08 L1653.95 1230.44 L1627.58 1230.44 L1629.25 1238.75 L1624.99 1238.75 L1623.32 1230.49 L1623.32 1225.81 L1653.95 1225.81 L1653.95 1218.18 L1657.88 1218.18 L1657.88 1238.08 L1653.95 1238.08 Z\" fill=\"#000000\" fill-rule=\"evenodd\" fill-opacity=\"1\" /><path clip-path=\"url(#clip380)\" d=\"M1732.48 1425.67 L1732.48 1421.39 L1753.75 1421.39 L1742.57 1408.68 L1742.57 1403.24 L1754.7 1416.99 L1768.5 1402.67 L1768.5 1408.22 L1755.83 1421.39 L1768.5 1421.39 L1768.5 1425.67 L1732.48 1425.67 Z\" fill=\"#000000\" fill-rule=\"evenodd\" fill-opacity=\"1\" /><path clip-path=\"url(#clip380)\" d=\"M1762.62 1397.46 L1762.62 1392.57 L1768.5 1392.57 L1768.5 1397.46 L1762.62 1397.46 Z\" fill=\"#000000\" fill-rule=\"evenodd\" fill-opacity=\"1\" /><path clip-path=\"url(#clip380)\" d=\"M1764.61 1378.87 L1778.36 1378.87 L1778.36 1383.15 L1742.57 1383.15 L1742.57 1378.87 L1746.51 1378.87 Q1744.19 1377.53 1743.08 1375.49 Q1741.95 1373.43 1741.95 1370.58 Q1741.95 1365.86 1745.7 1362.92 Q1749.45 1359.96 1755.56 1359.96 Q1761.67 1359.96 1765.42 1362.92 Q1769.17 1365.86 1769.17 1370.58 Q1769.17 1373.43 1768.06 1375.49 Q1766.92 1377.53 1764.61 1378.87 M1755.56 1364.38 Q1750.86 1364.38 1748.2 1366.32 Q1745.51 1368.24 1745.51 1371.62 Q1745.51 1375 1748.2 1376.95 Q1750.86 1378.87 1755.56 1378.87 Q1760.26 1378.87 1762.94 1376.95 Q1765.6 1375 1765.6 1371.62 Q1765.6 1368.24 1762.94 1366.32 Q1760.26 1364.38 1755.56 1364.38 Z\" fill=\"#000000\" fill-rule=\"evenodd\" fill-opacity=\"1\" /><path clip-path=\"url(#clip380)\" d=\"M1745.56 1342.85 Q1745.56 1346.28 1748.24 1348.27 Q1750.9 1350.26 1755.56 1350.26 Q1760.21 1350.26 1762.89 1348.29 Q1765.56 1346.3 1765.56 1342.85 Q1765.56 1339.45 1762.87 1337.46 Q1760.19 1335.47 1755.56 1335.47 Q1750.95 1335.47 1748.26 1337.46 Q1745.56 1339.45 1745.56 1342.85 M1741.95 1342.85 Q1741.95 1337.3 1745.56 1334.12 Q1749.17 1330.95 1755.56 1330.95 Q1761.92 1330.95 1765.56 1334.12 Q1769.17 1337.3 1769.17 1342.85 Q1769.17 1348.43 1765.56 1351.6 Q1761.92 1354.75 1755.56 1354.75 Q1749.17 1354.75 1745.56 1351.6 Q1741.95 1348.43 1741.95 1342.85 Z\" fill=\"#000000\" fill-rule=\"evenodd\" fill-opacity=\"1\" /><path clip-path=\"url(#clip380)\" d=\"M1732.48 1323.89 L1732.48 1319.63 L1768.5 1319.63 L1768.5 1323.89 L1732.48 1323.89 Z\" fill=\"#000000\" fill-rule=\"evenodd\" fill-opacity=\"1\" /><path clip-path=\"url(#clip380)\" d=\"M1755.46 1298.94 Q1755.46 1304.1 1756.64 1306.09 Q1757.83 1308.08 1760.67 1308.08 Q1762.94 1308.08 1764.28 1306.6 Q1765.6 1305.1 1765.6 1302.53 Q1765.6 1298.99 1763.1 1296.86 Q1760.58 1294.7 1756.41 1294.7 L1755.46 1294.7 L1755.46 1298.94 M1753.7 1290.44 L1768.5 1290.44 L1768.5 1294.7 L1764.56 1294.7 Q1766.92 1296.16 1768.06 1298.34 Q1769.17 1300.51 1769.17 1303.66 Q1769.17 1307.64 1766.95 1310 Q1764.7 1312.34 1760.95 1312.34 Q1756.58 1312.34 1754.35 1309.43 Q1752.13 1306.49 1752.13 1300.68 L1752.13 1294.7 L1751.71 1294.7 Q1748.77 1294.7 1747.18 1296.65 Q1745.56 1298.57 1745.56 1302.06 Q1745.56 1304.29 1746.09 1306.39 Q1746.62 1308.5 1747.69 1310.44 L1743.75 1310.44 Q1742.85 1308.11 1742.41 1305.91 Q1741.95 1303.71 1741.95 1301.62 Q1741.95 1296 1744.86 1293.22 Q1747.78 1290.44 1753.7 1290.44 Z\" fill=\"#000000\" fill-rule=\"evenodd\" fill-opacity=\"1\" /><path clip-path=\"url(#clip380)\" d=\"M1752.85 1260.12 L1768.5 1260.12 L1768.5 1264.38 L1752.99 1264.38 Q1749.31 1264.38 1747.48 1265.81 Q1745.65 1267.25 1745.65 1270.12 Q1745.65 1273.57 1747.85 1275.56 Q1750.05 1277.55 1753.84 1277.55 L1768.5 1277.55 L1768.5 1281.83 L1742.57 1281.83 L1742.57 1277.55 L1746.6 1277.55 Q1744.26 1276.02 1743.1 1273.96 Q1741.95 1271.88 1741.95 1269.17 Q1741.95 1264.7 1744.72 1262.41 Q1747.48 1260.12 1752.85 1260.12 Z\" fill=\"#000000\" fill-rule=\"evenodd\" fill-opacity=\"1\" /><path clip-path=\"url(#clip380)\" d=\"M1742.57 1251.62 L1742.57 1247.37 L1768.5 1247.37 L1768.5 1251.62 L1742.57 1251.62 M1732.48 1251.62 L1732.48 1247.37 L1737.87 1247.37 L1737.87 1251.62 L1732.48 1251.62 Z\" fill=\"#000000\" fill-rule=\"evenodd\" fill-opacity=\"1\" /><path clip-path=\"url(#clip380)\" d=\"M1755.46 1226.67 Q1755.46 1231.83 1756.64 1233.82 Q1757.83 1235.81 1760.67 1235.81 Q1762.94 1235.81 1764.28 1234.33 Q1765.6 1232.83 1765.6 1230.26 Q1765.6 1226.72 1763.1 1224.59 Q1760.58 1222.44 1756.41 1222.44 L1755.46 1222.44 L1755.46 1226.67 M1753.7 1218.18 L1768.5 1218.18 L1768.5 1222.44 L1764.56 1222.44 Q1766.92 1223.89 1768.06 1226.07 Q1769.17 1228.25 1769.17 1231.39 Q1769.17 1235.37 1766.95 1237.74 Q1764.7 1240.07 1760.95 1240.07 Q1756.58 1240.07 1754.35 1237.16 Q1752.13 1234.22 1752.13 1228.41 L1752.13 1222.44 L1751.71 1222.44 Q1748.77 1222.44 1747.18 1224.38 Q1745.56 1226.3 1745.56 1229.8 Q1745.56 1232.02 1746.09 1234.12 Q1746.62 1236.23 1747.69 1238.18 L1743.75 1238.18 Q1742.85 1235.84 1742.41 1233.64 Q1741.95 1231.44 1741.95 1229.36 Q1741.95 1223.73 1744.86 1220.95 Q1747.78 1218.18 1753.7 1218.18 Z\" fill=\"#000000\" fill-rule=\"evenodd\" fill-opacity=\"1\" /><path clip-path=\"url(#clip380)\" d=\"M1853.18 1464.15 L1853.18 1459.89 L1879.57 1459.89 Q1884.53 1459.89 1886.75 1461.79 Q1888.97 1463.66 1888.97 1467.85 L1888.97 1469.47 L1885.36 1469.47 L1885.36 1468.34 Q1885.36 1465.91 1884.22 1465.03 Q1883.11 1464.15 1879.57 1464.15 L1853.18 1464.15 M1843.09 1464.15 L1843.09 1459.89 L1848.48 1459.89 L1848.48 1464.15 L1843.09 1464.15 Z\" fill=\"#000000\" fill-rule=\"evenodd\" fill-opacity=\"1\" /><path clip-path=\"url(#clip380)\" d=\"M1858.16 1430.79 Q1855.29 1429.19 1853.92 1426.97 Q1852.56 1424.75 1852.56 1421.74 Q1852.56 1417.69 1855.41 1415.49 Q1858.23 1413.29 1863.46 1413.29 L1879.11 1413.29 L1879.11 1417.57 L1863.6 1417.57 Q1859.87 1417.57 1858.07 1418.89 Q1856.26 1420.21 1856.26 1422.92 Q1856.26 1426.23 1858.46 1428.15 Q1860.66 1430.07 1864.46 1430.07 L1879.11 1430.07 L1879.11 1434.36 L1863.6 1434.36 Q1859.85 1434.36 1858.07 1435.67 Q1856.26 1436.99 1856.26 1439.75 Q1856.26 1443.01 1858.48 1444.93 Q1860.68 1446.86 1864.46 1446.86 L1879.11 1446.86 L1879.11 1451.14 L1853.18 1451.14 L1853.18 1446.86 L1857.21 1446.86 Q1854.83 1445.4 1853.69 1443.36 Q1852.56 1441.32 1852.56 1438.52 Q1852.56 1435.7 1853.99 1433.73 Q1855.43 1431.74 1858.16 1430.79 Z\" fill=\"#000000\" fill-rule=\"evenodd\" fill-opacity=\"1\" /><path clip-path=\"url(#clip380)\" d=\"M1873.23 1404.19 L1873.23 1399.31 L1879.11 1399.31 L1879.11 1404.19 L1873.23 1404.19 Z\" fill=\"#000000\" fill-rule=\"evenodd\" fill-opacity=\"1\" /><path clip-path=\"url(#clip380)\" d=\"M1858.16 1369.54 Q1855.29 1367.94 1853.92 1365.72 Q1852.56 1363.5 1852.56 1360.49 Q1852.56 1356.44 1855.41 1354.24 Q1858.23 1352.04 1863.46 1352.04 L1879.11 1352.04 L1879.11 1356.32 L1863.6 1356.32 Q1859.87 1356.32 1858.07 1357.64 Q1856.26 1358.96 1856.26 1361.67 Q1856.26 1364.98 1858.46 1366.9 Q1860.66 1368.82 1864.46 1368.82 L1879.11 1368.82 L1879.11 1373.11 L1863.6 1373.11 Q1859.85 1373.11 1858.07 1374.42 Q1856.26 1375.74 1856.26 1378.5 Q1856.26 1381.76 1858.48 1383.68 Q1860.68 1385.61 1864.46 1385.61 L1879.11 1385.61 L1879.11 1389.89 L1853.18 1389.89 L1853.18 1385.61 L1857.21 1385.61 Q1854.83 1384.15 1853.69 1382.11 Q1852.56 1380.07 1852.56 1377.27 Q1852.56 1374.45 1853.99 1372.48 Q1855.43 1370.49 1858.16 1369.54 Z\" fill=\"#000000\" fill-rule=\"evenodd\" fill-opacity=\"1\" /><path clip-path=\"url(#clip380)\" d=\"M1865.08 1321.37 L1867.16 1321.37 L1867.16 1340.95 Q1871.56 1340.68 1873.88 1338.31 Q1876.17 1335.93 1876.17 1331.69 Q1876.17 1329.24 1875.57 1326.95 Q1874.97 1324.63 1873.76 1322.37 L1877.79 1322.37 Q1878.76 1324.66 1879.27 1327.06 Q1879.78 1329.47 1879.78 1331.95 Q1879.78 1338.15 1876.17 1341.79 Q1872.56 1345.4 1866.4 1345.4 Q1860.04 1345.4 1856.31 1341.97 Q1852.56 1338.52 1852.56 1332.69 Q1852.56 1327.46 1855.94 1324.43 Q1859.29 1321.37 1865.08 1321.37 M1863.83 1325.63 Q1860.34 1325.68 1858.25 1327.6 Q1856.17 1329.49 1856.17 1332.64 Q1856.17 1336.21 1858.18 1338.36 Q1860.2 1340.49 1863.85 1340.81 L1863.83 1325.63 Z\" fill=\"#000000\" fill-rule=\"evenodd\" fill-opacity=\"1\" /><path clip-path=\"url(#clip380)\" d=\"M1853.18 1314.38 L1853.18 1310.12 L1879.57 1310.12 Q1884.53 1310.12 1886.75 1312.02 Q1888.97 1313.89 1888.97 1318.08 L1888.97 1319.7 L1885.36 1319.7 L1885.36 1318.57 Q1885.36 1316.14 1884.22 1315.26 Q1883.11 1314.38 1879.57 1314.38 L1853.18 1314.38 M1843.09 1314.38 L1843.09 1310.12 L1848.48 1310.12 L1848.48 1314.38 L1843.09 1314.38 Z\" fill=\"#000000\" fill-rule=\"evenodd\" fill-opacity=\"1\" /><path clip-path=\"url(#clip380)\" d=\"M1853.18 1301.21 L1853.18 1296.95 L1879.11 1296.95 L1879.11 1301.21 L1853.18 1301.21 M1843.09 1301.21 L1843.09 1296.95 L1848.48 1296.95 L1848.48 1301.21 L1843.09 1301.21 Z\" fill=\"#000000\" fill-rule=\"evenodd\" fill-opacity=\"1\" /><path clip-path=\"url(#clip380)\" d=\"M1866.08 1276.25 Q1866.08 1281.42 1867.26 1283.41 Q1868.44 1285.4 1871.29 1285.4 Q1873.55 1285.4 1874.9 1283.92 Q1876.22 1282.41 1876.22 1279.84 Q1876.22 1276.3 1873.72 1274.17 Q1871.19 1272.02 1867.03 1272.02 L1866.08 1272.02 L1866.08 1276.25 M1864.32 1267.76 L1879.11 1267.76 L1879.11 1272.02 L1875.17 1272.02 Q1877.54 1273.48 1878.67 1275.65 Q1879.78 1277.83 1879.78 1280.98 Q1879.78 1284.96 1877.56 1287.32 Q1875.31 1289.66 1871.56 1289.66 Q1867.19 1289.66 1864.97 1286.74 Q1862.74 1283.8 1862.74 1277.99 L1862.74 1272.02 L1862.33 1272.02 Q1859.39 1272.02 1857.79 1273.96 Q1856.17 1275.88 1856.17 1279.38 Q1856.17 1281.6 1856.7 1283.71 Q1857.23 1285.81 1858.3 1287.76 L1854.36 1287.76 Q1853.46 1285.42 1853.02 1283.22 Q1852.56 1281.02 1852.56 1278.94 Q1852.56 1273.31 1855.48 1270.54 Q1858.39 1267.76 1864.32 1267.76 Z\" fill=\"#000000\" fill-rule=\"evenodd\" fill-opacity=\"1\" /><path clip-path=\"url(#clip380)\" d=\"M1857.16 1243.96 Q1856.75 1244.68 1856.56 1245.54 Q1856.35 1246.37 1856.35 1247.39 Q1856.35 1251 1858.72 1252.94 Q1861.05 1254.87 1865.45 1254.87 L1879.11 1254.87 L1879.11 1259.15 L1853.18 1259.15 L1853.18 1254.87 L1857.21 1254.87 Q1854.85 1253.52 1853.72 1251.37 Q1852.56 1249.22 1852.56 1246.14 Q1852.56 1245.7 1852.63 1245.17 Q1852.67 1244.63 1852.79 1243.99 L1857.16 1243.96 Z\" fill=\"#000000\" fill-rule=\"evenodd\" fill-opacity=\"1\" /><path clip-path=\"url(#clip380)\" d=\"M1875.17 1238.08 L1875.17 1230.44 L1848.81 1230.44 L1850.48 1238.75 L1846.22 1238.75 L1844.55 1230.49 L1844.55 1225.81 L1875.17 1225.81 L1875.17 1218.18 L1879.11 1218.18 L1879.11 1238.08 L1875.17 1238.08 Z\" fill=\"#000000\" fill-rule=\"evenodd\" fill-opacity=\"1\" /><path clip-path=\"url(#clip380)\" d=\"M1967.73 1389.12 L1953.7 1389.12 L1953.7 1384.86 L1989.72 1384.86 L1989.72 1389.12 L1985.83 1389.12 Q1988.15 1390.47 1989.28 1392.53 Q1990.39 1394.56 1990.39 1397.43 Q1990.39 1402.13 1986.64 1405.1 Q1982.89 1408.04 1976.78 1408.04 Q1970.67 1408.04 1966.92 1405.1 Q1963.17 1402.13 1963.17 1397.43 Q1963.17 1394.56 1964.31 1392.53 Q1965.42 1390.47 1967.73 1389.12 M1976.78 1403.64 Q1981.48 1403.64 1984.17 1401.72 Q1986.83 1399.77 1986.83 1396.39 Q1986.83 1393.01 1984.17 1391.07 Q1981.48 1389.12 1976.78 1389.12 Q1972.08 1389.12 1969.42 1391.07 Q1966.74 1393.01 1966.74 1396.39 Q1966.74 1399.77 1969.42 1401.72 Q1972.08 1403.64 1976.78 1403.64 Z\" fill=\"#000000\" fill-rule=\"evenodd\" fill-opacity=\"1\" /><path clip-path=\"url(#clip380)\" d=\"M1983.84 1375.49 L1983.84 1370.61 L1989.72 1370.61 L1989.72 1375.49 L1983.84 1375.49 Z\" fill=\"#000000\" fill-rule=\"evenodd\" fill-opacity=\"1\" /><path clip-path=\"url(#clip380)\" d=\"M1967.73 1343.96 L1953.7 1343.96 L1953.7 1339.7 L1989.72 1339.7 L1989.72 1343.96 L1985.83 1343.96 Q1988.15 1345.3 1989.28 1347.36 Q1990.39 1349.4 1990.39 1352.27 Q1990.39 1356.97 1986.64 1359.93 Q1982.89 1362.87 1976.78 1362.87 Q1970.67 1362.87 1966.92 1359.93 Q1963.17 1356.97 1963.17 1352.27 Q1963.17 1349.4 1964.31 1347.36 Q1965.42 1345.3 1967.73 1343.96 M1976.78 1358.48 Q1981.48 1358.48 1984.17 1356.55 Q1986.83 1354.61 1986.83 1351.23 Q1986.83 1347.85 1984.17 1345.91 Q1981.48 1343.96 1976.78 1343.96 Q1972.08 1343.96 1969.42 1345.91 Q1966.74 1347.85 1966.74 1351.23 Q1966.74 1354.61 1969.42 1356.55 Q1972.08 1358.48 1976.78 1358.48 Z\" fill=\"#000000\" fill-rule=\"evenodd\" fill-opacity=\"1\" /><path clip-path=\"url(#clip380)\" d=\"M1963.8 1330.93 L1963.8 1326.67 L1989.72 1326.67 L1989.72 1330.93 L1963.8 1330.93 M1953.7 1330.93 L1953.7 1326.67 L1959.1 1326.67 L1959.1 1330.93 L1953.7 1330.93 Z\" fill=\"#000000\" fill-rule=\"evenodd\" fill-opacity=\"1\" /><path clip-path=\"url(#clip380)\" d=\"M1976.69 1305.98 Q1976.69 1311.14 1977.87 1313.13 Q1979.05 1315.12 1981.9 1315.12 Q1984.17 1315.12 1985.51 1313.64 Q1986.83 1312.13 1986.83 1309.56 Q1986.83 1306.02 1984.33 1303.89 Q1981.81 1301.74 1977.64 1301.74 L1976.69 1301.74 L1976.69 1305.98 M1974.93 1297.48 L1989.72 1297.48 L1989.72 1301.74 L1985.79 1301.74 Q1988.15 1303.2 1989.28 1305.37 Q1990.39 1307.55 1990.39 1310.7 Q1990.39 1314.68 1988.17 1317.04 Q1985.93 1319.38 1982.18 1319.38 Q1977.8 1319.38 1975.58 1316.46 Q1973.36 1313.52 1973.36 1307.71 L1973.36 1301.74 L1972.94 1301.74 Q1970 1301.74 1968.4 1303.68 Q1966.78 1305.61 1966.78 1309.1 Q1966.78 1311.32 1967.31 1313.43 Q1967.85 1315.54 1968.91 1317.48 L1964.98 1317.48 Q1964.07 1315.14 1963.63 1312.94 Q1963.17 1310.74 1963.17 1308.66 Q1963.17 1303.04 1966.09 1300.26 Q1969 1297.48 1974.93 1297.48 Z\" fill=\"#000000\" fill-rule=\"evenodd\" fill-opacity=\"1\" /><path clip-path=\"url(#clip380)\" d=\"M1963.8 1290.56 L1963.8 1270.33 L1967.69 1270.33 L1986.32 1286.35 L1986.32 1270.33 L1989.72 1270.33 L1989.72 1291.14 L1985.83 1291.14 L1967.2 1275.12 L1967.2 1290.56 L1963.8 1290.56 Z\" fill=\"#000000\" fill-rule=\"evenodd\" fill-opacity=\"1\" /><path clip-path=\"url(#clip380)\" d=\"M1964.56 1247.3 L1968.59 1247.3 Q1967.66 1249.1 1967.2 1251.05 Q1966.74 1252.99 1966.74 1255.07 Q1966.74 1258.25 1967.71 1259.84 Q1968.68 1261.42 1970.63 1261.42 Q1972.11 1261.42 1972.96 1260.28 Q1973.8 1259.15 1974.56 1255.72 L1974.88 1254.26 Q1975.86 1249.73 1977.64 1247.83 Q1979.4 1245.91 1982.57 1245.91 Q1986.18 1245.91 1988.29 1248.78 Q1990.39 1251.62 1990.39 1256.62 Q1990.39 1258.71 1989.98 1260.98 Q1989.58 1263.22 1988.77 1265.72 L1984.37 1265.72 Q1985.6 1263.36 1986.23 1261.07 Q1986.83 1258.78 1986.83 1256.53 Q1986.83 1253.52 1985.81 1251.9 Q1984.77 1250.28 1982.89 1250.28 Q1981.16 1250.28 1980.23 1251.46 Q1979.31 1252.62 1978.45 1256.58 L1978.1 1258.06 Q1977.27 1262.02 1975.56 1263.78 Q1973.82 1265.54 1970.81 1265.54 Q1967.15 1265.54 1965.16 1262.94 Q1963.17 1260.35 1963.17 1255.58 Q1963.17 1253.22 1963.52 1251.14 Q1963.87 1249.06 1964.56 1247.3 Z\" fill=\"#000000\" fill-rule=\"evenodd\" fill-opacity=\"1\" /><path clip-path=\"url(#clip380)\" d=\"M1985.79 1234.5 L1985.79 1218.18 L1989.72 1218.18 L1989.72 1240.12 L1985.79 1240.12 Q1983.03 1237.46 1978.4 1232.87 Q1973.75 1228.27 1972.41 1227.09 Q1969.88 1224.84 1968.15 1223.96 Q1966.39 1223.06 1964.7 1223.06 Q1961.94 1223.06 1960.21 1225 Q1958.47 1226.93 1958.47 1230.03 Q1958.47 1232.23 1959.24 1234.68 Q1960 1237.11 1961.55 1239.89 L1956.83 1239.89 Q1955.69 1237.06 1955.12 1234.61 Q1954.54 1232.16 1954.54 1230.12 Q1954.54 1224.75 1957.22 1221.56 Q1959.91 1218.36 1964.4 1218.36 Q1966.53 1218.36 1968.45 1219.17 Q1970.35 1219.96 1972.94 1222.06 Q1973.61 1222.64 1976.83 1225.75 Q1980.02 1228.85 1985.79 1234.5 Z\" fill=\"#000000\" fill-rule=\"evenodd\" fill-opacity=\"1\" /><path clip-path=\"url(#clip380)\" d=\"M2074.41 1499.98 L2074.41 1495.72 L2100.8 1495.72 Q2105.75 1495.72 2107.97 1497.62 Q2110.2 1499.49 2110.2 1503.68 L2110.2 1505.3 L2106.59 1505.3 L2106.59 1504.17 Q2106.59 1501.74 2105.45 1500.86 Q2104.34 1499.98 2100.8 1499.98 L2074.41 1499.98 M2064.32 1499.98 L2064.32 1495.72 L2069.71 1495.72 L2069.71 1499.98 L2064.32 1499.98 Z\" fill=\"#000000\" fill-rule=\"evenodd\" fill-opacity=\"1\" /><path clip-path=\"url(#clip380)\" d=\"M2094.46 1486.21 L2094.46 1481.32 L2100.34 1481.32 L2100.34 1486.21 L2094.46 1486.21 Z\" fill=\"#000000\" fill-rule=\"evenodd\" fill-opacity=\"1\" /><path clip-path=\"url(#clip380)\" d=\"M2086.31 1449.56 L2088.39 1449.56 L2088.39 1469.15 Q2092.79 1468.87 2095.1 1466.51 Q2097.4 1464.12 2097.4 1459.89 Q2097.4 1457.43 2096.79 1455.14 Q2096.19 1452.83 2094.99 1450.56 L2099.02 1450.56 Q2099.99 1452.85 2100.5 1455.26 Q2101.01 1457.67 2101.01 1460.14 Q2101.01 1466.35 2097.4 1469.98 Q2093.78 1473.59 2087.63 1473.59 Q2081.26 1473.59 2077.53 1470.17 Q2073.78 1466.72 2073.78 1460.88 Q2073.78 1455.65 2077.16 1452.62 Q2080.52 1449.56 2086.31 1449.56 M2085.06 1453.82 Q2081.56 1453.87 2079.48 1455.79 Q2077.4 1457.69 2077.4 1460.84 Q2077.4 1464.4 2079.41 1466.55 Q2081.42 1468.68 2085.08 1469.01 L2085.06 1453.82 Z\" fill=\"#000000\" fill-rule=\"evenodd\" fill-opacity=\"1\" /><path clip-path=\"url(#clip380)\" d=\"M2075.17 1426.05 L2079.2 1426.05 Q2078.28 1427.85 2077.81 1429.8 Q2077.35 1431.74 2077.35 1433.82 Q2077.35 1436.99 2078.32 1438.59 Q2079.29 1440.17 2081.24 1440.17 Q2082.72 1440.17 2083.58 1439.03 Q2084.41 1437.9 2085.17 1434.47 L2085.5 1433.01 Q2086.47 1428.48 2088.25 1426.58 Q2090.01 1424.66 2093.18 1424.66 Q2096.79 1424.66 2098.9 1427.53 Q2101.01 1430.37 2101.01 1435.37 Q2101.01 1437.46 2100.59 1439.73 Q2100.2 1441.97 2099.39 1444.47 L2094.99 1444.47 Q2096.21 1442.11 2096.84 1439.82 Q2097.44 1437.53 2097.44 1435.28 Q2097.44 1432.27 2096.42 1430.65 Q2095.38 1429.03 2093.51 1429.03 Q2091.77 1429.03 2090.84 1430.21 Q2089.92 1431.37 2089.06 1435.33 L2088.71 1436.81 Q2087.88 1440.77 2086.17 1442.53 Q2084.43 1444.29 2081.42 1444.29 Q2077.77 1444.29 2075.78 1441.69 Q2073.78 1439.1 2073.78 1434.33 Q2073.78 1431.97 2074.13 1429.89 Q2074.48 1427.8 2075.17 1426.05 Z\" fill=\"#000000\" fill-rule=\"evenodd\" fill-opacity=\"1\" /><path clip-path=\"url(#clip380)\" d=\"M2067.05 1413.66 L2074.41 1413.66 L2074.41 1404.89 L2077.72 1404.89 L2077.72 1413.66 L2091.79 1413.66 Q2094.96 1413.66 2095.87 1412.8 Q2096.77 1411.92 2096.77 1409.26 L2096.77 1404.89 L2100.34 1404.89 L2100.34 1409.26 Q2100.34 1414.19 2098.51 1416.07 Q2096.65 1417.94 2091.79 1417.94 L2077.72 1417.94 L2077.72 1421.07 L2074.41 1421.07 L2074.41 1417.94 L2067.05 1417.94 L2067.05 1413.66 Z\" fill=\"#000000\" fill-rule=\"evenodd\" fill-opacity=\"1\" /><path clip-path=\"url(#clip380)\" d=\"M2090.1 1399.73 L2074.41 1399.73 L2074.41 1395.47 L2089.94 1395.47 Q2093.62 1395.47 2095.47 1394.03 Q2097.3 1392.6 2097.3 1389.73 Q2097.3 1386.28 2095.1 1384.29 Q2092.9 1382.27 2089.11 1382.27 L2074.41 1382.27 L2074.41 1378.01 L2100.34 1378.01 L2100.34 1382.27 L2096.35 1382.27 Q2098.71 1383.82 2099.87 1385.88 Q2101.01 1387.92 2101.01 1390.63 Q2101.01 1395.1 2098.23 1397.41 Q2095.45 1399.73 2090.1 1399.73 M2073.78 1389.01 L2073.78 1389.01 Z\" fill=\"#000000\" fill-rule=\"evenodd\" fill-opacity=\"1\" /><path clip-path=\"url(#clip380)\" d=\"M2096.45 1365.12 L2110.2 1365.12 L2110.2 1369.4 L2074.41 1369.4 L2074.41 1365.12 L2078.34 1365.12 Q2076.03 1363.78 2074.92 1361.74 Q2073.78 1359.68 2073.78 1356.83 Q2073.78 1352.11 2077.53 1349.17 Q2081.28 1346.21 2087.4 1346.21 Q2093.51 1346.21 2097.26 1349.17 Q2101.01 1352.11 2101.01 1356.83 Q2101.01 1359.68 2099.9 1361.74 Q2098.76 1363.78 2096.45 1365.12 M2087.4 1350.63 Q2082.7 1350.63 2080.03 1352.57 Q2077.35 1354.49 2077.35 1357.87 Q2077.35 1361.25 2080.03 1363.2 Q2082.7 1365.12 2087.4 1365.12 Q2092.09 1365.12 2094.78 1363.2 Q2097.44 1361.25 2097.44 1357.87 Q2097.44 1354.49 2094.78 1352.57 Q2092.09 1350.63 2087.4 1350.63 Z\" fill=\"#000000\" fill-rule=\"evenodd\" fill-opacity=\"1\" /><path clip-path=\"url(#clip380)\" d=\"M2074.41 1339.15 L2074.41 1334.89 L2100.34 1334.89 L2100.34 1339.15 L2074.41 1339.15 M2064.32 1339.15 L2064.32 1334.89 L2069.71 1334.89 L2069.71 1339.15 L2064.32 1339.15 Z\" fill=\"#000000\" fill-rule=\"evenodd\" fill-opacity=\"1\" /><path clip-path=\"url(#clip380)\" d=\"M2084.69 1304.43 L2100.34 1304.43 L2100.34 1308.68 L2084.83 1308.68 Q2081.15 1308.68 2079.32 1310.12 Q2077.49 1311.55 2077.49 1314.43 Q2077.49 1317.87 2079.69 1319.87 Q2081.89 1321.86 2085.68 1321.86 L2100.34 1321.86 L2100.34 1326.14 L2074.41 1326.14 L2074.41 1321.86 L2078.44 1321.86 Q2076.1 1320.33 2074.94 1318.27 Q2073.78 1316.18 2073.78 1313.48 Q2073.78 1309.01 2076.56 1306.72 Q2079.32 1304.43 2084.69 1304.43 Z\" fill=\"#000000\" fill-rule=\"evenodd\" fill-opacity=\"1\" /><path clip-path=\"url(#clip380)\" d=\"M2087.3 1284.15 Q2087.3 1289.31 2088.48 1291.3 Q2089.66 1293.29 2092.51 1293.29 Q2094.78 1293.29 2096.12 1291.81 Q2097.44 1290.31 2097.44 1287.74 Q2097.44 1284.19 2094.94 1282.06 Q2092.42 1279.91 2088.25 1279.91 L2087.3 1279.91 L2087.3 1284.15 M2085.54 1275.65 L2100.34 1275.65 L2100.34 1279.91 L2096.4 1279.91 Q2098.76 1281.37 2099.9 1283.55 Q2101.01 1285.72 2101.01 1288.87 Q2101.01 1292.85 2098.78 1295.21 Q2096.54 1297.55 2092.79 1297.55 Q2088.41 1297.55 2086.19 1294.63 Q2083.97 1291.69 2083.97 1285.88 L2083.97 1279.91 L2083.55 1279.91 Q2080.61 1279.91 2079.02 1281.86 Q2077.4 1283.78 2077.4 1287.27 Q2077.4 1289.49 2077.93 1291.6 Q2078.46 1293.71 2079.52 1295.65 L2075.59 1295.65 Q2074.69 1293.31 2074.25 1291.12 Q2073.78 1288.92 2073.78 1286.83 Q2073.78 1281.21 2076.7 1278.43 Q2079.62 1275.65 2085.54 1275.65 Z\" fill=\"#000000\" fill-rule=\"evenodd\" fill-opacity=\"1\" /><path clip-path=\"url(#clip380)\" d=\"M2084.69 1245.33 L2100.34 1245.33 L2100.34 1249.59 L2084.83 1249.59 Q2081.15 1249.59 2079.32 1251.02 Q2077.49 1252.46 2077.49 1255.33 Q2077.49 1258.78 2079.69 1260.77 Q2081.89 1262.76 2085.68 1262.76 L2100.34 1262.76 L2100.34 1267.04 L2074.41 1267.04 L2074.41 1262.76 L2078.44 1262.76 Q2076.1 1261.23 2074.94 1259.17 Q2073.78 1257.09 2073.78 1254.38 Q2073.78 1249.91 2076.56 1247.62 Q2079.32 1245.33 2084.69 1245.33 Z\" fill=\"#000000\" fill-rule=\"evenodd\" fill-opacity=\"1\" /><path clip-path=\"url(#clip380)\" d=\"M2075.4 1218.18 L2079.39 1218.18 Q2078.39 1219.98 2077.9 1221.81 Q2077.4 1223.62 2077.4 1225.47 Q2077.4 1229.61 2080.03 1231.9 Q2082.65 1234.19 2087.4 1234.19 Q2092.14 1234.19 2094.78 1231.9 Q2097.4 1229.61 2097.4 1225.47 Q2097.4 1223.62 2096.91 1221.81 Q2096.4 1219.98 2095.4 1218.18 L2099.34 1218.18 Q2100.17 1219.96 2100.59 1221.88 Q2101.01 1223.78 2101.01 1225.93 Q2101.01 1231.79 2097.33 1235.24 Q2093.65 1238.68 2087.4 1238.68 Q2081.05 1238.68 2077.42 1235.21 Q2073.78 1231.72 2073.78 1225.65 Q2073.78 1223.69 2074.2 1221.81 Q2074.59 1219.94 2075.4 1218.18 Z\" fill=\"#000000\" fill-rule=\"evenodd\" fill-opacity=\"1\" /><path clip-path=\"url(#clip380)\" d=\"M2195.3 1380.37 L2210.95 1380.37 L2210.95 1384.63 L2195.44 1384.63 Q2191.76 1384.63 2189.93 1386.07 Q2188.1 1387.5 2188.1 1390.37 Q2188.1 1393.82 2190.3 1395.81 Q2192.5 1397.8 2196.3 1397.8 L2210.95 1397.8 L2210.95 1402.09 L2185.02 1402.09 L2185.02 1397.8 L2189.05 1397.8 Q2186.71 1396.28 2185.55 1394.22 Q2184.4 1392.13 2184.4 1389.42 Q2184.4 1384.96 2187.17 1382.67 Q2189.93 1380.37 2195.3 1380.37 Z\" fill=\"#000000\" fill-rule=\"evenodd\" fill-opacity=\"1\" /><path clip-path=\"url(#clip380)\" d=\"M2205.07 1371.28 L2205.07 1366.39 L2210.95 1366.39 L2210.95 1371.28 L2205.07 1371.28 Z\" fill=\"#000000\" fill-rule=\"evenodd\" fill-opacity=\"1\" /><path clip-path=\"url(#clip380)\" d=\"M2189 1341.79 Q2188.59 1342.5 2188.4 1343.36 Q2188.19 1344.19 2188.19 1345.21 Q2188.19 1348.82 2190.55 1350.77 Q2192.89 1352.69 2197.29 1352.69 L2210.95 1352.69 L2210.95 1356.97 L2185.02 1356.97 L2185.02 1352.69 L2189.05 1352.69 Q2186.69 1351.35 2185.55 1349.19 Q2184.4 1347.04 2184.4 1343.96 Q2184.4 1343.52 2184.47 1342.99 Q2184.51 1342.46 2184.63 1341.81 L2189 1341.79 Z\" fill=\"#000000\" fill-rule=\"evenodd\" fill-opacity=\"1\" /><path clip-path=\"url(#clip380)\" d=\"M2200.72 1337.76 L2185.02 1337.76 L2185.02 1333.5 L2200.55 1333.5 Q2204.24 1333.5 2206.09 1332.06 Q2207.92 1330.63 2207.92 1327.76 Q2207.92 1324.31 2205.72 1322.32 Q2203.52 1320.3 2199.72 1320.3 L2185.02 1320.3 L2185.02 1316.05 L2210.95 1316.05 L2210.95 1320.3 L2206.97 1320.3 Q2209.33 1321.86 2210.49 1323.92 Q2211.62 1325.95 2211.62 1328.66 Q2211.62 1333.13 2208.84 1335.44 Q2206.06 1337.76 2200.72 1337.76 M2184.4 1327.04 L2184.4 1327.04 Z\" fill=\"#000000\" fill-rule=\"evenodd\" fill-opacity=\"1\" /><path clip-path=\"url(#clip380)\" d=\"M2185.02 1307.27 L2185.02 1303.01 L2210.95 1303.01 L2210.95 1307.27 L2185.02 1307.27 M2174.93 1307.27 L2174.93 1303.01 L2180.32 1303.01 L2180.32 1307.27 L2174.93 1307.27 Z\" fill=\"#000000\" fill-rule=\"evenodd\" fill-opacity=\"1\" /><path clip-path=\"url(#clip380)\" d=\"M2185.02 1295.95 L2185.02 1275.72 L2188.91 1275.72 L2207.55 1291.74 L2207.55 1275.72 L2210.95 1275.72 L2210.95 1296.53 L2207.06 1296.53 L2188.42 1280.51 L2188.42 1295.95 L2185.02 1295.95 Z\" fill=\"#000000\" fill-rule=\"evenodd\" fill-opacity=\"1\" /><path clip-path=\"url(#clip380)\" d=\"M2207.06 1265.1 L2220.81 1265.1 L2220.81 1269.38 L2185.02 1269.38 L2185.02 1265.1 L2188.96 1265.1 Q2186.64 1263.75 2185.53 1261.72 Q2184.4 1259.66 2184.4 1256.81 Q2184.4 1252.09 2188.15 1249.15 Q2191.9 1246.18 2198.01 1246.18 Q2204.12 1246.18 2207.87 1249.15 Q2211.62 1252.09 2211.62 1256.81 Q2211.62 1259.66 2210.51 1261.72 Q2209.37 1263.75 2207.06 1265.1 M2198.01 1250.61 Q2193.31 1250.61 2190.65 1252.55 Q2187.96 1254.47 2187.96 1257.85 Q2187.96 1261.23 2190.65 1263.18 Q2193.31 1265.1 2198.01 1265.1 Q2202.71 1265.1 2205.39 1263.18 Q2208.05 1261.23 2208.05 1257.85 Q2208.05 1254.47 2205.39 1252.55 Q2202.71 1250.61 2198.01 1250.61 Z\" fill=\"#000000\" fill-rule=\"evenodd\" fill-opacity=\"1\" /><path clip-path=\"url(#clip380)\" d=\"M2207.01 1234.5 L2207.01 1218.18 L2210.95 1218.18 L2210.95 1240.12 L2207.01 1240.12 Q2204.26 1237.46 2199.63 1232.87 Q2194.98 1228.27 2193.63 1227.09 Q2191.11 1224.84 2189.37 1223.96 Q2187.61 1223.06 2185.92 1223.06 Q2183.17 1223.06 2181.43 1225 Q2179.7 1226.93 2179.7 1230.03 Q2179.7 1232.23 2180.46 1234.68 Q2181.23 1237.11 2182.78 1239.89 L2178.05 1239.89 Q2176.92 1237.06 2176.34 1234.61 Q2175.76 1232.16 2175.76 1230.12 Q2175.76 1224.75 2178.45 1221.56 Q2181.13 1218.36 2185.62 1218.36 Q2187.75 1218.36 2189.67 1219.17 Q2191.57 1219.96 2194.17 1222.06 Q2194.84 1222.64 2198.05 1225.75 Q2201.25 1228.85 2207.01 1234.5 Z\" fill=\"#000000\" fill-rule=\"evenodd\" fill-opacity=\"1\" /><path clip-path=\"url(#clip380)\" d=\"M1189.52 1632.63 L1195.98 1632.63 L1195.98 1661.49 Q1195.98 1669.13 1198.75 1672.51 Q1201.52 1675.85 1207.72 1675.85 Q1213.9 1675.85 1216.67 1672.51 Q1219.44 1669.13 1219.44 1661.49 L1219.44 1632.63 L1225.9 1632.63 L1225.9 1662.29 Q1225.9 1671.58 1221.28 1676.33 Q1216.7 1681.07 1207.72 1681.07 Q1198.72 1681.07 1194.1 1676.33 Q1189.52 1671.58 1189.52 1662.29 L1189.52 1632.63 Z\" fill=\"#000000\" fill-rule=\"evenodd\" fill-opacity=\"1\" /><path clip-path=\"url(#clip380)\" d=\"M1260.43 1645.55 L1260.43 1651.09 Q1257.95 1649.81 1255.28 1649.18 Q1252.6 1648.54 1249.74 1648.54 Q1245.38 1648.54 1243.18 1649.88 Q1241.02 1651.21 1241.02 1653.89 Q1241.02 1655.92 1242.58 1657.1 Q1244.14 1658.25 1248.85 1659.3 L1250.85 1659.74 Q1257.09 1661.08 1259.7 1663.53 Q1262.34 1665.95 1262.34 1670.31 Q1262.34 1675.28 1258.4 1678.17 Q1254.48 1681.07 1247.61 1681.07 Q1244.74 1681.07 1241.62 1680.5 Q1238.54 1679.95 1235.1 1678.84 L1235.1 1672.79 Q1238.34 1674.48 1241.5 1675.34 Q1244.65 1676.17 1247.73 1676.17 Q1251.87 1676.17 1254.1 1674.77 Q1256.33 1673.33 1256.33 1670.76 Q1256.33 1668.37 1254.7 1667.1 Q1253.11 1665.82 1247.67 1664.65 L1245.63 1664.17 Q1240.19 1663.02 1237.77 1660.67 Q1235.35 1658.28 1235.35 1654.14 Q1235.35 1649.11 1238.92 1646.38 Q1242.48 1643.64 1249.04 1643.64 Q1252.28 1643.64 1255.15 1644.12 Q1258.01 1644.59 1260.43 1645.55 Z\" fill=\"#000000\" fill-rule=\"evenodd\" fill-opacity=\"1\" /><path clip-path=\"url(#clip380)\" d=\"M1271.06 1666.08 L1271.06 1644.5 L1276.92 1644.5 L1276.92 1665.85 Q1276.92 1670.92 1278.89 1673.46 Q1280.87 1675.98 1284.81 1675.98 Q1289.56 1675.98 1292.29 1672.95 Q1295.06 1669.93 1295.06 1664.71 L1295.06 1644.5 L1300.92 1644.5 L1300.92 1680.15 L1295.06 1680.15 L1295.06 1674.67 Q1292.93 1677.92 1290.1 1679.51 Q1287.3 1681.07 1283.57 1681.07 Q1277.43 1681.07 1274.25 1677.25 Q1271.06 1673.43 1271.06 1666.08 M1285.8 1643.64 L1285.8 1643.64 Z\" fill=\"#000000\" fill-rule=\"evenodd\" fill-opacity=\"1\" /><path clip-path=\"url(#clip380)\" d=\"M1329.18 1662.23 Q1322.08 1662.23 1319.35 1663.85 Q1316.61 1665.47 1316.61 1669.39 Q1316.61 1672.51 1318.65 1674.35 Q1320.72 1676.17 1324.25 1676.17 Q1329.12 1676.17 1332.05 1672.73 Q1335.01 1669.26 1335.01 1663.53 L1335.01 1662.23 L1329.18 1662.23 M1340.86 1659.81 L1340.86 1680.15 L1335.01 1680.15 L1335.01 1674.74 Q1333 1677.98 1330.01 1679.54 Q1327.02 1681.07 1322.69 1681.07 Q1317.22 1681.07 1313.97 1678.01 Q1310.75 1674.93 1310.75 1669.77 Q1310.75 1663.75 1314.76 1660.7 Q1318.81 1657.64 1326.8 1657.64 L1335.01 1657.64 L1335.01 1657.07 Q1335.01 1653.03 1332.33 1650.83 Q1329.69 1648.6 1324.89 1648.6 Q1321.83 1648.6 1318.93 1649.34 Q1316.04 1650.07 1313.36 1651.53 L1313.36 1646.12 Q1316.58 1644.88 1319.6 1644.28 Q1322.63 1643.64 1325.49 1643.64 Q1333.22 1643.64 1337.04 1647.65 Q1340.86 1651.66 1340.86 1659.81 Z\" fill=\"#000000\" fill-rule=\"evenodd\" fill-opacity=\"1\" /><path clip-path=\"url(#clip380)\" d=\"M1373.58 1649.97 Q1372.6 1649.4 1371.42 1649.14 Q1370.27 1648.86 1368.87 1648.86 Q1363.91 1648.86 1361.23 1652.1 Q1358.59 1655.32 1358.59 1661.37 L1358.59 1680.15 L1352.7 1680.15 L1352.7 1644.5 L1358.59 1644.5 L1358.59 1650.04 Q1360.44 1646.79 1363.4 1645.23 Q1366.36 1643.64 1370.59 1643.64 Q1371.2 1643.64 1371.93 1643.73 Q1372.66 1643.8 1373.55 1643.96 L1373.58 1649.97 Z\" fill=\"#000000\" fill-rule=\"evenodd\" fill-opacity=\"1\" /><path clip-path=\"url(#clip380)\" d=\"M1379.73 1644.5 L1385.58 1644.5 L1385.58 1680.15 L1379.73 1680.15 L1379.73 1644.5 M1379.73 1630.62 L1385.58 1630.62 L1385.58 1638.04 L1379.73 1638.04 L1379.73 1630.62 Z\" fill=\"#000000\" fill-rule=\"evenodd\" fill-opacity=\"1\" /><path clip-path=\"url(#clip380)\" d=\"M1411.65 1648.6 Q1406.94 1648.6 1404.2 1652.3 Q1401.47 1655.96 1401.47 1662.35 Q1401.47 1668.75 1404.17 1672.44 Q1406.91 1676.1 1411.65 1676.1 Q1416.33 1676.1 1419.07 1672.41 Q1421.8 1668.72 1421.8 1662.35 Q1421.8 1656.02 1419.07 1652.33 Q1416.33 1648.6 1411.65 1648.6 M1411.65 1643.64 Q1419.29 1643.64 1423.65 1648.6 Q1428.01 1653.57 1428.01 1662.35 Q1428.01 1671.11 1423.65 1676.1 Q1419.29 1681.07 1411.65 1681.07 Q1403.98 1681.07 1399.62 1676.1 Q1395.29 1671.11 1395.29 1662.35 Q1395.29 1653.57 1399.62 1648.6 Q1403.98 1643.64 1411.65 1643.64 Z\" fill=\"#000000\" fill-rule=\"evenodd\" fill-opacity=\"1\" /><polyline clip-path=\"url(#clip382)\" style=\"stroke:#000000; stroke-linecap:butt; stroke-linejoin:round; stroke-width:2; stroke-opacity:0.1; fill:none\" points=\"\n",
       "  264.773,1198.98 2352.76,1198.98 \n",
       "  \"/>\n",
       "<polyline clip-path=\"url(#clip382)\" style=\"stroke:#000000; stroke-linecap:butt; stroke-linejoin:round; stroke-width:2; stroke-opacity:0.1; fill:none\" points=\"\n",
       "  264.773,1045.33 2352.76,1045.33 \n",
       "  \"/>\n",
       "<polyline clip-path=\"url(#clip382)\" style=\"stroke:#000000; stroke-linecap:butt; stroke-linejoin:round; stroke-width:2; stroke-opacity:0.1; fill:none\" points=\"\n",
       "  264.773,891.689 2352.76,891.689 \n",
       "  \"/>\n",
       "<polyline clip-path=\"url(#clip382)\" style=\"stroke:#000000; stroke-linecap:butt; stroke-linejoin:round; stroke-width:2; stroke-opacity:0.1; fill:none\" points=\"\n",
       "  264.773,738.046 2352.76,738.046 \n",
       "  \"/>\n",
       "<polyline clip-path=\"url(#clip382)\" style=\"stroke:#000000; stroke-linecap:butt; stroke-linejoin:round; stroke-width:2; stroke-opacity:0.1; fill:none\" points=\"\n",
       "  264.773,584.402 2352.76,584.402 \n",
       "  \"/>\n",
       "<polyline clip-path=\"url(#clip382)\" style=\"stroke:#000000; stroke-linecap:butt; stroke-linejoin:round; stroke-width:2; stroke-opacity:0.1; fill:none\" points=\"\n",
       "  264.773,430.759 2352.76,430.759 \n",
       "  \"/>\n",
       "<polyline clip-path=\"url(#clip382)\" style=\"stroke:#000000; stroke-linecap:butt; stroke-linejoin:round; stroke-width:2; stroke-opacity:0.1; fill:none\" points=\"\n",
       "  264.773,277.116 2352.76,277.116 \n",
       "  \"/>\n",
       "<polyline clip-path=\"url(#clip382)\" style=\"stroke:#000000; stroke-linecap:butt; stroke-linejoin:round; stroke-width:2; stroke-opacity:0.1; fill:none\" points=\"\n",
       "  264.773,123.472 2352.76,123.472 \n",
       "  \"/>\n",
       "<polyline clip-path=\"url(#clip380)\" style=\"stroke:#000000; stroke-linecap:butt; stroke-linejoin:round; stroke-width:4; stroke-opacity:1; fill:none\" points=\"\n",
       "  264.773,1198.98 264.773,123.472 \n",
       "  \"/>\n",
       "<polyline clip-path=\"url(#clip380)\" style=\"stroke:#000000; stroke-linecap:butt; stroke-linejoin:round; stroke-width:4; stroke-opacity:1; fill:none\" points=\"\n",
       "  264.773,1198.98 283.671,1198.98 \n",
       "  \"/>\n",
       "<polyline clip-path=\"url(#clip380)\" style=\"stroke:#000000; stroke-linecap:butt; stroke-linejoin:round; stroke-width:4; stroke-opacity:1; fill:none\" points=\"\n",
       "  264.773,1045.33 283.671,1045.33 \n",
       "  \"/>\n",
       "<polyline clip-path=\"url(#clip380)\" style=\"stroke:#000000; stroke-linecap:butt; stroke-linejoin:round; stroke-width:4; stroke-opacity:1; fill:none\" points=\"\n",
       "  264.773,891.689 283.671,891.689 \n",
       "  \"/>\n",
       "<polyline clip-path=\"url(#clip380)\" style=\"stroke:#000000; stroke-linecap:butt; stroke-linejoin:round; stroke-width:4; stroke-opacity:1; fill:none\" points=\"\n",
       "  264.773,738.046 283.671,738.046 \n",
       "  \"/>\n",
       "<polyline clip-path=\"url(#clip380)\" style=\"stroke:#000000; stroke-linecap:butt; stroke-linejoin:round; stroke-width:4; stroke-opacity:1; fill:none\" points=\"\n",
       "  264.773,584.402 283.671,584.402 \n",
       "  \"/>\n",
       "<polyline clip-path=\"url(#clip380)\" style=\"stroke:#000000; stroke-linecap:butt; stroke-linejoin:round; stroke-width:4; stroke-opacity:1; fill:none\" points=\"\n",
       "  264.773,430.759 283.671,430.759 \n",
       "  \"/>\n",
       "<polyline clip-path=\"url(#clip380)\" style=\"stroke:#000000; stroke-linecap:butt; stroke-linejoin:round; stroke-width:4; stroke-opacity:1; fill:none\" points=\"\n",
       "  264.773,277.116 283.671,277.116 \n",
       "  \"/>\n",
       "<polyline clip-path=\"url(#clip380)\" style=\"stroke:#000000; stroke-linecap:butt; stroke-linejoin:round; stroke-width:4; stroke-opacity:1; fill:none\" points=\"\n",
       "  264.773,123.472 283.671,123.472 \n",
       "  \"/>\n",
       "<path clip-path=\"url(#clip380)\" d=\"M120.464 1212.32 L136.783 1212.32 L136.783 1216.26 L114.839 1216.26 L114.839 1212.32 Q117.501 1209.57 122.084 1204.94 Q126.691 1200.28 127.871 1198.94 Q130.117 1196.42 130.996 1194.68 Q131.899 1192.92 131.899 1191.23 Q131.899 1188.48 129.955 1186.74 Q128.033 1185.01 124.931 1185.01 Q122.732 1185.01 120.279 1185.77 Q117.848 1186.53 115.07 1188.08 L115.07 1183.36 Q117.894 1182.23 120.348 1181.65 Q122.802 1181.07 124.839 1181.07 Q130.209 1181.07 133.404 1183.76 Q136.598 1186.44 136.598 1190.93 Q136.598 1193.06 135.788 1194.98 Q135.001 1196.88 132.894 1199.47 Q132.316 1200.14 129.214 1203.36 Q126.112 1206.56 120.464 1212.32 Z\" fill=\"#000000\" fill-rule=\"evenodd\" fill-opacity=\"1\" /><path clip-path=\"url(#clip380)\" d=\"M156.598 1184.77 Q152.987 1184.77 151.158 1188.34 Q149.353 1191.88 149.353 1199.01 Q149.353 1206.12 151.158 1209.68 Q152.987 1213.22 156.598 1213.22 Q160.232 1213.22 162.038 1209.68 Q163.866 1206.12 163.866 1199.01 Q163.866 1191.88 162.038 1188.34 Q160.232 1184.77 156.598 1184.77 M156.598 1181.07 Q162.408 1181.07 165.464 1185.68 Q168.542 1190.26 168.542 1199.01 Q168.542 1207.74 165.464 1212.34 Q162.408 1216.93 156.598 1216.93 Q150.788 1216.93 147.709 1212.34 Q144.654 1207.74 144.654 1199.01 Q144.654 1190.26 147.709 1185.68 Q150.788 1181.07 156.598 1181.07 Z\" fill=\"#000000\" fill-rule=\"evenodd\" fill-opacity=\"1\" /><path clip-path=\"url(#clip380)\" d=\"M186.76 1184.77 Q183.149 1184.77 181.32 1188.34 Q179.514 1191.88 179.514 1199.01 Q179.514 1206.12 181.32 1209.68 Q183.149 1213.22 186.76 1213.22 Q190.394 1213.22 192.2 1209.68 Q194.028 1206.12 194.028 1199.01 Q194.028 1191.88 192.2 1188.34 Q190.394 1184.77 186.76 1184.77 M186.76 1181.07 Q192.57 1181.07 195.625 1185.68 Q198.704 1190.26 198.704 1199.01 Q198.704 1207.74 195.625 1212.34 Q192.57 1216.93 186.76 1216.93 Q180.95 1216.93 177.871 1212.34 Q174.815 1207.74 174.815 1199.01 Q174.815 1190.26 177.871 1185.68 Q180.95 1181.07 186.76 1181.07 Z\" fill=\"#000000\" fill-rule=\"evenodd\" fill-opacity=\"1\" /><path clip-path=\"url(#clip380)\" d=\"M216.922 1199.84 Q213.588 1199.84 211.667 1201.63 Q209.769 1203.41 209.769 1206.53 Q209.769 1209.66 211.667 1211.44 Q213.588 1213.22 216.922 1213.22 Q220.255 1213.22 222.176 1211.44 Q224.098 1209.64 224.098 1206.53 Q224.098 1203.41 222.176 1201.63 Q220.278 1199.84 216.922 1199.84 M212.246 1197.85 Q209.237 1197.11 207.547 1195.05 Q205.88 1192.99 205.88 1190.03 Q205.88 1185.89 208.82 1183.48 Q211.783 1181.07 216.922 1181.07 Q222.084 1181.07 225.023 1183.48 Q227.963 1185.89 227.963 1190.03 Q227.963 1192.99 226.273 1195.05 Q224.607 1197.11 221.621 1197.85 Q225 1198.64 226.875 1200.93 Q228.773 1203.22 228.773 1206.53 Q228.773 1211.56 225.695 1214.24 Q222.639 1216.93 216.922 1216.93 Q211.204 1216.93 208.125 1214.24 Q205.07 1211.56 205.07 1206.53 Q205.07 1203.22 206.968 1200.93 Q208.866 1198.64 212.246 1197.85 M210.533 1190.47 Q210.533 1193.15 212.199 1194.66 Q213.889 1196.16 216.922 1196.16 Q219.931 1196.16 221.621 1194.66 Q223.334 1193.15 223.334 1190.47 Q223.334 1187.78 221.621 1186.28 Q219.931 1184.77 216.922 1184.77 Q213.889 1184.77 212.199 1186.28 Q210.533 1187.78 210.533 1190.47 Z\" fill=\"#000000\" fill-rule=\"evenodd\" fill-opacity=\"1\" /><path clip-path=\"url(#clip380)\" d=\"M120.371 1058.68 L136.691 1058.68 L136.691 1062.61 L114.746 1062.61 L114.746 1058.68 Q117.408 1055.92 121.992 1051.29 Q126.598 1046.64 127.779 1045.3 Q130.024 1042.77 130.904 1041.04 Q131.806 1039.28 131.806 1037.59 Q131.806 1034.83 129.862 1033.1 Q127.941 1031.36 124.839 1031.36 Q122.64 1031.36 120.186 1032.13 Q117.756 1032.89 114.978 1034.44 L114.978 1029.72 Q117.802 1028.58 120.255 1028.01 Q122.709 1027.43 124.746 1027.43 Q130.117 1027.43 133.311 1030.11 Q136.505 1032.8 136.505 1037.29 Q136.505 1039.42 135.695 1041.34 Q134.908 1043.24 132.802 1045.83 Q132.223 1046.5 129.121 1049.72 Q126.019 1052.91 120.371 1058.68 Z\" fill=\"#000000\" fill-rule=\"evenodd\" fill-opacity=\"1\" /><path clip-path=\"url(#clip380)\" d=\"M156.505 1031.13 Q152.894 1031.13 151.066 1034.7 Q149.26 1038.24 149.26 1045.37 Q149.26 1052.47 151.066 1056.04 Q152.894 1059.58 156.505 1059.58 Q160.14 1059.58 161.945 1056.04 Q163.774 1052.47 163.774 1045.37 Q163.774 1038.24 161.945 1034.7 Q160.14 1031.13 156.505 1031.13 M156.505 1027.43 Q162.315 1027.43 165.371 1032.03 Q168.45 1036.62 168.45 1045.37 Q168.45 1054.09 165.371 1058.7 Q162.315 1063.28 156.505 1063.28 Q150.695 1063.28 147.616 1058.7 Q144.561 1054.09 144.561 1045.37 Q144.561 1036.62 147.616 1032.03 Q150.695 1027.43 156.505 1027.43 Z\" fill=\"#000000\" fill-rule=\"evenodd\" fill-opacity=\"1\" /><path clip-path=\"url(#clip380)\" d=\"M177.477 1058.68 L185.116 1058.68 L185.116 1032.31 L176.806 1033.98 L176.806 1029.72 L185.07 1028.05 L189.746 1028.05 L189.746 1058.68 L197.385 1058.68 L197.385 1062.61 L177.477 1062.61 L177.477 1058.68 Z\" fill=\"#000000\" fill-rule=\"evenodd\" fill-opacity=\"1\" /><path clip-path=\"url(#clip380)\" d=\"M216.829 1031.13 Q213.218 1031.13 211.389 1034.7 Q209.584 1038.24 209.584 1045.37 Q209.584 1052.47 211.389 1056.04 Q213.218 1059.58 216.829 1059.58 Q220.463 1059.58 222.269 1056.04 Q224.098 1052.47 224.098 1045.37 Q224.098 1038.24 222.269 1034.7 Q220.463 1031.13 216.829 1031.13 M216.829 1027.43 Q222.639 1027.43 225.695 1032.03 Q228.773 1036.62 228.773 1045.37 Q228.773 1054.09 225.695 1058.7 Q222.639 1063.28 216.829 1063.28 Q211.019 1063.28 207.94 1058.7 Q204.885 1054.09 204.885 1045.37 Q204.885 1036.62 207.94 1032.03 Q211.019 1027.43 216.829 1027.43 Z\" fill=\"#000000\" fill-rule=\"evenodd\" fill-opacity=\"1\" /><path clip-path=\"url(#clip380)\" d=\"M121.968 905.034 L138.288 905.034 L138.288 908.969 L116.343 908.969 L116.343 905.034 Q119.006 902.279 123.589 897.65 Q128.195 892.997 129.376 891.654 Q131.621 889.131 132.501 887.395 Q133.404 885.636 133.404 883.946 Q133.404 881.191 131.459 879.455 Q129.538 877.719 126.436 877.719 Q124.237 877.719 121.783 878.483 Q119.353 879.247 116.575 880.798 L116.575 876.076 Q119.399 874.941 121.853 874.363 Q124.306 873.784 126.343 873.784 Q131.714 873.784 134.908 876.469 Q138.103 879.154 138.103 883.645 Q138.103 885.775 137.292 887.696 Q136.505 889.594 134.399 892.187 Q133.82 892.858 130.718 896.076 Q127.617 899.27 121.968 905.034 Z\" fill=\"#000000\" fill-rule=\"evenodd\" fill-opacity=\"1\" /><path clip-path=\"url(#clip380)\" d=\"M158.103 877.488 Q154.491 877.488 152.663 881.053 Q150.857 884.594 150.857 891.724 Q150.857 898.83 152.663 902.395 Q154.491 905.937 158.103 905.937 Q161.737 905.937 163.542 902.395 Q165.371 898.83 165.371 891.724 Q165.371 884.594 163.542 881.053 Q161.737 877.488 158.103 877.488 M158.103 873.784 Q163.913 873.784 166.968 878.39 Q170.047 882.974 170.047 891.724 Q170.047 900.451 166.968 905.057 Q163.913 909.64 158.103 909.64 Q152.292 909.64 149.214 905.057 Q146.158 900.451 146.158 891.724 Q146.158 882.974 149.214 878.39 Q152.292 873.784 158.103 873.784 Z\" fill=\"#000000\" fill-rule=\"evenodd\" fill-opacity=\"1\" /><path clip-path=\"url(#clip380)\" d=\"M179.075 905.034 L186.713 905.034 L186.713 878.668 L178.403 880.335 L178.403 876.076 L186.667 874.409 L191.343 874.409 L191.343 905.034 L198.982 905.034 L198.982 908.969 L179.075 908.969 L179.075 905.034 Z\" fill=\"#000000\" fill-rule=\"evenodd\" fill-opacity=\"1\" /><path clip-path=\"url(#clip380)\" d=\"M212.454 905.034 L228.773 905.034 L228.773 908.969 L206.829 908.969 L206.829 905.034 Q209.491 902.279 214.074 897.65 Q218.681 892.997 219.861 891.654 Q222.107 889.131 222.986 887.395 Q223.889 885.636 223.889 883.946 Q223.889 881.191 221.945 879.455 Q220.023 877.719 216.922 877.719 Q214.723 877.719 212.269 878.483 Q209.838 879.247 207.061 880.798 L207.061 876.076 Q209.885 874.941 212.338 874.363 Q214.792 873.784 216.829 873.784 Q222.199 873.784 225.394 876.469 Q228.588 879.154 228.588 883.645 Q228.588 885.775 227.778 887.696 Q226.991 889.594 224.885 892.187 Q224.306 892.858 221.204 896.076 Q218.102 899.27 212.454 905.034 Z\" fill=\"#000000\" fill-rule=\"evenodd\" fill-opacity=\"1\" /><path clip-path=\"url(#clip380)\" d=\"M119.885 751.39 L136.204 751.39 L136.204 755.326 L114.26 755.326 L114.26 751.39 Q116.922 748.636 121.505 744.006 Q126.112 739.354 127.292 738.011 Q129.538 735.488 130.417 733.752 Q131.32 731.992 131.32 730.303 Q131.32 727.548 129.376 725.812 Q127.455 724.076 124.353 724.076 Q122.154 724.076 119.7 724.84 Q117.269 725.604 114.492 727.155 L114.492 722.432 Q117.316 721.298 119.769 720.719 Q122.223 720.141 124.26 720.141 Q129.63 720.141 132.825 722.826 Q136.019 725.511 136.019 730.002 Q136.019 732.131 135.209 734.053 Q134.422 735.951 132.316 738.543 Q131.737 739.215 128.635 742.432 Q125.533 745.627 119.885 751.39 Z\" fill=\"#000000\" fill-rule=\"evenodd\" fill-opacity=\"1\" /><path clip-path=\"url(#clip380)\" d=\"M156.019 723.844 Q152.408 723.844 150.579 727.409 Q148.774 730.951 148.774 738.08 Q148.774 745.187 150.579 748.752 Q152.408 752.293 156.019 752.293 Q159.653 752.293 161.459 748.752 Q163.288 745.187 163.288 738.08 Q163.288 730.951 161.459 727.409 Q159.653 723.844 156.019 723.844 M156.019 720.141 Q161.829 720.141 164.885 724.747 Q167.964 729.33 167.964 738.08 Q167.964 746.807 164.885 751.414 Q161.829 755.997 156.019 755.997 Q150.209 755.997 147.13 751.414 Q144.075 746.807 144.075 738.08 Q144.075 729.33 147.13 724.747 Q150.209 720.141 156.019 720.141 Z\" fill=\"#000000\" fill-rule=\"evenodd\" fill-opacity=\"1\" /><path clip-path=\"url(#clip380)\" d=\"M176.991 751.39 L184.63 751.39 L184.63 725.025 L176.32 726.692 L176.32 722.432 L184.584 720.766 L189.26 720.766 L189.26 751.39 L196.899 751.39 L196.899 755.326 L176.991 755.326 L176.991 751.39 Z\" fill=\"#000000\" fill-rule=\"evenodd\" fill-opacity=\"1\" /><path clip-path=\"url(#clip380)\" d=\"M219.19 724.84 L207.385 743.289 L219.19 743.289 L219.19 724.84 M217.963 720.766 L223.843 720.766 L223.843 743.289 L228.773 743.289 L228.773 747.178 L223.843 747.178 L223.843 755.326 L219.19 755.326 L219.19 747.178 L203.588 747.178 L203.588 742.664 L217.963 720.766 Z\" fill=\"#000000\" fill-rule=\"evenodd\" fill-opacity=\"1\" /><path clip-path=\"url(#clip380)\" d=\"M120.209 597.747 L136.529 597.747 L136.529 601.682 L114.584 601.682 L114.584 597.747 Q117.246 594.992 121.83 590.363 Q126.436 585.71 127.617 584.368 Q129.862 581.844 130.742 580.108 Q131.644 578.349 131.644 576.659 Q131.644 573.905 129.7 572.169 Q127.779 570.432 124.677 570.432 Q122.478 570.432 120.024 571.196 Q117.593 571.96 114.816 573.511 L114.816 568.789 Q117.64 567.655 120.093 567.076 Q122.547 566.497 124.584 566.497 Q129.955 566.497 133.149 569.182 Q136.343 571.868 136.343 576.358 Q136.343 578.488 135.533 580.409 Q134.746 582.307 132.64 584.9 Q132.061 585.571 128.959 588.789 Q125.857 591.983 120.209 597.747 Z\" fill=\"#000000\" fill-rule=\"evenodd\" fill-opacity=\"1\" /><path clip-path=\"url(#clip380)\" d=\"M156.343 570.201 Q152.732 570.201 150.903 573.766 Q149.098 577.307 149.098 584.437 Q149.098 591.543 150.903 595.108 Q152.732 598.65 156.343 598.65 Q159.978 598.65 161.783 595.108 Q163.612 591.543 163.612 584.437 Q163.612 577.307 161.783 573.766 Q159.978 570.201 156.343 570.201 M156.343 566.497 Q162.153 566.497 165.209 571.104 Q168.288 575.687 168.288 584.437 Q168.288 593.164 165.209 597.77 Q162.153 602.354 156.343 602.354 Q150.533 602.354 147.454 597.77 Q144.399 593.164 144.399 584.437 Q144.399 575.687 147.454 571.104 Q150.533 566.497 156.343 566.497 Z\" fill=\"#000000\" fill-rule=\"evenodd\" fill-opacity=\"1\" /><path clip-path=\"url(#clip380)\" d=\"M177.315 597.747 L184.954 597.747 L184.954 571.382 L176.644 573.048 L176.644 568.789 L184.908 567.122 L189.584 567.122 L189.584 597.747 L197.223 597.747 L197.223 601.682 L177.315 601.682 L177.315 597.747 Z\" fill=\"#000000\" fill-rule=\"evenodd\" fill-opacity=\"1\" /><path clip-path=\"url(#clip380)\" d=\"M217.246 582.539 Q214.098 582.539 212.246 584.692 Q210.417 586.844 210.417 590.594 Q210.417 594.321 212.246 596.497 Q214.098 598.65 217.246 598.65 Q220.394 598.65 222.223 596.497 Q224.074 594.321 224.074 590.594 Q224.074 586.844 222.223 584.692 Q220.394 582.539 217.246 582.539 M226.528 567.886 L226.528 572.145 Q224.769 571.312 222.963 570.872 Q221.181 570.432 219.422 570.432 Q214.792 570.432 212.338 573.557 Q209.908 576.682 209.561 583.002 Q210.926 580.988 212.986 579.923 Q215.047 578.835 217.523 578.835 Q222.732 578.835 225.741 582.006 Q228.773 585.155 228.773 590.594 Q228.773 595.918 225.625 599.136 Q222.477 602.354 217.246 602.354 Q211.25 602.354 208.079 597.77 Q204.908 593.164 204.908 584.437 Q204.908 576.243 208.797 571.382 Q212.686 566.497 219.236 566.497 Q220.996 566.497 222.778 566.844 Q224.584 567.192 226.528 567.886 Z\" fill=\"#000000\" fill-rule=\"evenodd\" fill-opacity=\"1\" /><path clip-path=\"url(#clip380)\" d=\"M120.464 444.104 L136.783 444.104 L136.783 448.039 L114.839 448.039 L114.839 444.104 Q117.501 441.349 122.084 436.72 Q126.691 432.067 127.871 430.724 Q130.117 428.201 130.996 426.465 Q131.899 424.706 131.899 423.016 Q131.899 420.261 129.955 418.525 Q128.033 416.789 124.931 416.789 Q122.732 416.789 120.279 417.553 Q117.848 418.317 115.07 419.868 L115.07 415.146 Q117.894 414.011 120.348 413.433 Q122.802 412.854 124.839 412.854 Q130.209 412.854 133.404 415.539 Q136.598 418.224 136.598 422.715 Q136.598 424.845 135.788 426.766 Q135.001 428.664 132.894 431.257 Q132.316 431.928 129.214 435.145 Q126.112 438.34 120.464 444.104 Z\" fill=\"#000000\" fill-rule=\"evenodd\" fill-opacity=\"1\" /><path clip-path=\"url(#clip380)\" d=\"M156.598 416.558 Q152.987 416.558 151.158 420.122 Q149.353 423.664 149.353 430.794 Q149.353 437.9 151.158 441.465 Q152.987 445.006 156.598 445.006 Q160.232 445.006 162.038 441.465 Q163.866 437.9 163.866 430.794 Q163.866 423.664 162.038 420.122 Q160.232 416.558 156.598 416.558 M156.598 412.854 Q162.408 412.854 165.464 417.46 Q168.542 422.044 168.542 430.794 Q168.542 439.52 165.464 444.127 Q162.408 448.71 156.598 448.71 Q150.788 448.71 147.709 444.127 Q144.654 439.52 144.654 430.794 Q144.654 422.044 147.709 417.46 Q150.788 412.854 156.598 412.854 Z\" fill=\"#000000\" fill-rule=\"evenodd\" fill-opacity=\"1\" /><path clip-path=\"url(#clip380)\" d=\"M177.57 444.104 L185.209 444.104 L185.209 417.738 L176.899 419.405 L176.899 415.146 L185.163 413.479 L189.838 413.479 L189.838 444.104 L197.477 444.104 L197.477 448.039 L177.57 448.039 L177.57 444.104 Z\" fill=\"#000000\" fill-rule=\"evenodd\" fill-opacity=\"1\" /><path clip-path=\"url(#clip380)\" d=\"M216.922 431.627 Q213.588 431.627 211.667 433.409 Q209.769 435.192 209.769 438.317 Q209.769 441.442 211.667 443.224 Q213.588 445.006 216.922 445.006 Q220.255 445.006 222.176 443.224 Q224.098 441.419 224.098 438.317 Q224.098 435.192 222.176 433.409 Q220.278 431.627 216.922 431.627 M212.246 429.636 Q209.237 428.895 207.547 426.835 Q205.88 424.775 205.88 421.812 Q205.88 417.669 208.82 415.261 Q211.783 412.854 216.922 412.854 Q222.084 412.854 225.023 415.261 Q227.963 417.669 227.963 421.812 Q227.963 424.775 226.273 426.835 Q224.607 428.895 221.621 429.636 Q225 430.423 226.875 432.715 Q228.773 435.007 228.773 438.317 Q228.773 443.34 225.695 446.025 Q222.639 448.71 216.922 448.71 Q211.204 448.71 208.125 446.025 Q205.07 443.34 205.07 438.317 Q205.07 435.007 206.968 432.715 Q208.866 430.423 212.246 429.636 M210.533 422.252 Q210.533 424.937 212.199 426.442 Q213.889 427.946 216.922 427.946 Q219.931 427.946 221.621 426.442 Q223.334 424.937 223.334 422.252 Q223.334 419.567 221.621 418.062 Q219.931 416.558 216.922 416.558 Q213.889 416.558 212.199 418.062 Q210.533 419.567 210.533 422.252 Z\" fill=\"#000000\" fill-rule=\"evenodd\" fill-opacity=\"1\" /><path clip-path=\"url(#clip380)\" d=\"M120.371 290.46 L136.691 290.46 L136.691 294.396 L114.746 294.396 L114.746 290.46 Q117.408 287.706 121.992 283.076 Q126.598 278.423 127.779 277.081 Q130.024 274.558 130.904 272.822 Q131.806 271.062 131.806 269.372 Q131.806 266.618 129.862 264.882 Q127.941 263.146 124.839 263.146 Q122.64 263.146 120.186 263.91 Q117.756 264.673 114.978 266.224 L114.978 261.502 Q117.802 260.368 120.255 259.789 Q122.709 259.211 124.746 259.211 Q130.117 259.211 133.311 261.896 Q136.505 264.581 136.505 269.072 Q136.505 271.201 135.695 273.122 Q134.908 275.021 132.802 277.613 Q132.223 278.284 129.121 281.502 Q126.019 284.696 120.371 290.46 Z\" fill=\"#000000\" fill-rule=\"evenodd\" fill-opacity=\"1\" /><path clip-path=\"url(#clip380)\" d=\"M156.505 262.914 Q152.894 262.914 151.066 266.479 Q149.26 270.021 149.26 277.15 Q149.26 284.257 151.066 287.821 Q152.894 291.363 156.505 291.363 Q160.14 291.363 161.945 287.821 Q163.774 284.257 163.774 277.15 Q163.774 270.021 161.945 266.479 Q160.14 262.914 156.505 262.914 M156.505 259.211 Q162.315 259.211 165.371 263.817 Q168.45 268.4 168.45 277.15 Q168.45 285.877 165.371 290.483 Q162.315 295.067 156.505 295.067 Q150.695 295.067 147.616 290.483 Q144.561 285.877 144.561 277.15 Q144.561 268.4 147.616 263.817 Q150.695 259.211 156.505 259.211 Z\" fill=\"#000000\" fill-rule=\"evenodd\" fill-opacity=\"1\" /><path clip-path=\"url(#clip380)\" d=\"M180.695 290.46 L197.014 290.46 L197.014 294.396 L175.07 294.396 L175.07 290.46 Q177.732 287.706 182.315 283.076 Q186.922 278.423 188.102 277.081 Q190.348 274.558 191.227 272.822 Q192.13 271.062 192.13 269.372 Q192.13 266.618 190.186 264.882 Q188.264 263.146 185.163 263.146 Q182.963 263.146 180.51 263.91 Q178.079 264.673 175.301 266.224 L175.301 261.502 Q178.126 260.368 180.579 259.789 Q183.033 259.211 185.07 259.211 Q190.44 259.211 193.635 261.896 Q196.829 264.581 196.829 269.072 Q196.829 271.201 196.019 273.122 Q195.232 275.021 193.125 277.613 Q192.547 278.284 189.445 281.502 Q186.343 284.696 180.695 290.46 Z\" fill=\"#000000\" fill-rule=\"evenodd\" fill-opacity=\"1\" /><path clip-path=\"url(#clip380)\" d=\"M216.829 262.914 Q213.218 262.914 211.389 266.479 Q209.584 270.021 209.584 277.15 Q209.584 284.257 211.389 287.821 Q213.218 291.363 216.829 291.363 Q220.463 291.363 222.269 287.821 Q224.098 284.257 224.098 277.15 Q224.098 270.021 222.269 266.479 Q220.463 262.914 216.829 262.914 M216.829 259.211 Q222.639 259.211 225.695 263.817 Q228.773 268.4 228.773 277.15 Q228.773 285.877 225.695 290.483 Q222.639 295.067 216.829 295.067 Q211.019 295.067 207.94 290.483 Q204.885 285.877 204.885 277.15 Q204.885 268.4 207.94 263.817 Q211.019 259.211 216.829 259.211 Z\" fill=\"#000000\" fill-rule=\"evenodd\" fill-opacity=\"1\" /><path clip-path=\"url(#clip380)\" d=\"M121.968 136.817 L138.288 136.817 L138.288 140.752 L116.343 140.752 L116.343 136.817 Q119.006 134.062 123.589 129.433 Q128.195 124.78 129.376 123.437 Q131.621 120.914 132.501 119.178 Q133.404 117.419 133.404 115.729 Q133.404 112.974 131.459 111.238 Q129.538 109.502 126.436 109.502 Q124.237 109.502 121.783 110.266 Q119.353 111.03 116.575 112.581 L116.575 107.859 Q119.399 106.725 121.853 106.146 Q124.306 105.567 126.343 105.567 Q131.714 105.567 134.908 108.252 Q138.103 110.937 138.103 115.428 Q138.103 117.558 137.292 119.479 Q136.505 121.377 134.399 123.97 Q133.82 124.641 130.718 127.859 Q127.617 131.053 121.968 136.817 Z\" fill=\"#000000\" fill-rule=\"evenodd\" fill-opacity=\"1\" /><path clip-path=\"url(#clip380)\" d=\"M158.103 109.271 Q154.491 109.271 152.663 112.836 Q150.857 116.377 150.857 123.507 Q150.857 130.613 152.663 134.178 Q154.491 137.72 158.103 137.72 Q161.737 137.72 163.542 134.178 Q165.371 130.613 165.371 123.507 Q165.371 116.377 163.542 112.836 Q161.737 109.271 158.103 109.271 M158.103 105.567 Q163.913 105.567 166.968 110.174 Q170.047 114.757 170.047 123.507 Q170.047 132.234 166.968 136.84 Q163.913 141.423 158.103 141.423 Q152.292 141.423 149.214 136.84 Q146.158 132.234 146.158 123.507 Q146.158 114.757 149.214 110.174 Q152.292 105.567 158.103 105.567 Z\" fill=\"#000000\" fill-rule=\"evenodd\" fill-opacity=\"1\" /><path clip-path=\"url(#clip380)\" d=\"M182.292 136.817 L198.612 136.817 L198.612 140.752 L176.667 140.752 L176.667 136.817 Q179.329 134.062 183.913 129.433 Q188.519 124.78 189.7 123.437 Q191.945 120.914 192.825 119.178 Q193.727 117.419 193.727 115.729 Q193.727 112.974 191.783 111.238 Q189.862 109.502 186.76 109.502 Q184.561 109.502 182.107 110.266 Q179.676 111.03 176.899 112.581 L176.899 107.859 Q179.723 106.725 182.176 106.146 Q184.63 105.567 186.667 105.567 Q192.038 105.567 195.232 108.252 Q198.426 110.937 198.426 115.428 Q198.426 117.558 197.616 119.479 Q196.829 121.377 194.723 123.97 Q194.144 124.641 191.042 127.859 Q187.94 131.053 182.292 136.817 Z\" fill=\"#000000\" fill-rule=\"evenodd\" fill-opacity=\"1\" /><path clip-path=\"url(#clip380)\" d=\"M212.454 136.817 L228.773 136.817 L228.773 140.752 L206.829 140.752 L206.829 136.817 Q209.491 134.062 214.074 129.433 Q218.681 124.78 219.861 123.437 Q222.107 120.914 222.986 119.178 Q223.889 117.419 223.889 115.729 Q223.889 112.974 221.945 111.238 Q220.023 109.502 216.922 109.502 Q214.723 109.502 212.269 110.266 Q209.838 111.03 207.061 112.581 L207.061 107.859 Q209.885 106.725 212.338 106.146 Q214.792 105.567 216.829 105.567 Q222.199 105.567 225.394 108.252 Q228.588 110.937 228.588 115.428 Q228.588 117.558 227.778 119.479 Q226.991 121.377 224.885 123.97 Q224.306 124.641 221.204 127.859 Q218.102 131.053 212.454 136.817 Z\" fill=\"#000000\" fill-rule=\"evenodd\" fill-opacity=\"1\" /><path clip-path=\"url(#clip380)\" d=\"M22.818 700.309 L46.4666 709.03 L46.4666 691.557 L22.818 700.309 M16.4842 703.938 L16.4842 696.649 L64.0042 678.539 L64.0042 685.223 L51.8138 689.551 L51.8138 710.972 L64.0042 715.301 L64.0042 722.08 L16.4842 703.938 Z\" fill=\"#000000\" fill-rule=\"evenodd\" fill-opacity=\"1\" /><path clip-path=\"url(#clip380)\" d=\"M42.4881 642.222 L64.0042 642.222 L64.0042 648.079 L42.679 648.079 Q37.6183 648.079 35.1038 650.052 Q32.5894 652.026 32.5894 655.972 Q32.5894 660.715 35.6131 663.452 Q38.6368 666.189 43.8567 666.189 L64.0042 666.189 L64.0042 672.077 L28.3562 672.077 L28.3562 666.189 L33.8944 666.189 Q30.6797 664.089 29.0883 661.256 Q27.4968 658.391 27.4968 654.667 Q27.4968 648.524 31.3163 645.373 Q35.1038 642.222 42.4881 642.222 M20.3991 656.991 L18.6485 658.805 Q18.0119 659.505 17.7255 660.046 Q17.4072 660.556 17.4072 660.969 Q17.4072 662.179 18.5848 662.752 Q19.7307 663.325 22.3406 663.388 L22.3406 667.367 Q18.0438 667.303 15.7203 665.68 Q13.365 664.057 13.365 661.16 Q13.365 659.951 13.8106 658.932 Q14.2562 657.914 15.3065 656.736 L17.0571 654.922 Q17.6936 654.222 18.0119 653.712 Q18.2984 653.171 18.2984 652.758 Q18.2984 651.548 17.1526 650.975 Q15.9749 650.402 13.365 650.339 L13.365 646.36 Q17.6618 646.424 20.0171 648.047 Q22.3406 649.67 22.3406 652.567 Q22.3406 653.776 21.895 654.795 Q21.4494 655.813 20.3991 656.991 Z\" fill=\"#000000\" fill-rule=\"evenodd\" fill-opacity=\"1\" /><path clip-path=\"url(#clip380)\" d=\"M32.4621 616.728 Q32.4621 621.438 36.1542 624.176 Q39.8145 626.913 46.212 626.913 Q52.6095 626.913 56.3017 624.207 Q59.9619 621.47 59.9619 616.728 Q59.9619 612.049 56.2698 609.312 Q52.5777 606.574 46.212 606.574 Q39.8781 606.574 36.186 609.312 Q32.4621 612.049 32.4621 616.728 M27.4968 616.728 Q27.4968 609.089 32.4621 604.728 Q37.4273 600.368 46.212 600.368 Q54.9649 600.368 59.9619 604.728 Q64.9272 609.089 64.9272 616.728 Q64.9272 624.398 59.9619 628.759 Q54.9649 633.088 46.212 633.088 Q37.4273 633.088 32.4621 628.759 Q27.4968 624.398 27.4968 616.728 Z\" fill=\"#000000\" fill-rule=\"evenodd\" fill-opacity=\"1\" /><path clip-path=\"url(#clip380)\" d=\"M846.941 20.1573 L835.842 50.2555 L858.081 50.2555 L846.941 20.1573 M842.323 12.096 L851.6 12.096 L874.65 72.576 L866.143 72.576 L860.633 57.061 L833.371 57.061 L827.862 72.576 L819.233 72.576 L842.323 12.096 Z\" fill=\"#000000\" fill-rule=\"evenodd\" fill-opacity=\"1\" /><path clip-path=\"url(#clip380)\" d=\"M920.87 45.1919 L920.87 72.576 L913.417 72.576 L913.417 45.4349 Q913.417 38.994 910.905 35.7938 Q908.394 32.5936 903.37 32.5936 Q897.335 32.5936 893.851 36.4419 Q890.367 40.2903 890.367 46.9338 L890.367 72.576 L882.873 72.576 L882.873 27.2059 L890.367 27.2059 L890.367 34.2544 Q893.041 30.163 896.646 28.1376 Q900.292 26.1121 905.031 26.1121 Q912.85 26.1121 916.86 30.9732 Q920.87 35.7938 920.87 45.1919 M902.074 17.0786 L899.765 14.8506 Q898.874 14.0404 898.185 13.6759 Q897.537 13.2708 897.011 13.2708 Q895.471 13.2708 894.742 14.7696 Q894.013 16.2279 893.932 19.5497 L888.868 19.5497 Q888.949 14.0809 891.015 11.1238 Q893.081 8.12611 896.767 8.12611 Q898.307 8.12611 899.603 8.69324 Q900.899 9.26037 902.398 10.5972 L904.707 12.8252 Q905.598 13.6353 906.247 14.0404 Q906.935 14.405 907.462 14.405 Q909.001 14.405 909.73 12.9467 Q910.46 11.4479 910.541 8.12611 L915.604 8.12611 Q915.523 13.5948 913.457 16.5925 Q911.391 19.5497 907.705 19.5497 Q906.166 19.5497 904.869 18.9825 Q903.573 18.4154 902.074 17.0786 Z\" fill=\"#000000\" fill-rule=\"evenodd\" fill-opacity=\"1\" /><path clip-path=\"url(#clip380)\" d=\"M953.318 32.4315 Q947.323 32.4315 943.839 37.1306 Q940.355 41.7891 940.355 49.9314 Q940.355 58.0738 943.798 62.7728 Q947.282 67.4314 953.318 67.4314 Q959.273 67.4314 962.757 62.7323 Q966.24 58.0333 966.24 49.9314 Q966.24 41.8701 962.757 37.1711 Q959.273 32.4315 953.318 32.4315 M953.318 26.1121 Q963.04 26.1121 968.59 32.4315 Q974.14 38.7509 974.14 49.9314 Q974.14 61.0714 968.59 67.4314 Q963.04 73.7508 953.318 73.7508 Q943.555 73.7508 938.006 67.4314 Q932.496 61.0714 932.496 49.9314 Q932.496 38.7509 938.006 32.4315 Q943.555 26.1121 953.318 26.1121 Z\" fill=\"#000000\" fill-rule=\"evenodd\" fill-opacity=\"1\" /><path clip-path=\"url(#clip380)\" d=\"M1013.19 12.096 L1021.37 12.096 L1021.37 72.576 L1013.19 72.576 L1013.19 12.096 Z\" fill=\"#000000\" fill-rule=\"evenodd\" fill-opacity=\"1\" /><path clip-path=\"url(#clip380)\" d=\"M1075.05 45.1919 L1075.05 72.576 L1067.59 72.576 L1067.59 45.4349 Q1067.59 38.994 1065.08 35.7938 Q1062.57 32.5936 1057.55 32.5936 Q1051.51 32.5936 1048.03 36.4419 Q1044.54 40.2903 1044.54 46.9338 L1044.54 72.576 L1037.05 72.576 L1037.05 27.2059 L1044.54 27.2059 L1044.54 34.2544 Q1047.22 30.163 1050.82 28.1376 Q1054.47 26.1121 1059.21 26.1121 Q1067.03 26.1121 1071.04 30.9732 Q1075.05 35.7938 1075.05 45.1919 Z\" fill=\"#000000\" fill-rule=\"evenodd\" fill-opacity=\"1\" /><path clip-path=\"url(#clip380)\" d=\"M1119.77 49.3643 Q1119.77 41.2625 1116.41 36.8065 Q1113.09 32.3505 1107.05 32.3505 Q1101.05 32.3505 1097.69 36.8065 Q1094.37 41.2625 1094.37 49.3643 Q1094.37 57.4256 1097.69 61.8816 Q1101.05 66.3376 1107.05 66.3376 Q1113.09 66.3376 1116.41 61.8816 Q1119.77 57.4256 1119.77 49.3643 M1127.22 66.9452 Q1127.22 78.5308 1122.08 84.1616 Q1116.93 89.8329 1106.32 89.8329 Q1102.39 89.8329 1098.91 89.2252 Q1095.42 88.6581 1092.14 87.4428 L1092.14 80.1917 Q1095.42 81.9741 1098.62 82.8248 Q1101.82 83.6755 1105.15 83.6755 Q1112.48 83.6755 1116.12 79.8271 Q1119.77 76.0193 1119.77 68.282 L1119.77 64.5957 Q1117.46 68.6061 1113.86 70.5911 Q1110.25 72.576 1105.23 72.576 Q1096.88 72.576 1091.78 66.2161 Q1086.67 59.8562 1086.67 49.3643 Q1086.67 38.832 1091.78 32.472 Q1096.88 26.1121 1105.23 26.1121 Q1110.25 26.1121 1113.86 28.0971 Q1117.46 30.082 1119.77 34.0924 L1119.77 27.2059 L1127.22 27.2059 L1127.22 66.9452 Z\" fill=\"#000000\" fill-rule=\"evenodd\" fill-opacity=\"1\" /><path clip-path=\"url(#clip380)\" d=\"M1168.87 34.1734 Q1167.61 33.4443 1166.11 33.1202 Q1164.65 32.7556 1162.87 32.7556 Q1156.55 32.7556 1153.15 36.8875 Q1149.79 40.9789 1149.79 48.6757 L1149.79 72.576 L1142.29 72.576 L1142.29 27.2059 L1149.79 27.2059 L1149.79 34.2544 Q1152.14 30.1225 1155.9 28.1376 Q1159.67 26.1121 1165.06 26.1121 Q1165.83 26.1121 1166.76 26.2337 Q1167.69 26.3147 1168.83 26.5172 L1168.87 34.1734 Z\" fill=\"#000000\" fill-rule=\"evenodd\" fill-opacity=\"1\" /><path clip-path=\"url(#clip380)\" d=\"M1213.67 48.0275 L1213.67 51.6733 L1179.4 51.6733 Q1179.89 59.3701 1184.02 63.421 Q1188.19 67.4314 1195.6 67.4314 Q1199.9 67.4314 1203.91 66.3781 Q1207.96 65.3249 1211.93 63.2184 L1211.93 70.267 Q1207.92 71.9684 1203.7 72.8596 Q1199.49 73.7508 1195.16 73.7508 Q1184.3 73.7508 1177.94 67.4314 Q1171.62 61.1119 1171.62 50.3365 Q1171.62 39.1965 1177.62 32.6746 Q1183.65 26.1121 1193.86 26.1121 Q1203.02 26.1121 1208.32 32.0264 Q1213.67 37.9003 1213.67 48.0275 M1206.22 45.84 Q1206.14 39.7232 1202.77 36.0774 Q1199.45 32.4315 1193.94 32.4315 Q1187.7 32.4315 1183.94 35.9558 Q1180.21 39.4801 1179.64 45.8805 L1206.22 45.84 Z\" fill=\"#000000\" fill-rule=\"evenodd\" fill-opacity=\"1\" /><path clip-path=\"url(#clip380)\" d=\"M1254.83 28.5427 L1254.83 35.5912 Q1251.67 33.9709 1248.26 33.1607 Q1244.86 32.3505 1241.22 32.3505 Q1235.67 32.3505 1232.87 34.0519 Q1230.12 35.7533 1230.12 39.156 Q1230.12 41.7486 1232.1 43.2475 Q1234.09 44.7058 1240.08 46.0426 L1242.63 46.6097 Q1250.57 48.3111 1253.9 51.4303 Q1257.26 54.509 1257.26 60.0587 Q1257.26 66.3781 1252.23 70.0644 Q1247.25 73.7508 1238.5 73.7508 Q1234.86 73.7508 1230.89 73.0216 Q1226.96 72.3329 1222.58 70.9151 L1222.58 63.2184 Q1226.71 65.3654 1230.72 66.4591 Q1234.73 67.5124 1238.66 67.5124 Q1243.93 67.5124 1246.77 65.73 Q1249.6 63.9071 1249.6 60.6258 Q1249.6 57.5877 1247.54 55.9673 Q1245.51 54.3469 1238.58 52.8481 L1235.99 52.2405 Q1229.06 50.7821 1225.98 47.7845 Q1222.91 44.7463 1222.91 39.4801 Q1222.91 33.0797 1227.44 29.5959 Q1231.98 26.1121 1240.32 26.1121 Q1244.46 26.1121 1248.1 26.7198 Q1251.75 27.3274 1254.83 28.5427 Z\" fill=\"#000000\" fill-rule=\"evenodd\" fill-opacity=\"1\" /><path clip-path=\"url(#clip380)\" d=\"M1286.71 32.4315 Q1280.71 32.4315 1277.23 37.1306 Q1273.74 41.7891 1273.74 49.9314 Q1273.74 58.0738 1277.19 62.7728 Q1280.67 67.4314 1286.71 67.4314 Q1292.66 67.4314 1296.15 62.7323 Q1299.63 58.0333 1299.63 49.9314 Q1299.63 41.8701 1296.15 37.1711 Q1292.66 32.4315 1286.71 32.4315 M1286.71 26.1121 Q1296.43 26.1121 1301.98 32.4315 Q1307.53 38.7509 1307.53 49.9314 Q1307.53 61.0714 1301.98 67.4314 Q1296.43 73.7508 1286.71 73.7508 Q1276.94 73.7508 1271.4 67.4314 Q1265.89 61.0714 1265.89 49.9314 Q1265.89 38.7509 1271.4 32.4315 Q1276.94 26.1121 1286.71 26.1121 Z\" fill=\"#000000\" fill-rule=\"evenodd\" fill-opacity=\"1\" /><path clip-path=\"url(#clip380)\" d=\"M1366.87 49.7694 Q1357.84 49.7694 1354.36 51.8354 Q1350.87 53.9013 1350.87 58.8839 Q1350.87 62.8538 1353.47 65.2034 Q1356.1 67.5124 1360.6 67.5124 Q1366.79 67.5124 1370.52 63.1374 Q1374.29 58.7219 1374.29 51.4303 L1374.29 49.7694 L1366.87 49.7694 M1381.74 46.6907 L1381.74 72.576 L1374.29 72.576 L1374.29 65.6895 Q1371.74 69.8214 1367.93 71.8063 Q1364.12 73.7508 1358.61 73.7508 Q1351.64 73.7508 1347.51 69.8619 Q1343.42 65.9325 1343.42 59.3701 Q1343.42 51.7138 1348.52 47.825 Q1353.67 43.9361 1363.84 43.9361 L1374.29 43.9361 L1374.29 43.2069 Q1374.29 38.0623 1370.89 35.2672 Q1367.52 32.4315 1361.41 32.4315 Q1357.52 32.4315 1353.83 33.3632 Q1350.14 34.295 1346.74 36.1584 L1346.74 29.2718 Q1350.83 27.692 1354.68 26.9223 Q1358.53 26.1121 1362.18 26.1121 Q1372.02 26.1121 1376.88 31.2163 Q1381.74 36.3204 1381.74 46.6907 Z\" fill=\"#000000\" fill-rule=\"evenodd\" fill-opacity=\"1\" /><path clip-path=\"url(#clip380)\" d=\"M1422.86 12.096 L1431.08 12.096 L1431.08 48.8377 Q1431.08 58.5599 1434.61 62.8538 Q1438.13 67.1073 1446.03 67.1073 Q1453.89 67.1073 1457.41 62.8538 Q1460.94 58.5599 1460.94 48.8377 L1460.94 12.096 L1469.16 12.096 L1469.16 49.8504 Q1469.16 61.6791 1463.29 67.7149 Q1457.45 73.7508 1446.03 73.7508 Q1434.57 73.7508 1428.69 67.7149 Q1422.86 61.6791 1422.86 49.8504 L1422.86 12.096 Z\" fill=\"#000000\" fill-rule=\"evenodd\" fill-opacity=\"1\" /><path clip-path=\"url(#clip380)\" d=\"M1521.9 45.1919 L1521.9 72.576 L1514.45 72.576 L1514.45 45.4349 Q1514.45 38.994 1511.94 35.7938 Q1509.43 32.5936 1504.4 32.5936 Q1498.37 32.5936 1494.88 36.4419 Q1491.4 40.2903 1491.4 46.9338 L1491.4 72.576 L1483.91 72.576 L1483.91 27.2059 L1491.4 27.2059 L1491.4 34.2544 Q1494.07 30.163 1497.68 28.1376 Q1501.32 26.1121 1506.06 26.1121 Q1513.88 26.1121 1517.89 30.9732 Q1521.9 35.7938 1521.9 45.1919 Z\" fill=\"#000000\" fill-rule=\"evenodd\" fill-opacity=\"1\" /><path clip-path=\"url(#clip380)\" d=\"M1536.77 27.2059 L1544.22 27.2059 L1544.22 72.576 L1536.77 72.576 L1536.77 27.2059 M1536.77 9.54393 L1544.22 9.54393 L1544.22 18.9825 L1536.77 18.9825 L1536.77 9.54393 Z\" fill=\"#000000\" fill-rule=\"evenodd\" fill-opacity=\"1\" /><path clip-path=\"url(#clip380)\" d=\"M1580.44 49.7694 Q1571.41 49.7694 1567.92 51.8354 Q1564.44 53.9013 1564.44 58.8839 Q1564.44 62.8538 1567.03 65.2034 Q1569.66 67.5124 1574.16 67.5124 Q1580.36 67.5124 1584.08 63.1374 Q1587.85 58.7219 1587.85 51.4303 L1587.85 49.7694 L1580.44 49.7694 M1595.31 46.6907 L1595.31 72.576 L1587.85 72.576 L1587.85 65.6895 Q1585.3 69.8214 1581.49 71.8063 Q1577.68 73.7508 1572.17 73.7508 Q1565.21 73.7508 1561.08 69.8619 Q1556.98 65.9325 1556.98 59.3701 Q1556.98 51.7138 1562.09 47.825 Q1567.23 43.9361 1577.4 43.9361 L1587.85 43.9361 L1587.85 43.2069 Q1587.85 38.0623 1584.45 35.2672 Q1581.09 32.4315 1574.97 32.4315 Q1571.08 32.4315 1567.39 33.3632 Q1563.71 34.295 1560.31 36.1584 L1560.31 29.2718 Q1564.4 27.692 1568.25 26.9223 Q1572.09 26.1121 1575.74 26.1121 Q1585.58 26.1121 1590.44 31.2163 Q1595.31 36.3204 1595.31 46.6907 Z\" fill=\"#000000\" fill-rule=\"evenodd\" fill-opacity=\"1\" /><path clip-path=\"url(#clip380)\" d=\"M1648.37 45.1919 L1648.37 72.576 L1640.92 72.576 L1640.92 45.4349 Q1640.92 38.994 1638.41 35.7938 Q1635.9 32.5936 1630.87 32.5936 Q1624.84 32.5936 1621.35 36.4419 Q1617.87 40.2903 1617.87 46.9338 L1617.87 72.576 L1610.37 72.576 L1610.37 27.2059 L1617.87 27.2059 L1617.87 34.2544 Q1620.54 30.163 1624.15 28.1376 Q1627.79 26.1121 1632.53 26.1121 Q1640.35 26.1121 1644.36 30.9732 Q1648.37 35.7938 1648.37 45.1919 Z\" fill=\"#000000\" fill-rule=\"evenodd\" fill-opacity=\"1\" /><path clip-path=\"url(#clip380)\" d=\"M1693.09 34.0924 L1693.09 9.54393 L1700.55 9.54393 L1700.55 72.576 L1693.09 72.576 L1693.09 65.7705 Q1690.74 69.8214 1687.14 71.8063 Q1683.57 73.7508 1678.55 73.7508 Q1670.33 73.7508 1665.14 67.1883 Q1660 60.6258 1660 49.9314 Q1660 39.2371 1665.14 32.6746 Q1670.33 26.1121 1678.55 26.1121 Q1683.57 26.1121 1687.14 28.0971 Q1690.74 30.0415 1693.09 34.0924 M1667.7 49.9314 Q1667.7 58.1548 1671.06 62.8538 Q1674.46 67.5124 1680.37 67.5124 Q1686.29 67.5124 1689.69 62.8538 Q1693.09 58.1548 1693.09 49.9314 Q1693.09 41.7081 1689.69 37.0496 Q1686.29 32.3505 1680.37 32.3505 Q1674.46 32.3505 1671.06 37.0496 Q1667.7 41.7081 1667.7 49.9314 Z\" fill=\"#000000\" fill-rule=\"evenodd\" fill-opacity=\"1\" /><path clip-path=\"url(#clip380)\" d=\"M1754.71 48.0275 L1754.71 51.6733 L1720.44 51.6733 Q1720.92 59.3701 1725.06 63.421 Q1729.23 67.4314 1736.64 67.4314 Q1740.94 67.4314 1744.95 66.3781 Q1749 65.3249 1752.97 63.2184 L1752.97 70.267 Q1748.96 71.9684 1744.74 72.8596 Q1740.53 73.7508 1736.2 73.7508 Q1725.34 73.7508 1718.98 67.4314 Q1712.66 61.1119 1712.66 50.3365 Q1712.66 39.1965 1718.66 32.6746 Q1724.69 26.1121 1734.9 26.1121 Q1744.05 26.1121 1749.36 32.0264 Q1754.71 37.9003 1754.71 48.0275 M1747.25 45.84 Q1747.17 39.7232 1743.81 36.0774 Q1740.49 32.4315 1734.98 32.4315 Q1728.74 32.4315 1724.97 35.9558 Q1721.25 39.4801 1720.68 45.8805 L1747.25 45.84 Z\" fill=\"#000000\" fill-rule=\"evenodd\" fill-opacity=\"1\" /><path clip-path=\"url(#clip380)\" d=\"M1795.87 28.5427 L1795.87 35.5912 Q1792.71 33.9709 1789.3 33.1607 Q1785.9 32.3505 1782.25 32.3505 Q1776.7 32.3505 1773.91 34.0519 Q1771.16 35.7533 1771.16 39.156 Q1771.16 41.7486 1773.14 43.2475 Q1775.13 44.7058 1781.12 46.0426 L1783.67 46.6097 Q1791.61 48.3111 1794.93 51.4303 Q1798.3 54.509 1798.3 60.0587 Q1798.3 66.3781 1793.27 70.0644 Q1788.29 73.7508 1779.54 73.7508 Q1775.89 73.7508 1771.92 73.0216 Q1768 72.3329 1763.62 70.9151 L1763.62 63.2184 Q1767.75 65.3654 1771.76 66.4591 Q1775.77 67.5124 1779.7 67.5124 Q1784.97 67.5124 1787.8 65.73 Q1790.64 63.9071 1790.64 60.6258 Q1790.64 57.5877 1788.57 55.9673 Q1786.55 54.3469 1779.62 52.8481 L1777.03 52.2405 Q1770.1 50.7821 1767.02 47.7845 Q1763.94 44.7463 1763.94 39.4801 Q1763.94 33.0797 1768.48 29.5959 Q1773.02 26.1121 1781.36 26.1121 Q1785.5 26.1121 1789.14 26.7198 Q1792.79 27.3274 1795.87 28.5427 Z\" fill=\"#000000\" fill-rule=\"evenodd\" fill-opacity=\"1\" /><path clip-path=\"url(#clip382)\" d=\"\n",
       "M379.616 1045.33 L379.616 155457 L468.107 155457 L468.107 1045.33 L379.616 1045.33 L379.616 1045.33  Z\n",
       "  \" fill=\"#009af9\" fill-rule=\"evenodd\" fill-opacity=\"1\"/>\n",
       "<polyline clip-path=\"url(#clip382)\" style=\"stroke:#000000; stroke-linecap:butt; stroke-linejoin:round; stroke-width:4; stroke-opacity:1; fill:none\" points=\"\n",
       "  379.616,1045.33 379.616,155457 468.107,155457 468.107,1045.33 379.616,1045.33 \n",
       "  \"/>\n",
       "<path clip-path=\"url(#clip382)\" d=\"\n",
       "M490.229 507.581 L490.229 155457 L578.719 155457 L578.719 507.581 L490.229 507.581 L490.229 507.581  Z\n",
       "  \" fill=\"#009af9\" fill-rule=\"evenodd\" fill-opacity=\"1\"/>\n",
       "<polyline clip-path=\"url(#clip382)\" style=\"stroke:#000000; stroke-linecap:butt; stroke-linejoin:round; stroke-width:4; stroke-opacity:1; fill:none\" points=\"\n",
       "  490.229,507.581 490.229,155457 578.719,155457 578.719,507.581 490.229,507.581 \n",
       "  \"/>\n",
       "<path clip-path=\"url(#clip382)\" d=\"\n",
       "M600.842 430.759 L600.842 155457 L689.332 155457 L689.332 430.759 L600.842 430.759 L600.842 430.759  Z\n",
       "  \" fill=\"#009af9\" fill-rule=\"evenodd\" fill-opacity=\"1\"/>\n",
       "<polyline clip-path=\"url(#clip382)\" style=\"stroke:#000000; stroke-linecap:butt; stroke-linejoin:round; stroke-width:4; stroke-opacity:1; fill:none\" points=\"\n",
       "  600.842,430.759 600.842,155457 689.332,155457 689.332,430.759 600.842,430.759 \n",
       "  \"/>\n",
       "<path clip-path=\"url(#clip382)\" d=\"\n",
       "M711.455 430.759 L711.455 155457 L799.945 155457 L799.945 430.759 L711.455 430.759 L711.455 430.759  Z\n",
       "  \" fill=\"#009af9\" fill-rule=\"evenodd\" fill-opacity=\"1\"/>\n",
       "<polyline clip-path=\"url(#clip382)\" style=\"stroke:#000000; stroke-linecap:butt; stroke-linejoin:round; stroke-width:4; stroke-opacity:1; fill:none\" points=\"\n",
       "  711.455,430.759 711.455,155457 799.945,155457 799.945,430.759 711.455,430.759 \n",
       "  \"/>\n",
       "<path clip-path=\"url(#clip382)\" d=\"\n",
       "M822.068 430.759 L822.068 155457 L910.558 155457 L910.558 430.759 L822.068 430.759 L822.068 430.759  Z\n",
       "  \" fill=\"#009af9\" fill-rule=\"evenodd\" fill-opacity=\"1\"/>\n",
       "<polyline clip-path=\"url(#clip382)\" style=\"stroke:#000000; stroke-linecap:butt; stroke-linejoin:round; stroke-width:4; stroke-opacity:1; fill:none\" points=\"\n",
       "  822.068,430.759 822.068,155457 910.558,155457 910.558,430.759 822.068,430.759 \n",
       "  \"/>\n",
       "<path clip-path=\"url(#clip382)\" d=\"\n",
       "M932.681 353.937 L932.681 155457 L1021.17 155457 L1021.17 353.937 L932.681 353.937 L932.681 353.937  Z\n",
       "  \" fill=\"#009af9\" fill-rule=\"evenodd\" fill-opacity=\"1\"/>\n",
       "<polyline clip-path=\"url(#clip382)\" style=\"stroke:#000000; stroke-linecap:butt; stroke-linejoin:round; stroke-width:4; stroke-opacity:1; fill:none\" points=\"\n",
       "  932.681,353.937 932.681,155457 1021.17,155457 1021.17,353.937 932.681,353.937 \n",
       "  \"/>\n",
       "<path clip-path=\"url(#clip382)\" d=\"\n",
       "M1043.29 353.937 L1043.29 155457 L1131.78 155457 L1131.78 353.937 L1043.29 353.937 L1043.29 353.937  Z\n",
       "  \" fill=\"#009af9\" fill-rule=\"evenodd\" fill-opacity=\"1\"/>\n",
       "<polyline clip-path=\"url(#clip382)\" style=\"stroke:#000000; stroke-linecap:butt; stroke-linejoin:round; stroke-width:4; stroke-opacity:1; fill:none\" points=\"\n",
       "  1043.29,353.937 1043.29,155457 1131.78,155457 1131.78,353.937 1043.29,353.937 \n",
       "  \"/>\n",
       "<path clip-path=\"url(#clip382)\" d=\"\n",
       "M1153.91 353.937 L1153.91 155457 L1242.4 155457 L1242.4 353.937 L1153.91 353.937 L1153.91 353.937  Z\n",
       "  \" fill=\"#009af9\" fill-rule=\"evenodd\" fill-opacity=\"1\"/>\n",
       "<polyline clip-path=\"url(#clip382)\" style=\"stroke:#000000; stroke-linecap:butt; stroke-linejoin:round; stroke-width:4; stroke-opacity:1; fill:none\" points=\"\n",
       "  1153.91,353.937 1153.91,155457 1242.4,155457 1242.4,353.937 1153.91,353.937 \n",
       "  \"/>\n",
       "<path clip-path=\"url(#clip382)\" d=\"\n",
       "M1264.52 353.937 L1264.52 155457 L1353.01 155457 L1353.01 353.937 L1264.52 353.937 L1264.52 353.937  Z\n",
       "  \" fill=\"#009af9\" fill-rule=\"evenodd\" fill-opacity=\"1\"/>\n",
       "<polyline clip-path=\"url(#clip382)\" style=\"stroke:#000000; stroke-linecap:butt; stroke-linejoin:round; stroke-width:4; stroke-opacity:1; fill:none\" points=\"\n",
       "  1264.52,353.937 1264.52,155457 1353.01,155457 1353.01,353.937 1264.52,353.937 \n",
       "  \"/>\n",
       "<path clip-path=\"url(#clip382)\" d=\"\n",
       "M1375.13 277.116 L1375.13 155457 L1463.62 155457 L1463.62 277.116 L1375.13 277.116 L1375.13 277.116  Z\n",
       "  \" fill=\"#009af9\" fill-rule=\"evenodd\" fill-opacity=\"1\"/>\n",
       "<polyline clip-path=\"url(#clip382)\" style=\"stroke:#000000; stroke-linecap:butt; stroke-linejoin:round; stroke-width:4; stroke-opacity:1; fill:none\" points=\"\n",
       "  1375.13,277.116 1375.13,155457 1463.62,155457 1463.62,277.116 1375.13,277.116 \n",
       "  \"/>\n",
       "<path clip-path=\"url(#clip382)\" d=\"\n",
       "M1485.75 277.116 L1485.75 155457 L1574.24 155457 L1574.24 277.116 L1485.75 277.116 L1485.75 277.116  Z\n",
       "  \" fill=\"#009af9\" fill-rule=\"evenodd\" fill-opacity=\"1\"/>\n",
       "<polyline clip-path=\"url(#clip382)\" style=\"stroke:#000000; stroke-linecap:butt; stroke-linejoin:round; stroke-width:4; stroke-opacity:1; fill:none\" points=\"\n",
       "  1485.75,277.116 1485.75,155457 1574.24,155457 1574.24,277.116 1485.75,277.116 \n",
       "  \"/>\n",
       "<path clip-path=\"url(#clip382)\" d=\"\n",
       "M1596.36 277.116 L1596.36 155457 L1684.85 155457 L1684.85 277.116 L1596.36 277.116 L1596.36 277.116  Z\n",
       "  \" fill=\"#009af9\" fill-rule=\"evenodd\" fill-opacity=\"1\"/>\n",
       "<polyline clip-path=\"url(#clip382)\" style=\"stroke:#000000; stroke-linecap:butt; stroke-linejoin:round; stroke-width:4; stroke-opacity:1; fill:none\" points=\"\n",
       "  1596.36,277.116 1596.36,155457 1684.85,155457 1684.85,277.116 1596.36,277.116 \n",
       "  \"/>\n",
       "<path clip-path=\"url(#clip382)\" d=\"\n",
       "M1706.97 277.116 L1706.97 155457 L1795.46 155457 L1795.46 277.116 L1706.97 277.116 L1706.97 277.116  Z\n",
       "  \" fill=\"#009af9\" fill-rule=\"evenodd\" fill-opacity=\"1\"/>\n",
       "<polyline clip-path=\"url(#clip382)\" style=\"stroke:#000000; stroke-linecap:butt; stroke-linejoin:round; stroke-width:4; stroke-opacity:1; fill:none\" points=\"\n",
       "  1706.97,277.116 1706.97,155457 1795.46,155457 1795.46,277.116 1706.97,277.116 \n",
       "  \"/>\n",
       "<path clip-path=\"url(#clip382)\" d=\"\n",
       "M1817.58 277.116 L1817.58 155457 L1906.07 155457 L1906.07 277.116 L1817.58 277.116 L1817.58 277.116  Z\n",
       "  \" fill=\"#009af9\" fill-rule=\"evenodd\" fill-opacity=\"1\"/>\n",
       "<polyline clip-path=\"url(#clip382)\" style=\"stroke:#000000; stroke-linecap:butt; stroke-linejoin:round; stroke-width:4; stroke-opacity:1; fill:none\" points=\"\n",
       "  1817.58,277.116 1817.58,155457 1906.07,155457 1906.07,277.116 1817.58,277.116 \n",
       "  \"/>\n",
       "<path clip-path=\"url(#clip382)\" d=\"\n",
       "M1928.2 200.294 L1928.2 155457 L2016.69 155457 L2016.69 200.294 L1928.2 200.294 L1928.2 200.294  Z\n",
       "  \" fill=\"#009af9\" fill-rule=\"evenodd\" fill-opacity=\"1\"/>\n",
       "<polyline clip-path=\"url(#clip382)\" style=\"stroke:#000000; stroke-linecap:butt; stroke-linejoin:round; stroke-width:4; stroke-opacity:1; fill:none\" points=\"\n",
       "  1928.2,200.294 1928.2,155457 2016.69,155457 2016.69,200.294 1928.2,200.294 \n",
       "  \"/>\n",
       "<path clip-path=\"url(#clip382)\" d=\"\n",
       "M2038.81 200.294 L2038.81 155457 L2127.3 155457 L2127.3 200.294 L2038.81 200.294 L2038.81 200.294  Z\n",
       "  \" fill=\"#009af9\" fill-rule=\"evenodd\" fill-opacity=\"1\"/>\n",
       "<polyline clip-path=\"url(#clip382)\" style=\"stroke:#000000; stroke-linecap:butt; stroke-linejoin:round; stroke-width:4; stroke-opacity:1; fill:none\" points=\"\n",
       "  2038.81,200.294 2038.81,155457 2127.3,155457 2127.3,200.294 2038.81,200.294 \n",
       "  \"/>\n",
       "<path clip-path=\"url(#clip382)\" d=\"\n",
       "M2149.42 200.294 L2149.42 155457 L2237.91 155457 L2237.91 200.294 L2149.42 200.294 L2149.42 200.294  Z\n",
       "  \" fill=\"#009af9\" fill-rule=\"evenodd\" fill-opacity=\"1\"/>\n",
       "<polyline clip-path=\"url(#clip382)\" style=\"stroke:#000000; stroke-linecap:butt; stroke-linejoin:round; stroke-width:4; stroke-opacity:1; fill:none\" points=\"\n",
       "  2149.42,200.294 2149.42,155457 2237.91,155457 2237.91,200.294 2149.42,200.294 \n",
       "  \"/>\n",
       "<circle clip-path=\"url(#clip382)\" style=\"fill:#009af9; stroke:none; fill-opacity:0\" cx=\"423.861\" cy=\"1045.33\" r=\"2\"/>\n",
       "<circle clip-path=\"url(#clip382)\" style=\"fill:#009af9; stroke:none; fill-opacity:0\" cx=\"534.474\" cy=\"507.581\" r=\"2\"/>\n",
       "<circle clip-path=\"url(#clip382)\" style=\"fill:#009af9; stroke:none; fill-opacity:0\" cx=\"645.087\" cy=\"430.759\" r=\"2\"/>\n",
       "<circle clip-path=\"url(#clip382)\" style=\"fill:#009af9; stroke:none; fill-opacity:0\" cx=\"755.7\" cy=\"430.759\" r=\"2\"/>\n",
       "<circle clip-path=\"url(#clip382)\" style=\"fill:#009af9; stroke:none; fill-opacity:0\" cx=\"866.313\" cy=\"430.759\" r=\"2\"/>\n",
       "<circle clip-path=\"url(#clip382)\" style=\"fill:#009af9; stroke:none; fill-opacity:0\" cx=\"976.926\" cy=\"353.937\" r=\"2\"/>\n",
       "<circle clip-path=\"url(#clip382)\" style=\"fill:#009af9; stroke:none; fill-opacity:0\" cx=\"1087.54\" cy=\"353.937\" r=\"2\"/>\n",
       "<circle clip-path=\"url(#clip382)\" style=\"fill:#009af9; stroke:none; fill-opacity:0\" cx=\"1198.15\" cy=\"353.937\" r=\"2\"/>\n",
       "<circle clip-path=\"url(#clip382)\" style=\"fill:#009af9; stroke:none; fill-opacity:0\" cx=\"1308.76\" cy=\"353.937\" r=\"2\"/>\n",
       "<circle clip-path=\"url(#clip382)\" style=\"fill:#009af9; stroke:none; fill-opacity:0\" cx=\"1419.38\" cy=\"277.116\" r=\"2\"/>\n",
       "<circle clip-path=\"url(#clip382)\" style=\"fill:#009af9; stroke:none; fill-opacity:0\" cx=\"1529.99\" cy=\"277.116\" r=\"2\"/>\n",
       "<circle clip-path=\"url(#clip382)\" style=\"fill:#009af9; stroke:none; fill-opacity:0\" cx=\"1640.6\" cy=\"277.116\" r=\"2\"/>\n",
       "<circle clip-path=\"url(#clip382)\" style=\"fill:#009af9; stroke:none; fill-opacity:0\" cx=\"1751.22\" cy=\"277.116\" r=\"2\"/>\n",
       "<circle clip-path=\"url(#clip382)\" style=\"fill:#009af9; stroke:none; fill-opacity:0\" cx=\"1861.83\" cy=\"277.116\" r=\"2\"/>\n",
       "<circle clip-path=\"url(#clip382)\" style=\"fill:#009af9; stroke:none; fill-opacity:0\" cx=\"1972.44\" cy=\"200.294\" r=\"2\"/>\n",
       "<circle clip-path=\"url(#clip382)\" style=\"fill:#009af9; stroke:none; fill-opacity:0\" cx=\"2083.06\" cy=\"200.294\" r=\"2\"/>\n",
       "<circle clip-path=\"url(#clip382)\" style=\"fill:#009af9; stroke:none; fill-opacity:0\" cx=\"2193.67\" cy=\"200.294\" r=\"2\"/>\n",
       "</svg>\n"
      ]
     },
     "execution_count": 38,
     "metadata": {},
     "output_type": "execute_result"
    }
   ],
   "source": [
    "using Plots\n",
    "\n",
    "plot(df1.Username, df1.Year,\n",
    "     seriestype = :bar, \n",
    "     title=\"Año Ingreso a Uniandes\", \n",
    "     xlabel=\"Usuario\", \n",
    "     ylabel=\"Año\",\n",
    "     xrotation=90,\n",
    "     ylims = (2008,2022),\n",
    "     legend=false,\n",
    "     xticks=(0.5:17, df1.Username))"
   ]
  },
  {
   "cell_type": "code",
   "execution_count": 39,
   "metadata": {},
   "outputs": [
    {
     "data": {
      "image/svg+xml": [
       "<?xml version=\"1.0\" encoding=\"utf-8\"?>\n",
       "<svg xmlns=\"http://www.w3.org/2000/svg\" xmlns:xlink=\"http://www.w3.org/1999/xlink\" width=\"600\" height=\"400\" viewBox=\"0 0 2400 1600\">\n",
       "<defs>\n",
       "  <clipPath id=\"clip420\">\n",
       "    <rect x=\"0\" y=\"0\" width=\"2400\" height=\"1600\"/>\n",
       "  </clipPath>\n",
       "</defs>\n",
       "<path clip-path=\"url(#clip420)\" d=\"\n",
       "M0 1600 L2400 1600 L2400 0 L0 0  Z\n",
       "  \" fill=\"#ffffff\" fill-rule=\"evenodd\" fill-opacity=\"1\"/>\n",
       "<defs>\n",
       "  <clipPath id=\"clip421\">\n",
       "    <rect x=\"480\" y=\"0\" width=\"1681\" height=\"1600\"/>\n",
       "  </clipPath>\n",
       "</defs>\n",
       "<path clip-path=\"url(#clip420)\" d=\"\n",
       "M193.936 1486.45 L2352.76 1486.45 L2352.76 47.2441 L193.936 47.2441  Z\n",
       "  \" fill=\"#ffffff\" fill-rule=\"evenodd\" fill-opacity=\"1\"/>\n",
       "<defs>\n",
       "  <clipPath id=\"clip422\">\n",
       "    <rect x=\"193\" y=\"47\" width=\"2160\" height=\"1440\"/>\n",
       "  </clipPath>\n",
       "</defs>\n",
       "<polyline clip-path=\"url(#clip422)\" style=\"stroke:#000000; stroke-linecap:butt; stroke-linejoin:round; stroke-width:2; stroke-opacity:0.1; fill:none\" points=\"\n",
       "  255.035,1486.45 255.035,47.2441 \n",
       "  \"/>\n",
       "<polyline clip-path=\"url(#clip422)\" style=\"stroke:#000000; stroke-linecap:butt; stroke-linejoin:round; stroke-width:2; stroke-opacity:0.1; fill:none\" points=\"\n",
       "  579.173,1486.45 579.173,47.2441 \n",
       "  \"/>\n",
       "<polyline clip-path=\"url(#clip422)\" style=\"stroke:#000000; stroke-linecap:butt; stroke-linejoin:round; stroke-width:2; stroke-opacity:0.1; fill:none\" points=\"\n",
       "  903.312,1486.45 903.312,47.2441 \n",
       "  \"/>\n",
       "<polyline clip-path=\"url(#clip422)\" style=\"stroke:#000000; stroke-linecap:butt; stroke-linejoin:round; stroke-width:2; stroke-opacity:0.1; fill:none\" points=\"\n",
       "  1227.45,1486.45 1227.45,47.2441 \n",
       "  \"/>\n",
       "<polyline clip-path=\"url(#clip422)\" style=\"stroke:#000000; stroke-linecap:butt; stroke-linejoin:round; stroke-width:2; stroke-opacity:0.1; fill:none\" points=\"\n",
       "  1551.59,1486.45 1551.59,47.2441 \n",
       "  \"/>\n",
       "<polyline clip-path=\"url(#clip422)\" style=\"stroke:#000000; stroke-linecap:butt; stroke-linejoin:round; stroke-width:2; stroke-opacity:0.1; fill:none\" points=\"\n",
       "  1875.73,1486.45 1875.73,47.2441 \n",
       "  \"/>\n",
       "<polyline clip-path=\"url(#clip422)\" style=\"stroke:#000000; stroke-linecap:butt; stroke-linejoin:round; stroke-width:2; stroke-opacity:0.1; fill:none\" points=\"\n",
       "  2199.87,1486.45 2199.87,47.2441 \n",
       "  \"/>\n",
       "<polyline clip-path=\"url(#clip420)\" style=\"stroke:#000000; stroke-linecap:butt; stroke-linejoin:round; stroke-width:4; stroke-opacity:1; fill:none\" points=\"\n",
       "  193.936,1486.45 2352.76,1486.45 \n",
       "  \"/>\n",
       "<polyline clip-path=\"url(#clip420)\" style=\"stroke:#000000; stroke-linecap:butt; stroke-linejoin:round; stroke-width:4; stroke-opacity:1; fill:none\" points=\"\n",
       "  255.035,1486.45 255.035,1467.55 \n",
       "  \"/>\n",
       "<polyline clip-path=\"url(#clip420)\" style=\"stroke:#000000; stroke-linecap:butt; stroke-linejoin:round; stroke-width:4; stroke-opacity:1; fill:none\" points=\"\n",
       "  579.173,1486.45 579.173,1467.55 \n",
       "  \"/>\n",
       "<polyline clip-path=\"url(#clip420)\" style=\"stroke:#000000; stroke-linecap:butt; stroke-linejoin:round; stroke-width:4; stroke-opacity:1; fill:none\" points=\"\n",
       "  903.312,1486.45 903.312,1467.55 \n",
       "  \"/>\n",
       "<polyline clip-path=\"url(#clip420)\" style=\"stroke:#000000; stroke-linecap:butt; stroke-linejoin:round; stroke-width:4; stroke-opacity:1; fill:none\" points=\"\n",
       "  1227.45,1486.45 1227.45,1467.55 \n",
       "  \"/>\n",
       "<polyline clip-path=\"url(#clip420)\" style=\"stroke:#000000; stroke-linecap:butt; stroke-linejoin:round; stroke-width:4; stroke-opacity:1; fill:none\" points=\"\n",
       "  1551.59,1486.45 1551.59,1467.55 \n",
       "  \"/>\n",
       "<polyline clip-path=\"url(#clip420)\" style=\"stroke:#000000; stroke-linecap:butt; stroke-linejoin:round; stroke-width:4; stroke-opacity:1; fill:none\" points=\"\n",
       "  1875.73,1486.45 1875.73,1467.55 \n",
       "  \"/>\n",
       "<polyline clip-path=\"url(#clip420)\" style=\"stroke:#000000; stroke-linecap:butt; stroke-linejoin:round; stroke-width:4; stroke-opacity:1; fill:none\" points=\"\n",
       "  2199.87,1486.45 2199.87,1467.55 \n",
       "  \"/>\n",
       "<path clip-path=\"url(#clip420)\" d=\"M255.035 1517.37 Q251.424 1517.37 249.595 1520.93 Q247.789 1524.47 247.789 1531.6 Q247.789 1538.71 249.595 1542.27 Q251.424 1545.82 255.035 1545.82 Q258.669 1545.82 260.474 1542.27 Q262.303 1538.71 262.303 1531.6 Q262.303 1524.47 260.474 1520.93 Q258.669 1517.37 255.035 1517.37 M255.035 1513.66 Q260.845 1513.66 263.9 1518.27 Q266.979 1522.85 266.979 1531.6 Q266.979 1540.33 263.9 1544.94 Q260.845 1549.52 255.035 1549.52 Q249.225 1549.52 246.146 1544.94 Q243.09 1540.33 243.09 1531.6 Q243.09 1522.85 246.146 1518.27 Q249.225 1513.66 255.035 1513.66 Z\" fill=\"#000000\" fill-rule=\"evenodd\" fill-opacity=\"1\" /><path clip-path=\"url(#clip420)\" d=\"M573.826 1544.91 L590.145 1544.91 L590.145 1548.85 L568.201 1548.85 L568.201 1544.91 Q570.863 1542.16 575.446 1537.53 Q580.053 1532.88 581.233 1531.53 Q583.479 1529.01 584.358 1527.27 Q585.261 1525.51 585.261 1523.82 Q585.261 1521.07 583.317 1519.33 Q581.395 1517.6 578.294 1517.6 Q576.095 1517.6 573.641 1518.36 Q571.21 1519.13 568.433 1520.68 L568.433 1515.95 Q571.257 1514.82 573.71 1514.24 Q576.164 1513.66 578.201 1513.66 Q583.571 1513.66 586.766 1516.35 Q589.96 1519.03 589.96 1523.52 Q589.96 1525.65 589.15 1527.57 Q588.363 1529.47 586.257 1532.07 Q585.678 1532.74 582.576 1535.95 Q579.474 1539.15 573.826 1544.91 Z\" fill=\"#000000\" fill-rule=\"evenodd\" fill-opacity=\"1\" /><path clip-path=\"url(#clip420)\" d=\"M906.321 1518.36 L894.516 1536.81 L906.321 1536.81 L906.321 1518.36 M905.094 1514.29 L910.974 1514.29 L910.974 1536.81 L915.904 1536.81 L915.904 1540.7 L910.974 1540.7 L910.974 1548.85 L906.321 1548.85 L906.321 1540.7 L890.719 1540.7 L890.719 1536.19 L905.094 1514.29 Z\" fill=\"#000000\" fill-rule=\"evenodd\" fill-opacity=\"1\" /><path clip-path=\"url(#clip420)\" d=\"M1227.86 1529.7 Q1224.71 1529.7 1222.86 1531.86 Q1221.03 1534.01 1221.03 1537.76 Q1221.03 1541.49 1222.86 1543.66 Q1224.71 1545.82 1227.86 1545.82 Q1231 1545.82 1232.83 1543.66 Q1234.68 1541.49 1234.68 1537.76 Q1234.68 1534.01 1232.83 1531.86 Q1231 1529.7 1227.86 1529.7 M1237.14 1515.05 L1237.14 1519.31 Q1235.38 1518.48 1233.57 1518.04 Q1231.79 1517.6 1230.03 1517.6 Q1225.4 1517.6 1222.95 1520.72 Q1220.52 1523.85 1220.17 1530.17 Q1221.54 1528.15 1223.6 1527.09 Q1225.66 1526 1228.13 1526 Q1233.34 1526 1236.35 1529.17 Q1239.38 1532.32 1239.38 1537.76 Q1239.38 1543.08 1236.23 1546.3 Q1233.09 1549.52 1227.86 1549.52 Q1221.86 1549.52 1218.69 1544.94 Q1215.52 1540.33 1215.52 1531.6 Q1215.52 1523.41 1219.41 1518.55 Q1223.3 1513.66 1229.85 1513.66 Q1231.61 1513.66 1233.39 1514.01 Q1235.19 1514.36 1237.14 1515.05 Z\" fill=\"#000000\" fill-rule=\"evenodd\" fill-opacity=\"1\" /><path clip-path=\"url(#clip420)\" d=\"M1551.59 1532.44 Q1548.26 1532.44 1546.33 1534.22 Q1544.44 1536 1544.44 1539.13 Q1544.44 1542.25 1546.33 1544.03 Q1548.26 1545.82 1551.59 1545.82 Q1554.92 1545.82 1556.84 1544.03 Q1558.76 1542.23 1558.76 1539.13 Q1558.76 1536 1556.84 1534.22 Q1554.95 1532.44 1551.59 1532.44 M1546.91 1530.45 Q1543.9 1529.7 1542.21 1527.64 Q1540.55 1525.58 1540.55 1522.62 Q1540.55 1518.48 1543.49 1516.07 Q1546.45 1513.66 1551.59 1513.66 Q1556.75 1513.66 1559.69 1516.07 Q1562.63 1518.48 1562.63 1522.62 Q1562.63 1525.58 1560.94 1527.64 Q1559.27 1529.7 1556.29 1530.45 Q1559.67 1531.23 1561.54 1533.52 Q1563.44 1535.82 1563.44 1539.13 Q1563.44 1544.15 1560.36 1546.83 Q1557.31 1549.52 1551.59 1549.52 Q1545.87 1549.52 1542.79 1546.83 Q1539.74 1544.15 1539.74 1539.13 Q1539.74 1535.82 1541.64 1533.52 Q1543.53 1531.23 1546.91 1530.45 M1545.2 1523.06 Q1545.2 1525.75 1546.87 1527.25 Q1548.56 1528.76 1551.59 1528.76 Q1554.6 1528.76 1556.29 1527.25 Q1558 1525.75 1558 1523.06 Q1558 1520.38 1556.29 1518.87 Q1554.6 1517.37 1551.59 1517.37 Q1548.56 1517.37 1546.87 1518.87 Q1545.2 1520.38 1545.2 1523.06 Z\" fill=\"#000000\" fill-rule=\"evenodd\" fill-opacity=\"1\" /><path clip-path=\"url(#clip420)\" d=\"M1850.42 1544.91 L1858.05 1544.91 L1858.05 1518.55 L1849.74 1520.21 L1849.74 1515.95 L1858.01 1514.29 L1862.68 1514.29 L1862.68 1544.91 L1870.32 1544.91 L1870.32 1548.85 L1850.42 1548.85 L1850.42 1544.91 Z\" fill=\"#000000\" fill-rule=\"evenodd\" fill-opacity=\"1\" /><path clip-path=\"url(#clip420)\" d=\"M1889.77 1517.37 Q1886.16 1517.37 1884.33 1520.93 Q1882.52 1524.47 1882.52 1531.6 Q1882.52 1538.71 1884.33 1542.27 Q1886.16 1545.82 1889.77 1545.82 Q1893.4 1545.82 1895.21 1542.27 Q1897.04 1538.71 1897.04 1531.6 Q1897.04 1524.47 1895.21 1520.93 Q1893.4 1517.37 1889.77 1517.37 M1889.77 1513.66 Q1895.58 1513.66 1898.63 1518.27 Q1901.71 1522.85 1901.71 1531.6 Q1901.71 1540.33 1898.63 1544.94 Q1895.58 1549.52 1889.77 1549.52 Q1883.96 1549.52 1880.88 1544.94 Q1877.82 1540.33 1877.82 1531.6 Q1877.82 1522.85 1880.88 1518.27 Q1883.96 1513.66 1889.77 1513.66 Z\" fill=\"#000000\" fill-rule=\"evenodd\" fill-opacity=\"1\" /><path clip-path=\"url(#clip420)\" d=\"M2175.35 1544.91 L2182.99 1544.91 L2182.99 1518.55 L2174.68 1520.21 L2174.68 1515.95 L2182.94 1514.29 L2187.62 1514.29 L2187.62 1544.91 L2195.26 1544.91 L2195.26 1548.85 L2175.35 1548.85 L2175.35 1544.91 Z\" fill=\"#000000\" fill-rule=\"evenodd\" fill-opacity=\"1\" /><path clip-path=\"url(#clip420)\" d=\"M2208.73 1544.91 L2225.05 1544.91 L2225.05 1548.85 L2203.11 1548.85 L2203.11 1544.91 Q2205.77 1542.16 2210.35 1537.53 Q2214.96 1532.88 2216.14 1531.53 Q2218.38 1529.01 2219.26 1527.27 Q2220.17 1525.51 2220.17 1523.82 Q2220.17 1521.07 2218.22 1519.33 Q2216.3 1517.6 2213.2 1517.6 Q2211 1517.6 2208.55 1518.36 Q2206.12 1519.13 2203.34 1520.68 L2203.34 1515.95 Q2206.16 1514.82 2208.62 1514.24 Q2211.07 1513.66 2213.11 1513.66 Q2218.48 1513.66 2221.67 1516.35 Q2224.87 1519.03 2224.87 1523.52 Q2224.87 1525.65 2224.06 1527.57 Q2223.27 1529.47 2221.16 1532.07 Q2220.58 1532.74 2217.48 1535.95 Q2214.38 1539.15 2208.73 1544.91 Z\" fill=\"#000000\" fill-rule=\"evenodd\" fill-opacity=\"1\" /><polyline clip-path=\"url(#clip422)\" style=\"stroke:#000000; stroke-linecap:butt; stroke-linejoin:round; stroke-width:2; stroke-opacity:0.1; fill:none\" points=\"\n",
       "  193.936,1445.72 2352.76,1445.72 \n",
       "  \"/>\n",
       "<polyline clip-path=\"url(#clip422)\" style=\"stroke:#000000; stroke-linecap:butt; stroke-linejoin:round; stroke-width:2; stroke-opacity:0.1; fill:none\" points=\"\n",
       "  193.936,1106.28 2352.76,1106.28 \n",
       "  \"/>\n",
       "<polyline clip-path=\"url(#clip422)\" style=\"stroke:#000000; stroke-linecap:butt; stroke-linejoin:round; stroke-width:2; stroke-opacity:0.1; fill:none\" points=\"\n",
       "  193.936,766.846 2352.76,766.846 \n",
       "  \"/>\n",
       "<polyline clip-path=\"url(#clip422)\" style=\"stroke:#000000; stroke-linecap:butt; stroke-linejoin:round; stroke-width:2; stroke-opacity:0.1; fill:none\" points=\"\n",
       "  193.936,427.411 2352.76,427.411 \n",
       "  \"/>\n",
       "<polyline clip-path=\"url(#clip422)\" style=\"stroke:#000000; stroke-linecap:butt; stroke-linejoin:round; stroke-width:2; stroke-opacity:0.1; fill:none\" points=\"\n",
       "  193.936,87.9763 2352.76,87.9763 \n",
       "  \"/>\n",
       "<polyline clip-path=\"url(#clip420)\" style=\"stroke:#000000; stroke-linecap:butt; stroke-linejoin:round; stroke-width:4; stroke-opacity:1; fill:none\" points=\"\n",
       "  193.936,1486.45 193.936,47.2441 \n",
       "  \"/>\n",
       "<polyline clip-path=\"url(#clip420)\" style=\"stroke:#000000; stroke-linecap:butt; stroke-linejoin:round; stroke-width:4; stroke-opacity:1; fill:none\" points=\"\n",
       "  193.936,1445.72 212.834,1445.72 \n",
       "  \"/>\n",
       "<polyline clip-path=\"url(#clip420)\" style=\"stroke:#000000; stroke-linecap:butt; stroke-linejoin:round; stroke-width:4; stroke-opacity:1; fill:none\" points=\"\n",
       "  193.936,1106.28 212.834,1106.28 \n",
       "  \"/>\n",
       "<polyline clip-path=\"url(#clip420)\" style=\"stroke:#000000; stroke-linecap:butt; stroke-linejoin:round; stroke-width:4; stroke-opacity:1; fill:none\" points=\"\n",
       "  193.936,766.846 212.834,766.846 \n",
       "  \"/>\n",
       "<polyline clip-path=\"url(#clip420)\" style=\"stroke:#000000; stroke-linecap:butt; stroke-linejoin:round; stroke-width:4; stroke-opacity:1; fill:none\" points=\"\n",
       "  193.936,427.411 212.834,427.411 \n",
       "  \"/>\n",
       "<polyline clip-path=\"url(#clip420)\" style=\"stroke:#000000; stroke-linecap:butt; stroke-linejoin:round; stroke-width:4; stroke-opacity:1; fill:none\" points=\"\n",
       "  193.936,87.9763 212.834,87.9763 \n",
       "  \"/>\n",
       "<path clip-path=\"url(#clip420)\" d=\"M50.9921 1446.17 L80.6679 1446.17 L80.6679 1450.1 L50.9921 1450.1 L50.9921 1446.17 Z\" fill=\"#000000\" fill-rule=\"evenodd\" fill-opacity=\"1\" /><path clip-path=\"url(#clip420)\" d=\"M91.5706 1459.06 L99.2095 1459.06 L99.2095 1432.69 L90.8993 1434.36 L90.8993 1430.1 L99.1632 1428.44 L103.839 1428.44 L103.839 1459.06 L111.478 1459.06 L111.478 1463 L91.5706 1463 L91.5706 1459.06 Z\" fill=\"#000000\" fill-rule=\"evenodd\" fill-opacity=\"1\" /><path clip-path=\"url(#clip420)\" d=\"M120.922 1457.12 L125.807 1457.12 L125.807 1463 L120.922 1463 L120.922 1457.12 Z\" fill=\"#000000\" fill-rule=\"evenodd\" fill-opacity=\"1\" /><path clip-path=\"url(#clip420)\" d=\"M145.992 1431.51 Q142.381 1431.51 140.552 1435.08 Q138.746 1438.62 138.746 1445.75 Q138.746 1452.86 140.552 1456.42 Q142.381 1459.96 145.992 1459.96 Q149.626 1459.96 151.431 1456.42 Q153.26 1452.86 153.26 1445.75 Q153.26 1438.62 151.431 1435.08 Q149.626 1431.51 145.992 1431.51 M145.992 1427.81 Q151.802 1427.81 154.857 1432.42 Q157.936 1437 157.936 1445.75 Q157.936 1454.48 154.857 1459.08 Q151.802 1463.67 145.992 1463.67 Q140.181 1463.67 137.103 1459.08 Q134.047 1454.48 134.047 1445.75 Q134.047 1437 137.103 1432.42 Q140.181 1427.81 145.992 1427.81 Z\" fill=\"#000000\" fill-rule=\"evenodd\" fill-opacity=\"1\" /><path clip-path=\"url(#clip420)\" d=\"M51.9875 1106.73 L81.6633 1106.73 L81.6633 1110.67 L51.9875 1110.67 L51.9875 1106.73 Z\" fill=\"#000000\" fill-rule=\"evenodd\" fill-opacity=\"1\" /><path clip-path=\"url(#clip420)\" d=\"M101.756 1092.08 Q98.1447 1092.08 96.316 1095.64 Q94.5104 1099.19 94.5104 1106.32 Q94.5104 1113.42 96.316 1116.99 Q98.1447 1120.53 101.756 1120.53 Q105.39 1120.53 107.196 1116.99 Q109.024 1113.42 109.024 1106.32 Q109.024 1099.19 107.196 1095.64 Q105.39 1092.08 101.756 1092.08 M101.756 1088.38 Q107.566 1088.38 110.621 1092.98 Q113.7 1097.57 113.7 1106.32 Q113.7 1115.04 110.621 1119.65 Q107.566 1124.23 101.756 1124.23 Q95.9456 1124.23 92.8669 1119.65 Q89.8114 1115.04 89.8114 1106.32 Q89.8114 1097.57 92.8669 1092.98 Q95.9456 1088.38 101.756 1088.38 Z\" fill=\"#000000\" fill-rule=\"evenodd\" fill-opacity=\"1\" /><path clip-path=\"url(#clip420)\" d=\"M121.918 1117.68 L126.802 1117.68 L126.802 1123.56 L121.918 1123.56 L121.918 1117.68 Z\" fill=\"#000000\" fill-rule=\"evenodd\" fill-opacity=\"1\" /><path clip-path=\"url(#clip420)\" d=\"M137.033 1089 L155.39 1089 L155.39 1092.94 L141.316 1092.94 L141.316 1101.41 Q142.334 1101.06 143.353 1100.9 Q144.371 1100.71 145.39 1100.71 Q151.177 1100.71 154.556 1103.89 Q157.936 1107.06 157.936 1112.47 Q157.936 1118.05 154.464 1121.15 Q150.992 1124.23 144.672 1124.23 Q142.496 1124.23 140.228 1123.86 Q137.982 1123.49 135.575 1122.75 L135.575 1118.05 Q137.658 1119.19 139.881 1119.74 Q142.103 1120.3 144.58 1120.3 Q148.584 1120.3 150.922 1118.19 Q153.26 1116.08 153.26 1112.47 Q153.26 1108.86 150.922 1106.76 Q148.584 1104.65 144.58 1104.65 Q142.705 1104.65 140.83 1105.07 Q138.978 1105.48 137.033 1106.36 L137.033 1089 Z\" fill=\"#000000\" fill-rule=\"evenodd\" fill-opacity=\"1\" /><path clip-path=\"url(#clip420)\" d=\"M100.76 752.645 Q97.1493 752.645 95.3206 756.209 Q93.515 759.751 93.515 766.881 Q93.515 773.987 95.3206 777.552 Q97.1493 781.094 100.76 781.094 Q104.395 781.094 106.2 777.552 Q108.029 773.987 108.029 766.881 Q108.029 759.751 106.2 756.209 Q104.395 752.645 100.76 752.645 M100.76 748.941 Q106.571 748.941 109.626 753.547 Q112.705 758.131 112.705 766.881 Q112.705 775.608 109.626 780.214 Q106.571 784.797 100.76 784.797 Q94.9502 784.797 91.8715 780.214 Q88.816 775.608 88.816 766.881 Q88.816 758.131 91.8715 753.547 Q94.9502 748.941 100.76 748.941 Z\" fill=\"#000000\" fill-rule=\"evenodd\" fill-opacity=\"1\" /><path clip-path=\"url(#clip420)\" d=\"M120.922 778.246 L125.807 778.246 L125.807 784.126 L120.922 784.126 L120.922 778.246 Z\" fill=\"#000000\" fill-rule=\"evenodd\" fill-opacity=\"1\" /><path clip-path=\"url(#clip420)\" d=\"M145.992 752.645 Q142.381 752.645 140.552 756.209 Q138.746 759.751 138.746 766.881 Q138.746 773.987 140.552 777.552 Q142.381 781.094 145.992 781.094 Q149.626 781.094 151.431 777.552 Q153.26 773.987 153.26 766.881 Q153.26 759.751 151.431 756.209 Q149.626 752.645 145.992 752.645 M145.992 748.941 Q151.802 748.941 154.857 753.547 Q157.936 758.131 157.936 766.881 Q157.936 775.608 154.857 780.214 Q151.802 784.797 145.992 784.797 Q140.181 784.797 137.103 780.214 Q134.047 775.608 134.047 766.881 Q134.047 758.131 137.103 753.547 Q140.181 748.941 145.992 748.941 Z\" fill=\"#000000\" fill-rule=\"evenodd\" fill-opacity=\"1\" /><path clip-path=\"url(#clip420)\" d=\"M101.756 413.21 Q98.1447 413.21 96.316 416.775 Q94.5104 420.316 94.5104 427.446 Q94.5104 434.552 96.316 438.117 Q98.1447 441.659 101.756 441.659 Q105.39 441.659 107.196 438.117 Q109.024 434.552 109.024 427.446 Q109.024 420.316 107.196 416.775 Q105.39 413.21 101.756 413.21 M101.756 409.506 Q107.566 409.506 110.621 414.113 Q113.7 418.696 113.7 427.446 Q113.7 436.173 110.621 440.779 Q107.566 445.362 101.756 445.362 Q95.9456 445.362 92.8669 440.779 Q89.8114 436.173 89.8114 427.446 Q89.8114 418.696 92.8669 414.113 Q95.9456 409.506 101.756 409.506 Z\" fill=\"#000000\" fill-rule=\"evenodd\" fill-opacity=\"1\" /><path clip-path=\"url(#clip420)\" d=\"M121.918 438.812 L126.802 438.812 L126.802 444.691 L121.918 444.691 L121.918 438.812 Z\" fill=\"#000000\" fill-rule=\"evenodd\" fill-opacity=\"1\" /><path clip-path=\"url(#clip420)\" d=\"M137.033 410.131 L155.39 410.131 L155.39 414.066 L141.316 414.066 L141.316 422.538 Q142.334 422.191 143.353 422.029 Q144.371 421.844 145.39 421.844 Q151.177 421.844 154.556 425.015 Q157.936 428.187 157.936 433.603 Q157.936 439.182 154.464 442.284 Q150.992 445.362 144.672 445.362 Q142.496 445.362 140.228 444.992 Q137.982 444.622 135.575 443.881 L135.575 439.182 Q137.658 440.316 139.881 440.872 Q142.103 441.427 144.58 441.427 Q148.584 441.427 150.922 439.321 Q153.26 437.214 153.26 433.603 Q153.26 429.992 150.922 427.886 Q148.584 425.779 144.58 425.779 Q142.705 425.779 140.83 426.196 Q138.978 426.613 137.033 427.492 L137.033 410.131 Z\" fill=\"#000000\" fill-rule=\"evenodd\" fill-opacity=\"1\" /><path clip-path=\"url(#clip420)\" d=\"M91.5706 101.321 L99.2095 101.321 L99.2095 74.9555 L90.8993 76.6222 L90.8993 72.3629 L99.1632 70.6963 L103.839 70.6963 L103.839 101.321 L111.478 101.321 L111.478 105.256 L91.5706 105.256 L91.5706 101.321 Z\" fill=\"#000000\" fill-rule=\"evenodd\" fill-opacity=\"1\" /><path clip-path=\"url(#clip420)\" d=\"M120.922 99.3767 L125.807 99.3767 L125.807 105.256 L120.922 105.256 L120.922 99.3767 Z\" fill=\"#000000\" fill-rule=\"evenodd\" fill-opacity=\"1\" /><path clip-path=\"url(#clip420)\" d=\"M145.992 73.775 Q142.381 73.775 140.552 77.3398 Q138.746 80.8814 138.746 88.011 Q138.746 95.1174 140.552 98.6822 Q142.381 102.224 145.992 102.224 Q149.626 102.224 151.431 98.6822 Q153.26 95.1174 153.26 88.011 Q153.26 80.8814 151.431 77.3398 Q149.626 73.775 145.992 73.775 M145.992 70.0713 Q151.802 70.0713 154.857 74.6777 Q157.936 79.261 157.936 88.011 Q157.936 96.7378 154.857 101.344 Q151.802 105.928 145.992 105.928 Q140.181 105.928 137.103 101.344 Q134.047 96.7378 134.047 88.011 Q134.047 79.261 137.103 74.6777 Q140.181 70.0713 145.992 70.0713 Z\" fill=\"#000000\" fill-rule=\"evenodd\" fill-opacity=\"1\" /><polyline clip-path=\"url(#clip422)\" style=\"stroke:#009af9; stroke-linecap:butt; stroke-linejoin:round; stroke-width:4; stroke-opacity:1; fill:none\" points=\"\n",
       "  255.035,766.846 297.464,591.142 339.894,427.411 382.324,286.813 424.753,178.928 467.183,111.108 509.612,87.9763 552.042,111.108 594.472,178.928 636.901,286.813 \n",
       "  679.331,427.411 721.761,591.142 764.19,766.846 806.62,942.55 849.05,1106.28 891.479,1246.88 933.909,1354.76 976.338,1422.58 1018.77,1445.72 1061.2,1422.58 \n",
       "  1103.63,1354.76 1146.06,1246.88 1188.49,1106.28 1230.92,942.55 1273.35,766.846 1315.78,591.142 1358.21,427.411 1400.63,286.813 1443.06,178.928 1485.49,111.108 \n",
       "  1527.92,87.9763 1570.35,111.108 1612.78,178.928 1655.21,286.813 1697.64,427.411 1740.07,591.142 1782.5,766.846 1824.93,942.55 1867.36,1106.28 1909.79,1246.88 \n",
       "  1952.22,1354.76 1994.65,1422.58 2037.08,1445.72 2079.51,1422.58 2121.94,1354.76 2164.37,1246.88 2206.8,1106.28 2249.23,942.55 2291.66,766.846 \n",
       "  \"/>\n",
       "<circle clip-path=\"url(#clip422)\" cx=\"255.035\" cy=\"87.9763\" r=\"14\" fill=\"#e26f46\" fill-rule=\"evenodd\" fill-opacity=\"1\" stroke=\"#000000\" stroke-opacity=\"1\" stroke-width=\"3.2\"/>\n",
       "<circle clip-path=\"url(#clip422)\" cx=\"297.464\" cy=\"111.108\" r=\"14\" fill=\"#e26f46\" fill-rule=\"evenodd\" fill-opacity=\"1\" stroke=\"#000000\" stroke-opacity=\"1\" stroke-width=\"3.2\"/>\n",
       "<circle clip-path=\"url(#clip422)\" cx=\"339.894\" cy=\"178.928\" r=\"14\" fill=\"#e26f46\" fill-rule=\"evenodd\" fill-opacity=\"1\" stroke=\"#000000\" stroke-opacity=\"1\" stroke-width=\"3.2\"/>\n",
       "<circle clip-path=\"url(#clip422)\" cx=\"382.324\" cy=\"286.813\" r=\"14\" fill=\"#e26f46\" fill-rule=\"evenodd\" fill-opacity=\"1\" stroke=\"#000000\" stroke-opacity=\"1\" stroke-width=\"3.2\"/>\n",
       "<circle clip-path=\"url(#clip422)\" cx=\"424.753\" cy=\"427.411\" r=\"14\" fill=\"#e26f46\" fill-rule=\"evenodd\" fill-opacity=\"1\" stroke=\"#000000\" stroke-opacity=\"1\" stroke-width=\"3.2\"/>\n",
       "<circle clip-path=\"url(#clip422)\" cx=\"467.183\" cy=\"591.142\" r=\"14\" fill=\"#e26f46\" fill-rule=\"evenodd\" fill-opacity=\"1\" stroke=\"#000000\" stroke-opacity=\"1\" stroke-width=\"3.2\"/>\n",
       "<circle clip-path=\"url(#clip422)\" cx=\"509.612\" cy=\"766.846\" r=\"14\" fill=\"#e26f46\" fill-rule=\"evenodd\" fill-opacity=\"1\" stroke=\"#000000\" stroke-opacity=\"1\" stroke-width=\"3.2\"/>\n",
       "<circle clip-path=\"url(#clip422)\" cx=\"552.042\" cy=\"942.55\" r=\"14\" fill=\"#e26f46\" fill-rule=\"evenodd\" fill-opacity=\"1\" stroke=\"#000000\" stroke-opacity=\"1\" stroke-width=\"3.2\"/>\n",
       "<circle clip-path=\"url(#clip422)\" cx=\"594.472\" cy=\"1106.28\" r=\"14\" fill=\"#e26f46\" fill-rule=\"evenodd\" fill-opacity=\"1\" stroke=\"#000000\" stroke-opacity=\"1\" stroke-width=\"3.2\"/>\n",
       "<circle clip-path=\"url(#clip422)\" cx=\"636.901\" cy=\"1246.88\" r=\"14\" fill=\"#e26f46\" fill-rule=\"evenodd\" fill-opacity=\"1\" stroke=\"#000000\" stroke-opacity=\"1\" stroke-width=\"3.2\"/>\n",
       "<circle clip-path=\"url(#clip422)\" cx=\"679.331\" cy=\"1354.76\" r=\"14\" fill=\"#e26f46\" fill-rule=\"evenodd\" fill-opacity=\"1\" stroke=\"#000000\" stroke-opacity=\"1\" stroke-width=\"3.2\"/>\n",
       "<circle clip-path=\"url(#clip422)\" cx=\"721.761\" cy=\"1422.58\" r=\"14\" fill=\"#e26f46\" fill-rule=\"evenodd\" fill-opacity=\"1\" stroke=\"#000000\" stroke-opacity=\"1\" stroke-width=\"3.2\"/>\n",
       "<circle clip-path=\"url(#clip422)\" cx=\"764.19\" cy=\"1445.72\" r=\"14\" fill=\"#e26f46\" fill-rule=\"evenodd\" fill-opacity=\"1\" stroke=\"#000000\" stroke-opacity=\"1\" stroke-width=\"3.2\"/>\n",
       "<circle clip-path=\"url(#clip422)\" cx=\"806.62\" cy=\"1422.58\" r=\"14\" fill=\"#e26f46\" fill-rule=\"evenodd\" fill-opacity=\"1\" stroke=\"#000000\" stroke-opacity=\"1\" stroke-width=\"3.2\"/>\n",
       "<circle clip-path=\"url(#clip422)\" cx=\"849.05\" cy=\"1354.76\" r=\"14\" fill=\"#e26f46\" fill-rule=\"evenodd\" fill-opacity=\"1\" stroke=\"#000000\" stroke-opacity=\"1\" stroke-width=\"3.2\"/>\n",
       "<circle clip-path=\"url(#clip422)\" cx=\"891.479\" cy=\"1246.88\" r=\"14\" fill=\"#e26f46\" fill-rule=\"evenodd\" fill-opacity=\"1\" stroke=\"#000000\" stroke-opacity=\"1\" stroke-width=\"3.2\"/>\n",
       "<circle clip-path=\"url(#clip422)\" cx=\"933.909\" cy=\"1106.28\" r=\"14\" fill=\"#e26f46\" fill-rule=\"evenodd\" fill-opacity=\"1\" stroke=\"#000000\" stroke-opacity=\"1\" stroke-width=\"3.2\"/>\n",
       "<circle clip-path=\"url(#clip422)\" cx=\"976.338\" cy=\"942.55\" r=\"14\" fill=\"#e26f46\" fill-rule=\"evenodd\" fill-opacity=\"1\" stroke=\"#000000\" stroke-opacity=\"1\" stroke-width=\"3.2\"/>\n",
       "<circle clip-path=\"url(#clip422)\" cx=\"1018.77\" cy=\"766.846\" r=\"14\" fill=\"#e26f46\" fill-rule=\"evenodd\" fill-opacity=\"1\" stroke=\"#000000\" stroke-opacity=\"1\" stroke-width=\"3.2\"/>\n",
       "<circle clip-path=\"url(#clip422)\" cx=\"1061.2\" cy=\"591.142\" r=\"14\" fill=\"#e26f46\" fill-rule=\"evenodd\" fill-opacity=\"1\" stroke=\"#000000\" stroke-opacity=\"1\" stroke-width=\"3.2\"/>\n",
       "<circle clip-path=\"url(#clip422)\" cx=\"1103.63\" cy=\"427.411\" r=\"14\" fill=\"#e26f46\" fill-rule=\"evenodd\" fill-opacity=\"1\" stroke=\"#000000\" stroke-opacity=\"1\" stroke-width=\"3.2\"/>\n",
       "<circle clip-path=\"url(#clip422)\" cx=\"1146.06\" cy=\"286.813\" r=\"14\" fill=\"#e26f46\" fill-rule=\"evenodd\" fill-opacity=\"1\" stroke=\"#000000\" stroke-opacity=\"1\" stroke-width=\"3.2\"/>\n",
       "<circle clip-path=\"url(#clip422)\" cx=\"1188.49\" cy=\"178.928\" r=\"14\" fill=\"#e26f46\" fill-rule=\"evenodd\" fill-opacity=\"1\" stroke=\"#000000\" stroke-opacity=\"1\" stroke-width=\"3.2\"/>\n",
       "<circle clip-path=\"url(#clip422)\" cx=\"1230.92\" cy=\"111.108\" r=\"14\" fill=\"#e26f46\" fill-rule=\"evenodd\" fill-opacity=\"1\" stroke=\"#000000\" stroke-opacity=\"1\" stroke-width=\"3.2\"/>\n",
       "<circle clip-path=\"url(#clip422)\" cx=\"1273.35\" cy=\"87.9763\" r=\"14\" fill=\"#e26f46\" fill-rule=\"evenodd\" fill-opacity=\"1\" stroke=\"#000000\" stroke-opacity=\"1\" stroke-width=\"3.2\"/>\n",
       "<circle clip-path=\"url(#clip422)\" cx=\"1315.78\" cy=\"111.108\" r=\"14\" fill=\"#e26f46\" fill-rule=\"evenodd\" fill-opacity=\"1\" stroke=\"#000000\" stroke-opacity=\"1\" stroke-width=\"3.2\"/>\n",
       "<circle clip-path=\"url(#clip422)\" cx=\"1358.21\" cy=\"178.928\" r=\"14\" fill=\"#e26f46\" fill-rule=\"evenodd\" fill-opacity=\"1\" stroke=\"#000000\" stroke-opacity=\"1\" stroke-width=\"3.2\"/>\n",
       "<circle clip-path=\"url(#clip422)\" cx=\"1400.63\" cy=\"286.813\" r=\"14\" fill=\"#e26f46\" fill-rule=\"evenodd\" fill-opacity=\"1\" stroke=\"#000000\" stroke-opacity=\"1\" stroke-width=\"3.2\"/>\n",
       "<circle clip-path=\"url(#clip422)\" cx=\"1443.06\" cy=\"427.411\" r=\"14\" fill=\"#e26f46\" fill-rule=\"evenodd\" fill-opacity=\"1\" stroke=\"#000000\" stroke-opacity=\"1\" stroke-width=\"3.2\"/>\n",
       "<circle clip-path=\"url(#clip422)\" cx=\"1485.49\" cy=\"591.142\" r=\"14\" fill=\"#e26f46\" fill-rule=\"evenodd\" fill-opacity=\"1\" stroke=\"#000000\" stroke-opacity=\"1\" stroke-width=\"3.2\"/>\n",
       "<circle clip-path=\"url(#clip422)\" cx=\"1527.92\" cy=\"766.846\" r=\"14\" fill=\"#e26f46\" fill-rule=\"evenodd\" fill-opacity=\"1\" stroke=\"#000000\" stroke-opacity=\"1\" stroke-width=\"3.2\"/>\n",
       "<circle clip-path=\"url(#clip422)\" cx=\"1570.35\" cy=\"942.55\" r=\"14\" fill=\"#e26f46\" fill-rule=\"evenodd\" fill-opacity=\"1\" stroke=\"#000000\" stroke-opacity=\"1\" stroke-width=\"3.2\"/>\n",
       "<circle clip-path=\"url(#clip422)\" cx=\"1612.78\" cy=\"1106.28\" r=\"14\" fill=\"#e26f46\" fill-rule=\"evenodd\" fill-opacity=\"1\" stroke=\"#000000\" stroke-opacity=\"1\" stroke-width=\"3.2\"/>\n",
       "<circle clip-path=\"url(#clip422)\" cx=\"1655.21\" cy=\"1246.88\" r=\"14\" fill=\"#e26f46\" fill-rule=\"evenodd\" fill-opacity=\"1\" stroke=\"#000000\" stroke-opacity=\"1\" stroke-width=\"3.2\"/>\n",
       "<circle clip-path=\"url(#clip422)\" cx=\"1697.64\" cy=\"1354.76\" r=\"14\" fill=\"#e26f46\" fill-rule=\"evenodd\" fill-opacity=\"1\" stroke=\"#000000\" stroke-opacity=\"1\" stroke-width=\"3.2\"/>\n",
       "<circle clip-path=\"url(#clip422)\" cx=\"1740.07\" cy=\"1422.58\" r=\"14\" fill=\"#e26f46\" fill-rule=\"evenodd\" fill-opacity=\"1\" stroke=\"#000000\" stroke-opacity=\"1\" stroke-width=\"3.2\"/>\n",
       "<circle clip-path=\"url(#clip422)\" cx=\"1782.5\" cy=\"1445.72\" r=\"14\" fill=\"#e26f46\" fill-rule=\"evenodd\" fill-opacity=\"1\" stroke=\"#000000\" stroke-opacity=\"1\" stroke-width=\"3.2\"/>\n",
       "<circle clip-path=\"url(#clip422)\" cx=\"1824.93\" cy=\"1422.58\" r=\"14\" fill=\"#e26f46\" fill-rule=\"evenodd\" fill-opacity=\"1\" stroke=\"#000000\" stroke-opacity=\"1\" stroke-width=\"3.2\"/>\n",
       "<circle clip-path=\"url(#clip422)\" cx=\"1867.36\" cy=\"1354.76\" r=\"14\" fill=\"#e26f46\" fill-rule=\"evenodd\" fill-opacity=\"1\" stroke=\"#000000\" stroke-opacity=\"1\" stroke-width=\"3.2\"/>\n",
       "<circle clip-path=\"url(#clip422)\" cx=\"1909.79\" cy=\"1246.88\" r=\"14\" fill=\"#e26f46\" fill-rule=\"evenodd\" fill-opacity=\"1\" stroke=\"#000000\" stroke-opacity=\"1\" stroke-width=\"3.2\"/>\n",
       "<circle clip-path=\"url(#clip422)\" cx=\"1952.22\" cy=\"1106.28\" r=\"14\" fill=\"#e26f46\" fill-rule=\"evenodd\" fill-opacity=\"1\" stroke=\"#000000\" stroke-opacity=\"1\" stroke-width=\"3.2\"/>\n",
       "<circle clip-path=\"url(#clip422)\" cx=\"1994.65\" cy=\"942.55\" r=\"14\" fill=\"#e26f46\" fill-rule=\"evenodd\" fill-opacity=\"1\" stroke=\"#000000\" stroke-opacity=\"1\" stroke-width=\"3.2\"/>\n",
       "<circle clip-path=\"url(#clip422)\" cx=\"2037.08\" cy=\"766.846\" r=\"14\" fill=\"#e26f46\" fill-rule=\"evenodd\" fill-opacity=\"1\" stroke=\"#000000\" stroke-opacity=\"1\" stroke-width=\"3.2\"/>\n",
       "<circle clip-path=\"url(#clip422)\" cx=\"2079.51\" cy=\"591.142\" r=\"14\" fill=\"#e26f46\" fill-rule=\"evenodd\" fill-opacity=\"1\" stroke=\"#000000\" stroke-opacity=\"1\" stroke-width=\"3.2\"/>\n",
       "<circle clip-path=\"url(#clip422)\" cx=\"2121.94\" cy=\"427.411\" r=\"14\" fill=\"#e26f46\" fill-rule=\"evenodd\" fill-opacity=\"1\" stroke=\"#000000\" stroke-opacity=\"1\" stroke-width=\"3.2\"/>\n",
       "<circle clip-path=\"url(#clip422)\" cx=\"2164.37\" cy=\"286.813\" r=\"14\" fill=\"#e26f46\" fill-rule=\"evenodd\" fill-opacity=\"1\" stroke=\"#000000\" stroke-opacity=\"1\" stroke-width=\"3.2\"/>\n",
       "<circle clip-path=\"url(#clip422)\" cx=\"2206.8\" cy=\"178.928\" r=\"14\" fill=\"#e26f46\" fill-rule=\"evenodd\" fill-opacity=\"1\" stroke=\"#000000\" stroke-opacity=\"1\" stroke-width=\"3.2\"/>\n",
       "<circle clip-path=\"url(#clip422)\" cx=\"2249.23\" cy=\"111.108\" r=\"14\" fill=\"#e26f46\" fill-rule=\"evenodd\" fill-opacity=\"1\" stroke=\"#000000\" stroke-opacity=\"1\" stroke-width=\"3.2\"/>\n",
       "<circle clip-path=\"url(#clip422)\" cx=\"2291.66\" cy=\"87.9763\" r=\"14\" fill=\"#e26f46\" fill-rule=\"evenodd\" fill-opacity=\"1\" stroke=\"#000000\" stroke-opacity=\"1\" stroke-width=\"3.2\"/>\n",
       "<path clip-path=\"url(#clip420)\" d=\"\n",
       "M1902.8 250.738 L2280.8 250.738 L2280.8 95.2176 L1902.8 95.2176  Z\n",
       "  \" fill=\"#ffffff\" fill-rule=\"evenodd\" fill-opacity=\"1\"/>\n",
       "<polyline clip-path=\"url(#clip420)\" style=\"stroke:#000000; stroke-linecap:butt; stroke-linejoin:round; stroke-width:4; stroke-opacity:1; fill:none\" points=\"\n",
       "  1902.8,250.738 2280.8,250.738 2280.8,95.2176 1902.8,95.2176 1902.8,250.738 \n",
       "  \"/>\n",
       "<polyline clip-path=\"url(#clip420)\" style=\"stroke:#009af9; stroke-linecap:butt; stroke-linejoin:round; stroke-width:4; stroke-opacity:1; fill:none\" points=\"\n",
       "  1926.79,147.058 2070.71,147.058 \n",
       "  \"/>\n",
       "<path clip-path=\"url(#clip420)\" d=\"M2113.12 139.176 L2113.12 143.203 Q2111.32 142.277 2109.37 141.815 Q2107.43 141.352 2105.35 141.352 Q2102.17 141.352 2100.58 142.324 Q2099 143.296 2099 145.24 Q2099 146.722 2100.14 147.578 Q2101.27 148.412 2104.7 149.176 L2106.16 149.5 Q2110.69 150.472 2112.59 152.254 Q2114.51 154.014 2114.51 157.185 Q2114.51 160.796 2111.64 162.902 Q2108.79 165.009 2103.79 165.009 Q2101.71 165.009 2099.44 164.592 Q2097.2 164.199 2094.7 163.388 L2094.7 158.99 Q2097.06 160.217 2099.35 160.842 Q2101.64 161.444 2103.89 161.444 Q2106.9 161.444 2108.52 160.426 Q2110.14 159.384 2110.14 157.509 Q2110.14 155.773 2108.96 154.847 Q2107.8 153.921 2103.84 153.064 L2102.36 152.717 Q2098.4 151.884 2096.64 150.171 Q2094.88 148.435 2094.88 145.426 Q2094.88 141.768 2097.47 139.778 Q2100.07 137.787 2104.84 137.787 Q2107.2 137.787 2109.28 138.134 Q2111.36 138.481 2113.12 139.176 Z\" fill=\"#000000\" fill-rule=\"evenodd\" fill-opacity=\"1\" /><path clip-path=\"url(#clip420)\" d=\"M2121.29 138.412 L2125.55 138.412 L2125.55 164.338 L2121.29 164.338 L2121.29 138.412 M2121.29 128.319 L2125.55 128.319 L2125.55 133.713 L2121.29 133.713 L2121.29 128.319 Z\" fill=\"#000000\" fill-rule=\"evenodd\" fill-opacity=\"1\" /><path clip-path=\"url(#clip420)\" d=\"M2156.02 148.689 L2156.02 164.338 L2151.76 164.338 L2151.76 148.828 Q2151.76 145.148 2150.32 143.319 Q2148.89 141.49 2146.02 141.49 Q2142.57 141.49 2140.58 143.69 Q2138.59 145.889 2138.59 149.685 L2138.59 164.338 L2134.3 164.338 L2134.3 138.412 L2138.59 138.412 L2138.59 142.44 Q2140.11 140.102 2142.17 138.944 Q2144.26 137.787 2146.97 137.787 Q2151.43 137.787 2153.72 140.565 Q2156.02 143.319 2156.02 148.689 Z\" fill=\"#000000\" fill-rule=\"evenodd\" fill-opacity=\"1\" /><path clip-path=\"url(#clip420)\" d=\"M2174.74 128.366 Q2171.64 133.69 2170.14 138.898 Q2168.63 144.106 2168.63 149.453 Q2168.63 154.801 2170.14 160.055 Q2171.66 165.287 2174.74 170.588 L2171.04 170.588 Q2167.57 165.148 2165.83 159.893 Q2164.12 154.639 2164.12 149.453 Q2164.12 144.291 2165.83 139.06 Q2167.54 133.828 2171.04 128.366 L2174.74 128.366 Z\" fill=\"#000000\" fill-rule=\"evenodd\" fill-opacity=\"1\" /><path clip-path=\"url(#clip420)\" d=\"M2204.56 138.412 L2195.18 151.027 L2205.04 164.338 L2200.02 164.338 L2192.47 154.152 L2184.93 164.338 L2179.91 164.338 L2189.97 150.773 L2180.76 138.412 L2185.78 138.412 L2192.66 147.648 L2199.53 138.412 L2204.56 138.412 Z\" fill=\"#000000\" fill-rule=\"evenodd\" fill-opacity=\"1\" /><path clip-path=\"url(#clip420)\" d=\"M2210.39 128.366 L2214.09 128.366 Q2217.57 133.828 2219.28 139.06 Q2221.02 144.291 2221.02 149.453 Q2221.02 154.639 2219.28 159.893 Q2217.57 165.148 2214.09 170.588 L2210.39 170.588 Q2213.47 165.287 2214.97 160.055 Q2216.5 154.801 2216.5 149.453 Q2216.5 144.106 2214.97 138.898 Q2213.47 133.69 2210.39 128.366 Z\" fill=\"#000000\" fill-rule=\"evenodd\" fill-opacity=\"1\" /><circle clip-path=\"url(#clip420)\" cx=\"1998.75\" cy=\"198.898\" r=\"23\" fill=\"#e26f46\" fill-rule=\"evenodd\" fill-opacity=\"1\" stroke=\"#000000\" stroke-opacity=\"1\" stroke-width=\"5.12\"/>\n",
       "<path clip-path=\"url(#clip420)\" d=\"M2115.21 191.247 L2115.21 195.229 Q2113.4 194.233 2111.57 193.747 Q2109.77 193.238 2107.91 193.238 Q2103.77 193.238 2101.48 195.877 Q2099.19 198.492 2099.19 203.238 Q2099.19 207.983 2101.48 210.622 Q2103.77 213.238 2107.91 213.238 Q2109.77 213.238 2111.57 212.752 Q2113.4 212.242 2115.21 211.247 L2115.21 215.182 Q2113.42 216.016 2111.5 216.432 Q2109.6 216.849 2107.45 216.849 Q2101.6 216.849 2098.15 213.168 Q2094.7 209.488 2094.7 203.238 Q2094.7 196.895 2098.17 193.261 Q2101.66 189.627 2107.73 189.627 Q2109.7 189.627 2111.57 190.043 Q2113.45 190.437 2115.21 191.247 Z\" fill=\"#000000\" fill-rule=\"evenodd\" fill-opacity=\"1\" /><path clip-path=\"url(#clip420)\" d=\"M2132.66 193.238 Q2129.23 193.238 2127.24 195.923 Q2125.25 198.585 2125.25 203.238 Q2125.25 207.891 2127.22 210.576 Q2129.21 213.238 2132.66 213.238 Q2136.06 213.238 2138.05 210.553 Q2140.04 207.867 2140.04 203.238 Q2140.04 198.631 2138.05 195.946 Q2136.06 193.238 2132.66 193.238 M2132.66 189.627 Q2138.22 189.627 2141.39 193.238 Q2144.56 196.849 2144.56 203.238 Q2144.56 209.604 2141.39 213.238 Q2138.22 216.849 2132.66 216.849 Q2127.08 216.849 2123.91 213.238 Q2120.76 209.604 2120.76 203.238 Q2120.76 196.849 2123.91 193.238 Q2127.08 189.627 2132.66 189.627 Z\" fill=\"#000000\" fill-rule=\"evenodd\" fill-opacity=\"1\" /><path clip-path=\"url(#clip420)\" d=\"M2168.15 191.016 L2168.15 195.043 Q2166.34 194.117 2164.4 193.655 Q2162.45 193.192 2160.37 193.192 Q2157.2 193.192 2155.6 194.164 Q2154.03 195.136 2154.03 197.08 Q2154.03 198.562 2155.16 199.418 Q2156.29 200.252 2159.72 201.016 L2161.18 201.34 Q2165.72 202.312 2167.61 204.094 Q2169.53 205.854 2169.53 209.025 Q2169.53 212.636 2166.66 214.742 Q2163.82 216.849 2158.82 216.849 Q2156.73 216.849 2154.47 216.432 Q2152.22 216.039 2149.72 215.228 L2149.72 210.83 Q2152.08 212.057 2154.37 212.682 Q2156.66 213.284 2158.91 213.284 Q2161.92 213.284 2163.54 212.266 Q2165.16 211.224 2165.16 209.349 Q2165.16 207.613 2163.98 206.687 Q2162.82 205.761 2158.86 204.904 L2157.38 204.557 Q2153.42 203.724 2151.66 202.011 Q2149.91 200.275 2149.91 197.266 Q2149.91 193.608 2152.5 191.618 Q2155.09 189.627 2159.86 189.627 Q2162.22 189.627 2164.3 189.974 Q2166.39 190.321 2168.15 191.016 Z\" fill=\"#000000\" fill-rule=\"evenodd\" fill-opacity=\"1\" /><path clip-path=\"url(#clip420)\" d=\"M2186.55 180.206 Q2183.45 185.53 2181.94 190.738 Q2180.44 195.946 2180.44 201.293 Q2180.44 206.641 2181.94 211.895 Q2183.47 217.127 2186.55 222.428 L2182.84 222.428 Q2179.37 216.988 2177.64 211.733 Q2175.92 206.479 2175.92 201.293 Q2175.92 196.131 2177.64 190.9 Q2179.35 185.668 2182.84 180.206 L2186.55 180.206 Z\" fill=\"#000000\" fill-rule=\"evenodd\" fill-opacity=\"1\" /><path clip-path=\"url(#clip420)\" d=\"M2216.36 190.252 L2206.99 202.867 L2216.85 216.178 L2211.83 216.178 L2204.28 205.992 L2196.73 216.178 L2191.71 216.178 L2201.78 202.613 L2192.57 190.252 L2197.59 190.252 L2204.47 199.488 L2211.34 190.252 L2216.36 190.252 Z\" fill=\"#000000\" fill-rule=\"evenodd\" fill-opacity=\"1\" /><path clip-path=\"url(#clip420)\" d=\"M2222.2 180.206 L2225.9 180.206 Q2229.37 185.668 2231.09 190.9 Q2232.82 196.131 2232.82 201.293 Q2232.82 206.479 2231.09 211.733 Q2229.37 216.988 2225.9 222.428 L2222.2 222.428 Q2225.28 217.127 2226.78 211.895 Q2228.31 206.641 2228.31 201.293 Q2228.31 195.946 2226.78 190.738 Q2225.28 185.53 2222.2 180.206 Z\" fill=\"#000000\" fill-rule=\"evenodd\" fill-opacity=\"1\" /></svg>\n"
      ]
     },
     "execution_count": 39,
     "metadata": {},
     "output_type": "execute_result"
    }
   ],
   "source": [
    "#=\n",
    "Algunas propiedades de Plots.jl\n",
    "=#\n",
    "x = collect(0:π/12:4π)\n",
    "y1 = [sin(i) for i in x]\n",
    "y2 = cos.(x)\n",
    "\n",
    "plot(x, y1, label=\"sin(x)\")\n",
    "scatter!(x, y2, label=\"cos(x)\")"
   ]
  },
  {
   "cell_type": "code",
   "execution_count": 40,
   "metadata": {},
   "outputs": [
    {
     "data": {
      "image/svg+xml": [
       "<?xml version=\"1.0\" encoding=\"utf-8\"?>\n",
       "<svg xmlns=\"http://www.w3.org/2000/svg\" xmlns:xlink=\"http://www.w3.org/1999/xlink\" width=\"600\" height=\"400\" viewBox=\"0 0 2400 1600\">\n",
       "<defs>\n",
       "  <clipPath id=\"clip460\">\n",
       "    <rect x=\"0\" y=\"0\" width=\"2400\" height=\"1600\"/>\n",
       "  </clipPath>\n",
       "</defs>\n",
       "<path clip-path=\"url(#clip460)\" d=\"\n",
       "M0 1600 L2400 1600 L2400 0 L0 0  Z\n",
       "  \" fill=\"#ffffff\" fill-rule=\"evenodd\" fill-opacity=\"1\"/>\n",
       "<defs>\n",
       "  <clipPath id=\"clip461\">\n",
       "    <rect x=\"480\" y=\"0\" width=\"1681\" height=\"1600\"/>\n",
       "  </clipPath>\n",
       "</defs>\n",
       "<path clip-path=\"url(#clip460)\" d=\"\n",
       "M257.204 1423.18 L2352.76 1423.18 L2352.76 123.472 L257.204 123.472  Z\n",
       "  \" fill=\"#ffffff\" fill-rule=\"evenodd\" fill-opacity=\"1\"/>\n",
       "<defs>\n",
       "  <clipPath id=\"clip462\">\n",
       "    <rect x=\"257\" y=\"123\" width=\"2097\" height=\"1301\"/>\n",
       "  </clipPath>\n",
       "</defs>\n",
       "<polyline clip-path=\"url(#clip462)\" style=\"stroke:#000000; stroke-linecap:butt; stroke-linejoin:round; stroke-width:2; stroke-opacity:0.1; fill:none\" points=\"\n",
       "  316.512,1423.18 316.512,123.472 \n",
       "  \"/>\n",
       "<polyline clip-path=\"url(#clip462)\" style=\"stroke:#000000; stroke-linecap:butt; stroke-linejoin:round; stroke-width:2; stroke-opacity:0.1; fill:none\" points=\"\n",
       "  631.151,1423.18 631.151,123.472 \n",
       "  \"/>\n",
       "<polyline clip-path=\"url(#clip462)\" style=\"stroke:#000000; stroke-linecap:butt; stroke-linejoin:round; stroke-width:2; stroke-opacity:0.1; fill:none\" points=\"\n",
       "  945.79,1423.18 945.79,123.472 \n",
       "  \"/>\n",
       "<polyline clip-path=\"url(#clip462)\" style=\"stroke:#000000; stroke-linecap:butt; stroke-linejoin:round; stroke-width:2; stroke-opacity:0.1; fill:none\" points=\"\n",
       "  1260.43,1423.18 1260.43,123.472 \n",
       "  \"/>\n",
       "<polyline clip-path=\"url(#clip462)\" style=\"stroke:#000000; stroke-linecap:butt; stroke-linejoin:round; stroke-width:2; stroke-opacity:0.1; fill:none\" points=\"\n",
       "  1575.07,1423.18 1575.07,123.472 \n",
       "  \"/>\n",
       "<polyline clip-path=\"url(#clip462)\" style=\"stroke:#000000; stroke-linecap:butt; stroke-linejoin:round; stroke-width:2; stroke-opacity:0.1; fill:none\" points=\"\n",
       "  1889.71,1423.18 1889.71,123.472 \n",
       "  \"/>\n",
       "<polyline clip-path=\"url(#clip462)\" style=\"stroke:#000000; stroke-linecap:butt; stroke-linejoin:round; stroke-width:2; stroke-opacity:0.1; fill:none\" points=\"\n",
       "  2204.35,1423.18 2204.35,123.472 \n",
       "  \"/>\n",
       "<polyline clip-path=\"url(#clip460)\" style=\"stroke:#000000; stroke-linecap:butt; stroke-linejoin:round; stroke-width:4; stroke-opacity:1; fill:none\" points=\"\n",
       "  257.204,1423.18 2352.76,1423.18 \n",
       "  \"/>\n",
       "<polyline clip-path=\"url(#clip460)\" style=\"stroke:#000000; stroke-linecap:butt; stroke-linejoin:round; stroke-width:4; stroke-opacity:1; fill:none\" points=\"\n",
       "  316.512,1423.18 316.512,1404.28 \n",
       "  \"/>\n",
       "<polyline clip-path=\"url(#clip460)\" style=\"stroke:#000000; stroke-linecap:butt; stroke-linejoin:round; stroke-width:4; stroke-opacity:1; fill:none\" points=\"\n",
       "  631.151,1423.18 631.151,1404.28 \n",
       "  \"/>\n",
       "<polyline clip-path=\"url(#clip460)\" style=\"stroke:#000000; stroke-linecap:butt; stroke-linejoin:round; stroke-width:4; stroke-opacity:1; fill:none\" points=\"\n",
       "  945.79,1423.18 945.79,1404.28 \n",
       "  \"/>\n",
       "<polyline clip-path=\"url(#clip460)\" style=\"stroke:#000000; stroke-linecap:butt; stroke-linejoin:round; stroke-width:4; stroke-opacity:1; fill:none\" points=\"\n",
       "  1260.43,1423.18 1260.43,1404.28 \n",
       "  \"/>\n",
       "<polyline clip-path=\"url(#clip460)\" style=\"stroke:#000000; stroke-linecap:butt; stroke-linejoin:round; stroke-width:4; stroke-opacity:1; fill:none\" points=\"\n",
       "  1575.07,1423.18 1575.07,1404.28 \n",
       "  \"/>\n",
       "<polyline clip-path=\"url(#clip460)\" style=\"stroke:#000000; stroke-linecap:butt; stroke-linejoin:round; stroke-width:4; stroke-opacity:1; fill:none\" points=\"\n",
       "  1889.71,1423.18 1889.71,1404.28 \n",
       "  \"/>\n",
       "<polyline clip-path=\"url(#clip460)\" style=\"stroke:#000000; stroke-linecap:butt; stroke-linejoin:round; stroke-width:4; stroke-opacity:1; fill:none\" points=\"\n",
       "  2204.35,1423.18 2204.35,1404.28 \n",
       "  \"/>\n",
       "<path clip-path=\"url(#clip460)\" d=\"M316.512 1454.1 Q312.901 1454.1 311.072 1457.66 Q309.267 1461.2 309.267 1468.33 Q309.267 1475.44 311.072 1479.01 Q312.901 1482.55 316.512 1482.55 Q320.146 1482.55 321.952 1479.01 Q323.781 1475.44 323.781 1468.33 Q323.781 1461.2 321.952 1457.66 Q320.146 1454.1 316.512 1454.1 M316.512 1450.39 Q322.322 1450.39 325.378 1455 Q328.456 1459.58 328.456 1468.33 Q328.456 1477.06 325.378 1481.67 Q322.322 1486.25 316.512 1486.25 Q310.702 1486.25 307.623 1481.67 Q304.568 1477.06 304.568 1468.33 Q304.568 1459.58 307.623 1455 Q310.702 1450.39 316.512 1450.39 Z\" fill=\"#000000\" fill-rule=\"evenodd\" fill-opacity=\"1\" /><path clip-path=\"url(#clip460)\" d=\"M625.804 1481.64 L642.123 1481.64 L642.123 1485.58 L620.179 1485.58 L620.179 1481.64 Q622.841 1478.89 627.424 1474.26 Q632.031 1469.61 633.211 1468.27 Q635.457 1465.74 636.336 1464.01 Q637.239 1462.25 637.239 1460.56 Q637.239 1457.8 635.295 1456.07 Q633.373 1454.33 630.272 1454.33 Q628.073 1454.33 625.619 1455.09 Q623.188 1455.86 620.411 1457.41 L620.411 1452.69 Q623.235 1451.55 625.688 1450.97 Q628.142 1450.39 630.179 1450.39 Q635.549 1450.39 638.744 1453.08 Q641.938 1455.77 641.938 1460.26 Q641.938 1462.39 641.128 1464.31 Q640.341 1466.2 638.234 1468.8 Q637.656 1469.47 634.554 1472.69 Q631.452 1475.88 625.804 1481.64 Z\" fill=\"#000000\" fill-rule=\"evenodd\" fill-opacity=\"1\" /><path clip-path=\"url(#clip460)\" d=\"M948.8 1455.09 L936.994 1473.54 L948.8 1473.54 L948.8 1455.09 M947.573 1451.02 L953.452 1451.02 L953.452 1473.54 L958.383 1473.54 L958.383 1477.43 L953.452 1477.43 L953.452 1485.58 L948.8 1485.58 L948.8 1477.43 L933.198 1477.43 L933.198 1472.92 L947.573 1451.02 Z\" fill=\"#000000\" fill-rule=\"evenodd\" fill-opacity=\"1\" /><path clip-path=\"url(#clip460)\" d=\"M1260.83 1466.44 Q1257.69 1466.44 1255.83 1468.59 Q1254.01 1470.74 1254.01 1474.49 Q1254.01 1478.22 1255.83 1480.39 Q1257.69 1482.55 1260.83 1482.55 Q1263.98 1482.55 1265.81 1480.39 Q1267.66 1478.22 1267.66 1474.49 Q1267.66 1470.74 1265.81 1468.59 Q1263.98 1466.44 1260.83 1466.44 M1270.12 1451.78 L1270.12 1456.04 Q1268.36 1455.21 1266.55 1454.77 Q1264.77 1454.33 1263.01 1454.33 Q1258.38 1454.33 1255.93 1457.45 Q1253.5 1460.58 1253.15 1466.9 Q1254.52 1464.89 1256.58 1463.82 Q1258.64 1462.73 1261.11 1462.73 Q1266.32 1462.73 1269.33 1465.9 Q1272.36 1469.05 1272.36 1474.49 Q1272.36 1479.82 1269.21 1483.03 Q1266.07 1486.25 1260.83 1486.25 Q1254.84 1486.25 1251.67 1481.67 Q1248.5 1477.06 1248.5 1468.33 Q1248.5 1460.14 1252.39 1455.28 Q1256.27 1450.39 1262.83 1450.39 Q1264.58 1450.39 1266.37 1450.74 Q1268.17 1451.09 1270.12 1451.78 Z\" fill=\"#000000\" fill-rule=\"evenodd\" fill-opacity=\"1\" /><path clip-path=\"url(#clip460)\" d=\"M1575.07 1469.17 Q1571.74 1469.17 1569.81 1470.95 Q1567.92 1472.73 1567.92 1475.86 Q1567.92 1478.98 1569.81 1480.77 Q1571.74 1482.55 1575.07 1482.55 Q1578.4 1482.55 1580.32 1480.77 Q1582.24 1478.96 1582.24 1475.86 Q1582.24 1472.73 1580.32 1470.95 Q1578.42 1469.17 1575.07 1469.17 M1570.39 1467.18 Q1567.38 1466.44 1565.69 1464.38 Q1564.03 1462.32 1564.03 1459.35 Q1564.03 1455.21 1566.97 1452.8 Q1569.93 1450.39 1575.07 1450.39 Q1580.23 1450.39 1583.17 1452.8 Q1586.11 1455.21 1586.11 1459.35 Q1586.11 1462.32 1584.42 1464.38 Q1582.75 1466.44 1579.77 1467.18 Q1583.15 1467.96 1585.02 1470.26 Q1586.92 1472.55 1586.92 1475.86 Q1586.92 1480.88 1583.84 1483.57 Q1580.79 1486.25 1575.07 1486.25 Q1569.35 1486.25 1566.27 1483.57 Q1563.22 1480.88 1563.22 1475.86 Q1563.22 1472.55 1565.11 1470.26 Q1567.01 1467.96 1570.39 1467.18 M1568.68 1459.79 Q1568.68 1462.48 1570.35 1463.98 Q1572.04 1465.49 1575.07 1465.49 Q1578.08 1465.49 1579.77 1463.98 Q1581.48 1462.48 1581.48 1459.79 Q1581.48 1457.11 1579.77 1455.6 Q1578.08 1454.1 1575.07 1454.1 Q1572.04 1454.1 1570.35 1455.6 Q1568.68 1457.11 1568.68 1459.79 Z\" fill=\"#000000\" fill-rule=\"evenodd\" fill-opacity=\"1\" /><path clip-path=\"url(#clip460)\" d=\"M1864.4 1481.64 L1872.03 1481.64 L1872.03 1455.28 L1863.72 1456.95 L1863.72 1452.69 L1871.99 1451.02 L1876.66 1451.02 L1876.66 1481.64 L1884.3 1481.64 L1884.3 1485.58 L1864.4 1485.58 L1864.4 1481.64 Z\" fill=\"#000000\" fill-rule=\"evenodd\" fill-opacity=\"1\" /><path clip-path=\"url(#clip460)\" d=\"M1903.75 1454.1 Q1900.14 1454.1 1898.31 1457.66 Q1896.5 1461.2 1896.5 1468.33 Q1896.5 1475.44 1898.31 1479.01 Q1900.14 1482.55 1903.75 1482.55 Q1907.38 1482.55 1909.19 1479.01 Q1911.02 1475.44 1911.02 1468.33 Q1911.02 1461.2 1909.19 1457.66 Q1907.38 1454.1 1903.75 1454.1 M1903.75 1450.39 Q1909.56 1450.39 1912.61 1455 Q1915.69 1459.58 1915.69 1468.33 Q1915.69 1477.06 1912.61 1481.67 Q1909.56 1486.25 1903.75 1486.25 Q1897.94 1486.25 1894.86 1481.67 Q1891.8 1477.06 1891.8 1468.33 Q1891.8 1459.58 1894.86 1455 Q1897.94 1450.39 1903.75 1450.39 Z\" fill=\"#000000\" fill-rule=\"evenodd\" fill-opacity=\"1\" /><path clip-path=\"url(#clip460)\" d=\"M2179.83 1481.64 L2187.47 1481.64 L2187.47 1455.28 L2179.16 1456.95 L2179.16 1452.69 L2187.43 1451.02 L2192.1 1451.02 L2192.1 1481.64 L2199.74 1481.64 L2199.74 1485.58 L2179.83 1485.58 L2179.83 1481.64 Z\" fill=\"#000000\" fill-rule=\"evenodd\" fill-opacity=\"1\" /><path clip-path=\"url(#clip460)\" d=\"M2213.21 1481.64 L2229.53 1481.64 L2229.53 1485.58 L2207.59 1485.58 L2207.59 1481.64 Q2210.25 1478.89 2214.83 1474.26 Q2219.44 1469.61 2220.62 1468.27 Q2222.87 1465.74 2223.74 1464.01 Q2224.65 1462.25 2224.65 1460.56 Q2224.65 1457.8 2222.7 1456.07 Q2220.78 1454.33 2217.68 1454.33 Q2215.48 1454.33 2213.03 1455.09 Q2210.6 1455.86 2207.82 1457.41 L2207.82 1452.69 Q2210.64 1451.55 2213.1 1450.97 Q2215.55 1450.39 2217.59 1450.39 Q2222.96 1450.39 2226.15 1453.08 Q2229.35 1455.77 2229.35 1460.26 Q2229.35 1462.39 2228.54 1464.31 Q2227.75 1466.2 2225.64 1468.8 Q2225.06 1469.47 2221.96 1472.69 Q2218.86 1475.88 2213.21 1481.64 Z\" fill=\"#000000\" fill-rule=\"evenodd\" fill-opacity=\"1\" /><path clip-path=\"url(#clip460)\" d=\"M1184.64 1526.86 L1175.92 1550.51 L1193.39 1550.51 L1184.64 1526.86 M1181.01 1520.52 L1188.3 1520.52 L1206.41 1568.04 L1199.72 1568.04 L1195.39 1555.85 L1173.97 1555.85 L1169.65 1568.04 L1162.87 1568.04 L1181.01 1520.52 M1186.39 1507.6 L1192.28 1507.6 L1185.02 1516 L1180.15 1516 L1186.39 1507.6 Z\" fill=\"#000000\" fill-rule=\"evenodd\" fill-opacity=\"1\" /><path clip-path=\"url(#clip460)\" d=\"M1242.72 1546.53 L1242.72 1568.04 L1236.87 1568.04 L1236.87 1546.72 Q1236.87 1541.66 1234.89 1539.14 Q1232.92 1536.63 1228.97 1536.63 Q1224.23 1536.63 1221.49 1539.65 Q1218.76 1542.68 1218.76 1547.9 L1218.76 1568.04 L1212.87 1568.04 L1212.87 1532.4 L1218.76 1532.4 L1218.76 1537.93 Q1220.86 1534.72 1223.69 1533.13 Q1226.55 1531.54 1230.28 1531.54 Q1236.42 1531.54 1239.57 1535.36 Q1242.72 1539.14 1242.72 1546.53 Z\" fill=\"#000000\" fill-rule=\"evenodd\" fill-opacity=\"1\" /><path clip-path=\"url(#clip460)\" d=\"M1277.86 1549.81 Q1277.86 1543.44 1275.22 1539.94 Q1272.61 1536.44 1267.87 1536.44 Q1263.16 1536.44 1260.52 1539.94 Q1257.91 1543.44 1257.91 1549.81 Q1257.91 1556.14 1260.52 1559.64 Q1263.16 1563.14 1267.87 1563.14 Q1272.61 1563.14 1275.22 1559.64 Q1277.86 1556.14 1277.86 1549.81 M1283.72 1563.62 Q1283.72 1572.72 1279.68 1577.15 Q1275.63 1581.6 1267.29 1581.6 Q1264.21 1581.6 1261.47 1581.13 Q1258.73 1580.68 1256.15 1579.72 L1256.15 1574.03 Q1258.73 1575.43 1261.25 1576.1 Q1263.76 1576.76 1266.37 1576.76 Q1272.13 1576.76 1275 1573.74 Q1277.86 1570.75 1277.86 1564.67 L1277.86 1561.77 Q1276.05 1564.92 1273.22 1566.48 Q1270.38 1568.04 1266.44 1568.04 Q1259.88 1568.04 1255.87 1563.05 Q1251.86 1558.05 1251.86 1549.81 Q1251.86 1541.53 1255.87 1536.53 Q1259.88 1531.54 1266.44 1531.54 Q1270.38 1531.54 1273.22 1533.1 Q1276.05 1534.66 1277.86 1537.81 L1277.86 1532.4 L1283.72 1532.4 L1283.72 1563.62 Z\" fill=\"#000000\" fill-rule=\"evenodd\" fill-opacity=\"1\" /><path clip-path=\"url(#clip460)\" d=\"M1295.18 1553.98 L1295.18 1532.4 L1301.03 1532.4 L1301.03 1553.75 Q1301.03 1558.81 1303.01 1561.36 Q1304.98 1563.87 1308.93 1563.87 Q1313.67 1563.87 1316.41 1560.85 Q1319.18 1557.83 1319.18 1552.61 L1319.18 1532.4 L1325.03 1532.4 L1325.03 1568.04 L1319.18 1568.04 L1319.18 1562.57 Q1317.04 1565.82 1314.21 1567.41 Q1311.41 1568.97 1307.69 1568.97 Q1301.54 1568.97 1298.36 1565.15 Q1295.18 1561.33 1295.18 1553.98 M1309.91 1531.54 L1309.91 1531.54 Z\" fill=\"#000000\" fill-rule=\"evenodd\" fill-opacity=\"1\" /><path clip-path=\"url(#clip460)\" d=\"M1337.09 1518.52 L1342.95 1518.52 L1342.95 1568.04 L1337.09 1568.04 L1337.09 1518.52 Z\" fill=\"#000000\" fill-rule=\"evenodd\" fill-opacity=\"1\" /><path clip-path=\"url(#clip460)\" d=\"M1369.02 1536.5 Q1364.31 1536.5 1361.57 1540.19 Q1358.83 1543.85 1358.83 1550.25 Q1358.83 1556.65 1361.54 1560.34 Q1364.28 1564 1369.02 1564 Q1373.7 1564 1376.44 1560.31 Q1379.17 1556.62 1379.17 1550.25 Q1379.17 1543.92 1376.44 1540.23 Q1373.7 1536.5 1369.02 1536.5 M1369.02 1531.54 Q1376.66 1531.54 1381.02 1536.5 Q1385.38 1541.47 1385.38 1550.25 Q1385.38 1559 1381.02 1564 Q1376.66 1568.97 1369.02 1568.97 Q1361.35 1568.97 1356.99 1564 Q1352.66 1559 1352.66 1550.25 Q1352.66 1541.47 1356.99 1536.5 Q1361.35 1531.54 1369.02 1531.54 Z\" fill=\"#000000\" fill-rule=\"evenodd\" fill-opacity=\"1\" /><path clip-path=\"url(#clip460)\" d=\"M1412.02 1532.4 L1446.17 1532.4 L1446.17 1538.25 L1441.68 1538.25 L1441.68 1560.15 Q1441.68 1562.44 1442.45 1563.46 Q1443.24 1564.45 1444.99 1564.45 Q1445.47 1564.45 1446.17 1564.38 Q1446.87 1564.29 1447.09 1564.26 L1447.09 1568.49 Q1445.98 1568.9 1444.8 1569.09 Q1443.63 1569.29 1442.45 1569.29 Q1438.63 1569.29 1437.16 1567.22 Q1435.7 1565.12 1435.7 1559.51 L1435.7 1538.25 L1422.55 1538.25 L1422.55 1568.04 L1416.57 1568.04 L1416.57 1538.25 L1412.02 1538.25 L1412.02 1532.4 Z\" fill=\"#000000\" fill-rule=\"evenodd\" fill-opacity=\"1\" /><polyline clip-path=\"url(#clip462)\" style=\"stroke:#000000; stroke-linecap:butt; stroke-linejoin:round; stroke-width:2; stroke-opacity:0.1; fill:none\" points=\"\n",
       "  257.204,1386.4 2352.76,1386.4 \n",
       "  \"/>\n",
       "<polyline clip-path=\"url(#clip462)\" style=\"stroke:#000000; stroke-linecap:butt; stroke-linejoin:round; stroke-width:2; stroke-opacity:0.1; fill:none\" points=\"\n",
       "  257.204,1079.86 2352.76,1079.86 \n",
       "  \"/>\n",
       "<polyline clip-path=\"url(#clip462)\" style=\"stroke:#000000; stroke-linecap:butt; stroke-linejoin:round; stroke-width:2; stroke-opacity:0.1; fill:none\" points=\"\n",
       "  257.204,773.326 2352.76,773.326 \n",
       "  \"/>\n",
       "<polyline clip-path=\"url(#clip462)\" style=\"stroke:#000000; stroke-linecap:butt; stroke-linejoin:round; stroke-width:2; stroke-opacity:0.1; fill:none\" points=\"\n",
       "  257.204,466.791 2352.76,466.791 \n",
       "  \"/>\n",
       "<polyline clip-path=\"url(#clip462)\" style=\"stroke:#000000; stroke-linecap:butt; stroke-linejoin:round; stroke-width:2; stroke-opacity:0.1; fill:none\" points=\"\n",
       "  257.204,160.256 2352.76,160.256 \n",
       "  \"/>\n",
       "<polyline clip-path=\"url(#clip460)\" style=\"stroke:#000000; stroke-linecap:butt; stroke-linejoin:round; stroke-width:4; stroke-opacity:1; fill:none\" points=\"\n",
       "  257.204,1423.18 257.204,123.472 \n",
       "  \"/>\n",
       "<polyline clip-path=\"url(#clip460)\" style=\"stroke:#000000; stroke-linecap:butt; stroke-linejoin:round; stroke-width:4; stroke-opacity:1; fill:none\" points=\"\n",
       "  257.204,1386.4 276.102,1386.4 \n",
       "  \"/>\n",
       "<polyline clip-path=\"url(#clip460)\" style=\"stroke:#000000; stroke-linecap:butt; stroke-linejoin:round; stroke-width:4; stroke-opacity:1; fill:none\" points=\"\n",
       "  257.204,1079.86 276.102,1079.86 \n",
       "  \"/>\n",
       "<polyline clip-path=\"url(#clip460)\" style=\"stroke:#000000; stroke-linecap:butt; stroke-linejoin:round; stroke-width:4; stroke-opacity:1; fill:none\" points=\"\n",
       "  257.204,773.326 276.102,773.326 \n",
       "  \"/>\n",
       "<polyline clip-path=\"url(#clip460)\" style=\"stroke:#000000; stroke-linecap:butt; stroke-linejoin:round; stroke-width:4; stroke-opacity:1; fill:none\" points=\"\n",
       "  257.204,466.791 276.102,466.791 \n",
       "  \"/>\n",
       "<polyline clip-path=\"url(#clip460)\" style=\"stroke:#000000; stroke-linecap:butt; stroke-linejoin:round; stroke-width:4; stroke-opacity:1; fill:none\" points=\"\n",
       "  257.204,160.256 276.102,160.256 \n",
       "  \"/>\n",
       "<path clip-path=\"url(#clip460)\" d=\"M114.26 1386.85 L143.936 1386.85 L143.936 1390.78 L114.26 1390.78 L114.26 1386.85 Z\" fill=\"#000000\" fill-rule=\"evenodd\" fill-opacity=\"1\" /><path clip-path=\"url(#clip460)\" d=\"M154.839 1399.74 L162.477 1399.74 L162.477 1373.37 L154.167 1375.04 L154.167 1370.78 L162.431 1369.12 L167.107 1369.12 L167.107 1399.74 L174.746 1399.74 L174.746 1403.68 L154.839 1403.68 L154.839 1399.74 Z\" fill=\"#000000\" fill-rule=\"evenodd\" fill-opacity=\"1\" /><path clip-path=\"url(#clip460)\" d=\"M184.19 1397.8 L189.075 1397.8 L189.075 1403.68 L184.19 1403.68 L184.19 1397.8 Z\" fill=\"#000000\" fill-rule=\"evenodd\" fill-opacity=\"1\" /><path clip-path=\"url(#clip460)\" d=\"M209.26 1372.19 Q205.649 1372.19 203.82 1375.76 Q202.014 1379.3 202.014 1386.43 Q202.014 1393.54 203.82 1397.1 Q205.649 1400.64 209.26 1400.64 Q212.894 1400.64 214.699 1397.1 Q216.528 1393.54 216.528 1386.43 Q216.528 1379.3 214.699 1375.76 Q212.894 1372.19 209.26 1372.19 M209.26 1368.49 Q215.07 1368.49 218.125 1373.1 Q221.204 1377.68 221.204 1386.43 Q221.204 1395.16 218.125 1399.76 Q215.07 1404.35 209.26 1404.35 Q203.449 1404.35 200.371 1399.76 Q197.315 1395.16 197.315 1386.43 Q197.315 1377.68 200.371 1373.1 Q203.449 1368.49 209.26 1368.49 Z\" fill=\"#000000\" fill-rule=\"evenodd\" fill-opacity=\"1\" /><path clip-path=\"url(#clip460)\" d=\"M115.256 1080.31 L144.931 1080.31 L144.931 1084.25 L115.256 1084.25 L115.256 1080.31 Z\" fill=\"#000000\" fill-rule=\"evenodd\" fill-opacity=\"1\" /><path clip-path=\"url(#clip460)\" d=\"M165.024 1065.66 Q161.413 1065.66 159.584 1069.22 Q157.778 1072.77 157.778 1079.9 Q157.778 1087 159.584 1090.57 Q161.413 1094.11 165.024 1094.11 Q168.658 1094.11 170.464 1090.57 Q172.292 1087 172.292 1079.9 Q172.292 1072.77 170.464 1069.22 Q168.658 1065.66 165.024 1065.66 M165.024 1061.96 Q170.834 1061.96 173.889 1066.56 Q176.968 1071.15 176.968 1079.9 Q176.968 1088.62 173.889 1093.23 Q170.834 1097.81 165.024 1097.81 Q159.214 1097.81 156.135 1093.23 Q153.079 1088.62 153.079 1079.9 Q153.079 1071.15 156.135 1066.56 Q159.214 1061.96 165.024 1061.96 Z\" fill=\"#000000\" fill-rule=\"evenodd\" fill-opacity=\"1\" /><path clip-path=\"url(#clip460)\" d=\"M185.186 1091.26 L190.07 1091.26 L190.07 1097.14 L185.186 1097.14 L185.186 1091.26 Z\" fill=\"#000000\" fill-rule=\"evenodd\" fill-opacity=\"1\" /><path clip-path=\"url(#clip460)\" d=\"M200.301 1062.58 L218.658 1062.58 L218.658 1066.52 L204.584 1066.52 L204.584 1074.99 Q205.602 1074.64 206.621 1074.48 Q207.639 1074.29 208.658 1074.29 Q214.445 1074.29 217.824 1077.47 Q221.204 1080.64 221.204 1086.05 Q221.204 1091.63 217.732 1094.73 Q214.26 1097.81 207.94 1097.81 Q205.764 1097.81 203.496 1097.44 Q201.25 1097.07 198.843 1096.33 L198.843 1091.63 Q200.926 1092.77 203.149 1093.32 Q205.371 1093.88 207.848 1093.88 Q211.852 1093.88 214.19 1091.77 Q216.528 1089.66 216.528 1086.05 Q216.528 1082.44 214.19 1080.34 Q211.852 1078.23 207.848 1078.23 Q205.973 1078.23 204.098 1078.65 Q202.246 1079.06 200.301 1079.94 L200.301 1062.58 Z\" fill=\"#000000\" fill-rule=\"evenodd\" fill-opacity=\"1\" /><path clip-path=\"url(#clip460)\" d=\"M164.028 759.125 Q160.417 759.125 158.589 762.689 Q156.783 766.231 156.783 773.361 Q156.783 780.467 158.589 784.032 Q160.417 787.574 164.028 787.574 Q167.663 787.574 169.468 784.032 Q171.297 780.467 171.297 773.361 Q171.297 766.231 169.468 762.689 Q167.663 759.125 164.028 759.125 M164.028 755.421 Q169.839 755.421 172.894 760.027 Q175.973 764.611 175.973 773.361 Q175.973 782.088 172.894 786.694 Q169.839 791.277 164.028 791.277 Q158.218 791.277 155.14 786.694 Q152.084 782.088 152.084 773.361 Q152.084 764.611 155.14 760.027 Q158.218 755.421 164.028 755.421 Z\" fill=\"#000000\" fill-rule=\"evenodd\" fill-opacity=\"1\" /><path clip-path=\"url(#clip460)\" d=\"M184.19 784.726 L189.075 784.726 L189.075 790.606 L184.19 790.606 L184.19 784.726 Z\" fill=\"#000000\" fill-rule=\"evenodd\" fill-opacity=\"1\" /><path clip-path=\"url(#clip460)\" d=\"M209.26 759.125 Q205.649 759.125 203.82 762.689 Q202.014 766.231 202.014 773.361 Q202.014 780.467 203.82 784.032 Q205.649 787.574 209.26 787.574 Q212.894 787.574 214.699 784.032 Q216.528 780.467 216.528 773.361 Q216.528 766.231 214.699 762.689 Q212.894 759.125 209.26 759.125 M209.26 755.421 Q215.07 755.421 218.125 760.027 Q221.204 764.611 221.204 773.361 Q221.204 782.088 218.125 786.694 Q215.07 791.277 209.26 791.277 Q203.449 791.277 200.371 786.694 Q197.315 782.088 197.315 773.361 Q197.315 764.611 200.371 760.027 Q203.449 755.421 209.26 755.421 Z\" fill=\"#000000\" fill-rule=\"evenodd\" fill-opacity=\"1\" /><path clip-path=\"url(#clip460)\" d=\"M165.024 452.59 Q161.413 452.59 159.584 456.155 Q157.778 459.696 157.778 466.826 Q157.778 473.932 159.584 477.497 Q161.413 481.039 165.024 481.039 Q168.658 481.039 170.464 477.497 Q172.292 473.932 172.292 466.826 Q172.292 459.696 170.464 456.155 Q168.658 452.59 165.024 452.59 M165.024 448.886 Q170.834 448.886 173.889 453.493 Q176.968 458.076 176.968 466.826 Q176.968 475.553 173.889 480.159 Q170.834 484.742 165.024 484.742 Q159.214 484.742 156.135 480.159 Q153.079 475.553 153.079 466.826 Q153.079 458.076 156.135 453.493 Q159.214 448.886 165.024 448.886 Z\" fill=\"#000000\" fill-rule=\"evenodd\" fill-opacity=\"1\" /><path clip-path=\"url(#clip460)\" d=\"M185.186 478.192 L190.07 478.192 L190.07 484.071 L185.186 484.071 L185.186 478.192 Z\" fill=\"#000000\" fill-rule=\"evenodd\" fill-opacity=\"1\" /><path clip-path=\"url(#clip460)\" d=\"M200.301 449.511 L218.658 449.511 L218.658 453.446 L204.584 453.446 L204.584 461.918 Q205.602 461.571 206.621 461.409 Q207.639 461.224 208.658 461.224 Q214.445 461.224 217.824 464.395 Q221.204 467.567 221.204 472.983 Q221.204 478.562 217.732 481.664 Q214.26 484.742 207.94 484.742 Q205.764 484.742 203.496 484.372 Q201.25 484.002 198.843 483.261 L198.843 478.562 Q200.926 479.696 203.149 480.252 Q205.371 480.807 207.848 480.807 Q211.852 480.807 214.19 478.701 Q216.528 476.594 216.528 472.983 Q216.528 469.372 214.19 467.266 Q211.852 465.159 207.848 465.159 Q205.973 465.159 204.098 465.576 Q202.246 465.993 200.301 466.872 L200.301 449.511 Z\" fill=\"#000000\" fill-rule=\"evenodd\" fill-opacity=\"1\" /><path clip-path=\"url(#clip460)\" d=\"M154.839 173.601 L162.477 173.601 L162.477 147.236 L154.167 148.902 L154.167 144.643 L162.431 142.976 L167.107 142.976 L167.107 173.601 L174.746 173.601 L174.746 177.536 L154.839 177.536 L154.839 173.601 Z\" fill=\"#000000\" fill-rule=\"evenodd\" fill-opacity=\"1\" /><path clip-path=\"url(#clip460)\" d=\"M184.19 171.657 L189.075 171.657 L189.075 177.536 L184.19 177.536 L184.19 171.657 Z\" fill=\"#000000\" fill-rule=\"evenodd\" fill-opacity=\"1\" /><path clip-path=\"url(#clip460)\" d=\"M209.26 146.055 Q205.649 146.055 203.82 149.62 Q202.014 153.161 202.014 160.291 Q202.014 167.397 203.82 170.962 Q205.649 174.504 209.26 174.504 Q212.894 174.504 214.699 170.962 Q216.528 167.397 216.528 160.291 Q216.528 153.161 214.699 149.62 Q212.894 146.055 209.26 146.055 M209.26 142.351 Q215.07 142.351 218.125 146.958 Q221.204 151.541 221.204 160.291 Q221.204 169.018 218.125 173.624 Q215.07 178.208 209.26 178.208 Q203.449 178.208 200.371 173.624 Q197.315 169.018 197.315 160.291 Q197.315 151.541 200.371 146.958 Q203.449 142.351 209.26 142.351 Z\" fill=\"#000000\" fill-rule=\"evenodd\" fill-opacity=\"1\" /><path clip-path=\"url(#clip460)\" d=\"M41.7242 1053.08 Q42.4244 1051.01 44.7161 1049.07 Q47.0077 1047.1 51.0181 1045.13 L64.0042 1038.6 L64.0042 1045.51 L51.8138 1051.59 Q47.0395 1053.94 45.48 1056.17 Q43.9204 1058.37 43.9204 1062.19 L43.9204 1069.19 L64.0042 1069.19 L64.0042 1075.62 L16.4842 1075.62 L16.4842 1061.1 Q16.4842 1052.96 19.8898 1048.95 Q23.2955 1044.93 30.1704 1044.93 Q34.6582 1044.93 37.6183 1047.04 Q40.5784 1049.1 41.7242 1053.08 M21.7677 1069.19 L38.6368 1069.19 L38.6368 1061.1 Q38.6368 1056.46 36.5043 1054.1 Q34.34 1051.71 30.1704 1051.71 Q26.0009 1051.71 23.9002 1054.1 Q21.7677 1056.46 21.7677 1061.1 L21.7677 1069.19 Z\" fill=\"#000000\" fill-rule=\"evenodd\" fill-opacity=\"1\" /><path clip-path=\"url(#clip460)\" d=\"M44.7161 1003.02 L47.5806 1003.02 L47.5806 1029.94 Q53.6281 1029.56 56.8109 1026.32 Q59.9619 1023.04 59.9619 1017.21 Q59.9619 1013.84 59.1344 1010.69 Q58.3069 1007.5 56.6518 1004.39 L62.1899 1004.39 Q63.5267 1007.54 64.227 1010.85 Q64.9272 1014.16 64.9272 1017.56 Q64.9272 1026.09 59.9619 1031.09 Q54.9967 1036.05 46.5303 1036.05 Q37.7774 1036.05 32.6531 1031.34 Q27.4968 1026.6 27.4968 1018.58 Q27.4968 1011.39 32.1438 1007.22 Q36.7589 1003.02 44.7161 1003.02 M42.9973 1008.87 Q38.1912 1008.94 35.3266 1011.58 Q32.4621 1014.19 32.4621 1018.52 Q32.4621 1023.42 35.2312 1026.38 Q38.0002 1029.31 43.0292 1029.75 L42.9973 1008.87 Z\" fill=\"#000000\" fill-rule=\"evenodd\" fill-opacity=\"1\" /><path clip-path=\"url(#clip460)\" d=\"M29.4065 970.679 L34.9447 970.679 Q33.6716 973.161 33.035 975.835 Q32.3984 978.509 32.3984 981.373 Q32.3984 985.734 33.7352 987.93 Q35.072 990.094 37.7456 990.094 Q39.7826 990.094 40.9603 988.535 Q42.1061 986.975 43.1565 982.264 L43.6021 980.259 Q44.9389 974.021 47.3897 971.411 Q49.8086 968.769 54.1691 968.769 Q59.1344 968.769 62.0308 972.716 Q64.9272 976.631 64.9272 983.506 Q64.9272 986.37 64.3543 989.489 Q63.8132 992.577 62.6992 996.014 L56.6518 996.014 Q58.3387 992.768 59.198 989.617 Q60.0256 986.466 60.0256 983.378 Q60.0256 979.241 58.6251 977.013 Q57.1929 974.785 54.6147 974.785 Q52.2276 974.785 50.9545 976.408 Q49.6813 977.999 48.5037 983.442 L48.0262 985.479 Q46.8804 990.922 44.5251 993.341 Q42.138 995.76 38.0002 995.76 Q32.9713 995.76 30.2341 992.195 Q27.4968 988.63 27.4968 982.073 Q27.4968 978.827 27.9743 975.962 Q28.4517 973.098 29.4065 970.679 Z\" fill=\"#000000\" fill-rule=\"evenodd\" fill-opacity=\"1\" /><path clip-path=\"url(#clip460)\" d=\"M58.657 953.778 L77.5631 953.778 L77.5631 959.666 L28.3562 959.666 L28.3562 953.778 L33.7671 953.778 Q30.5842 951.932 29.0564 949.131 Q27.4968 946.298 27.4968 942.383 Q27.4968 935.89 32.6531 931.848 Q37.8093 927.774 46.212 927.774 Q54.6147 927.774 59.771 931.848 Q64.9272 935.89 64.9272 942.383 Q64.9272 946.298 63.3994 949.131 Q61.8398 951.932 58.657 953.778 M46.212 933.853 Q39.7508 933.853 36.0905 936.527 Q32.3984 939.169 32.3984 943.816 Q32.3984 948.462 36.0905 951.136 Q39.7508 953.778 46.212 953.778 Q52.6732 953.778 56.3653 951.136 Q60.0256 948.462 60.0256 943.816 Q60.0256 939.169 56.3653 936.527 Q52.6732 933.853 46.212 933.853 Z\" fill=\"#000000\" fill-rule=\"evenodd\" fill-opacity=\"1\" /><path clip-path=\"url(#clip460)\" d=\"M49.9359 918.671 L28.3562 918.671 L28.3562 912.815 L49.7131 912.815 Q54.7739 912.815 57.3202 910.841 Q59.8346 908.868 59.8346 904.921 Q59.8346 900.179 56.8109 897.441 Q53.7872 894.672 48.5673 894.672 L28.3562 894.672 L28.3562 888.816 L64.0042 888.816 L64.0042 894.672 L58.5296 894.672 Q61.7762 896.805 63.3676 899.638 Q64.9272 902.438 64.9272 906.162 Q64.9272 912.305 61.1078 915.488 Q57.2883 918.671 49.9359 918.671 M27.4968 903.934 L27.4968 903.934 Z\" fill=\"#000000\" fill-rule=\"evenodd\" fill-opacity=\"1\" /><path clip-path=\"url(#clip460)\" d=\"M44.7161 846.261 L47.5806 846.261 L47.5806 873.188 Q53.6281 872.806 56.8109 869.56 Q59.9619 866.281 59.9619 860.457 Q59.9619 857.083 59.1344 853.932 Q58.3069 850.749 56.6518 847.63 L62.1899 847.63 Q63.5267 850.781 64.227 854.091 Q64.9272 857.401 64.9272 860.807 Q64.9272 869.337 59.9619 874.334 Q54.9967 879.299 46.5303 879.299 Q37.7774 879.299 32.6531 874.588 Q27.4968 869.846 27.4968 861.825 Q27.4968 854.632 32.1438 850.462 Q36.7589 846.261 44.7161 846.261 M42.9973 852.118 Q38.1912 852.181 35.3266 854.823 Q32.4621 857.433 32.4621 861.762 Q32.4621 866.663 35.2312 869.623 Q38.0002 872.551 43.0292 872.997 L42.9973 852.118 Z\" fill=\"#000000\" fill-rule=\"evenodd\" fill-opacity=\"1\" /><path clip-path=\"url(#clip460)\" d=\"M29.4065 813.923 L34.9447 813.923 Q33.6716 816.406 33.035 819.08 Q32.3984 821.753 32.3984 824.618 Q32.3984 828.978 33.7352 831.174 Q35.072 833.339 37.7456 833.339 Q39.7826 833.339 40.9603 831.779 Q42.1061 830.219 43.1565 825.509 L43.6021 823.504 Q44.9389 817.265 47.3897 814.655 Q49.8086 812.014 54.1691 812.014 Q59.1344 812.014 62.0308 815.96 Q64.9272 819.875 64.9272 826.75 Q64.9272 829.615 64.3543 832.734 Q63.8132 835.821 62.6992 839.259 L56.6518 839.259 Q58.3387 836.012 59.198 832.861 Q60.0256 829.71 60.0256 826.623 Q60.0256 822.485 58.6251 820.257 Q57.1929 818.029 54.6147 818.029 Q52.2276 818.029 50.9545 819.652 Q49.6813 821.244 48.5037 826.687 L48.0262 828.724 Q46.8804 834.166 44.5251 836.585 Q42.138 839.004 38.0002 839.004 Q32.9713 839.004 30.2341 835.439 Q27.4968 831.875 27.4968 825.318 Q27.4968 822.071 27.9743 819.207 Q28.4517 816.342 29.4065 813.923 Z\" fill=\"#000000\" fill-rule=\"evenodd\" fill-opacity=\"1\" /><path clip-path=\"url(#clip460)\" d=\"M18.2347 796.895 L28.3562 796.895 L28.3562 784.832 L32.9077 784.832 L32.9077 796.895 L52.2594 796.895 Q56.6199 796.895 57.8613 795.717 Q59.1026 794.508 59.1026 790.848 L59.1026 784.832 L64.0042 784.832 L64.0042 790.848 Q64.0042 797.627 61.4897 800.205 Q58.9434 802.783 52.2594 802.783 L32.9077 802.783 L32.9077 807.08 L28.3562 807.08 L28.3562 802.783 L18.2347 802.783 L18.2347 796.895 Z\" fill=\"#000000\" fill-rule=\"evenodd\" fill-opacity=\"1\" /><path clip-path=\"url(#clip460)\" d=\"M46.0847 760.929 Q46.0847 768.027 47.7079 770.764 Q49.3312 773.501 53.2461 773.501 Q56.3653 773.501 58.2114 771.464 Q60.0256 769.395 60.0256 765.862 Q60.0256 760.992 56.5881 758.064 Q53.1188 755.104 47.3897 755.104 L46.0847 755.104 L46.0847 760.929 M43.6657 749.248 L64.0042 749.248 L64.0042 755.104 L58.5933 755.104 Q61.8398 757.109 63.3994 760.101 Q64.9272 763.093 64.9272 767.422 Q64.9272 772.896 61.8716 776.143 Q58.7843 779.357 53.6281 779.357 Q47.6125 779.357 44.5569 775.347 Q41.5014 771.305 41.5014 763.316 L41.5014 755.104 L40.9285 755.104 Q36.8862 755.104 34.6901 757.778 Q32.4621 760.42 32.4621 765.226 Q32.4621 768.281 33.1941 771.178 Q33.9262 774.074 35.3903 776.748 L29.9795 776.748 Q28.7381 773.533 28.1334 770.509 Q27.4968 767.485 27.4968 764.621 Q27.4968 756.887 31.5072 753.067 Q35.5176 749.248 43.6657 749.248 Z\" fill=\"#000000\" fill-rule=\"evenodd\" fill-opacity=\"1\" /><path clip-path=\"url(#clip460)\" d=\"M16.4842 716.942 L16.4842 710.481 L45.3526 710.481 Q52.9915 710.481 56.3653 707.711 Q59.7073 704.942 59.7073 698.736 Q59.7073 692.561 56.3653 689.792 Q52.9915 687.023 45.3526 687.023 L16.4842 687.023 L16.4842 680.562 L46.1484 680.562 Q55.4423 680.562 60.1847 685.177 Q64.9272 689.76 64.9272 698.736 Q64.9272 707.743 60.1847 712.358 Q55.4423 716.942 46.1484 716.942 L16.4842 716.942 Z\" fill=\"#000000\" fill-rule=\"evenodd\" fill-opacity=\"1\" /><path clip-path=\"url(#clip460)\" d=\"M42.4881 639.121 L64.0042 639.121 L64.0042 644.977 L42.679 644.977 Q37.6183 644.977 35.1038 646.951 Q32.5894 648.924 32.5894 652.871 Q32.5894 657.613 35.6131 660.351 Q38.6368 663.088 43.8567 663.088 L64.0042 663.088 L64.0042 668.976 L28.3562 668.976 L28.3562 663.088 L33.8944 663.088 Q30.6797 660.987 29.0883 658.154 Q27.4968 655.29 27.4968 651.566 Q27.4968 645.423 31.3163 642.272 Q35.1038 639.121 42.4881 639.121 Z\" fill=\"#000000\" fill-rule=\"evenodd\" fill-opacity=\"1\" /><path clip-path=\"url(#clip460)\" d=\"M28.3562 627.44 L28.3562 621.583 L64.0042 621.583 L64.0042 627.44 L28.3562 627.44 M14.479 627.44 L14.479 621.583 L21.895 621.583 L21.895 627.44 L14.479 627.44 Z\" fill=\"#000000\" fill-rule=\"evenodd\" fill-opacity=\"1\" /><path clip-path=\"url(#clip460)\" d=\"M18.2347 603.537 L28.3562 603.537 L28.3562 591.474 L32.9077 591.474 L32.9077 603.537 L52.2594 603.537 Q56.6199 603.537 57.8613 602.359 Q59.1026 601.15 59.1026 597.489 L59.1026 591.474 L64.0042 591.474 L64.0042 597.489 Q64.0042 604.269 61.4897 606.847 Q58.9434 609.425 52.2594 609.425 L32.9077 609.425 L32.9077 613.722 L28.3562 613.722 L28.3562 609.425 L18.2347 609.425 L18.2347 603.537 Z\" fill=\"#000000\" fill-rule=\"evenodd\" fill-opacity=\"1\" /><path clip-path=\"url(#clip460)\" d=\"M46.0847 567.57 Q46.0847 574.668 47.7079 577.405 Q49.3312 580.143 53.2461 580.143 Q56.3653 580.143 58.2114 578.106 Q60.0256 576.037 60.0256 572.504 Q60.0256 567.634 56.5881 564.706 Q53.1188 561.746 47.3897 561.746 L46.0847 561.746 L46.0847 567.57 M43.6657 555.889 L64.0042 555.889 L64.0042 561.746 L58.5933 561.746 Q61.8398 563.751 63.3994 566.743 Q64.9272 569.735 64.9272 574.063 Q64.9272 579.538 61.8716 582.784 Q58.7843 585.999 53.6281 585.999 Q47.6125 585.999 44.5569 581.989 Q41.5014 577.947 41.5014 569.958 L41.5014 561.746 L40.9285 561.746 Q36.8862 561.746 34.6901 564.419 Q32.4621 567.061 32.4621 571.867 Q32.4621 574.923 33.1941 577.819 Q33.9262 580.716 35.3903 583.389 L29.9795 583.389 Q28.7381 580.175 28.1334 577.151 Q27.4968 574.127 27.4968 571.263 Q27.4968 563.528 31.5072 559.709 Q35.5176 555.889 43.6657 555.889 Z\" fill=\"#000000\" fill-rule=\"evenodd\" fill-opacity=\"1\" /><path clip-path=\"url(#clip460)\" d=\"M33.8307 523.17 Q33.2578 524.156 33.0032 525.334 Q32.7167 526.48 32.7167 527.88 Q32.7167 532.846 35.9632 535.519 Q39.1779 538.161 45.2253 538.161 L64.0042 538.161 L64.0042 544.049 L28.3562 544.049 L28.3562 538.161 L33.8944 538.161 Q30.6479 536.315 29.0883 533.355 Q27.4968 530.395 27.4968 526.162 Q27.4968 525.557 27.5923 524.825 Q27.656 524.093 27.8151 523.201 L33.8307 523.17 Z\" fill=\"#000000\" fill-rule=\"evenodd\" fill-opacity=\"1\" /><path clip-path=\"url(#clip460)\" d=\"M28.3562 517.027 L28.3562 511.17 L64.0042 511.17 L64.0042 517.027 L28.3562 517.027 M14.479 517.027 L14.479 511.17 L21.895 511.17 L21.895 517.027 L14.479 517.027 Z\" fill=\"#000000\" fill-rule=\"evenodd\" fill-opacity=\"1\" /><path clip-path=\"url(#clip460)\" d=\"M46.0847 482.716 Q46.0847 489.813 47.7079 492.551 Q49.3312 495.288 53.2461 495.288 Q56.3653 495.288 58.2114 493.251 Q60.0256 491.182 60.0256 487.649 Q60.0256 482.779 56.5881 479.851 Q53.1188 476.891 47.3897 476.891 L46.0847 476.891 L46.0847 482.716 M43.6657 471.034 L64.0042 471.034 L64.0042 476.891 L58.5933 476.891 Q61.8398 478.896 63.3994 481.888 Q64.9272 484.88 64.9272 489.209 Q64.9272 494.683 61.8716 497.93 Q58.7843 501.144 53.6281 501.144 Q47.6125 501.144 44.5569 497.134 Q41.5014 493.092 41.5014 485.103 L41.5014 476.891 L40.9285 476.891 Q36.8862 476.891 34.6901 479.565 Q32.4621 482.206 32.4621 487.012 Q32.4621 490.068 33.1941 492.964 Q33.9262 495.861 35.3903 498.534 L29.9795 498.534 Q28.7381 495.32 28.1334 492.296 Q27.4968 489.272 27.4968 486.408 Q27.4968 478.673 31.5072 474.854 Q35.5176 471.034 43.6657 471.034 Z\" fill=\"#000000\" fill-rule=\"evenodd\" fill-opacity=\"1\" /><path clip-path=\"url(#clip460)\" d=\"M701.902 16.7545 L701.902 25.383 Q697.77 21.5346 693.071 19.6307 Q688.412 17.7268 683.146 17.7268 Q672.776 17.7268 667.266 24.0867 Q661.757 30.4061 661.757 42.3968 Q661.757 54.3469 667.266 60.7069 Q672.776 67.0263 683.146 67.0263 Q688.412 67.0263 693.071 65.1223 Q697.77 63.2184 701.902 59.3701 L701.902 67.9175 Q697.608 70.8341 692.787 72.2924 Q688.007 73.7508 682.66 73.7508 Q668.927 73.7508 661.028 65.3654 Q653.129 56.9395 653.129 42.3968 Q653.129 27.8135 661.028 19.4281 Q668.927 11.0023 682.66 11.0023 Q688.088 11.0023 692.868 12.4606 Q697.689 13.8784 701.902 16.7545 Z\" fill=\"#000000\" fill-rule=\"evenodd\" fill-opacity=\"1\" /><path clip-path=\"url(#clip460)\" d=\"M731.797 32.4315 Q725.802 32.4315 722.318 37.1306 Q718.834 41.7891 718.834 49.9314 Q718.834 58.0738 722.278 62.7728 Q725.761 67.4314 731.797 67.4314 Q737.752 67.4314 741.236 62.7323 Q744.72 58.0333 744.72 49.9314 Q744.72 41.8701 741.236 37.1711 Q737.752 32.4315 731.797 32.4315 M731.797 26.1121 Q741.519 26.1121 747.069 32.4315 Q752.619 38.7509 752.619 49.9314 Q752.619 61.0714 747.069 67.4314 Q741.519 73.7508 731.797 73.7508 Q722.035 73.7508 716.485 67.4314 Q710.976 61.0714 710.976 49.9314 Q710.976 38.7509 716.485 32.4315 Q722.035 26.1121 731.797 26.1121 Z\" fill=\"#000000\" fill-rule=\"evenodd\" fill-opacity=\"1\" /><path clip-path=\"url(#clip460)\" d=\"M800.298 35.9153 Q803.093 30.8922 806.982 28.5022 Q810.871 26.1121 816.137 26.1121 Q823.226 26.1121 827.075 31.0947 Q830.923 36.0368 830.923 45.1919 L830.923 72.576 L823.429 72.576 L823.429 45.4349 Q823.429 38.913 821.12 35.7533 Q818.811 32.5936 814.071 32.5936 Q808.278 32.5936 804.916 36.4419 Q801.554 40.2903 801.554 46.9338 L801.554 72.576 L794.06 72.576 L794.06 45.4349 Q794.06 38.8725 791.751 35.7533 Q789.442 32.5936 784.621 32.5936 Q778.909 32.5936 775.547 36.4824 Q772.185 40.3308 772.185 46.9338 L772.185 72.576 L764.691 72.576 L764.691 27.2059 L772.185 27.2059 L772.185 34.2544 Q774.737 30.082 778.302 28.0971 Q781.866 26.1121 786.768 26.1121 Q791.71 26.1121 795.153 28.6237 Q798.637 31.1352 800.298 35.9153 Z\" fill=\"#000000\" fill-rule=\"evenodd\" fill-opacity=\"1\" /><path clip-path=\"url(#clip460)\" d=\"M853 65.7705 L853 89.8329 L845.506 89.8329 L845.506 27.2059 L853 27.2059 L853 34.0924 Q855.35 30.0415 858.915 28.0971 Q862.52 26.1121 867.503 26.1121 Q875.766 26.1121 880.911 32.6746 Q886.096 39.2371 886.096 49.9314 Q886.096 60.6258 880.911 67.1883 Q875.766 73.7508 867.503 73.7508 Q862.52 73.7508 858.915 71.8063 Q855.35 69.8214 853 65.7705 M878.359 49.9314 Q878.359 41.7081 874.956 37.0496 Q871.594 32.3505 865.68 32.3505 Q859.765 32.3505 856.363 37.0496 Q853 41.7081 853 49.9314 Q853 58.1548 856.363 62.8538 Q859.765 67.5124 865.68 67.5124 Q871.594 67.5124 874.956 62.8538 Q878.359 58.1548 878.359 49.9314 Z\" fill=\"#000000\" fill-rule=\"evenodd\" fill-opacity=\"1\" /><path clip-path=\"url(#clip460)\" d=\"M916.032 32.4315 Q910.037 32.4315 906.553 37.1306 Q903.07 41.7891 903.07 49.9314 Q903.07 58.0738 906.513 62.7728 Q909.997 67.4314 916.032 67.4314 Q921.987 67.4314 925.471 62.7323 Q928.955 58.0333 928.955 49.9314 Q928.955 41.8701 925.471 37.1711 Q921.987 32.4315 916.032 32.4315 M916.032 26.1121 Q925.755 26.1121 931.304 32.4315 Q936.854 38.7509 936.854 49.9314 Q936.854 61.0714 931.304 67.4314 Q925.755 73.7508 916.032 73.7508 Q906.27 73.7508 900.72 67.4314 Q895.211 61.0714 895.211 49.9314 Q895.211 38.7509 900.72 32.4315 Q906.27 26.1121 916.032 26.1121 Z\" fill=\"#000000\" fill-rule=\"evenodd\" fill-opacity=\"1\" /><path clip-path=\"url(#clip460)\" d=\"M975.5 34.1734 Q974.244 33.4443 972.745 33.1202 Q971.287 32.7556 969.504 32.7556 Q963.185 32.7556 959.782 36.8875 Q956.42 40.9789 956.42 48.6757 L956.42 72.576 L948.926 72.576 L948.926 27.2059 L956.42 27.2059 L956.42 34.2544 Q958.769 30.1225 962.537 28.1376 Q966.304 26.1121 971.692 26.1121 Q972.461 26.1121 973.393 26.2337 Q974.325 26.3147 975.459 26.5172 L975.5 34.1734 Z\" fill=\"#000000\" fill-rule=\"evenodd\" fill-opacity=\"1\" /><path clip-path=\"url(#clip460)\" d=\"M990.691 14.324 L990.691 27.2059 L1006.04 27.2059 L1006.04 32.9987 L990.691 32.9987 L990.691 57.6282 Q990.691 63.1779 992.189 64.7578 Q993.729 66.3376 998.387 66.3376 L1006.04 66.3376 L1006.04 72.576 L998.387 72.576 Q989.759 72.576 986.478 69.3758 Q983.196 66.1351 983.196 57.6282 L983.196 32.9987 L977.728 32.9987 L977.728 27.2059 L983.196 27.2059 L983.196 14.324 L990.691 14.324 Z\" fill=\"#000000\" fill-rule=\"evenodd\" fill-opacity=\"1\" /><path clip-path=\"url(#clip460)\" d=\"M1036.47 49.7694 Q1027.43 49.7694 1023.95 51.8354 Q1020.46 53.9013 1020.46 58.8839 Q1020.46 62.8538 1023.06 65.2034 Q1025.69 67.5124 1030.19 67.5124 Q1036.38 67.5124 1040.11 63.1374 Q1043.88 58.7219 1043.88 51.4303 L1043.88 49.7694 L1036.47 49.7694 M1051.33 46.6907 L1051.33 72.576 L1043.88 72.576 L1043.88 65.6895 Q1041.33 69.8214 1037.52 71.8063 Q1033.71 73.7508 1028.2 73.7508 Q1021.23 73.7508 1017.1 69.8619 Q1013.01 65.9325 1013.01 59.3701 Q1013.01 51.7138 1018.12 47.825 Q1023.26 43.9361 1033.43 43.9361 L1043.88 43.9361 L1043.88 43.2069 Q1043.88 38.0623 1040.48 35.2672 Q1037.11 32.4315 1031 32.4315 Q1027.11 32.4315 1023.42 33.3632 Q1019.74 34.295 1016.33 36.1584 L1016.33 29.2718 Q1020.42 27.692 1024.27 26.9223 Q1028.12 26.1121 1031.77 26.1121 Q1041.61 26.1121 1046.47 31.2163 Q1051.33 36.3204 1051.33 46.6907 Z\" fill=\"#000000\" fill-rule=\"evenodd\" fill-opacity=\"1\" /><path clip-path=\"url(#clip460)\" d=\"M1102.01 35.9153 Q1104.8 30.8922 1108.69 28.5022 Q1112.58 26.1121 1117.85 26.1121 Q1124.94 26.1121 1128.79 31.0947 Q1132.63 36.0368 1132.63 45.1919 L1132.63 72.576 L1125.14 72.576 L1125.14 45.4349 Q1125.14 38.913 1122.83 35.7533 Q1120.52 32.5936 1115.78 32.5936 Q1109.99 32.5936 1106.63 36.4419 Q1103.27 40.2903 1103.27 46.9338 L1103.27 72.576 L1095.77 72.576 L1095.77 45.4349 Q1095.77 38.8725 1093.46 35.7533 Q1091.15 32.5936 1086.33 32.5936 Q1080.62 32.5936 1077.26 36.4824 Q1073.9 40.3308 1073.9 46.9338 L1073.9 72.576 L1066.4 72.576 L1066.4 27.2059 L1073.9 27.2059 L1073.9 34.2544 Q1076.45 30.082 1080.01 28.0971 Q1083.58 26.1121 1088.48 26.1121 Q1093.42 26.1121 1096.86 28.6237 Q1100.35 31.1352 1102.01 35.9153 Z\" fill=\"#000000\" fill-rule=\"evenodd\" fill-opacity=\"1\" /><path clip-path=\"url(#clip460)\" d=\"M1147.5 27.2059 L1154.95 27.2059 L1154.95 72.576 L1147.5 72.576 L1147.5 27.2059 M1147.5 9.54393 L1154.95 9.54393 L1154.95 18.9825 L1147.5 18.9825 L1147.5 9.54393 Z\" fill=\"#000000\" fill-rule=\"evenodd\" fill-opacity=\"1\" /><path clip-path=\"url(#clip460)\" d=\"M1209.36 48.0275 L1209.36 51.6733 L1175.09 51.6733 Q1175.57 59.3701 1179.71 63.421 Q1183.88 67.4314 1191.29 67.4314 Q1195.59 67.4314 1199.6 66.3781 Q1203.65 65.3249 1207.62 63.2184 L1207.62 70.267 Q1203.61 71.9684 1199.39 72.8596 Q1195.18 73.7508 1190.85 73.7508 Q1179.99 73.7508 1173.63 67.4314 Q1167.31 61.1119 1167.31 50.3365 Q1167.31 39.1965 1173.31 32.6746 Q1179.34 26.1121 1189.55 26.1121 Q1198.7 26.1121 1204.01 32.0264 Q1209.36 37.9003 1209.36 48.0275 M1201.9 45.84 Q1201.82 39.7232 1198.46 36.0774 Q1195.14 32.4315 1189.63 32.4315 Q1183.39 32.4315 1179.62 35.9558 Q1175.9 39.4801 1175.33 45.8805 L1201.9 45.84 Z\" fill=\"#000000\" fill-rule=\"evenodd\" fill-opacity=\"1\" /><path clip-path=\"url(#clip460)\" d=\"M1259.31 45.1919 L1259.31 72.576 L1251.85 72.576 L1251.85 45.4349 Q1251.85 38.994 1249.34 35.7938 Q1246.83 32.5936 1241.81 32.5936 Q1235.77 32.5936 1232.29 36.4419 Q1228.8 40.2903 1228.8 46.9338 L1228.8 72.576 L1221.31 72.576 L1221.31 27.2059 L1228.8 27.2059 L1228.8 34.2544 Q1231.48 30.163 1235.08 28.1376 Q1238.73 26.1121 1243.47 26.1121 Q1251.29 26.1121 1255.3 30.9732 Q1259.31 35.7938 1259.31 45.1919 Z\" fill=\"#000000\" fill-rule=\"evenodd\" fill-opacity=\"1\" /><path clip-path=\"url(#clip460)\" d=\"M1281.55 14.324 L1281.55 27.2059 L1296.9 27.2059 L1296.9 32.9987 L1281.55 32.9987 L1281.55 57.6282 Q1281.55 63.1779 1283.04 64.7578 Q1284.58 66.3376 1289.24 66.3376 L1296.9 66.3376 L1296.9 72.576 L1289.24 72.576 Q1280.61 72.576 1277.33 69.3758 Q1274.05 66.1351 1274.05 57.6282 L1274.05 32.9987 L1268.58 32.9987 L1268.58 27.2059 L1274.05 27.2059 L1274.05 14.324 L1281.55 14.324 Z\" fill=\"#000000\" fill-rule=\"evenodd\" fill-opacity=\"1\" /><path clip-path=\"url(#clip460)\" d=\"M1324.28 32.4315 Q1318.29 32.4315 1314.8 37.1306 Q1311.32 41.7891 1311.32 49.9314 Q1311.32 58.0738 1314.76 62.7728 Q1318.25 67.4314 1324.28 67.4314 Q1330.24 67.4314 1333.72 62.7323 Q1337.2 58.0333 1337.2 49.9314 Q1337.2 41.8701 1333.72 37.1711 Q1330.24 32.4315 1324.28 32.4315 M1324.28 26.1121 Q1334 26.1121 1339.55 32.4315 Q1345.1 38.7509 1345.1 49.9314 Q1345.1 61.0714 1339.55 67.4314 Q1334 73.7508 1324.28 73.7508 Q1314.52 73.7508 1308.97 67.4314 Q1303.46 61.0714 1303.46 49.9314 Q1303.46 38.7509 1308.97 32.4315 Q1314.52 26.1121 1324.28 26.1121 Z\" fill=\"#000000\" fill-rule=\"evenodd\" fill-opacity=\"1\" /><path clip-path=\"url(#clip460)\" d=\"M1412.75 28.5427 L1412.75 35.5912 Q1409.59 33.9709 1406.19 33.1607 Q1402.79 32.3505 1399.14 32.3505 Q1393.59 32.3505 1390.8 34.0519 Q1388.04 35.7533 1388.04 39.156 Q1388.04 41.7486 1390.03 43.2475 Q1392.01 44.7058 1398.01 46.0426 L1400.56 46.6097 Q1408.5 48.3111 1411.82 51.4303 Q1415.18 54.509 1415.18 60.0587 Q1415.18 66.3781 1410.16 70.0644 Q1405.18 73.7508 1396.43 73.7508 Q1392.78 73.7508 1388.81 73.0216 Q1384.88 72.3329 1380.51 70.9151 L1380.51 63.2184 Q1384.64 65.3654 1388.65 66.4591 Q1392.66 67.5124 1396.59 67.5124 Q1401.86 67.5124 1404.69 65.73 Q1407.53 63.9071 1407.53 60.6258 Q1407.53 57.5877 1405.46 55.9673 Q1403.44 54.3469 1396.51 52.8481 L1393.92 52.2405 Q1386.99 50.7821 1383.91 47.7845 Q1380.83 44.7463 1380.83 39.4801 Q1380.83 33.0797 1385.37 29.5959 Q1389.91 26.1121 1398.25 26.1121 Q1402.38 26.1121 1406.03 26.7198 Q1409.68 27.3274 1412.75 28.5427 Z\" fill=\"#000000\" fill-rule=\"evenodd\" fill-opacity=\"1\" /><path clip-path=\"url(#clip460)\" d=\"M1427.05 27.2059 L1434.51 27.2059 L1434.51 72.576 L1427.05 72.576 L1427.05 27.2059 M1427.05 9.54393 L1434.51 9.54393 L1434.51 18.9825 L1427.05 18.9825 L1427.05 9.54393 Z\" fill=\"#000000\" fill-rule=\"evenodd\" fill-opacity=\"1\" /><path clip-path=\"url(#clip460)\" d=\"M1487.82 45.1919 L1487.82 72.576 L1480.36 72.576 L1480.36 45.4349 Q1480.36 38.994 1477.85 35.7938 Q1475.34 32.5936 1470.32 32.5936 Q1464.28 32.5936 1460.8 36.4419 Q1457.31 40.2903 1457.31 46.9338 L1457.31 72.576 L1449.82 72.576 L1449.82 27.2059 L1457.31 27.2059 L1457.31 34.2544 Q1459.99 30.163 1463.59 28.1376 Q1467.24 26.1121 1471.98 26.1121 Q1479.8 26.1121 1483.81 30.9732 Q1487.82 35.7938 1487.82 45.1919 Z\" fill=\"#000000\" fill-rule=\"evenodd\" fill-opacity=\"1\" /><path clip-path=\"url(#clip460)\" d=\"M1520.59 9.62495 Q1515.16 18.942 1512.53 28.0566 Q1509.89 37.1711 1509.89 46.5287 Q1509.89 55.8863 1512.53 65.0818 Q1515.2 74.2369 1520.59 83.5134 L1514.11 83.5134 Q1508.03 73.9938 1504.99 64.7983 Q1502 55.6027 1502 46.5287 Q1502 37.4952 1504.99 28.3401 Q1507.99 19.1851 1514.11 9.62495 L1520.59 9.62495 Z\" fill=\"#000000\" fill-rule=\"evenodd\" fill-opacity=\"1\" /><path clip-path=\"url(#clip460)\" d=\"M1572.76 27.2059 L1556.36 49.2833 L1573.62 72.576 L1564.83 72.576 L1551.62 54.752 L1538.41 72.576 L1529.62 72.576 L1547.24 48.8377 L1531.12 27.2059 L1539.91 27.2059 L1551.94 43.369 L1563.97 27.2059 L1572.76 27.2059 Z\" fill=\"#000000\" fill-rule=\"evenodd\" fill-opacity=\"1\" /><path clip-path=\"url(#clip460)\" d=\"M1582.97 9.62495 L1589.45 9.62495 Q1595.53 19.1851 1598.53 28.3401 Q1601.57 37.4952 1601.57 46.5287 Q1601.57 55.6027 1598.53 64.7983 Q1595.53 73.9938 1589.45 83.5134 L1582.97 83.5134 Q1588.36 74.2369 1590.99 65.0818 Q1593.67 55.8863 1593.67 46.5287 Q1593.67 37.1711 1590.99 28.0566 Q1588.36 18.942 1582.97 9.62495 Z\" fill=\"#000000\" fill-rule=\"evenodd\" fill-opacity=\"1\" /><path clip-path=\"url(#clip460)\" d=\"M1661.76 76.7889 Q1658.6 84.8907 1655.61 87.3618 Q1652.61 89.8329 1647.59 89.8329 L1641.63 89.8329 L1641.63 83.5945 L1646.01 83.5945 Q1649.08 83.5945 1650.79 82.1361 Q1652.49 80.6778 1654.55 75.2496 L1655.89 71.8468 L1637.54 27.2059 L1645.44 27.2059 L1659.62 62.6918 L1673.79 27.2059 L1681.69 27.2059 L1661.76 76.7889 Z\" fill=\"#000000\" fill-rule=\"evenodd\" fill-opacity=\"1\" /><path clip-path=\"url(#clip460)\" d=\"M1751 28.9478 L1751 35.9153 Q1747.85 34.1734 1744.64 33.3227 Q1741.49 32.4315 1738.24 32.4315 Q1730.99 32.4315 1726.98 37.0496 Q1722.97 41.6271 1722.97 49.9314 Q1722.97 58.2358 1726.98 62.8538 Q1730.99 67.4314 1738.24 67.4314 Q1741.49 67.4314 1744.64 66.5807 Q1747.85 65.6895 1751 63.9476 L1751 70.8341 Q1747.89 72.2924 1744.52 73.0216 Q1741.2 73.7508 1737.43 73.7508 Q1727.19 73.7508 1721.15 67.3098 Q1715.11 60.8689 1715.11 49.9314 Q1715.11 38.832 1721.19 32.472 Q1727.31 26.1121 1737.92 26.1121 Q1741.36 26.1121 1744.64 26.8413 Q1747.93 27.5299 1751 28.9478 Z\" fill=\"#000000\" fill-rule=\"evenodd\" fill-opacity=\"1\" /><path clip-path=\"url(#clip460)\" d=\"M1781.55 32.4315 Q1775.55 32.4315 1772.07 37.1306 Q1768.59 41.7891 1768.59 49.9314 Q1768.59 58.0738 1772.03 62.7728 Q1775.51 67.4314 1781.55 67.4314 Q1787.5 67.4314 1790.99 62.7323 Q1794.47 58.0333 1794.47 49.9314 Q1794.47 41.8701 1790.99 37.1711 Q1787.5 32.4315 1781.55 32.4315 M1781.55 26.1121 Q1791.27 26.1121 1796.82 32.4315 Q1802.37 38.7509 1802.37 49.9314 Q1802.37 61.0714 1796.82 67.4314 Q1791.27 73.7508 1781.55 73.7508 Q1771.79 73.7508 1766.24 67.4314 Q1760.73 61.0714 1760.73 49.9314 Q1760.73 38.7509 1766.24 32.4315 Q1771.79 26.1121 1781.55 26.1121 Z\" fill=\"#000000\" fill-rule=\"evenodd\" fill-opacity=\"1\" /><path clip-path=\"url(#clip460)\" d=\"M1843.65 28.5427 L1843.65 35.5912 Q1840.49 33.9709 1837.09 33.1607 Q1833.68 32.3505 1830.04 32.3505 Q1824.49 32.3505 1821.69 34.0519 Q1818.94 35.7533 1818.94 39.156 Q1818.94 41.7486 1820.92 43.2475 Q1822.91 44.7058 1828.9 46.0426 L1831.46 46.6097 Q1839.4 48.3111 1842.72 51.4303 Q1846.08 54.509 1846.08 60.0587 Q1846.08 66.3781 1841.06 70.0644 Q1836.07 73.7508 1827.32 73.7508 Q1823.68 73.7508 1819.71 73.0216 Q1815.78 72.3329 1811.4 70.9151 L1811.4 63.2184 Q1815.54 65.3654 1819.55 66.4591 Q1823.56 67.5124 1827.49 67.5124 Q1832.75 67.5124 1835.59 65.73 Q1838.42 63.9071 1838.42 60.6258 Q1838.42 57.5877 1836.36 55.9673 Q1834.33 54.3469 1827.4 52.8481 L1824.81 52.2405 Q1817.89 50.7821 1814.81 47.7845 Q1811.73 44.7463 1811.73 39.4801 Q1811.73 33.0797 1816.26 29.5959 Q1820.8 26.1121 1829.15 26.1121 Q1833.28 26.1121 1836.92 26.7198 Q1840.57 27.3274 1843.65 28.5427 Z\" fill=\"#000000\" fill-rule=\"evenodd\" fill-opacity=\"1\" /><path clip-path=\"url(#clip460)\" d=\"M1875.85 9.62495 Q1870.43 18.942 1867.79 28.0566 Q1865.16 37.1711 1865.16 46.5287 Q1865.16 55.8863 1867.79 65.0818 Q1870.47 74.2369 1875.85 83.5134 L1869.37 83.5134 Q1863.3 73.9938 1860.26 64.7983 Q1857.26 55.6027 1857.26 46.5287 Q1857.26 37.4952 1860.26 28.3401 Q1863.26 19.1851 1869.37 9.62495 L1875.85 9.62495 Z\" fill=\"#000000\" fill-rule=\"evenodd\" fill-opacity=\"1\" /><path clip-path=\"url(#clip460)\" d=\"M1928.03 27.2059 L1911.62 49.2833 L1928.88 72.576 L1920.09 72.576 L1906.88 54.752 L1893.68 72.576 L1884.89 72.576 L1902.51 48.8377 L1886.39 27.2059 L1895.18 27.2059 L1907.21 43.369 L1919.24 27.2059 L1928.03 27.2059 Z\" fill=\"#000000\" fill-rule=\"evenodd\" fill-opacity=\"1\" /><path clip-path=\"url(#clip460)\" d=\"M1938.24 9.62495 L1944.72 9.62495 Q1950.8 19.1851 1953.79 28.3401 Q1956.83 37.4952 1956.83 46.5287 Q1956.83 55.6027 1953.79 64.7983 Q1950.8 73.9938 1944.72 83.5134 L1938.24 83.5134 Q1943.63 74.2369 1946.26 65.0818 Q1948.93 55.8863 1948.93 46.5287 Q1948.93 37.1711 1946.26 28.0566 Q1943.63 18.942 1938.24 9.62495 Z\" fill=\"#000000\" fill-rule=\"evenodd\" fill-opacity=\"1\" /><polyline clip-path=\"url(#clip462)\" style=\"stroke:#009af9; stroke-linecap:butt; stroke-linejoin:round; stroke-width:4; stroke-opacity:1; fill:none\" points=\"\n",
       "  316.512,773.326 357.698,614.652 398.884,466.791 440.071,339.82 481.257,242.392 522.443,181.146 563.629,160.256 604.815,181.146 646.001,242.392 687.188,339.82 \n",
       "  728.374,466.791 769.56,614.652 810.746,773.326 851.932,932 893.118,1079.86 934.305,1206.83 975.491,1304.26 1016.68,1365.51 1057.86,1386.4 1099.05,1365.51 \n",
       "  1140.24,1304.26 1181.42,1206.83 1222.61,1079.86 1263.79,932 1304.98,773.326 1346.17,614.652 1387.35,466.791 1428.54,339.82 1469.72,242.392 1510.91,181.146 \n",
       "  1552.1,160.256 1593.28,181.146 1634.47,242.392 1675.66,339.82 1716.84,466.791 1758.03,614.652 1799.21,773.326 1840.4,932 1881.59,1079.86 1922.77,1206.83 \n",
       "  1963.96,1304.26 2005.14,1365.51 2046.33,1386.4 2087.52,1365.51 2128.7,1304.26 2169.89,1206.83 2211.08,1079.86 2252.26,932 2293.45,773.326 \n",
       "  \"/>\n",
       "<circle clip-path=\"url(#clip462)\" cx=\"316.512\" cy=\"160.256\" r=\"14\" fill=\"#e26f46\" fill-rule=\"evenodd\" fill-opacity=\"1\" stroke=\"#000000\" stroke-opacity=\"1\" stroke-width=\"3.2\"/>\n",
       "<circle clip-path=\"url(#clip462)\" cx=\"357.698\" cy=\"181.146\" r=\"14\" fill=\"#e26f46\" fill-rule=\"evenodd\" fill-opacity=\"1\" stroke=\"#000000\" stroke-opacity=\"1\" stroke-width=\"3.2\"/>\n",
       "<circle clip-path=\"url(#clip462)\" cx=\"398.884\" cy=\"242.392\" r=\"14\" fill=\"#e26f46\" fill-rule=\"evenodd\" fill-opacity=\"1\" stroke=\"#000000\" stroke-opacity=\"1\" stroke-width=\"3.2\"/>\n",
       "<circle clip-path=\"url(#clip462)\" cx=\"440.071\" cy=\"339.82\" r=\"14\" fill=\"#e26f46\" fill-rule=\"evenodd\" fill-opacity=\"1\" stroke=\"#000000\" stroke-opacity=\"1\" stroke-width=\"3.2\"/>\n",
       "<circle clip-path=\"url(#clip462)\" cx=\"481.257\" cy=\"466.791\" r=\"14\" fill=\"#e26f46\" fill-rule=\"evenodd\" fill-opacity=\"1\" stroke=\"#000000\" stroke-opacity=\"1\" stroke-width=\"3.2\"/>\n",
       "<circle clip-path=\"url(#clip462)\" cx=\"522.443\" cy=\"614.652\" r=\"14\" fill=\"#e26f46\" fill-rule=\"evenodd\" fill-opacity=\"1\" stroke=\"#000000\" stroke-opacity=\"1\" stroke-width=\"3.2\"/>\n",
       "<circle clip-path=\"url(#clip462)\" cx=\"563.629\" cy=\"773.326\" r=\"14\" fill=\"#e26f46\" fill-rule=\"evenodd\" fill-opacity=\"1\" stroke=\"#000000\" stroke-opacity=\"1\" stroke-width=\"3.2\"/>\n",
       "<circle clip-path=\"url(#clip462)\" cx=\"604.815\" cy=\"932\" r=\"14\" fill=\"#e26f46\" fill-rule=\"evenodd\" fill-opacity=\"1\" stroke=\"#000000\" stroke-opacity=\"1\" stroke-width=\"3.2\"/>\n",
       "<circle clip-path=\"url(#clip462)\" cx=\"646.001\" cy=\"1079.86\" r=\"14\" fill=\"#e26f46\" fill-rule=\"evenodd\" fill-opacity=\"1\" stroke=\"#000000\" stroke-opacity=\"1\" stroke-width=\"3.2\"/>\n",
       "<circle clip-path=\"url(#clip462)\" cx=\"687.188\" cy=\"1206.83\" r=\"14\" fill=\"#e26f46\" fill-rule=\"evenodd\" fill-opacity=\"1\" stroke=\"#000000\" stroke-opacity=\"1\" stroke-width=\"3.2\"/>\n",
       "<circle clip-path=\"url(#clip462)\" cx=\"728.374\" cy=\"1304.26\" r=\"14\" fill=\"#e26f46\" fill-rule=\"evenodd\" fill-opacity=\"1\" stroke=\"#000000\" stroke-opacity=\"1\" stroke-width=\"3.2\"/>\n",
       "<circle clip-path=\"url(#clip462)\" cx=\"769.56\" cy=\"1365.51\" r=\"14\" fill=\"#e26f46\" fill-rule=\"evenodd\" fill-opacity=\"1\" stroke=\"#000000\" stroke-opacity=\"1\" stroke-width=\"3.2\"/>\n",
       "<circle clip-path=\"url(#clip462)\" cx=\"810.746\" cy=\"1386.4\" r=\"14\" fill=\"#e26f46\" fill-rule=\"evenodd\" fill-opacity=\"1\" stroke=\"#000000\" stroke-opacity=\"1\" stroke-width=\"3.2\"/>\n",
       "<circle clip-path=\"url(#clip462)\" cx=\"851.932\" cy=\"1365.51\" r=\"14\" fill=\"#e26f46\" fill-rule=\"evenodd\" fill-opacity=\"1\" stroke=\"#000000\" stroke-opacity=\"1\" stroke-width=\"3.2\"/>\n",
       "<circle clip-path=\"url(#clip462)\" cx=\"893.118\" cy=\"1304.26\" r=\"14\" fill=\"#e26f46\" fill-rule=\"evenodd\" fill-opacity=\"1\" stroke=\"#000000\" stroke-opacity=\"1\" stroke-width=\"3.2\"/>\n",
       "<circle clip-path=\"url(#clip462)\" cx=\"934.305\" cy=\"1206.83\" r=\"14\" fill=\"#e26f46\" fill-rule=\"evenodd\" fill-opacity=\"1\" stroke=\"#000000\" stroke-opacity=\"1\" stroke-width=\"3.2\"/>\n",
       "<circle clip-path=\"url(#clip462)\" cx=\"975.491\" cy=\"1079.86\" r=\"14\" fill=\"#e26f46\" fill-rule=\"evenodd\" fill-opacity=\"1\" stroke=\"#000000\" stroke-opacity=\"1\" stroke-width=\"3.2\"/>\n",
       "<circle clip-path=\"url(#clip462)\" cx=\"1016.68\" cy=\"932\" r=\"14\" fill=\"#e26f46\" fill-rule=\"evenodd\" fill-opacity=\"1\" stroke=\"#000000\" stroke-opacity=\"1\" stroke-width=\"3.2\"/>\n",
       "<circle clip-path=\"url(#clip462)\" cx=\"1057.86\" cy=\"773.326\" r=\"14\" fill=\"#e26f46\" fill-rule=\"evenodd\" fill-opacity=\"1\" stroke=\"#000000\" stroke-opacity=\"1\" stroke-width=\"3.2\"/>\n",
       "<circle clip-path=\"url(#clip462)\" cx=\"1099.05\" cy=\"614.652\" r=\"14\" fill=\"#e26f46\" fill-rule=\"evenodd\" fill-opacity=\"1\" stroke=\"#000000\" stroke-opacity=\"1\" stroke-width=\"3.2\"/>\n",
       "<circle clip-path=\"url(#clip462)\" cx=\"1140.24\" cy=\"466.791\" r=\"14\" fill=\"#e26f46\" fill-rule=\"evenodd\" fill-opacity=\"1\" stroke=\"#000000\" stroke-opacity=\"1\" stroke-width=\"3.2\"/>\n",
       "<circle clip-path=\"url(#clip462)\" cx=\"1181.42\" cy=\"339.82\" r=\"14\" fill=\"#e26f46\" fill-rule=\"evenodd\" fill-opacity=\"1\" stroke=\"#000000\" stroke-opacity=\"1\" stroke-width=\"3.2\"/>\n",
       "<circle clip-path=\"url(#clip462)\" cx=\"1222.61\" cy=\"242.392\" r=\"14\" fill=\"#e26f46\" fill-rule=\"evenodd\" fill-opacity=\"1\" stroke=\"#000000\" stroke-opacity=\"1\" stroke-width=\"3.2\"/>\n",
       "<circle clip-path=\"url(#clip462)\" cx=\"1263.79\" cy=\"181.146\" r=\"14\" fill=\"#e26f46\" fill-rule=\"evenodd\" fill-opacity=\"1\" stroke=\"#000000\" stroke-opacity=\"1\" stroke-width=\"3.2\"/>\n",
       "<circle clip-path=\"url(#clip462)\" cx=\"1304.98\" cy=\"160.256\" r=\"14\" fill=\"#e26f46\" fill-rule=\"evenodd\" fill-opacity=\"1\" stroke=\"#000000\" stroke-opacity=\"1\" stroke-width=\"3.2\"/>\n",
       "<circle clip-path=\"url(#clip462)\" cx=\"1346.17\" cy=\"181.146\" r=\"14\" fill=\"#e26f46\" fill-rule=\"evenodd\" fill-opacity=\"1\" stroke=\"#000000\" stroke-opacity=\"1\" stroke-width=\"3.2\"/>\n",
       "<circle clip-path=\"url(#clip462)\" cx=\"1387.35\" cy=\"242.392\" r=\"14\" fill=\"#e26f46\" fill-rule=\"evenodd\" fill-opacity=\"1\" stroke=\"#000000\" stroke-opacity=\"1\" stroke-width=\"3.2\"/>\n",
       "<circle clip-path=\"url(#clip462)\" cx=\"1428.54\" cy=\"339.82\" r=\"14\" fill=\"#e26f46\" fill-rule=\"evenodd\" fill-opacity=\"1\" stroke=\"#000000\" stroke-opacity=\"1\" stroke-width=\"3.2\"/>\n",
       "<circle clip-path=\"url(#clip462)\" cx=\"1469.72\" cy=\"466.791\" r=\"14\" fill=\"#e26f46\" fill-rule=\"evenodd\" fill-opacity=\"1\" stroke=\"#000000\" stroke-opacity=\"1\" stroke-width=\"3.2\"/>\n",
       "<circle clip-path=\"url(#clip462)\" cx=\"1510.91\" cy=\"614.652\" r=\"14\" fill=\"#e26f46\" fill-rule=\"evenodd\" fill-opacity=\"1\" stroke=\"#000000\" stroke-opacity=\"1\" stroke-width=\"3.2\"/>\n",
       "<circle clip-path=\"url(#clip462)\" cx=\"1552.1\" cy=\"773.326\" r=\"14\" fill=\"#e26f46\" fill-rule=\"evenodd\" fill-opacity=\"1\" stroke=\"#000000\" stroke-opacity=\"1\" stroke-width=\"3.2\"/>\n",
       "<circle clip-path=\"url(#clip462)\" cx=\"1593.28\" cy=\"932\" r=\"14\" fill=\"#e26f46\" fill-rule=\"evenodd\" fill-opacity=\"1\" stroke=\"#000000\" stroke-opacity=\"1\" stroke-width=\"3.2\"/>\n",
       "<circle clip-path=\"url(#clip462)\" cx=\"1634.47\" cy=\"1079.86\" r=\"14\" fill=\"#e26f46\" fill-rule=\"evenodd\" fill-opacity=\"1\" stroke=\"#000000\" stroke-opacity=\"1\" stroke-width=\"3.2\"/>\n",
       "<circle clip-path=\"url(#clip462)\" cx=\"1675.66\" cy=\"1206.83\" r=\"14\" fill=\"#e26f46\" fill-rule=\"evenodd\" fill-opacity=\"1\" stroke=\"#000000\" stroke-opacity=\"1\" stroke-width=\"3.2\"/>\n",
       "<circle clip-path=\"url(#clip462)\" cx=\"1716.84\" cy=\"1304.26\" r=\"14\" fill=\"#e26f46\" fill-rule=\"evenodd\" fill-opacity=\"1\" stroke=\"#000000\" stroke-opacity=\"1\" stroke-width=\"3.2\"/>\n",
       "<circle clip-path=\"url(#clip462)\" cx=\"1758.03\" cy=\"1365.51\" r=\"14\" fill=\"#e26f46\" fill-rule=\"evenodd\" fill-opacity=\"1\" stroke=\"#000000\" stroke-opacity=\"1\" stroke-width=\"3.2\"/>\n",
       "<circle clip-path=\"url(#clip462)\" cx=\"1799.21\" cy=\"1386.4\" r=\"14\" fill=\"#e26f46\" fill-rule=\"evenodd\" fill-opacity=\"1\" stroke=\"#000000\" stroke-opacity=\"1\" stroke-width=\"3.2\"/>\n",
       "<circle clip-path=\"url(#clip462)\" cx=\"1840.4\" cy=\"1365.51\" r=\"14\" fill=\"#e26f46\" fill-rule=\"evenodd\" fill-opacity=\"1\" stroke=\"#000000\" stroke-opacity=\"1\" stroke-width=\"3.2\"/>\n",
       "<circle clip-path=\"url(#clip462)\" cx=\"1881.59\" cy=\"1304.26\" r=\"14\" fill=\"#e26f46\" fill-rule=\"evenodd\" fill-opacity=\"1\" stroke=\"#000000\" stroke-opacity=\"1\" stroke-width=\"3.2\"/>\n",
       "<circle clip-path=\"url(#clip462)\" cx=\"1922.77\" cy=\"1206.83\" r=\"14\" fill=\"#e26f46\" fill-rule=\"evenodd\" fill-opacity=\"1\" stroke=\"#000000\" stroke-opacity=\"1\" stroke-width=\"3.2\"/>\n",
       "<circle clip-path=\"url(#clip462)\" cx=\"1963.96\" cy=\"1079.86\" r=\"14\" fill=\"#e26f46\" fill-rule=\"evenodd\" fill-opacity=\"1\" stroke=\"#000000\" stroke-opacity=\"1\" stroke-width=\"3.2\"/>\n",
       "<circle clip-path=\"url(#clip462)\" cx=\"2005.14\" cy=\"932\" r=\"14\" fill=\"#e26f46\" fill-rule=\"evenodd\" fill-opacity=\"1\" stroke=\"#000000\" stroke-opacity=\"1\" stroke-width=\"3.2\"/>\n",
       "<circle clip-path=\"url(#clip462)\" cx=\"2046.33\" cy=\"773.326\" r=\"14\" fill=\"#e26f46\" fill-rule=\"evenodd\" fill-opacity=\"1\" stroke=\"#000000\" stroke-opacity=\"1\" stroke-width=\"3.2\"/>\n",
       "<circle clip-path=\"url(#clip462)\" cx=\"2087.52\" cy=\"614.652\" r=\"14\" fill=\"#e26f46\" fill-rule=\"evenodd\" fill-opacity=\"1\" stroke=\"#000000\" stroke-opacity=\"1\" stroke-width=\"3.2\"/>\n",
       "<circle clip-path=\"url(#clip462)\" cx=\"2128.7\" cy=\"466.791\" r=\"14\" fill=\"#e26f46\" fill-rule=\"evenodd\" fill-opacity=\"1\" stroke=\"#000000\" stroke-opacity=\"1\" stroke-width=\"3.2\"/>\n",
       "<circle clip-path=\"url(#clip462)\" cx=\"2169.89\" cy=\"339.82\" r=\"14\" fill=\"#e26f46\" fill-rule=\"evenodd\" fill-opacity=\"1\" stroke=\"#000000\" stroke-opacity=\"1\" stroke-width=\"3.2\"/>\n",
       "<circle clip-path=\"url(#clip462)\" cx=\"2211.08\" cy=\"242.392\" r=\"14\" fill=\"#e26f46\" fill-rule=\"evenodd\" fill-opacity=\"1\" stroke=\"#000000\" stroke-opacity=\"1\" stroke-width=\"3.2\"/>\n",
       "<circle clip-path=\"url(#clip462)\" cx=\"2252.26\" cy=\"181.146\" r=\"14\" fill=\"#e26f46\" fill-rule=\"evenodd\" fill-opacity=\"1\" stroke=\"#000000\" stroke-opacity=\"1\" stroke-width=\"3.2\"/>\n",
       "<circle clip-path=\"url(#clip462)\" cx=\"2293.45\" cy=\"160.256\" r=\"14\" fill=\"#e26f46\" fill-rule=\"evenodd\" fill-opacity=\"1\" stroke=\"#000000\" stroke-opacity=\"1\" stroke-width=\"3.2\"/>\n",
       "<path clip-path=\"url(#clip460)\" d=\"\n",
       "M1911.94 322.316 L2282.9 322.316 L2282.9 166.796 L1911.94 166.796  Z\n",
       "  \" fill=\"#ffffff\" fill-rule=\"evenodd\" fill-opacity=\"1\"/>\n",
       "<polyline clip-path=\"url(#clip460)\" style=\"stroke:#000000; stroke-linecap:butt; stroke-linejoin:round; stroke-width:4; stroke-opacity:1; fill:none\" points=\"\n",
       "  1911.94,322.316 2282.9,322.316 2282.9,166.796 1911.94,166.796 1911.94,322.316 \n",
       "  \"/>\n",
       "<polyline clip-path=\"url(#clip460)\" style=\"stroke:#009af9; stroke-linecap:butt; stroke-linejoin:round; stroke-width:4; stroke-opacity:1; fill:none\" points=\"\n",
       "  1935.22,218.636 2074.93,218.636 \n",
       "  \"/>\n",
       "<path clip-path=\"url(#clip460)\" d=\"M2116.64 210.754 L2116.64 214.782 Q2114.83 213.856 2112.89 213.393 Q2110.94 212.93 2108.86 212.93 Q2105.69 212.93 2104.09 213.902 Q2102.52 214.874 2102.52 216.819 Q2102.52 218.3 2103.65 219.157 Q2104.79 219.99 2108.21 220.754 L2109.67 221.078 Q2114.21 222.05 2116.11 223.832 Q2118.03 225.592 2118.03 228.763 Q2118.03 232.374 2115.16 234.481 Q2112.31 236.587 2107.31 236.587 Q2105.23 236.587 2102.96 236.17 Q2100.71 235.777 2098.21 234.967 L2098.21 230.569 Q2100.57 231.795 2102.86 232.42 Q2105.16 233.022 2107.4 233.022 Q2110.41 233.022 2112.03 232.004 Q2113.65 230.962 2113.65 229.087 Q2113.65 227.351 2112.47 226.425 Q2111.31 225.499 2107.36 224.643 L2105.87 224.295 Q2101.92 223.462 2100.16 221.749 Q2098.4 220.013 2098.4 217.004 Q2098.4 213.346 2100.99 211.356 Q2103.58 209.365 2108.35 209.365 Q2110.71 209.365 2112.8 209.712 Q2114.88 210.059 2116.64 210.754 Z\" fill=\"#000000\" fill-rule=\"evenodd\" fill-opacity=\"1\" /><path clip-path=\"url(#clip460)\" d=\"M2124.81 209.99 L2129.07 209.99 L2129.07 235.916 L2124.81 235.916 L2124.81 209.99 M2124.81 199.897 L2129.07 199.897 L2129.07 205.291 L2124.81 205.291 L2124.81 199.897 Z\" fill=\"#000000\" fill-rule=\"evenodd\" fill-opacity=\"1\" /><path clip-path=\"url(#clip460)\" d=\"M2159.53 220.268 L2159.53 235.916 L2155.27 235.916 L2155.27 220.407 Q2155.27 216.726 2153.84 214.897 Q2152.4 213.069 2149.53 213.069 Q2146.08 213.069 2144.09 215.268 Q2142.1 217.467 2142.1 221.263 L2142.1 235.916 L2137.82 235.916 L2137.82 209.99 L2142.1 209.99 L2142.1 214.018 Q2143.63 211.68 2145.69 210.522 Q2147.77 209.365 2150.48 209.365 Q2154.95 209.365 2157.24 212.143 Q2159.53 214.897 2159.53 220.268 Z\" fill=\"#000000\" fill-rule=\"evenodd\" fill-opacity=\"1\" /><path clip-path=\"url(#clip460)\" d=\"M2178.26 199.944 Q2175.16 205.268 2173.65 210.476 Q2172.15 215.684 2172.15 221.032 Q2172.15 226.379 2173.65 231.633 Q2175.18 236.865 2178.26 242.166 L2174.55 242.166 Q2171.08 236.726 2169.35 231.471 Q2167.63 226.217 2167.63 221.032 Q2167.63 215.87 2169.35 210.638 Q2171.06 205.407 2174.55 199.944 L2178.26 199.944 Z\" fill=\"#000000\" fill-rule=\"evenodd\" fill-opacity=\"1\" /><path clip-path=\"url(#clip460)\" d=\"M2208.07 209.99 L2198.7 222.606 L2208.56 235.916 L2203.54 235.916 L2195.99 225.731 L2188.44 235.916 L2183.42 235.916 L2193.49 222.351 L2184.28 209.99 L2189.3 209.99 L2196.17 219.226 L2203.05 209.99 L2208.07 209.99 Z\" fill=\"#000000\" fill-rule=\"evenodd\" fill-opacity=\"1\" /><path clip-path=\"url(#clip460)\" d=\"M2213.91 199.944 L2217.61 199.944 Q2221.08 205.407 2222.79 210.638 Q2224.53 215.87 2224.53 221.032 Q2224.53 226.217 2222.79 231.471 Q2221.08 236.726 2217.61 242.166 L2213.91 242.166 Q2216.98 236.865 2218.49 231.633 Q2220.02 226.379 2220.02 221.032 Q2220.02 215.684 2218.49 210.476 Q2216.98 205.268 2213.91 199.944 Z\" fill=\"#000000\" fill-rule=\"evenodd\" fill-opacity=\"1\" /><circle clip-path=\"url(#clip460)\" cx=\"2005.08\" cy=\"270.476\" r=\"23\" fill=\"#e26f46\" fill-rule=\"evenodd\" fill-opacity=\"1\" stroke=\"#000000\" stroke-opacity=\"1\" stroke-width=\"5.12\"/>\n",
       "<path clip-path=\"url(#clip460)\" d=\"M2118.72 262.825 L2118.72 266.807 Q2116.92 265.811 2115.09 265.325 Q2113.28 264.816 2111.43 264.816 Q2107.29 264.816 2104.99 267.455 Q2102.7 270.071 2102.7 274.816 Q2102.7 279.561 2104.99 282.2 Q2107.29 284.816 2111.43 284.816 Q2113.28 284.816 2115.09 284.33 Q2116.92 283.821 2118.72 282.825 L2118.72 286.76 Q2116.94 287.594 2115.02 288.01 Q2113.12 288.427 2110.97 288.427 Q2105.11 288.427 2101.66 284.746 Q2098.21 281.066 2098.21 274.816 Q2098.21 268.473 2101.68 264.839 Q2105.18 261.205 2111.24 261.205 Q2113.21 261.205 2115.09 261.622 Q2116.96 262.015 2118.72 262.825 Z\" fill=\"#000000\" fill-rule=\"evenodd\" fill-opacity=\"1\" /><path clip-path=\"url(#clip460)\" d=\"M2136.17 264.816 Q2132.75 264.816 2130.76 267.501 Q2128.77 270.163 2128.77 274.816 Q2128.77 279.469 2130.74 282.154 Q2132.73 284.816 2136.17 284.816 Q2139.58 284.816 2141.57 282.131 Q2143.56 279.446 2143.56 274.816 Q2143.56 270.21 2141.57 267.524 Q2139.58 264.816 2136.17 264.816 M2136.17 261.205 Q2141.73 261.205 2144.9 264.816 Q2148.07 268.427 2148.07 274.816 Q2148.07 281.182 2144.9 284.816 Q2141.73 288.427 2136.17 288.427 Q2130.6 288.427 2127.42 284.816 Q2124.28 281.182 2124.28 274.816 Q2124.28 268.427 2127.42 264.816 Q2130.6 261.205 2136.17 261.205 Z\" fill=\"#000000\" fill-rule=\"evenodd\" fill-opacity=\"1\" /><path clip-path=\"url(#clip460)\" d=\"M2171.66 262.594 L2171.66 266.622 Q2169.86 265.696 2167.91 265.233 Q2165.97 264.77 2163.88 264.77 Q2160.71 264.77 2159.11 265.742 Q2157.54 266.714 2157.54 268.659 Q2157.54 270.14 2158.67 270.997 Q2159.81 271.83 2163.23 272.594 L2164.69 272.918 Q2169.23 273.89 2171.13 275.672 Q2173.05 277.432 2173.05 280.603 Q2173.05 284.214 2170.18 286.321 Q2167.33 288.427 2162.33 288.427 Q2160.25 288.427 2157.98 288.01 Q2155.73 287.617 2153.23 286.807 L2153.23 282.409 Q2155.6 283.635 2157.89 284.26 Q2160.18 284.862 2162.42 284.862 Q2165.43 284.862 2167.05 283.844 Q2168.67 282.802 2168.67 280.927 Q2168.67 279.191 2167.49 278.265 Q2166.34 277.339 2162.38 276.483 L2160.9 276.135 Q2156.94 275.302 2155.18 273.589 Q2153.42 271.853 2153.42 268.844 Q2153.42 265.186 2156.01 263.196 Q2158.61 261.205 2163.37 261.205 Q2165.73 261.205 2167.82 261.552 Q2169.9 261.899 2171.66 262.594 Z\" fill=\"#000000\" fill-rule=\"evenodd\" fill-opacity=\"1\" /><path clip-path=\"url(#clip460)\" d=\"M2190.06 251.784 Q2186.96 257.108 2185.46 262.316 Q2183.95 267.524 2183.95 272.872 Q2183.95 278.219 2185.46 283.473 Q2186.98 288.705 2190.06 294.006 L2186.36 294.006 Q2182.89 288.566 2181.15 283.311 Q2179.44 278.057 2179.44 272.872 Q2179.44 267.71 2181.15 262.478 Q2182.86 257.247 2186.36 251.784 L2190.06 251.784 Z\" fill=\"#000000\" fill-rule=\"evenodd\" fill-opacity=\"1\" /><path clip-path=\"url(#clip460)\" d=\"M2219.88 261.83 L2210.5 274.446 L2220.36 287.756 L2215.34 287.756 L2207.79 277.571 L2200.25 287.756 L2195.23 287.756 L2205.29 274.191 L2196.08 261.83 L2201.11 261.83 L2207.98 271.066 L2214.85 261.83 L2219.88 261.83 Z\" fill=\"#000000\" fill-rule=\"evenodd\" fill-opacity=\"1\" /><path clip-path=\"url(#clip460)\" d=\"M2225.71 251.784 L2229.42 251.784 Q2232.89 257.247 2234.6 262.478 Q2236.34 267.71 2236.34 272.872 Q2236.34 278.057 2234.6 283.311 Q2232.89 288.566 2229.42 294.006 L2225.71 294.006 Q2228.79 288.705 2230.29 283.473 Q2231.82 278.219 2231.82 272.872 Q2231.82 267.524 2230.29 262.316 Q2228.79 257.108 2225.71 251.784 Z\" fill=\"#000000\" fill-rule=\"evenodd\" fill-opacity=\"1\" /></svg>\n"
      ]
     },
     "execution_count": 40,
     "metadata": {},
     "output_type": "execute_result"
    }
   ],
   "source": [
    "xlabel!(\"Ángulo π\")\n",
    "ylabel!(\"Respuesta Unitaria\")\n",
    "title!(\"Comportamiento sin(x) y cos(x)\")"
   ]
  },
  {
   "cell_type": "code",
   "execution_count": 41,
   "metadata": {},
   "outputs": [
    {
     "data": {
      "image/svg+xml": [
       "<?xml version=\"1.0\" encoding=\"utf-8\"?>\n",
       "<svg xmlns=\"http://www.w3.org/2000/svg\" xmlns:xlink=\"http://www.w3.org/1999/xlink\" width=\"600\" height=\"400\" viewBox=\"0 0 2400 1600\">\n",
       "<defs>\n",
       "  <clipPath id=\"clip500\">\n",
       "    <rect x=\"0\" y=\"0\" width=\"2400\" height=\"1600\"/>\n",
       "  </clipPath>\n",
       "</defs>\n",
       "<path clip-path=\"url(#clip500)\" d=\"\n",
       "M0 1600 L2400 1600 L2400 0 L0 0  Z\n",
       "  \" fill=\"#ffffff\" fill-rule=\"evenodd\" fill-opacity=\"1\"/>\n",
       "<defs>\n",
       "  <clipPath id=\"clip501\">\n",
       "    <rect x=\"480\" y=\"0\" width=\"1681\" height=\"1600\"/>\n",
       "  </clipPath>\n",
       "</defs>\n",
       "<path clip-path=\"url(#clip500)\" d=\"\n",
       "M193.936 686.448 L1096.6 686.448 L1096.6 47.2441 L193.936 47.2441  Z\n",
       "  \" fill=\"#ffffff\" fill-rule=\"evenodd\" fill-opacity=\"1\"/>\n",
       "<defs>\n",
       "  <clipPath id=\"clip502\">\n",
       "    <rect x=\"193\" y=\"47\" width=\"904\" height=\"640\"/>\n",
       "  </clipPath>\n",
       "</defs>\n",
       "<polyline clip-path=\"url(#clip502)\" style=\"stroke:#000000; stroke-linecap:butt; stroke-linejoin:round; stroke-width:2; stroke-opacity:0.1; fill:none\" points=\"\n",
       "  219.483,686.448 219.483,47.2441 \n",
       "  \"/>\n",
       "<polyline clip-path=\"url(#clip502)\" style=\"stroke:#000000; stroke-linecap:butt; stroke-linejoin:round; stroke-width:2; stroke-opacity:0.1; fill:none\" points=\"\n",
       "  355.014,686.448 355.014,47.2441 \n",
       "  \"/>\n",
       "<polyline clip-path=\"url(#clip502)\" style=\"stroke:#000000; stroke-linecap:butt; stroke-linejoin:round; stroke-width:2; stroke-opacity:0.1; fill:none\" points=\"\n",
       "  490.546,686.448 490.546,47.2441 \n",
       "  \"/>\n",
       "<polyline clip-path=\"url(#clip502)\" style=\"stroke:#000000; stroke-linecap:butt; stroke-linejoin:round; stroke-width:2; stroke-opacity:0.1; fill:none\" points=\"\n",
       "  626.077,686.448 626.077,47.2441 \n",
       "  \"/>\n",
       "<polyline clip-path=\"url(#clip502)\" style=\"stroke:#000000; stroke-linecap:butt; stroke-linejoin:round; stroke-width:2; stroke-opacity:0.1; fill:none\" points=\"\n",
       "  761.609,686.448 761.609,47.2441 \n",
       "  \"/>\n",
       "<polyline clip-path=\"url(#clip502)\" style=\"stroke:#000000; stroke-linecap:butt; stroke-linejoin:round; stroke-width:2; stroke-opacity:0.1; fill:none\" points=\"\n",
       "  897.14,686.448 897.14,47.2441 \n",
       "  \"/>\n",
       "<polyline clip-path=\"url(#clip502)\" style=\"stroke:#000000; stroke-linecap:butt; stroke-linejoin:round; stroke-width:2; stroke-opacity:0.1; fill:none\" points=\"\n",
       "  1032.67,686.448 1032.67,47.2441 \n",
       "  \"/>\n",
       "<polyline clip-path=\"url(#clip500)\" style=\"stroke:#000000; stroke-linecap:butt; stroke-linejoin:round; stroke-width:4; stroke-opacity:1; fill:none\" points=\"\n",
       "  193.936,686.448 1096.6,686.448 \n",
       "  \"/>\n",
       "<polyline clip-path=\"url(#clip500)\" style=\"stroke:#000000; stroke-linecap:butt; stroke-linejoin:round; stroke-width:4; stroke-opacity:1; fill:none\" points=\"\n",
       "  219.483,686.448 219.483,667.55 \n",
       "  \"/>\n",
       "<polyline clip-path=\"url(#clip500)\" style=\"stroke:#000000; stroke-linecap:butt; stroke-linejoin:round; stroke-width:4; stroke-opacity:1; fill:none\" points=\"\n",
       "  355.014,686.448 355.014,667.55 \n",
       "  \"/>\n",
       "<polyline clip-path=\"url(#clip500)\" style=\"stroke:#000000; stroke-linecap:butt; stroke-linejoin:round; stroke-width:4; stroke-opacity:1; fill:none\" points=\"\n",
       "  490.546,686.448 490.546,667.55 \n",
       "  \"/>\n",
       "<polyline clip-path=\"url(#clip500)\" style=\"stroke:#000000; stroke-linecap:butt; stroke-linejoin:round; stroke-width:4; stroke-opacity:1; fill:none\" points=\"\n",
       "  626.077,686.448 626.077,667.55 \n",
       "  \"/>\n",
       "<polyline clip-path=\"url(#clip500)\" style=\"stroke:#000000; stroke-linecap:butt; stroke-linejoin:round; stroke-width:4; stroke-opacity:1; fill:none\" points=\"\n",
       "  761.609,686.448 761.609,667.55 \n",
       "  \"/>\n",
       "<polyline clip-path=\"url(#clip500)\" style=\"stroke:#000000; stroke-linecap:butt; stroke-linejoin:round; stroke-width:4; stroke-opacity:1; fill:none\" points=\"\n",
       "  897.14,686.448 897.14,667.55 \n",
       "  \"/>\n",
       "<polyline clip-path=\"url(#clip500)\" style=\"stroke:#000000; stroke-linecap:butt; stroke-linejoin:round; stroke-width:4; stroke-opacity:1; fill:none\" points=\"\n",
       "  1032.67,686.448 1032.67,667.55 \n",
       "  \"/>\n",
       "<path clip-path=\"url(#clip500)\" d=\"M219.483 717.367 Q215.872 717.367 214.043 720.931 Q212.238 724.473 212.238 731.603 Q212.238 738.709 214.043 742.274 Q215.872 745.815 219.483 745.815 Q223.117 745.815 224.923 742.274 Q226.752 738.709 226.752 731.603 Q226.752 724.473 224.923 720.931 Q223.117 717.367 219.483 717.367 M219.483 713.663 Q225.293 713.663 228.349 718.269 Q231.427 722.853 231.427 731.603 Q231.427 740.329 228.349 744.936 Q225.293 749.519 219.483 749.519 Q213.673 749.519 210.594 744.936 Q207.539 740.329 207.539 731.603 Q207.539 722.853 210.594 718.269 Q213.673 713.663 219.483 713.663 Z\" fill=\"#000000\" fill-rule=\"evenodd\" fill-opacity=\"1\" /><path clip-path=\"url(#clip500)\" d=\"M349.667 744.913 L365.987 744.913 L365.987 748.848 L344.042 748.848 L344.042 744.913 Q346.704 742.158 351.288 737.528 Q355.894 732.876 357.075 731.533 Q359.32 729.01 360.2 727.274 Q361.102 725.515 361.102 723.825 Q361.102 721.07 359.158 719.334 Q357.237 717.598 354.135 717.598 Q351.936 717.598 349.482 718.362 Q347.052 719.126 344.274 720.677 L344.274 715.955 Q347.098 714.82 349.551 714.242 Q352.005 713.663 354.042 713.663 Q359.413 713.663 362.607 716.348 Q365.801 719.033 365.801 723.524 Q365.801 725.654 364.991 727.575 Q364.204 729.473 362.098 732.066 Q361.519 732.737 358.417 735.954 Q355.315 739.149 349.667 744.913 Z\" fill=\"#000000\" fill-rule=\"evenodd\" fill-opacity=\"1\" /><path clip-path=\"url(#clip500)\" d=\"M493.555 718.362 L481.75 736.811 L493.555 736.811 L493.555 718.362 M492.328 714.288 L498.208 714.288 L498.208 736.811 L503.138 736.811 L503.138 740.7 L498.208 740.7 L498.208 748.848 L493.555 748.848 L493.555 740.7 L477.953 740.7 L477.953 736.186 L492.328 714.288 Z\" fill=\"#000000\" fill-rule=\"evenodd\" fill-opacity=\"1\" /><path clip-path=\"url(#clip500)\" d=\"M626.482 729.704 Q623.334 729.704 621.482 731.857 Q619.654 734.01 619.654 737.76 Q619.654 741.487 621.482 743.663 Q623.334 745.815 626.482 745.815 Q629.63 745.815 631.459 743.663 Q633.311 741.487 633.311 737.76 Q633.311 734.01 631.459 731.857 Q629.63 729.704 626.482 729.704 M635.765 715.052 L635.765 719.311 Q634.005 718.478 632.2 718.038 Q630.417 717.598 628.658 717.598 Q624.029 717.598 621.575 720.723 Q619.144 723.848 618.797 730.167 Q620.163 728.154 622.223 727.089 Q624.283 726.001 626.76 726.001 Q631.968 726.001 634.978 729.172 Q638.01 732.32 638.01 737.76 Q638.01 743.084 634.862 746.302 Q631.714 749.519 626.482 749.519 Q620.487 749.519 617.316 744.936 Q614.144 740.329 614.144 731.603 Q614.144 723.408 618.033 718.547 Q621.922 713.663 628.473 713.663 Q630.232 713.663 632.015 714.01 Q633.82 714.357 635.765 715.052 Z\" fill=\"#000000\" fill-rule=\"evenodd\" fill-opacity=\"1\" /><path clip-path=\"url(#clip500)\" d=\"M761.609 732.436 Q758.275 732.436 756.354 734.218 Q754.456 736.001 754.456 739.126 Q754.456 742.251 756.354 744.033 Q758.275 745.815 761.609 745.815 Q764.942 745.815 766.863 744.033 Q768.784 742.228 768.784 739.126 Q768.784 736.001 766.863 734.218 Q764.965 732.436 761.609 732.436 M756.933 730.445 Q753.923 729.704 752.234 727.644 Q750.567 725.584 750.567 722.621 Q750.567 718.478 753.507 716.07 Q756.47 713.663 761.609 713.663 Q766.771 713.663 769.71 716.07 Q772.65 718.478 772.65 722.621 Q772.65 725.584 770.96 727.644 Q769.294 729.704 766.308 730.445 Q769.687 731.232 771.562 733.524 Q773.46 735.816 773.46 739.126 Q773.46 744.149 770.382 746.834 Q767.326 749.519 761.609 749.519 Q755.891 749.519 752.812 746.834 Q749.757 744.149 749.757 739.126 Q749.757 735.816 751.655 733.524 Q753.553 731.232 756.933 730.445 M755.22 723.061 Q755.22 725.746 756.886 727.251 Q758.576 728.755 761.609 728.755 Q764.618 728.755 766.308 727.251 Q768.021 725.746 768.021 723.061 Q768.021 720.376 766.308 718.871 Q764.618 717.367 761.609 717.367 Q758.576 717.367 756.886 718.871 Q755.22 720.376 755.22 723.061 Z\" fill=\"#000000\" fill-rule=\"evenodd\" fill-opacity=\"1\" /><path clip-path=\"url(#clip500)\" d=\"M871.828 744.913 L879.466 744.913 L879.466 718.547 L871.156 720.214 L871.156 715.955 L879.42 714.288 L884.096 714.288 L884.096 744.913 L891.735 744.913 L891.735 748.848 L871.828 748.848 L871.828 744.913 Z\" fill=\"#000000\" fill-rule=\"evenodd\" fill-opacity=\"1\" /><path clip-path=\"url(#clip500)\" d=\"M911.179 717.367 Q907.568 717.367 905.739 720.931 Q903.934 724.473 903.934 731.603 Q903.934 738.709 905.739 742.274 Q907.568 745.815 911.179 745.815 Q914.813 745.815 916.619 742.274 Q918.448 738.709 918.448 731.603 Q918.448 724.473 916.619 720.931 Q914.813 717.367 911.179 717.367 M911.179 713.663 Q916.989 713.663 920.045 718.269 Q923.124 722.853 923.124 731.603 Q923.124 740.329 920.045 744.936 Q916.989 749.519 911.179 749.519 Q905.369 749.519 902.29 744.936 Q899.235 740.329 899.235 731.603 Q899.235 722.853 902.29 718.269 Q905.369 713.663 911.179 713.663 Z\" fill=\"#000000\" fill-rule=\"evenodd\" fill-opacity=\"1\" /><path clip-path=\"url(#clip500)\" d=\"M1008.16 744.913 L1015.8 744.913 L1015.8 718.547 L1007.49 720.214 L1007.49 715.955 L1015.75 714.288 L1020.43 714.288 L1020.43 744.913 L1028.06 744.913 L1028.06 748.848 L1008.16 748.848 L1008.16 744.913 Z\" fill=\"#000000\" fill-rule=\"evenodd\" fill-opacity=\"1\" /><path clip-path=\"url(#clip500)\" d=\"M1041.54 744.913 L1057.86 744.913 L1057.86 748.848 L1035.91 748.848 L1035.91 744.913 Q1038.57 742.158 1043.16 737.528 Q1047.76 732.876 1048.94 731.533 Q1051.19 729.01 1052.07 727.274 Q1052.97 725.515 1052.97 723.825 Q1052.97 721.07 1051.03 719.334 Q1049.11 717.598 1046 717.598 Q1043.81 717.598 1041.35 718.362 Q1038.92 719.126 1036.14 720.677 L1036.14 715.955 Q1038.97 714.82 1041.42 714.242 Q1043.87 713.663 1045.91 713.663 Q1051.28 713.663 1054.48 716.348 Q1057.67 719.033 1057.67 723.524 Q1057.67 725.654 1056.86 727.575 Q1056.07 729.473 1053.97 732.066 Q1053.39 732.737 1050.29 735.954 Q1047.19 739.149 1041.54 744.913 Z\" fill=\"#000000\" fill-rule=\"evenodd\" fill-opacity=\"1\" /><polyline clip-path=\"url(#clip502)\" style=\"stroke:#000000; stroke-linecap:butt; stroke-linejoin:round; stroke-width:2; stroke-opacity:0.1; fill:none\" points=\"\n",
       "  193.936,668.357 1096.6,668.357 \n",
       "  \"/>\n",
       "<polyline clip-path=\"url(#clip502)\" style=\"stroke:#000000; stroke-linecap:butt; stroke-linejoin:round; stroke-width:2; stroke-opacity:0.1; fill:none\" points=\"\n",
       "  193.936,517.602 1096.6,517.602 \n",
       "  \"/>\n",
       "<polyline clip-path=\"url(#clip502)\" style=\"stroke:#000000; stroke-linecap:butt; stroke-linejoin:round; stroke-width:2; stroke-opacity:0.1; fill:none\" points=\"\n",
       "  193.936,366.846 1096.6,366.846 \n",
       "  \"/>\n",
       "<polyline clip-path=\"url(#clip502)\" style=\"stroke:#000000; stroke-linecap:butt; stroke-linejoin:round; stroke-width:2; stroke-opacity:0.1; fill:none\" points=\"\n",
       "  193.936,216.09 1096.6,216.09 \n",
       "  \"/>\n",
       "<polyline clip-path=\"url(#clip502)\" style=\"stroke:#000000; stroke-linecap:butt; stroke-linejoin:round; stroke-width:2; stroke-opacity:0.1; fill:none\" points=\"\n",
       "  193.936,65.3348 1096.6,65.3348 \n",
       "  \"/>\n",
       "<polyline clip-path=\"url(#clip500)\" style=\"stroke:#000000; stroke-linecap:butt; stroke-linejoin:round; stroke-width:4; stroke-opacity:1; fill:none\" points=\"\n",
       "  193.936,686.448 193.936,47.2441 \n",
       "  \"/>\n",
       "<polyline clip-path=\"url(#clip500)\" style=\"stroke:#000000; stroke-linecap:butt; stroke-linejoin:round; stroke-width:4; stroke-opacity:1; fill:none\" points=\"\n",
       "  193.936,668.357 212.834,668.357 \n",
       "  \"/>\n",
       "<polyline clip-path=\"url(#clip500)\" style=\"stroke:#000000; stroke-linecap:butt; stroke-linejoin:round; stroke-width:4; stroke-opacity:1; fill:none\" points=\"\n",
       "  193.936,517.602 212.834,517.602 \n",
       "  \"/>\n",
       "<polyline clip-path=\"url(#clip500)\" style=\"stroke:#000000; stroke-linecap:butt; stroke-linejoin:round; stroke-width:4; stroke-opacity:1; fill:none\" points=\"\n",
       "  193.936,366.846 212.834,366.846 \n",
       "  \"/>\n",
       "<polyline clip-path=\"url(#clip500)\" style=\"stroke:#000000; stroke-linecap:butt; stroke-linejoin:round; stroke-width:4; stroke-opacity:1; fill:none\" points=\"\n",
       "  193.936,216.09 212.834,216.09 \n",
       "  \"/>\n",
       "<polyline clip-path=\"url(#clip500)\" style=\"stroke:#000000; stroke-linecap:butt; stroke-linejoin:round; stroke-width:4; stroke-opacity:1; fill:none\" points=\"\n",
       "  193.936,65.3348 212.834,65.3348 \n",
       "  \"/>\n",
       "<path clip-path=\"url(#clip500)\" d=\"M50.9921 668.809 L80.6679 668.809 L80.6679 672.744 L50.9921 672.744 L50.9921 668.809 Z\" fill=\"#000000\" fill-rule=\"evenodd\" fill-opacity=\"1\" /><path clip-path=\"url(#clip500)\" d=\"M91.5706 681.702 L99.2095 681.702 L99.2095 655.336 L90.8993 657.003 L90.8993 652.744 L99.1632 651.077 L103.839 651.077 L103.839 681.702 L111.478 681.702 L111.478 685.637 L91.5706 685.637 L91.5706 681.702 Z\" fill=\"#000000\" fill-rule=\"evenodd\" fill-opacity=\"1\" /><path clip-path=\"url(#clip500)\" d=\"M120.922 679.758 L125.807 679.758 L125.807 685.637 L120.922 685.637 L120.922 679.758 Z\" fill=\"#000000\" fill-rule=\"evenodd\" fill-opacity=\"1\" /><path clip-path=\"url(#clip500)\" d=\"M145.992 654.156 Q142.381 654.156 140.552 657.721 Q138.746 661.262 138.746 668.392 Q138.746 675.498 140.552 679.063 Q142.381 682.605 145.992 682.605 Q149.626 682.605 151.431 679.063 Q153.26 675.498 153.26 668.392 Q153.26 661.262 151.431 657.721 Q149.626 654.156 145.992 654.156 M145.992 650.452 Q151.802 650.452 154.857 655.059 Q157.936 659.642 157.936 668.392 Q157.936 677.119 154.857 681.725 Q151.802 686.308 145.992 686.308 Q140.181 686.308 137.103 681.725 Q134.047 677.119 134.047 668.392 Q134.047 659.642 137.103 655.059 Q140.181 650.452 145.992 650.452 Z\" fill=\"#000000\" fill-rule=\"evenodd\" fill-opacity=\"1\" /><path clip-path=\"url(#clip500)\" d=\"M51.9875 518.053 L81.6633 518.053 L81.6633 521.988 L51.9875 521.988 L51.9875 518.053 Z\" fill=\"#000000\" fill-rule=\"evenodd\" fill-opacity=\"1\" /><path clip-path=\"url(#clip500)\" d=\"M101.756 503.4 Q98.1447 503.4 96.316 506.965 Q94.5104 510.507 94.5104 517.636 Q94.5104 524.743 96.316 528.308 Q98.1447 531.849 101.756 531.849 Q105.39 531.849 107.196 528.308 Q109.024 524.743 109.024 517.636 Q109.024 510.507 107.196 506.965 Q105.39 503.4 101.756 503.4 M101.756 499.697 Q107.566 499.697 110.621 504.303 Q113.7 508.886 113.7 517.636 Q113.7 526.363 110.621 530.97 Q107.566 535.553 101.756 535.553 Q95.9456 535.553 92.8669 530.97 Q89.8114 526.363 89.8114 517.636 Q89.8114 508.886 92.8669 504.303 Q95.9456 499.697 101.756 499.697 Z\" fill=\"#000000\" fill-rule=\"evenodd\" fill-opacity=\"1\" /><path clip-path=\"url(#clip500)\" d=\"M121.918 529.002 L126.802 529.002 L126.802 534.882 L121.918 534.882 L121.918 529.002 Z\" fill=\"#000000\" fill-rule=\"evenodd\" fill-opacity=\"1\" /><path clip-path=\"url(#clip500)\" d=\"M137.033 500.322 L155.39 500.322 L155.39 504.257 L141.316 504.257 L141.316 512.729 Q142.334 512.382 143.353 512.22 Q144.371 512.034 145.39 512.034 Q151.177 512.034 154.556 515.206 Q157.936 518.377 157.936 523.794 Q157.936 529.372 154.464 532.474 Q150.992 535.553 144.672 535.553 Q142.496 535.553 140.228 535.183 Q137.982 534.812 135.575 534.071 L135.575 529.372 Q137.658 530.507 139.881 531.062 Q142.103 531.618 144.58 531.618 Q148.584 531.618 150.922 529.511 Q153.26 527.405 153.26 523.794 Q153.26 520.183 150.922 518.076 Q148.584 515.97 144.58 515.97 Q142.705 515.97 140.83 516.386 Q138.978 516.803 137.033 517.683 L137.033 500.322 Z\" fill=\"#000000\" fill-rule=\"evenodd\" fill-opacity=\"1\" /><path clip-path=\"url(#clip500)\" d=\"M100.76 352.645 Q97.1493 352.645 95.3206 356.209 Q93.515 359.751 93.515 366.881 Q93.515 373.987 95.3206 377.552 Q97.1493 381.094 100.76 381.094 Q104.395 381.094 106.2 377.552 Q108.029 373.987 108.029 366.881 Q108.029 359.751 106.2 356.209 Q104.395 352.645 100.76 352.645 M100.76 348.941 Q106.571 348.941 109.626 353.547 Q112.705 358.131 112.705 366.881 Q112.705 375.608 109.626 380.214 Q106.571 384.797 100.76 384.797 Q94.9502 384.797 91.8715 380.214 Q88.816 375.608 88.816 366.881 Q88.816 358.131 91.8715 353.547 Q94.9502 348.941 100.76 348.941 Z\" fill=\"#000000\" fill-rule=\"evenodd\" fill-opacity=\"1\" /><path clip-path=\"url(#clip500)\" d=\"M120.922 378.246 L125.807 378.246 L125.807 384.126 L120.922 384.126 L120.922 378.246 Z\" fill=\"#000000\" fill-rule=\"evenodd\" fill-opacity=\"1\" /><path clip-path=\"url(#clip500)\" d=\"M145.992 352.645 Q142.381 352.645 140.552 356.209 Q138.746 359.751 138.746 366.881 Q138.746 373.987 140.552 377.552 Q142.381 381.094 145.992 381.094 Q149.626 381.094 151.431 377.552 Q153.26 373.987 153.26 366.881 Q153.26 359.751 151.431 356.209 Q149.626 352.645 145.992 352.645 M145.992 348.941 Q151.802 348.941 154.857 353.547 Q157.936 358.131 157.936 366.881 Q157.936 375.608 154.857 380.214 Q151.802 384.797 145.992 384.797 Q140.181 384.797 137.103 380.214 Q134.047 375.608 134.047 366.881 Q134.047 358.131 137.103 353.547 Q140.181 348.941 145.992 348.941 Z\" fill=\"#000000\" fill-rule=\"evenodd\" fill-opacity=\"1\" /><path clip-path=\"url(#clip500)\" d=\"M101.756 201.889 Q98.1447 201.889 96.316 205.454 Q94.5104 208.996 94.5104 216.125 Q94.5104 223.232 96.316 226.796 Q98.1447 230.338 101.756 230.338 Q105.39 230.338 107.196 226.796 Q109.024 223.232 109.024 216.125 Q109.024 208.996 107.196 205.454 Q105.39 201.889 101.756 201.889 M101.756 198.185 Q107.566 198.185 110.621 202.792 Q113.7 207.375 113.7 216.125 Q113.7 224.852 110.621 229.458 Q107.566 234.042 101.756 234.042 Q95.9456 234.042 92.8669 229.458 Q89.8114 224.852 89.8114 216.125 Q89.8114 207.375 92.8669 202.792 Q95.9456 198.185 101.756 198.185 Z\" fill=\"#000000\" fill-rule=\"evenodd\" fill-opacity=\"1\" /><path clip-path=\"url(#clip500)\" d=\"M121.918 227.491 L126.802 227.491 L126.802 233.37 L121.918 233.37 L121.918 227.491 Z\" fill=\"#000000\" fill-rule=\"evenodd\" fill-opacity=\"1\" /><path clip-path=\"url(#clip500)\" d=\"M137.033 198.81 L155.39 198.81 L155.39 202.746 L141.316 202.746 L141.316 211.218 Q142.334 210.87 143.353 210.708 Q144.371 210.523 145.39 210.523 Q151.177 210.523 154.556 213.695 Q157.936 216.866 157.936 222.282 Q157.936 227.861 154.464 230.963 Q150.992 234.042 144.672 234.042 Q142.496 234.042 140.228 233.671 Q137.982 233.301 135.575 232.56 L135.575 227.861 Q137.658 228.995 139.881 229.551 Q142.103 230.107 144.58 230.107 Q148.584 230.107 150.922 228 Q153.26 225.894 153.26 222.282 Q153.26 218.671 150.922 216.565 Q148.584 214.458 144.58 214.458 Q142.705 214.458 140.83 214.875 Q138.978 215.292 137.033 216.171 L137.033 198.81 Z\" fill=\"#000000\" fill-rule=\"evenodd\" fill-opacity=\"1\" /><path clip-path=\"url(#clip500)\" d=\"M91.5706 78.6796 L99.2095 78.6796 L99.2095 52.314 L90.8993 53.9807 L90.8993 49.7214 L99.1632 48.0548 L103.839 48.0548 L103.839 78.6796 L111.478 78.6796 L111.478 82.6148 L91.5706 82.6148 L91.5706 78.6796 Z\" fill=\"#000000\" fill-rule=\"evenodd\" fill-opacity=\"1\" /><path clip-path=\"url(#clip500)\" d=\"M120.922 76.7352 L125.807 76.7352 L125.807 82.6148 L120.922 82.6148 L120.922 76.7352 Z\" fill=\"#000000\" fill-rule=\"evenodd\" fill-opacity=\"1\" /><path clip-path=\"url(#clip500)\" d=\"M145.992 51.1335 Q142.381 51.1335 140.552 54.6983 Q138.746 58.2399 138.746 65.3695 Q138.746 72.4759 140.552 76.0407 Q142.381 79.5824 145.992 79.5824 Q149.626 79.5824 151.431 76.0407 Q153.26 72.4759 153.26 65.3695 Q153.26 58.2399 151.431 54.6983 Q149.626 51.1335 145.992 51.1335 M145.992 47.4298 Q151.802 47.4298 154.857 52.0362 Q157.936 56.6195 157.936 65.3695 Q157.936 74.0963 154.857 78.7028 Q151.802 83.2861 145.992 83.2861 Q140.181 83.2861 137.103 78.7028 Q134.047 74.0963 134.047 65.3695 Q134.047 56.6195 137.103 52.0362 Q140.181 47.4298 145.992 47.4298 Z\" fill=\"#000000\" fill-rule=\"evenodd\" fill-opacity=\"1\" /><polyline clip-path=\"url(#clip502)\" style=\"stroke:#1e90ff; stroke-linecap:butt; stroke-linejoin:round; stroke-width:4; stroke-opacity:1; fill:none\" points=\"\n",
       "  219.483,366.846 237.224,288.809 254.965,216.09 272.706,153.645 290.447,105.73 308.188,75.6085 325.929,65.3348 343.67,75.6085 361.411,105.73 379.152,153.645 \n",
       "  396.893,216.09 414.634,288.809 432.375,366.846 450.116,444.883 467.857,517.602 485.598,580.047 503.339,627.962 521.08,658.083 538.821,668.357 556.562,658.083 \n",
       "  574.303,627.962 592.044,580.047 609.785,517.602 627.526,444.883 645.267,366.846 663.008,288.809 680.749,216.09 698.49,153.645 716.231,105.73 733.972,75.6085 \n",
       "  751.713,65.3348 769.454,75.6085 787.196,105.73 804.937,153.645 822.678,216.09 840.419,288.809 858.16,366.846 875.901,444.883 893.642,517.602 911.383,580.047 \n",
       "  929.124,627.962 946.865,658.083 964.606,668.357 982.347,658.083 1000.09,627.962 1017.83,580.047 1035.57,517.602 1053.31,444.883 1071.05,366.846 \n",
       "  \"/>\n",
       "<path clip-path=\"url(#clip500)\" d=\"\n",
       "M839.895 172.231 L1066.51 172.231 L1066.51 68.5509 L839.895 68.5509  Z\n",
       "  \" fill=\"#ffffff\" fill-rule=\"evenodd\" fill-opacity=\"1\"/>\n",
       "<polyline clip-path=\"url(#clip500)\" style=\"stroke:#000000; stroke-linecap:butt; stroke-linejoin:round; stroke-width:4; stroke-opacity:1; fill:none\" points=\"\n",
       "  839.895,172.231 1066.51,172.231 1066.51,68.5509 839.895,68.5509 839.895,172.231 \n",
       "  \"/>\n",
       "<polyline clip-path=\"url(#clip500)\" style=\"stroke:#1e90ff; stroke-linecap:butt; stroke-linejoin:round; stroke-width:4; stroke-opacity:1; fill:none\" points=\"\n",
       "  849.925,120.391 910.103,120.391 \n",
       "  \"/>\n",
       "<path clip-path=\"url(#clip500)\" d=\"M938.558 112.509 L938.558 116.537 Q936.752 115.611 934.808 115.148 Q932.864 114.685 930.78 114.685 Q927.609 114.685 926.012 115.657 Q924.438 116.629 924.438 118.574 Q924.438 120.055 925.572 120.912 Q926.706 121.745 930.132 122.509 L931.59 122.833 Q936.127 123.805 938.026 125.588 Q939.947 127.347 939.947 130.518 Q939.947 134.129 937.076 136.236 Q934.229 138.342 929.229 138.342 Q927.146 138.342 924.877 137.926 Q922.632 137.532 920.132 136.722 L920.132 132.324 Q922.493 133.551 924.785 134.176 Q927.077 134.777 929.322 134.777 Q932.331 134.777 933.951 133.759 Q935.572 132.717 935.572 130.842 Q935.572 129.106 934.391 128.18 Q933.234 127.254 929.276 126.398 L927.794 126.051 Q923.836 125.217 922.077 123.504 Q920.317 121.768 920.317 118.759 Q920.317 115.102 922.91 113.111 Q925.502 111.12 930.271 111.12 Q932.632 111.12 934.715 111.467 Q936.799 111.815 938.558 112.509 Z\" fill=\"#000000\" fill-rule=\"evenodd\" fill-opacity=\"1\" /><path clip-path=\"url(#clip500)\" d=\"M946.729 111.745 L950.988 111.745 L950.988 137.671 L946.729 137.671 L946.729 111.745 M946.729 101.653 L950.988 101.653 L950.988 107.046 L946.729 107.046 L946.729 101.653 Z\" fill=\"#000000\" fill-rule=\"evenodd\" fill-opacity=\"1\" /><path clip-path=\"url(#clip500)\" d=\"M981.451 122.023 L981.451 137.671 L977.192 137.671 L977.192 122.162 Q977.192 118.481 975.757 116.652 Q974.322 114.824 971.451 114.824 Q968.002 114.824 966.011 117.023 Q964.021 119.222 964.021 123.018 L964.021 137.671 L959.738 137.671 L959.738 111.745 L964.021 111.745 L964.021 115.773 Q965.549 113.435 967.609 112.278 Q969.692 111.12 972.4 111.12 Q976.868 111.12 979.16 113.898 Q981.451 116.652 981.451 122.023 Z\" fill=\"#000000\" fill-rule=\"evenodd\" fill-opacity=\"1\" /><path clip-path=\"url(#clip500)\" d=\"M1000.18 101.699 Q997.076 107.023 995.572 112.231 Q994.067 117.44 994.067 122.787 Q994.067 128.134 995.572 133.389 Q997.099 138.62 1000.18 143.921 L996.474 143.921 Q993.002 138.481 991.266 133.226 Q989.553 127.972 989.553 122.787 Q989.553 117.625 991.266 112.393 Q992.979 107.162 996.474 101.699 L1000.18 101.699 Z\" fill=\"#000000\" fill-rule=\"evenodd\" fill-opacity=\"1\" /><path clip-path=\"url(#clip500)\" d=\"M1029.99 111.745 L1020.62 124.361 L1030.48 137.671 L1025.46 137.671 L1017.91 127.486 L1010.36 137.671 L1005.34 137.671 L1015.41 124.106 L1006.2 111.745 L1011.22 111.745 L1018.09 120.981 L1024.97 111.745 L1029.99 111.745 Z\" fill=\"#000000\" fill-rule=\"evenodd\" fill-opacity=\"1\" /><path clip-path=\"url(#clip500)\" d=\"M1035.83 101.699 L1039.53 101.699 Q1043 107.162 1044.71 112.393 Q1046.45 117.625 1046.45 122.787 Q1046.45 127.972 1044.71 133.226 Q1043 138.481 1039.53 143.921 L1035.83 143.921 Q1038.9 138.62 1040.41 133.389 Q1041.94 128.134 1041.94 122.787 Q1041.94 117.44 1040.41 112.231 Q1038.9 107.023 1035.83 101.699 Z\" fill=\"#000000\" fill-rule=\"evenodd\" fill-opacity=\"1\" /><path clip-path=\"url(#clip500)\" d=\"\n",
       "M1450.09 686.448 L2352.76 686.448 L2352.76 47.2441 L1450.09 47.2441  Z\n",
       "  \" fill=\"#ffffff\" fill-rule=\"evenodd\" fill-opacity=\"1\"/>\n",
       "<defs>\n",
       "  <clipPath id=\"clip503\">\n",
       "    <rect x=\"1450\" y=\"47\" width=\"904\" height=\"640\"/>\n",
       "  </clipPath>\n",
       "</defs>\n",
       "<polyline clip-path=\"url(#clip503)\" style=\"stroke:#000000; stroke-linecap:butt; stroke-linejoin:round; stroke-width:2; stroke-opacity:0.1; fill:none\" points=\"\n",
       "  1475.64,686.448 1475.64,47.2441 \n",
       "  \"/>\n",
       "<polyline clip-path=\"url(#clip503)\" style=\"stroke:#000000; stroke-linecap:butt; stroke-linejoin:round; stroke-width:2; stroke-opacity:0.1; fill:none\" points=\"\n",
       "  1611.17,686.448 1611.17,47.2441 \n",
       "  \"/>\n",
       "<polyline clip-path=\"url(#clip503)\" style=\"stroke:#000000; stroke-linecap:butt; stroke-linejoin:round; stroke-width:2; stroke-opacity:0.1; fill:none\" points=\"\n",
       "  1746.7,686.448 1746.7,47.2441 \n",
       "  \"/>\n",
       "<polyline clip-path=\"url(#clip503)\" style=\"stroke:#000000; stroke-linecap:butt; stroke-linejoin:round; stroke-width:2; stroke-opacity:0.1; fill:none\" points=\"\n",
       "  1882.23,686.448 1882.23,47.2441 \n",
       "  \"/>\n",
       "<polyline clip-path=\"url(#clip503)\" style=\"stroke:#000000; stroke-linecap:butt; stroke-linejoin:round; stroke-width:2; stroke-opacity:0.1; fill:none\" points=\"\n",
       "  2017.77,686.448 2017.77,47.2441 \n",
       "  \"/>\n",
       "<polyline clip-path=\"url(#clip503)\" style=\"stroke:#000000; stroke-linecap:butt; stroke-linejoin:round; stroke-width:2; stroke-opacity:0.1; fill:none\" points=\"\n",
       "  2153.3,686.448 2153.3,47.2441 \n",
       "  \"/>\n",
       "<polyline clip-path=\"url(#clip503)\" style=\"stroke:#000000; stroke-linecap:butt; stroke-linejoin:round; stroke-width:2; stroke-opacity:0.1; fill:none\" points=\"\n",
       "  2288.83,686.448 2288.83,47.2441 \n",
       "  \"/>\n",
       "<polyline clip-path=\"url(#clip500)\" style=\"stroke:#000000; stroke-linecap:butt; stroke-linejoin:round; stroke-width:4; stroke-opacity:1; fill:none\" points=\"\n",
       "  1450.09,686.448 2352.76,686.448 \n",
       "  \"/>\n",
       "<polyline clip-path=\"url(#clip500)\" style=\"stroke:#000000; stroke-linecap:butt; stroke-linejoin:round; stroke-width:4; stroke-opacity:1; fill:none\" points=\"\n",
       "  1475.64,686.448 1475.64,667.55 \n",
       "  \"/>\n",
       "<polyline clip-path=\"url(#clip500)\" style=\"stroke:#000000; stroke-linecap:butt; stroke-linejoin:round; stroke-width:4; stroke-opacity:1; fill:none\" points=\"\n",
       "  1611.17,686.448 1611.17,667.55 \n",
       "  \"/>\n",
       "<polyline clip-path=\"url(#clip500)\" style=\"stroke:#000000; stroke-linecap:butt; stroke-linejoin:round; stroke-width:4; stroke-opacity:1; fill:none\" points=\"\n",
       "  1746.7,686.448 1746.7,667.55 \n",
       "  \"/>\n",
       "<polyline clip-path=\"url(#clip500)\" style=\"stroke:#000000; stroke-linecap:butt; stroke-linejoin:round; stroke-width:4; stroke-opacity:1; fill:none\" points=\"\n",
       "  1882.23,686.448 1882.23,667.55 \n",
       "  \"/>\n",
       "<polyline clip-path=\"url(#clip500)\" style=\"stroke:#000000; stroke-linecap:butt; stroke-linejoin:round; stroke-width:4; stroke-opacity:1; fill:none\" points=\"\n",
       "  2017.77,686.448 2017.77,667.55 \n",
       "  \"/>\n",
       "<polyline clip-path=\"url(#clip500)\" style=\"stroke:#000000; stroke-linecap:butt; stroke-linejoin:round; stroke-width:4; stroke-opacity:1; fill:none\" points=\"\n",
       "  2153.3,686.448 2153.3,667.55 \n",
       "  \"/>\n",
       "<polyline clip-path=\"url(#clip500)\" style=\"stroke:#000000; stroke-linecap:butt; stroke-linejoin:round; stroke-width:4; stroke-opacity:1; fill:none\" points=\"\n",
       "  2288.83,686.448 2288.83,667.55 \n",
       "  \"/>\n",
       "<path clip-path=\"url(#clip500)\" d=\"M1475.64 717.367 Q1472.03 717.367 1470.2 720.931 Q1468.39 724.473 1468.39 731.603 Q1468.39 738.709 1470.2 742.274 Q1472.03 745.815 1475.64 745.815 Q1479.27 745.815 1481.08 742.274 Q1482.91 738.709 1482.91 731.603 Q1482.91 724.473 1481.08 720.931 Q1479.27 717.367 1475.64 717.367 M1475.64 713.663 Q1481.45 713.663 1484.51 718.269 Q1487.58 722.853 1487.58 731.603 Q1487.58 740.329 1484.51 744.936 Q1481.45 749.519 1475.64 749.519 Q1469.83 749.519 1466.75 744.936 Q1463.7 740.329 1463.7 731.603 Q1463.7 722.853 1466.75 718.269 Q1469.83 713.663 1475.64 713.663 Z\" fill=\"#000000\" fill-rule=\"evenodd\" fill-opacity=\"1\" /><path clip-path=\"url(#clip500)\" d=\"M1605.82 744.913 L1622.14 744.913 L1622.14 748.848 L1600.2 748.848 L1600.2 744.913 Q1602.86 742.158 1607.44 737.528 Q1612.05 732.876 1613.23 731.533 Q1615.48 729.01 1616.36 727.274 Q1617.26 725.515 1617.26 723.825 Q1617.26 721.07 1615.32 719.334 Q1613.39 717.598 1610.29 717.598 Q1608.09 717.598 1605.64 718.362 Q1603.21 719.126 1600.43 720.677 L1600.43 715.955 Q1603.25 714.82 1605.71 714.242 Q1608.16 713.663 1610.2 713.663 Q1615.57 713.663 1618.76 716.348 Q1621.96 719.033 1621.96 723.524 Q1621.96 725.654 1621.15 727.575 Q1620.36 729.473 1618.25 732.066 Q1617.68 732.737 1614.57 735.954 Q1611.47 739.149 1605.82 744.913 Z\" fill=\"#000000\" fill-rule=\"evenodd\" fill-opacity=\"1\" /><path clip-path=\"url(#clip500)\" d=\"M1749.71 718.362 L1737.91 736.811 L1749.71 736.811 L1749.71 718.362 M1748.49 714.288 L1754.36 714.288 L1754.36 736.811 L1759.3 736.811 L1759.3 740.7 L1754.36 740.7 L1754.36 748.848 L1749.71 748.848 L1749.71 740.7 L1734.11 740.7 L1734.11 736.186 L1748.49 714.288 Z\" fill=\"#000000\" fill-rule=\"evenodd\" fill-opacity=\"1\" /><path clip-path=\"url(#clip500)\" d=\"M1882.64 729.704 Q1879.49 729.704 1877.64 731.857 Q1875.81 734.01 1875.81 737.76 Q1875.81 741.487 1877.64 743.663 Q1879.49 745.815 1882.64 745.815 Q1885.79 745.815 1887.62 743.663 Q1889.47 741.487 1889.47 737.76 Q1889.47 734.01 1887.62 731.857 Q1885.79 729.704 1882.64 729.704 M1891.92 715.052 L1891.92 719.311 Q1890.16 718.478 1888.36 718.038 Q1886.57 717.598 1884.82 717.598 Q1880.19 717.598 1877.73 720.723 Q1875.3 723.848 1874.95 730.167 Q1876.32 728.154 1878.38 727.089 Q1880.44 726.001 1882.92 726.001 Q1888.13 726.001 1891.13 729.172 Q1894.17 732.32 1894.17 737.76 Q1894.17 743.084 1891.02 746.302 Q1887.87 749.519 1882.64 749.519 Q1876.64 749.519 1873.47 744.936 Q1870.3 740.329 1870.3 731.603 Q1870.3 723.408 1874.19 718.547 Q1878.08 713.663 1884.63 713.663 Q1886.39 713.663 1888.17 714.01 Q1889.98 714.357 1891.92 715.052 Z\" fill=\"#000000\" fill-rule=\"evenodd\" fill-opacity=\"1\" /><path clip-path=\"url(#clip500)\" d=\"M2017.77 732.436 Q2014.43 732.436 2012.51 734.218 Q2010.61 736.001 2010.61 739.126 Q2010.61 742.251 2012.51 744.033 Q2014.43 745.815 2017.77 745.815 Q2021.1 745.815 2023.02 744.033 Q2024.94 742.228 2024.94 739.126 Q2024.94 736.001 2023.02 734.218 Q2021.12 732.436 2017.77 732.436 M2013.09 730.445 Q2010.08 729.704 2008.39 727.644 Q2006.72 725.584 2006.72 722.621 Q2006.72 718.478 2009.66 716.07 Q2012.63 713.663 2017.77 713.663 Q2022.93 713.663 2025.87 716.07 Q2028.81 718.478 2028.81 722.621 Q2028.81 725.584 2027.12 727.644 Q2025.45 729.704 2022.46 730.445 Q2025.84 731.232 2027.72 733.524 Q2029.62 735.816 2029.62 739.126 Q2029.62 744.149 2026.54 746.834 Q2023.48 749.519 2017.77 749.519 Q2012.05 749.519 2008.97 746.834 Q2005.91 744.149 2005.91 739.126 Q2005.91 735.816 2007.81 733.524 Q2009.71 731.232 2013.09 730.445 M2011.38 723.061 Q2011.38 725.746 2013.04 727.251 Q2014.73 728.755 2017.77 728.755 Q2020.77 728.755 2022.46 727.251 Q2024.18 725.746 2024.18 723.061 Q2024.18 720.376 2022.46 718.871 Q2020.77 717.367 2017.77 717.367 Q2014.73 717.367 2013.04 718.871 Q2011.38 720.376 2011.38 723.061 Z\" fill=\"#000000\" fill-rule=\"evenodd\" fill-opacity=\"1\" /><path clip-path=\"url(#clip500)\" d=\"M2127.98 744.913 L2135.62 744.913 L2135.62 718.547 L2127.31 720.214 L2127.31 715.955 L2135.58 714.288 L2140.25 714.288 L2140.25 744.913 L2147.89 744.913 L2147.89 748.848 L2127.98 748.848 L2127.98 744.913 Z\" fill=\"#000000\" fill-rule=\"evenodd\" fill-opacity=\"1\" /><path clip-path=\"url(#clip500)\" d=\"M2167.34 717.367 Q2163.73 717.367 2161.9 720.931 Q2160.09 724.473 2160.09 731.603 Q2160.09 738.709 2161.9 742.274 Q2163.73 745.815 2167.34 745.815 Q2170.97 745.815 2172.78 742.274 Q2174.6 738.709 2174.6 731.603 Q2174.6 724.473 2172.78 720.931 Q2170.97 717.367 2167.34 717.367 M2167.34 713.663 Q2173.15 713.663 2176.2 718.269 Q2179.28 722.853 2179.28 731.603 Q2179.28 740.329 2176.2 744.936 Q2173.15 749.519 2167.34 749.519 Q2161.53 749.519 2158.45 744.936 Q2155.39 740.329 2155.39 731.603 Q2155.39 722.853 2158.45 718.269 Q2161.53 713.663 2167.34 713.663 Z\" fill=\"#000000\" fill-rule=\"evenodd\" fill-opacity=\"1\" /><path clip-path=\"url(#clip500)\" d=\"M2264.31 744.913 L2271.95 744.913 L2271.95 718.547 L2263.64 720.214 L2263.64 715.955 L2271.91 714.288 L2276.58 714.288 L2276.58 744.913 L2284.22 744.913 L2284.22 748.848 L2264.31 748.848 L2264.31 744.913 Z\" fill=\"#000000\" fill-rule=\"evenodd\" fill-opacity=\"1\" /><path clip-path=\"url(#clip500)\" d=\"M2297.69 744.913 L2314.01 744.913 L2314.01 748.848 L2292.07 748.848 L2292.07 744.913 Q2294.73 742.158 2299.31 737.528 Q2303.92 732.876 2305.1 731.533 Q2307.35 729.01 2308.23 727.274 Q2309.13 725.515 2309.13 723.825 Q2309.13 721.07 2307.18 719.334 Q2305.26 717.598 2302.16 717.598 Q2299.96 717.598 2297.51 718.362 Q2295.08 719.126 2292.3 720.677 L2292.3 715.955 Q2295.12 714.82 2297.58 714.242 Q2300.03 713.663 2302.07 713.663 Q2307.44 713.663 2310.63 716.348 Q2313.83 719.033 2313.83 723.524 Q2313.83 725.654 2313.02 727.575 Q2312.23 729.473 2310.12 732.066 Q2309.55 732.737 2306.44 735.954 Q2303.34 739.149 2297.69 744.913 Z\" fill=\"#000000\" fill-rule=\"evenodd\" fill-opacity=\"1\" /><polyline clip-path=\"url(#clip503)\" style=\"stroke:#000000; stroke-linecap:butt; stroke-linejoin:round; stroke-width:2; stroke-opacity:0.1; fill:none\" points=\"\n",
       "  1450.09,668.357 2352.76,668.357 \n",
       "  \"/>\n",
       "<polyline clip-path=\"url(#clip503)\" style=\"stroke:#000000; stroke-linecap:butt; stroke-linejoin:round; stroke-width:2; stroke-opacity:0.1; fill:none\" points=\"\n",
       "  1450.09,517.602 2352.76,517.602 \n",
       "  \"/>\n",
       "<polyline clip-path=\"url(#clip503)\" style=\"stroke:#000000; stroke-linecap:butt; stroke-linejoin:round; stroke-width:2; stroke-opacity:0.1; fill:none\" points=\"\n",
       "  1450.09,366.846 2352.76,366.846 \n",
       "  \"/>\n",
       "<polyline clip-path=\"url(#clip503)\" style=\"stroke:#000000; stroke-linecap:butt; stroke-linejoin:round; stroke-width:2; stroke-opacity:0.1; fill:none\" points=\"\n",
       "  1450.09,216.09 2352.76,216.09 \n",
       "  \"/>\n",
       "<polyline clip-path=\"url(#clip503)\" style=\"stroke:#000000; stroke-linecap:butt; stroke-linejoin:round; stroke-width:2; stroke-opacity:0.1; fill:none\" points=\"\n",
       "  1450.09,65.3348 2352.76,65.3348 \n",
       "  \"/>\n",
       "<polyline clip-path=\"url(#clip500)\" style=\"stroke:#000000; stroke-linecap:butt; stroke-linejoin:round; stroke-width:4; stroke-opacity:1; fill:none\" points=\"\n",
       "  1450.09,686.448 1450.09,47.2441 \n",
       "  \"/>\n",
       "<polyline clip-path=\"url(#clip500)\" style=\"stroke:#000000; stroke-linecap:butt; stroke-linejoin:round; stroke-width:4; stroke-opacity:1; fill:none\" points=\"\n",
       "  1450.09,668.357 1468.99,668.357 \n",
       "  \"/>\n",
       "<polyline clip-path=\"url(#clip500)\" style=\"stroke:#000000; stroke-linecap:butt; stroke-linejoin:round; stroke-width:4; stroke-opacity:1; fill:none\" points=\"\n",
       "  1450.09,517.602 1468.99,517.602 \n",
       "  \"/>\n",
       "<polyline clip-path=\"url(#clip500)\" style=\"stroke:#000000; stroke-linecap:butt; stroke-linejoin:round; stroke-width:4; stroke-opacity:1; fill:none\" points=\"\n",
       "  1450.09,366.846 1468.99,366.846 \n",
       "  \"/>\n",
       "<polyline clip-path=\"url(#clip500)\" style=\"stroke:#000000; stroke-linecap:butt; stroke-linejoin:round; stroke-width:4; stroke-opacity:1; fill:none\" points=\"\n",
       "  1450.09,216.09 1468.99,216.09 \n",
       "  \"/>\n",
       "<polyline clip-path=\"url(#clip500)\" style=\"stroke:#000000; stroke-linecap:butt; stroke-linejoin:round; stroke-width:4; stroke-opacity:1; fill:none\" points=\"\n",
       "  1450.09,65.3348 1468.99,65.3348 \n",
       "  \"/>\n",
       "<path clip-path=\"url(#clip500)\" d=\"M1307.15 668.809 L1336.82 668.809 L1336.82 672.744 L1307.15 672.744 L1307.15 668.809 Z\" fill=\"#000000\" fill-rule=\"evenodd\" fill-opacity=\"1\" /><path clip-path=\"url(#clip500)\" d=\"M1347.73 681.702 L1355.37 681.702 L1355.37 655.336 L1347.06 657.003 L1347.06 652.744 L1355.32 651.077 L1360 651.077 L1360 681.702 L1367.64 681.702 L1367.64 685.637 L1347.73 685.637 L1347.73 681.702 Z\" fill=\"#000000\" fill-rule=\"evenodd\" fill-opacity=\"1\" /><path clip-path=\"url(#clip500)\" d=\"M1377.08 679.758 L1381.96 679.758 L1381.96 685.637 L1377.08 685.637 L1377.08 679.758 Z\" fill=\"#000000\" fill-rule=\"evenodd\" fill-opacity=\"1\" /><path clip-path=\"url(#clip500)\" d=\"M1402.15 654.156 Q1398.54 654.156 1396.71 657.721 Q1394.9 661.262 1394.9 668.392 Q1394.9 675.498 1396.71 679.063 Q1398.54 682.605 1402.15 682.605 Q1405.78 682.605 1407.59 679.063 Q1409.42 675.498 1409.42 668.392 Q1409.42 661.262 1407.59 657.721 Q1405.78 654.156 1402.15 654.156 M1402.15 650.452 Q1407.96 650.452 1411.01 655.059 Q1414.09 659.642 1414.09 668.392 Q1414.09 677.119 1411.01 681.725 Q1407.96 686.308 1402.15 686.308 Q1396.34 686.308 1393.26 681.725 Q1390.2 677.119 1390.2 668.392 Q1390.2 659.642 1393.26 655.059 Q1396.34 650.452 1402.15 650.452 Z\" fill=\"#000000\" fill-rule=\"evenodd\" fill-opacity=\"1\" /><path clip-path=\"url(#clip500)\" d=\"M1308.14 518.053 L1337.82 518.053 L1337.82 521.988 L1308.14 521.988 L1308.14 518.053 Z\" fill=\"#000000\" fill-rule=\"evenodd\" fill-opacity=\"1\" /><path clip-path=\"url(#clip500)\" d=\"M1357.91 503.4 Q1354.3 503.4 1352.47 506.965 Q1350.67 510.507 1350.67 517.636 Q1350.67 524.743 1352.47 528.308 Q1354.3 531.849 1357.91 531.849 Q1361.55 531.849 1363.35 528.308 Q1365.18 524.743 1365.18 517.636 Q1365.18 510.507 1363.35 506.965 Q1361.55 503.4 1357.91 503.4 M1357.91 499.697 Q1363.72 499.697 1366.78 504.303 Q1369.86 508.886 1369.86 517.636 Q1369.86 526.363 1366.78 530.97 Q1363.72 535.553 1357.91 535.553 Q1352.1 535.553 1349.02 530.97 Q1345.97 526.363 1345.97 517.636 Q1345.97 508.886 1349.02 504.303 Q1352.1 499.697 1357.91 499.697 Z\" fill=\"#000000\" fill-rule=\"evenodd\" fill-opacity=\"1\" /><path clip-path=\"url(#clip500)\" d=\"M1378.07 529.002 L1382.96 529.002 L1382.96 534.882 L1378.07 534.882 L1378.07 529.002 Z\" fill=\"#000000\" fill-rule=\"evenodd\" fill-opacity=\"1\" /><path clip-path=\"url(#clip500)\" d=\"M1393.19 500.322 L1411.55 500.322 L1411.55 504.257 L1397.47 504.257 L1397.47 512.729 Q1398.49 512.382 1399.51 512.22 Q1400.53 512.034 1401.55 512.034 Q1407.33 512.034 1410.71 515.206 Q1414.09 518.377 1414.09 523.794 Q1414.09 529.372 1410.62 532.474 Q1407.15 535.553 1400.83 535.553 Q1398.65 535.553 1396.38 535.183 Q1394.14 534.812 1391.73 534.071 L1391.73 529.372 Q1393.82 530.507 1396.04 531.062 Q1398.26 531.618 1400.74 531.618 Q1404.74 531.618 1407.08 529.511 Q1409.42 527.405 1409.42 523.794 Q1409.42 520.183 1407.08 518.076 Q1404.74 515.97 1400.74 515.97 Q1398.86 515.97 1396.99 516.386 Q1395.13 516.803 1393.19 517.683 L1393.19 500.322 Z\" fill=\"#000000\" fill-rule=\"evenodd\" fill-opacity=\"1\" /><path clip-path=\"url(#clip500)\" d=\"M1356.92 352.645 Q1353.31 352.645 1351.48 356.209 Q1349.67 359.751 1349.67 366.881 Q1349.67 373.987 1351.48 377.552 Q1353.31 381.094 1356.92 381.094 Q1360.55 381.094 1362.36 377.552 Q1364.19 373.987 1364.19 366.881 Q1364.19 359.751 1362.36 356.209 Q1360.55 352.645 1356.92 352.645 M1356.92 348.941 Q1362.73 348.941 1365.78 353.547 Q1368.86 358.131 1368.86 366.881 Q1368.86 375.608 1365.78 380.214 Q1362.73 384.797 1356.92 384.797 Q1351.11 384.797 1348.03 380.214 Q1344.97 375.608 1344.97 366.881 Q1344.97 358.131 1348.03 353.547 Q1351.11 348.941 1356.92 348.941 Z\" fill=\"#000000\" fill-rule=\"evenodd\" fill-opacity=\"1\" /><path clip-path=\"url(#clip500)\" d=\"M1377.08 378.246 L1381.96 378.246 L1381.96 384.126 L1377.08 384.126 L1377.08 378.246 Z\" fill=\"#000000\" fill-rule=\"evenodd\" fill-opacity=\"1\" /><path clip-path=\"url(#clip500)\" d=\"M1402.15 352.645 Q1398.54 352.645 1396.71 356.209 Q1394.9 359.751 1394.9 366.881 Q1394.9 373.987 1396.71 377.552 Q1398.54 381.094 1402.15 381.094 Q1405.78 381.094 1407.59 377.552 Q1409.42 373.987 1409.42 366.881 Q1409.42 359.751 1407.59 356.209 Q1405.78 352.645 1402.15 352.645 M1402.15 348.941 Q1407.96 348.941 1411.01 353.547 Q1414.09 358.131 1414.09 366.881 Q1414.09 375.608 1411.01 380.214 Q1407.96 384.797 1402.15 384.797 Q1396.34 384.797 1393.26 380.214 Q1390.2 375.608 1390.2 366.881 Q1390.2 358.131 1393.26 353.547 Q1396.34 348.941 1402.15 348.941 Z\" fill=\"#000000\" fill-rule=\"evenodd\" fill-opacity=\"1\" /><path clip-path=\"url(#clip500)\" d=\"M1357.91 201.889 Q1354.3 201.889 1352.47 205.454 Q1350.67 208.996 1350.67 216.125 Q1350.67 223.232 1352.47 226.796 Q1354.3 230.338 1357.91 230.338 Q1361.55 230.338 1363.35 226.796 Q1365.18 223.232 1365.18 216.125 Q1365.18 208.996 1363.35 205.454 Q1361.55 201.889 1357.91 201.889 M1357.91 198.185 Q1363.72 198.185 1366.78 202.792 Q1369.86 207.375 1369.86 216.125 Q1369.86 224.852 1366.78 229.458 Q1363.72 234.042 1357.91 234.042 Q1352.1 234.042 1349.02 229.458 Q1345.97 224.852 1345.97 216.125 Q1345.97 207.375 1349.02 202.792 Q1352.1 198.185 1357.91 198.185 Z\" fill=\"#000000\" fill-rule=\"evenodd\" fill-opacity=\"1\" /><path clip-path=\"url(#clip500)\" d=\"M1378.07 227.491 L1382.96 227.491 L1382.96 233.37 L1378.07 233.37 L1378.07 227.491 Z\" fill=\"#000000\" fill-rule=\"evenodd\" fill-opacity=\"1\" /><path clip-path=\"url(#clip500)\" d=\"M1393.19 198.81 L1411.55 198.81 L1411.55 202.746 L1397.47 202.746 L1397.47 211.218 Q1398.49 210.87 1399.51 210.708 Q1400.53 210.523 1401.55 210.523 Q1407.33 210.523 1410.71 213.695 Q1414.09 216.866 1414.09 222.282 Q1414.09 227.861 1410.62 230.963 Q1407.15 234.042 1400.83 234.042 Q1398.65 234.042 1396.38 233.671 Q1394.14 233.301 1391.73 232.56 L1391.73 227.861 Q1393.82 228.995 1396.04 229.551 Q1398.26 230.107 1400.74 230.107 Q1404.74 230.107 1407.08 228 Q1409.42 225.894 1409.42 222.282 Q1409.42 218.671 1407.08 216.565 Q1404.74 214.458 1400.74 214.458 Q1398.86 214.458 1396.99 214.875 Q1395.13 215.292 1393.19 216.171 L1393.19 198.81 Z\" fill=\"#000000\" fill-rule=\"evenodd\" fill-opacity=\"1\" /><path clip-path=\"url(#clip500)\" d=\"M1347.73 78.6796 L1355.37 78.6796 L1355.37 52.314 L1347.06 53.9807 L1347.06 49.7214 L1355.32 48.0548 L1360 48.0548 L1360 78.6796 L1367.64 78.6796 L1367.64 82.6148 L1347.73 82.6148 L1347.73 78.6796 Z\" fill=\"#000000\" fill-rule=\"evenodd\" fill-opacity=\"1\" /><path clip-path=\"url(#clip500)\" d=\"M1377.08 76.7352 L1381.96 76.7352 L1381.96 82.6148 L1377.08 82.6148 L1377.08 76.7352 Z\" fill=\"#000000\" fill-rule=\"evenodd\" fill-opacity=\"1\" /><path clip-path=\"url(#clip500)\" d=\"M1402.15 51.1335 Q1398.54 51.1335 1396.71 54.6983 Q1394.9 58.2399 1394.9 65.3695 Q1394.9 72.4759 1396.71 76.0407 Q1398.54 79.5824 1402.15 79.5824 Q1405.78 79.5824 1407.59 76.0407 Q1409.42 72.4759 1409.42 65.3695 Q1409.42 58.2399 1407.59 54.6983 Q1405.78 51.1335 1402.15 51.1335 M1402.15 47.4298 Q1407.96 47.4298 1411.01 52.0362 Q1414.09 56.6195 1414.09 65.3695 Q1414.09 74.0963 1411.01 78.7028 Q1407.96 83.2861 1402.15 83.2861 Q1396.34 83.2861 1393.26 78.7028 Q1390.2 74.0963 1390.2 65.3695 Q1390.2 56.6195 1393.26 52.0362 Q1396.34 47.4298 1402.15 47.4298 Z\" fill=\"#000000\" fill-rule=\"evenodd\" fill-opacity=\"1\" /><polyline clip-path=\"url(#clip503)\" style=\"stroke:#ff0000; stroke-linecap:butt; stroke-linejoin:round; stroke-width:4; stroke-opacity:1; fill:none\" points=\"\n",
       "  1475.64,65.3348 1493.38,75.6085 1511.12,105.73 1528.86,153.645 1546.6,216.09 1564.35,288.809 1582.09,366.846 1599.83,444.883 1617.57,517.602 1635.31,580.047 \n",
       "  1653.05,627.962 1670.79,658.083 1688.53,668.357 1706.27,658.083 1724.01,627.962 1741.76,580.047 1759.5,517.602 1777.24,444.883 1794.98,366.846 1812.72,288.809 \n",
       "  1830.46,216.09 1848.2,153.645 1865.94,105.73 1883.68,75.6085 1901.42,65.3348 1919.17,75.6085 1936.91,105.73 1954.65,153.645 1972.39,216.09 1990.13,288.809 \n",
       "  2007.87,366.846 2025.61,444.883 2043.35,517.602 2061.09,580.047 2078.83,627.962 2096.58,658.083 2114.32,668.357 2132.06,658.083 2149.8,627.962 2167.54,580.047 \n",
       "  2185.28,517.602 2203.02,444.883 2220.76,366.846 2238.5,288.809 2256.24,216.09 2273.99,153.645 2291.73,105.73 2309.47,75.6085 2327.21,65.3348 \n",
       "  \"/>\n",
       "<path clip-path=\"url(#clip500)\" d=\"\n",
       "M2084.25 172.231 L2322.67 172.231 L2322.67 68.5509 L2084.25 68.5509  Z\n",
       "  \" fill=\"#ffffff\" fill-rule=\"evenodd\" fill-opacity=\"1\"/>\n",
       "<polyline clip-path=\"url(#clip500)\" style=\"stroke:#000000; stroke-linecap:butt; stroke-linejoin:round; stroke-width:4; stroke-opacity:1; fill:none\" points=\"\n",
       "  2084.25,172.231 2322.67,172.231 2322.67,68.5509 2084.25,68.5509 2084.25,172.231 \n",
       "  \"/>\n",
       "<polyline clip-path=\"url(#clip500)\" style=\"stroke:#ff0000; stroke-linecap:butt; stroke-linejoin:round; stroke-width:4; stroke-opacity:1; fill:none\" points=\"\n",
       "  2094.28,120.391 2154.45,120.391 \n",
       "  \"/>\n",
       "<path clip-path=\"url(#clip500)\" d=\"M2184.99 112.74 L2184.99 116.722 Q2183.19 115.727 2181.36 115.24 Q2179.55 114.731 2177.7 114.731 Q2173.56 114.731 2171.27 117.37 Q2168.97 119.986 2168.97 124.731 Q2168.97 129.476 2171.27 132.115 Q2173.56 134.731 2177.7 134.731 Q2179.55 134.731 2181.36 134.245 Q2183.19 133.736 2184.99 132.74 L2184.99 136.676 Q2183.21 137.509 2181.29 137.926 Q2179.39 138.342 2177.24 138.342 Q2171.38 138.342 2167.93 134.662 Q2164.48 130.981 2164.48 124.731 Q2164.48 118.389 2167.96 114.754 Q2171.45 111.12 2177.52 111.12 Q2179.48 111.12 2181.36 111.537 Q2183.23 111.93 2184.99 112.74 Z\" fill=\"#000000\" fill-rule=\"evenodd\" fill-opacity=\"1\" /><path clip-path=\"url(#clip500)\" d=\"M2202.45 114.731 Q2199.02 114.731 2197.03 117.416 Q2195.04 120.078 2195.04 124.731 Q2195.04 129.384 2197.01 132.069 Q2199 134.731 2202.45 134.731 Q2205.85 134.731 2207.84 132.046 Q2209.83 129.361 2209.83 124.731 Q2209.83 120.125 2207.84 117.44 Q2205.85 114.731 2202.45 114.731 M2202.45 111.12 Q2208 111.12 2211.17 114.731 Q2214.34 118.342 2214.34 124.731 Q2214.34 131.097 2211.17 134.731 Q2208 138.342 2202.45 138.342 Q2196.87 138.342 2193.7 134.731 Q2190.55 131.097 2190.55 124.731 Q2190.55 118.342 2193.7 114.731 Q2196.87 111.12 2202.45 111.12 Z\" fill=\"#000000\" fill-rule=\"evenodd\" fill-opacity=\"1\" /><path clip-path=\"url(#clip500)\" d=\"M2237.93 112.509 L2237.93 116.537 Q2236.13 115.611 2234.18 115.148 Q2232.24 114.685 2230.15 114.685 Q2226.98 114.685 2225.39 115.657 Q2223.81 116.629 2223.81 118.574 Q2223.81 120.055 2224.95 120.912 Q2226.08 121.745 2229.51 122.509 L2230.96 122.833 Q2235.5 123.805 2237.4 125.588 Q2239.32 127.347 2239.32 130.518 Q2239.32 134.129 2236.45 136.236 Q2233.6 138.342 2228.6 138.342 Q2226.52 138.342 2224.25 137.926 Q2222.01 137.532 2219.51 136.722 L2219.51 132.324 Q2221.87 133.551 2224.16 134.176 Q2226.45 134.777 2228.7 134.777 Q2231.71 134.777 2233.33 133.759 Q2234.95 132.717 2234.95 130.842 Q2234.95 129.106 2233.77 128.18 Q2232.61 127.254 2228.65 126.398 L2227.17 126.051 Q2223.21 125.217 2221.45 123.504 Q2219.69 121.768 2219.69 118.759 Q2219.69 115.102 2222.28 113.111 Q2224.88 111.12 2229.65 111.12 Q2232.01 111.12 2234.09 111.467 Q2236.17 111.815 2237.93 112.509 Z\" fill=\"#000000\" fill-rule=\"evenodd\" fill-opacity=\"1\" /><path clip-path=\"url(#clip500)\" d=\"M2256.34 101.699 Q2253.23 107.023 2251.73 112.231 Q2250.22 117.44 2250.22 122.787 Q2250.22 128.134 2251.73 133.389 Q2253.26 138.62 2256.34 143.921 L2252.63 143.921 Q2249.16 138.481 2247.42 133.226 Q2245.71 127.972 2245.71 122.787 Q2245.71 117.625 2247.42 112.393 Q2249.14 107.162 2252.63 101.699 L2256.34 101.699 Z\" fill=\"#000000\" fill-rule=\"evenodd\" fill-opacity=\"1\" /><path clip-path=\"url(#clip500)\" d=\"M2286.15 111.745 L2276.77 124.361 L2286.64 137.671 L2281.61 137.671 L2274.07 127.486 L2266.52 137.671 L2261.5 137.671 L2271.57 124.106 L2262.35 111.745 L2267.38 111.745 L2274.25 120.981 L2281.13 111.745 L2286.15 111.745 Z\" fill=\"#000000\" fill-rule=\"evenodd\" fill-opacity=\"1\" /><path clip-path=\"url(#clip500)\" d=\"M2291.98 101.699 L2295.69 101.699 Q2299.16 107.162 2300.87 112.393 Q2302.61 117.625 2302.61 122.787 Q2302.61 127.972 2300.87 133.226 Q2299.16 138.481 2295.69 143.921 L2291.98 143.921 Q2295.06 138.62 2296.57 133.389 Q2298.09 128.134 2298.09 122.787 Q2298.09 117.44 2296.57 112.231 Q2295.06 107.023 2291.98 101.699 Z\" fill=\"#000000\" fill-rule=\"evenodd\" fill-opacity=\"1\" /><path clip-path=\"url(#clip500)\" d=\"\n",
       "M193.936 1486.45 L1096.6 1486.45 L1096.6 847.244 L193.936 847.244  Z\n",
       "  \" fill=\"#ffffff\" fill-rule=\"evenodd\" fill-opacity=\"1\"/>\n",
       "<defs>\n",
       "  <clipPath id=\"clip504\">\n",
       "    <rect x=\"193\" y=\"847\" width=\"904\" height=\"640\"/>\n",
       "  </clipPath>\n",
       "</defs>\n",
       "<polyline clip-path=\"url(#clip504)\" style=\"stroke:#000000; stroke-linecap:butt; stroke-linejoin:round; stroke-width:2; stroke-opacity:0.1; fill:none\" points=\"\n",
       "  219.483,1486.45 219.483,847.244 \n",
       "  \"/>\n",
       "<polyline clip-path=\"url(#clip504)\" style=\"stroke:#000000; stroke-linecap:butt; stroke-linejoin:round; stroke-width:2; stroke-opacity:0.1; fill:none\" points=\"\n",
       "  355.014,1486.45 355.014,847.244 \n",
       "  \"/>\n",
       "<polyline clip-path=\"url(#clip504)\" style=\"stroke:#000000; stroke-linecap:butt; stroke-linejoin:round; stroke-width:2; stroke-opacity:0.1; fill:none\" points=\"\n",
       "  490.546,1486.45 490.546,847.244 \n",
       "  \"/>\n",
       "<polyline clip-path=\"url(#clip504)\" style=\"stroke:#000000; stroke-linecap:butt; stroke-linejoin:round; stroke-width:2; stroke-opacity:0.1; fill:none\" points=\"\n",
       "  626.077,1486.45 626.077,847.244 \n",
       "  \"/>\n",
       "<polyline clip-path=\"url(#clip504)\" style=\"stroke:#000000; stroke-linecap:butt; stroke-linejoin:round; stroke-width:2; stroke-opacity:0.1; fill:none\" points=\"\n",
       "  761.609,1486.45 761.609,847.244 \n",
       "  \"/>\n",
       "<polyline clip-path=\"url(#clip504)\" style=\"stroke:#000000; stroke-linecap:butt; stroke-linejoin:round; stroke-width:2; stroke-opacity:0.1; fill:none\" points=\"\n",
       "  897.14,1486.45 897.14,847.244 \n",
       "  \"/>\n",
       "<polyline clip-path=\"url(#clip504)\" style=\"stroke:#000000; stroke-linecap:butt; stroke-linejoin:round; stroke-width:2; stroke-opacity:0.1; fill:none\" points=\"\n",
       "  1032.67,1486.45 1032.67,847.244 \n",
       "  \"/>\n",
       "<polyline clip-path=\"url(#clip500)\" style=\"stroke:#000000; stroke-linecap:butt; stroke-linejoin:round; stroke-width:4; stroke-opacity:1; fill:none\" points=\"\n",
       "  193.936,1486.45 1096.6,1486.45 \n",
       "  \"/>\n",
       "<polyline clip-path=\"url(#clip500)\" style=\"stroke:#000000; stroke-linecap:butt; stroke-linejoin:round; stroke-width:4; stroke-opacity:1; fill:none\" points=\"\n",
       "  219.483,1486.45 219.483,1467.55 \n",
       "  \"/>\n",
       "<polyline clip-path=\"url(#clip500)\" style=\"stroke:#000000; stroke-linecap:butt; stroke-linejoin:round; stroke-width:4; stroke-opacity:1; fill:none\" points=\"\n",
       "  355.014,1486.45 355.014,1467.55 \n",
       "  \"/>\n",
       "<polyline clip-path=\"url(#clip500)\" style=\"stroke:#000000; stroke-linecap:butt; stroke-linejoin:round; stroke-width:4; stroke-opacity:1; fill:none\" points=\"\n",
       "  490.546,1486.45 490.546,1467.55 \n",
       "  \"/>\n",
       "<polyline clip-path=\"url(#clip500)\" style=\"stroke:#000000; stroke-linecap:butt; stroke-linejoin:round; stroke-width:4; stroke-opacity:1; fill:none\" points=\"\n",
       "  626.077,1486.45 626.077,1467.55 \n",
       "  \"/>\n",
       "<polyline clip-path=\"url(#clip500)\" style=\"stroke:#000000; stroke-linecap:butt; stroke-linejoin:round; stroke-width:4; stroke-opacity:1; fill:none\" points=\"\n",
       "  761.609,1486.45 761.609,1467.55 \n",
       "  \"/>\n",
       "<polyline clip-path=\"url(#clip500)\" style=\"stroke:#000000; stroke-linecap:butt; stroke-linejoin:round; stroke-width:4; stroke-opacity:1; fill:none\" points=\"\n",
       "  897.14,1486.45 897.14,1467.55 \n",
       "  \"/>\n",
       "<polyline clip-path=\"url(#clip500)\" style=\"stroke:#000000; stroke-linecap:butt; stroke-linejoin:round; stroke-width:4; stroke-opacity:1; fill:none\" points=\"\n",
       "  1032.67,1486.45 1032.67,1467.55 \n",
       "  \"/>\n",
       "<path clip-path=\"url(#clip500)\" d=\"M219.483 1517.37 Q215.872 1517.37 214.043 1520.93 Q212.238 1524.47 212.238 1531.6 Q212.238 1538.71 214.043 1542.27 Q215.872 1545.82 219.483 1545.82 Q223.117 1545.82 224.923 1542.27 Q226.752 1538.71 226.752 1531.6 Q226.752 1524.47 224.923 1520.93 Q223.117 1517.37 219.483 1517.37 M219.483 1513.66 Q225.293 1513.66 228.349 1518.27 Q231.427 1522.85 231.427 1531.6 Q231.427 1540.33 228.349 1544.94 Q225.293 1549.52 219.483 1549.52 Q213.673 1549.52 210.594 1544.94 Q207.539 1540.33 207.539 1531.6 Q207.539 1522.85 210.594 1518.27 Q213.673 1513.66 219.483 1513.66 Z\" fill=\"#000000\" fill-rule=\"evenodd\" fill-opacity=\"1\" /><path clip-path=\"url(#clip500)\" d=\"M349.667 1544.91 L365.987 1544.91 L365.987 1548.85 L344.042 1548.85 L344.042 1544.91 Q346.704 1542.16 351.288 1537.53 Q355.894 1532.88 357.075 1531.53 Q359.32 1529.01 360.2 1527.27 Q361.102 1525.51 361.102 1523.82 Q361.102 1521.07 359.158 1519.33 Q357.237 1517.6 354.135 1517.6 Q351.936 1517.6 349.482 1518.36 Q347.052 1519.13 344.274 1520.68 L344.274 1515.95 Q347.098 1514.82 349.551 1514.24 Q352.005 1513.66 354.042 1513.66 Q359.413 1513.66 362.607 1516.35 Q365.801 1519.03 365.801 1523.52 Q365.801 1525.65 364.991 1527.57 Q364.204 1529.47 362.098 1532.07 Q361.519 1532.74 358.417 1535.95 Q355.315 1539.15 349.667 1544.91 Z\" fill=\"#000000\" fill-rule=\"evenodd\" fill-opacity=\"1\" /><path clip-path=\"url(#clip500)\" d=\"M493.555 1518.36 L481.75 1536.81 L493.555 1536.81 L493.555 1518.36 M492.328 1514.29 L498.208 1514.29 L498.208 1536.81 L503.138 1536.81 L503.138 1540.7 L498.208 1540.7 L498.208 1548.85 L493.555 1548.85 L493.555 1540.7 L477.953 1540.7 L477.953 1536.19 L492.328 1514.29 Z\" fill=\"#000000\" fill-rule=\"evenodd\" fill-opacity=\"1\" /><path clip-path=\"url(#clip500)\" d=\"M626.482 1529.7 Q623.334 1529.7 621.482 1531.86 Q619.654 1534.01 619.654 1537.76 Q619.654 1541.49 621.482 1543.66 Q623.334 1545.82 626.482 1545.82 Q629.63 1545.82 631.459 1543.66 Q633.311 1541.49 633.311 1537.76 Q633.311 1534.01 631.459 1531.86 Q629.63 1529.7 626.482 1529.7 M635.765 1515.05 L635.765 1519.31 Q634.005 1518.48 632.2 1518.04 Q630.417 1517.6 628.658 1517.6 Q624.029 1517.6 621.575 1520.72 Q619.144 1523.85 618.797 1530.17 Q620.163 1528.15 622.223 1527.09 Q624.283 1526 626.76 1526 Q631.968 1526 634.978 1529.17 Q638.01 1532.32 638.01 1537.76 Q638.01 1543.08 634.862 1546.3 Q631.714 1549.52 626.482 1549.52 Q620.487 1549.52 617.316 1544.94 Q614.144 1540.33 614.144 1531.6 Q614.144 1523.41 618.033 1518.55 Q621.922 1513.66 628.473 1513.66 Q630.232 1513.66 632.015 1514.01 Q633.82 1514.36 635.765 1515.05 Z\" fill=\"#000000\" fill-rule=\"evenodd\" fill-opacity=\"1\" /><path clip-path=\"url(#clip500)\" d=\"M761.609 1532.44 Q758.275 1532.44 756.354 1534.22 Q754.456 1536 754.456 1539.13 Q754.456 1542.25 756.354 1544.03 Q758.275 1545.82 761.609 1545.82 Q764.942 1545.82 766.863 1544.03 Q768.784 1542.23 768.784 1539.13 Q768.784 1536 766.863 1534.22 Q764.965 1532.44 761.609 1532.44 M756.933 1530.45 Q753.923 1529.7 752.234 1527.64 Q750.567 1525.58 750.567 1522.62 Q750.567 1518.48 753.507 1516.07 Q756.47 1513.66 761.609 1513.66 Q766.771 1513.66 769.71 1516.07 Q772.65 1518.48 772.65 1522.62 Q772.65 1525.58 770.96 1527.64 Q769.294 1529.7 766.308 1530.45 Q769.687 1531.23 771.562 1533.52 Q773.46 1535.82 773.46 1539.13 Q773.46 1544.15 770.382 1546.83 Q767.326 1549.52 761.609 1549.52 Q755.891 1549.52 752.812 1546.83 Q749.757 1544.15 749.757 1539.13 Q749.757 1535.82 751.655 1533.52 Q753.553 1531.23 756.933 1530.45 M755.22 1523.06 Q755.22 1525.75 756.886 1527.25 Q758.576 1528.76 761.609 1528.76 Q764.618 1528.76 766.308 1527.25 Q768.021 1525.75 768.021 1523.06 Q768.021 1520.38 766.308 1518.87 Q764.618 1517.37 761.609 1517.37 Q758.576 1517.37 756.886 1518.87 Q755.22 1520.38 755.22 1523.06 Z\" fill=\"#000000\" fill-rule=\"evenodd\" fill-opacity=\"1\" /><path clip-path=\"url(#clip500)\" d=\"M871.828 1544.91 L879.466 1544.91 L879.466 1518.55 L871.156 1520.21 L871.156 1515.95 L879.42 1514.29 L884.096 1514.29 L884.096 1544.91 L891.735 1544.91 L891.735 1548.85 L871.828 1548.85 L871.828 1544.91 Z\" fill=\"#000000\" fill-rule=\"evenodd\" fill-opacity=\"1\" /><path clip-path=\"url(#clip500)\" d=\"M911.179 1517.37 Q907.568 1517.37 905.739 1520.93 Q903.934 1524.47 903.934 1531.6 Q903.934 1538.71 905.739 1542.27 Q907.568 1545.82 911.179 1545.82 Q914.813 1545.82 916.619 1542.27 Q918.448 1538.71 918.448 1531.6 Q918.448 1524.47 916.619 1520.93 Q914.813 1517.37 911.179 1517.37 M911.179 1513.66 Q916.989 1513.66 920.045 1518.27 Q923.124 1522.85 923.124 1531.6 Q923.124 1540.33 920.045 1544.94 Q916.989 1549.52 911.179 1549.52 Q905.369 1549.52 902.29 1544.94 Q899.235 1540.33 899.235 1531.6 Q899.235 1522.85 902.29 1518.27 Q905.369 1513.66 911.179 1513.66 Z\" fill=\"#000000\" fill-rule=\"evenodd\" fill-opacity=\"1\" /><path clip-path=\"url(#clip500)\" d=\"M1008.16 1544.91 L1015.8 1544.91 L1015.8 1518.55 L1007.49 1520.21 L1007.49 1515.95 L1015.75 1514.29 L1020.43 1514.29 L1020.43 1544.91 L1028.06 1544.91 L1028.06 1548.85 L1008.16 1548.85 L1008.16 1544.91 Z\" fill=\"#000000\" fill-rule=\"evenodd\" fill-opacity=\"1\" /><path clip-path=\"url(#clip500)\" d=\"M1041.54 1544.91 L1057.86 1544.91 L1057.86 1548.85 L1035.91 1548.85 L1035.91 1544.91 Q1038.57 1542.16 1043.16 1537.53 Q1047.76 1532.88 1048.94 1531.53 Q1051.19 1529.01 1052.07 1527.27 Q1052.97 1525.51 1052.97 1523.82 Q1052.97 1521.07 1051.03 1519.33 Q1049.11 1517.6 1046 1517.6 Q1043.81 1517.6 1041.35 1518.36 Q1038.92 1519.13 1036.14 1520.68 L1036.14 1515.95 Q1038.97 1514.82 1041.42 1514.24 Q1043.87 1513.66 1045.91 1513.66 Q1051.28 1513.66 1054.48 1516.35 Q1057.67 1519.03 1057.67 1523.52 Q1057.67 1525.65 1056.86 1527.57 Q1056.07 1529.47 1053.97 1532.07 Q1053.39 1532.74 1050.29 1535.95 Q1047.19 1539.15 1041.54 1544.91 Z\" fill=\"#000000\" fill-rule=\"evenodd\" fill-opacity=\"1\" /><polyline clip-path=\"url(#clip504)\" style=\"stroke:#000000; stroke-linecap:butt; stroke-linejoin:round; stroke-width:2; stroke-opacity:0.1; fill:none\" points=\"\n",
       "  193.936,1468.36 1096.6,1468.36 \n",
       "  \"/>\n",
       "<polyline clip-path=\"url(#clip504)\" style=\"stroke:#000000; stroke-linecap:butt; stroke-linejoin:round; stroke-width:2; stroke-opacity:0.1; fill:none\" points=\"\n",
       "  193.936,1266.19 1096.6,1266.19 \n",
       "  \"/>\n",
       "<polyline clip-path=\"url(#clip504)\" style=\"stroke:#000000; stroke-linecap:butt; stroke-linejoin:round; stroke-width:2; stroke-opacity:0.1; fill:none\" points=\"\n",
       "  193.936,1064.02 1096.6,1064.02 \n",
       "  \"/>\n",
       "<polyline clip-path=\"url(#clip504)\" style=\"stroke:#000000; stroke-linecap:butt; stroke-linejoin:round; stroke-width:2; stroke-opacity:0.1; fill:none\" points=\"\n",
       "  193.936,861.852 1096.6,861.852 \n",
       "  \"/>\n",
       "<polyline clip-path=\"url(#clip500)\" style=\"stroke:#000000; stroke-linecap:butt; stroke-linejoin:round; stroke-width:4; stroke-opacity:1; fill:none\" points=\"\n",
       "  193.936,1486.45 193.936,847.244 \n",
       "  \"/>\n",
       "<polyline clip-path=\"url(#clip500)\" style=\"stroke:#000000; stroke-linecap:butt; stroke-linejoin:round; stroke-width:4; stroke-opacity:1; fill:none\" points=\"\n",
       "  193.936,1468.36 212.834,1468.36 \n",
       "  \"/>\n",
       "<polyline clip-path=\"url(#clip500)\" style=\"stroke:#000000; stroke-linecap:butt; stroke-linejoin:round; stroke-width:4; stroke-opacity:1; fill:none\" points=\"\n",
       "  193.936,1266.19 212.834,1266.19 \n",
       "  \"/>\n",
       "<polyline clip-path=\"url(#clip500)\" style=\"stroke:#000000; stroke-linecap:butt; stroke-linejoin:round; stroke-width:4; stroke-opacity:1; fill:none\" points=\"\n",
       "  193.936,1064.02 212.834,1064.02 \n",
       "  \"/>\n",
       "<polyline clip-path=\"url(#clip500)\" style=\"stroke:#000000; stroke-linecap:butt; stroke-linejoin:round; stroke-width:4; stroke-opacity:1; fill:none\" points=\"\n",
       "  193.936,861.852 212.834,861.852 \n",
       "  \"/>\n",
       "<path clip-path=\"url(#clip500)\" d=\"M100.76 1454.16 Q97.1493 1454.16 95.3206 1457.72 Q93.515 1461.26 93.515 1468.39 Q93.515 1475.5 95.3206 1479.06 Q97.1493 1482.6 100.76 1482.6 Q104.395 1482.6 106.2 1479.06 Q108.029 1475.5 108.029 1468.39 Q108.029 1461.26 106.2 1457.72 Q104.395 1454.16 100.76 1454.16 M100.76 1450.45 Q106.571 1450.45 109.626 1455.06 Q112.705 1459.64 112.705 1468.39 Q112.705 1477.12 109.626 1481.73 Q106.571 1486.31 100.76 1486.31 Q94.9502 1486.31 91.8715 1481.73 Q88.816 1477.12 88.816 1468.39 Q88.816 1459.64 91.8715 1455.06 Q94.9502 1450.45 100.76 1450.45 Z\" fill=\"#000000\" fill-rule=\"evenodd\" fill-opacity=\"1\" /><path clip-path=\"url(#clip500)\" d=\"M120.922 1479.76 L125.807 1479.76 L125.807 1485.64 L120.922 1485.64 L120.922 1479.76 Z\" fill=\"#000000\" fill-rule=\"evenodd\" fill-opacity=\"1\" /><path clip-path=\"url(#clip500)\" d=\"M145.992 1454.16 Q142.381 1454.16 140.552 1457.72 Q138.746 1461.26 138.746 1468.39 Q138.746 1475.5 140.552 1479.06 Q142.381 1482.6 145.992 1482.6 Q149.626 1482.6 151.431 1479.06 Q153.26 1475.5 153.26 1468.39 Q153.26 1461.26 151.431 1457.72 Q149.626 1454.16 145.992 1454.16 M145.992 1450.45 Q151.802 1450.45 154.857 1455.06 Q157.936 1459.64 157.936 1468.39 Q157.936 1477.12 154.857 1481.73 Q151.802 1486.31 145.992 1486.31 Q140.181 1486.31 137.103 1481.73 Q134.047 1477.12 134.047 1468.39 Q134.047 1459.64 137.103 1455.06 Q140.181 1450.45 145.992 1450.45 Z\" fill=\"#000000\" fill-rule=\"evenodd\" fill-opacity=\"1\" /><path clip-path=\"url(#clip500)\" d=\"M101.756 1251.99 Q98.1447 1251.99 96.316 1255.55 Q94.5104 1259.09 94.5104 1266.22 Q94.5104 1273.33 96.316 1276.89 Q98.1447 1280.44 101.756 1280.44 Q105.39 1280.44 107.196 1276.89 Q109.024 1273.33 109.024 1266.22 Q109.024 1259.09 107.196 1255.55 Q105.39 1251.99 101.756 1251.99 M101.756 1248.28 Q107.566 1248.28 110.621 1252.89 Q113.7 1257.47 113.7 1266.22 Q113.7 1274.95 110.621 1279.56 Q107.566 1284.14 101.756 1284.14 Q95.9456 1284.14 92.8669 1279.56 Q89.8114 1274.95 89.8114 1266.22 Q89.8114 1257.47 92.8669 1252.89 Q95.9456 1248.28 101.756 1248.28 Z\" fill=\"#000000\" fill-rule=\"evenodd\" fill-opacity=\"1\" /><path clip-path=\"url(#clip500)\" d=\"M121.918 1277.59 L126.802 1277.59 L126.802 1283.47 L121.918 1283.47 L121.918 1277.59 Z\" fill=\"#000000\" fill-rule=\"evenodd\" fill-opacity=\"1\" /><path clip-path=\"url(#clip500)\" d=\"M137.033 1248.91 L155.39 1248.91 L155.39 1252.84 L141.316 1252.84 L141.316 1261.32 Q142.334 1260.97 143.353 1260.81 Q144.371 1260.62 145.39 1260.62 Q151.177 1260.62 154.556 1263.79 Q157.936 1266.96 157.936 1272.38 Q157.936 1277.96 154.464 1281.06 Q150.992 1284.14 144.672 1284.14 Q142.496 1284.14 140.228 1283.77 Q137.982 1283.4 135.575 1282.66 L135.575 1277.96 Q137.658 1279.09 139.881 1279.65 Q142.103 1280.2 144.58 1280.2 Q148.584 1280.2 150.922 1278.1 Q153.26 1275.99 153.26 1272.38 Q153.26 1268.77 150.922 1266.66 Q148.584 1264.56 144.58 1264.56 Q142.705 1264.56 140.83 1264.97 Q138.978 1265.39 137.033 1266.27 L137.033 1248.91 Z\" fill=\"#000000\" fill-rule=\"evenodd\" fill-opacity=\"1\" /><path clip-path=\"url(#clip500)\" d=\"M91.5706 1077.37 L99.2095 1077.37 L99.2095 1051 L90.8993 1052.67 L90.8993 1048.41 L99.1632 1046.74 L103.839 1046.74 L103.839 1077.37 L111.478 1077.37 L111.478 1081.3 L91.5706 1081.3 L91.5706 1077.37 Z\" fill=\"#000000\" fill-rule=\"evenodd\" fill-opacity=\"1\" /><path clip-path=\"url(#clip500)\" d=\"M120.922 1075.42 L125.807 1075.42 L125.807 1081.3 L120.922 1081.3 L120.922 1075.42 Z\" fill=\"#000000\" fill-rule=\"evenodd\" fill-opacity=\"1\" /><path clip-path=\"url(#clip500)\" d=\"M145.992 1049.82 Q142.381 1049.82 140.552 1053.38 Q138.746 1056.93 138.746 1064.06 Q138.746 1071.16 140.552 1074.73 Q142.381 1078.27 145.992 1078.27 Q149.626 1078.27 151.431 1074.73 Q153.26 1071.16 153.26 1064.06 Q153.26 1056.93 151.431 1053.38 Q149.626 1049.82 145.992 1049.82 M145.992 1046.12 Q151.802 1046.12 154.857 1050.72 Q157.936 1055.31 157.936 1064.06 Q157.936 1072.78 154.857 1077.39 Q151.802 1081.97 145.992 1081.97 Q140.181 1081.97 137.103 1077.39 Q134.047 1072.78 134.047 1064.06 Q134.047 1055.31 137.103 1050.72 Q140.181 1046.12 145.992 1046.12 Z\" fill=\"#000000\" fill-rule=\"evenodd\" fill-opacity=\"1\" /><path clip-path=\"url(#clip500)\" d=\"M92.566 875.197 L100.205 875.197 L100.205 848.831 L91.8947 850.498 L91.8947 846.239 L100.159 844.572 L104.834 844.572 L104.834 875.197 L112.473 875.197 L112.473 879.132 L92.566 879.132 L92.566 875.197 Z\" fill=\"#000000\" fill-rule=\"evenodd\" fill-opacity=\"1\" /><path clip-path=\"url(#clip500)\" d=\"M121.918 873.252 L126.802 873.252 L126.802 879.132 L121.918 879.132 L121.918 873.252 Z\" fill=\"#000000\" fill-rule=\"evenodd\" fill-opacity=\"1\" /><path clip-path=\"url(#clip500)\" d=\"M137.033 844.572 L155.39 844.572 L155.39 848.507 L141.316 848.507 L141.316 856.979 Q142.334 856.632 143.353 856.47 Q144.371 856.285 145.39 856.285 Q151.177 856.285 154.556 859.456 Q157.936 862.627 157.936 868.044 Q157.936 873.623 154.464 876.724 Q150.992 879.803 144.672 879.803 Q142.496 879.803 140.228 879.433 Q137.982 879.062 135.575 878.322 L135.575 873.623 Q137.658 874.757 139.881 875.312 Q142.103 875.868 144.58 875.868 Q148.584 875.868 150.922 873.762 Q153.26 871.655 153.26 868.044 Q153.26 864.433 150.922 862.326 Q148.584 860.22 144.58 860.22 Q142.705 860.22 140.83 860.637 Q138.978 861.053 137.033 861.933 L137.033 844.572 Z\" fill=\"#000000\" fill-rule=\"evenodd\" fill-opacity=\"1\" /><polyline clip-path=\"url(#clip504)\" style=\"stroke:#ffa500; stroke-linecap:butt; stroke-linejoin:round; stroke-width:4; stroke-opacity:1; fill:none\" points=\"\n",
       "  219.483,1468.36 237.224,1364.83 254.965,1273.33 272.706,1199.16 290.447,1141.47 308.188,1097 325.929,1062.45 343.67,1035.2 361.411,1013.34 379.152,995.516 \n",
       "  396.893,980.756 414.634,968.364 432.375,957.83 450.116,948.778 467.857,940.923 485.598,934.047 503.339,927.981 521.08,922.592 538.821,917.775 556.562,913.444 \n",
       "  574.303,909.53 592.044,905.976 609.785,902.736 627.526,899.769 645.267,897.043 663.008,894.53 680.749,892.206 698.49,890.051 716.231,888.047 733.972,886.179 \n",
       "  751.713,884.433 769.454,882.798 787.196,881.263 804.937,879.821 822.678,878.462 840.419,877.18 858.16,875.968 875.901,874.821 893.642,873.734 911.383,872.702 \n",
       "  929.124,871.721 946.865,870.787 964.606,869.898 982.347,869.05 1000.09,868.24 1017.83,867.465 1035.57,866.725 1053.31,866.015 1071.05,865.335 \n",
       "  \"/>\n",
       "<path clip-path=\"url(#clip500)\" d=\"\n",
       "M801.354 972.231 L1066.51 972.231 L1066.51 868.551 L801.354 868.551  Z\n",
       "  \" fill=\"#ffffff\" fill-rule=\"evenodd\" fill-opacity=\"1\"/>\n",
       "<polyline clip-path=\"url(#clip500)\" style=\"stroke:#000000; stroke-linecap:butt; stroke-linejoin:round; stroke-width:4; stroke-opacity:1; fill:none\" points=\"\n",
       "  801.354,972.231 1066.51,972.231 1066.51,868.551 801.354,868.551 801.354,972.231 \n",
       "  \"/>\n",
       "<polyline clip-path=\"url(#clip500)\" style=\"stroke:#ffa500; stroke-linecap:butt; stroke-linejoin:round; stroke-width:4; stroke-opacity:1; fill:none\" points=\"\n",
       "  811.384,920.391 871.561,920.391 \n",
       "  \"/>\n",
       "<path clip-path=\"url(#clip500)\" d=\"M894.993 924.639 Q889.831 924.639 887.841 925.819 Q885.85 927 885.85 929.847 Q885.85 932.115 887.331 933.458 Q888.836 934.777 891.405 934.777 Q894.947 934.777 897.077 932.277 Q899.229 929.754 899.229 925.588 L899.229 924.639 L894.993 924.639 M903.489 922.879 L903.489 937.671 L899.229 937.671 L899.229 933.736 Q897.771 936.097 895.595 937.231 Q893.419 938.342 890.271 938.342 Q886.29 938.342 883.929 936.12 Q881.591 933.875 881.591 930.125 Q881.591 925.75 884.507 923.527 Q887.447 921.305 893.257 921.305 L899.229 921.305 L899.229 920.889 Q899.229 917.949 897.285 916.352 Q895.364 914.731 891.868 914.731 Q889.646 914.731 887.54 915.264 Q885.433 915.796 883.489 916.861 L883.489 912.926 Q885.827 912.023 888.026 911.583 Q890.225 911.12 892.308 911.12 Q897.933 911.12 900.711 914.037 Q903.489 916.953 903.489 922.879 Z\" fill=\"#000000\" fill-rule=\"evenodd\" fill-opacity=\"1\" /><path clip-path=\"url(#clip500)\" d=\"M916.475 904.384 L916.475 911.745 L925.248 911.745 L925.248 915.055 L916.475 915.055 L916.475 929.129 Q916.475 932.301 917.331 933.203 Q918.211 934.106 920.873 934.106 L925.248 934.106 L925.248 937.671 L920.873 937.671 Q915.942 937.671 914.067 935.842 Q912.192 933.99 912.192 929.129 L912.192 915.055 L909.067 915.055 L909.067 911.745 L912.192 911.745 L912.192 904.384 L916.475 904.384 Z\" fill=\"#000000\" fill-rule=\"evenodd\" fill-opacity=\"1\" /><path clip-path=\"url(#clip500)\" d=\"M942.632 924.639 Q937.47 924.639 935.479 925.819 Q933.489 927 933.489 929.847 Q933.489 932.115 934.97 933.458 Q936.475 934.777 939.044 934.777 Q942.586 934.777 944.715 932.277 Q946.868 929.754 946.868 925.588 L946.868 924.639 L942.632 924.639 M951.127 922.879 L951.127 937.671 L946.868 937.671 L946.868 933.736 Q945.41 936.097 943.234 937.231 Q941.058 938.342 937.91 938.342 Q933.928 938.342 931.567 936.12 Q929.229 933.875 929.229 930.125 Q929.229 925.75 932.146 923.527 Q935.086 921.305 940.896 921.305 L946.868 921.305 L946.868 920.889 Q946.868 917.949 944.924 916.352 Q943.002 914.731 939.507 914.731 Q937.285 914.731 935.178 915.264 Q933.072 915.796 931.127 916.861 L931.127 912.926 Q933.465 912.023 935.664 911.583 Q937.863 911.12 939.947 911.12 Q945.572 911.12 948.35 914.037 Q951.127 916.953 951.127 922.879 Z\" fill=\"#000000\" fill-rule=\"evenodd\" fill-opacity=\"1\" /><path clip-path=\"url(#clip500)\" d=\"M981.451 922.023 L981.451 937.671 L977.192 937.671 L977.192 922.162 Q977.192 918.481 975.757 916.652 Q974.322 914.824 971.451 914.824 Q968.002 914.824 966.011 917.023 Q964.021 919.222 964.021 923.018 L964.021 937.671 L959.738 937.671 L959.738 911.745 L964.021 911.745 L964.021 915.773 Q965.549 913.435 967.609 912.278 Q969.692 911.12 972.4 911.12 Q976.868 911.12 979.16 913.898 Q981.451 916.652 981.451 922.023 Z\" fill=\"#000000\" fill-rule=\"evenodd\" fill-opacity=\"1\" /><path clip-path=\"url(#clip500)\" d=\"M1000.18 901.699 Q997.076 907.023 995.572 912.231 Q994.067 917.44 994.067 922.787 Q994.067 928.134 995.572 933.389 Q997.099 938.62 1000.18 943.921 L996.474 943.921 Q993.002 938.481 991.266 933.226 Q989.553 927.972 989.553 922.787 Q989.553 917.625 991.266 912.393 Q992.979 907.162 996.474 901.699 L1000.18 901.699 Z\" fill=\"#000000\" fill-rule=\"evenodd\" fill-opacity=\"1\" /><path clip-path=\"url(#clip500)\" d=\"M1029.99 911.745 L1020.62 924.361 L1030.48 937.671 L1025.46 937.671 L1017.91 927.486 L1010.36 937.671 L1005.34 937.671 L1015.41 924.106 L1006.2 911.745 L1011.22 911.745 L1018.09 920.981 L1024.97 911.745 L1029.99 911.745 Z\" fill=\"#000000\" fill-rule=\"evenodd\" fill-opacity=\"1\" /><path clip-path=\"url(#clip500)\" d=\"M1035.83 901.699 L1039.53 901.699 Q1043 907.162 1044.71 912.393 Q1046.45 917.625 1046.45 922.787 Q1046.45 927.972 1044.71 933.226 Q1043 938.481 1039.53 943.921 L1035.83 943.921 Q1038.9 938.62 1040.41 933.389 Q1041.94 928.134 1041.94 922.787 Q1041.94 917.44 1040.41 912.231 Q1038.9 907.023 1035.83 901.699 Z\" fill=\"#000000\" fill-rule=\"evenodd\" fill-opacity=\"1\" /><path clip-path=\"url(#clip500)\" d=\"\n",
       "M1450.09 1486.45 L2352.76 1486.45 L2352.76 847.244 L1450.09 847.244  Z\n",
       "  \" fill=\"#ffffff\" fill-rule=\"evenodd\" fill-opacity=\"1\"/>\n",
       "<defs>\n",
       "  <clipPath id=\"clip505\">\n",
       "    <rect x=\"1450\" y=\"847\" width=\"904\" height=\"640\"/>\n",
       "  </clipPath>\n",
       "</defs>\n",
       "<polyline clip-path=\"url(#clip505)\" style=\"stroke:#000000; stroke-linecap:butt; stroke-linejoin:round; stroke-width:2; stroke-opacity:0.1; fill:none\" points=\"\n",
       "  1475.64,1486.45 1475.64,847.244 \n",
       "  \"/>\n",
       "<polyline clip-path=\"url(#clip505)\" style=\"stroke:#000000; stroke-linecap:butt; stroke-linejoin:round; stroke-width:2; stroke-opacity:0.1; fill:none\" points=\"\n",
       "  1611.17,1486.45 1611.17,847.244 \n",
       "  \"/>\n",
       "<polyline clip-path=\"url(#clip505)\" style=\"stroke:#000000; stroke-linecap:butt; stroke-linejoin:round; stroke-width:2; stroke-opacity:0.1; fill:none\" points=\"\n",
       "  1746.7,1486.45 1746.7,847.244 \n",
       "  \"/>\n",
       "<polyline clip-path=\"url(#clip505)\" style=\"stroke:#000000; stroke-linecap:butt; stroke-linejoin:round; stroke-width:2; stroke-opacity:0.1; fill:none\" points=\"\n",
       "  1882.23,1486.45 1882.23,847.244 \n",
       "  \"/>\n",
       "<polyline clip-path=\"url(#clip505)\" style=\"stroke:#000000; stroke-linecap:butt; stroke-linejoin:round; stroke-width:2; stroke-opacity:0.1; fill:none\" points=\"\n",
       "  2017.77,1486.45 2017.77,847.244 \n",
       "  \"/>\n",
       "<polyline clip-path=\"url(#clip505)\" style=\"stroke:#000000; stroke-linecap:butt; stroke-linejoin:round; stroke-width:2; stroke-opacity:0.1; fill:none\" points=\"\n",
       "  2153.3,1486.45 2153.3,847.244 \n",
       "  \"/>\n",
       "<polyline clip-path=\"url(#clip505)\" style=\"stroke:#000000; stroke-linecap:butt; stroke-linejoin:round; stroke-width:2; stroke-opacity:0.1; fill:none\" points=\"\n",
       "  2288.83,1486.45 2288.83,847.244 \n",
       "  \"/>\n",
       "<polyline clip-path=\"url(#clip500)\" style=\"stroke:#000000; stroke-linecap:butt; stroke-linejoin:round; stroke-width:4; stroke-opacity:1; fill:none\" points=\"\n",
       "  1450.09,1486.45 2352.76,1486.45 \n",
       "  \"/>\n",
       "<polyline clip-path=\"url(#clip500)\" style=\"stroke:#000000; stroke-linecap:butt; stroke-linejoin:round; stroke-width:4; stroke-opacity:1; fill:none\" points=\"\n",
       "  1475.64,1486.45 1475.64,1467.55 \n",
       "  \"/>\n",
       "<polyline clip-path=\"url(#clip500)\" style=\"stroke:#000000; stroke-linecap:butt; stroke-linejoin:round; stroke-width:4; stroke-opacity:1; fill:none\" points=\"\n",
       "  1611.17,1486.45 1611.17,1467.55 \n",
       "  \"/>\n",
       "<polyline clip-path=\"url(#clip500)\" style=\"stroke:#000000; stroke-linecap:butt; stroke-linejoin:round; stroke-width:4; stroke-opacity:1; fill:none\" points=\"\n",
       "  1746.7,1486.45 1746.7,1467.55 \n",
       "  \"/>\n",
       "<polyline clip-path=\"url(#clip500)\" style=\"stroke:#000000; stroke-linecap:butt; stroke-linejoin:round; stroke-width:4; stroke-opacity:1; fill:none\" points=\"\n",
       "  1882.23,1486.45 1882.23,1467.55 \n",
       "  \"/>\n",
       "<polyline clip-path=\"url(#clip500)\" style=\"stroke:#000000; stroke-linecap:butt; stroke-linejoin:round; stroke-width:4; stroke-opacity:1; fill:none\" points=\"\n",
       "  2017.77,1486.45 2017.77,1467.55 \n",
       "  \"/>\n",
       "<polyline clip-path=\"url(#clip500)\" style=\"stroke:#000000; stroke-linecap:butt; stroke-linejoin:round; stroke-width:4; stroke-opacity:1; fill:none\" points=\"\n",
       "  2153.3,1486.45 2153.3,1467.55 \n",
       "  \"/>\n",
       "<polyline clip-path=\"url(#clip500)\" style=\"stroke:#000000; stroke-linecap:butt; stroke-linejoin:round; stroke-width:4; stroke-opacity:1; fill:none\" points=\"\n",
       "  2288.83,1486.45 2288.83,1467.55 \n",
       "  \"/>\n",
       "<path clip-path=\"url(#clip500)\" d=\"M1475.64 1517.37 Q1472.03 1517.37 1470.2 1520.93 Q1468.39 1524.47 1468.39 1531.6 Q1468.39 1538.71 1470.2 1542.27 Q1472.03 1545.82 1475.64 1545.82 Q1479.27 1545.82 1481.08 1542.27 Q1482.91 1538.71 1482.91 1531.6 Q1482.91 1524.47 1481.08 1520.93 Q1479.27 1517.37 1475.64 1517.37 M1475.64 1513.66 Q1481.45 1513.66 1484.51 1518.27 Q1487.58 1522.85 1487.58 1531.6 Q1487.58 1540.33 1484.51 1544.94 Q1481.45 1549.52 1475.64 1549.52 Q1469.83 1549.52 1466.75 1544.94 Q1463.7 1540.33 1463.7 1531.6 Q1463.7 1522.85 1466.75 1518.27 Q1469.83 1513.66 1475.64 1513.66 Z\" fill=\"#000000\" fill-rule=\"evenodd\" fill-opacity=\"1\" /><path clip-path=\"url(#clip500)\" d=\"M1605.82 1544.91 L1622.14 1544.91 L1622.14 1548.85 L1600.2 1548.85 L1600.2 1544.91 Q1602.86 1542.16 1607.44 1537.53 Q1612.05 1532.88 1613.23 1531.53 Q1615.48 1529.01 1616.36 1527.27 Q1617.26 1525.51 1617.26 1523.82 Q1617.26 1521.07 1615.32 1519.33 Q1613.39 1517.6 1610.29 1517.6 Q1608.09 1517.6 1605.64 1518.36 Q1603.21 1519.13 1600.43 1520.68 L1600.43 1515.95 Q1603.25 1514.82 1605.71 1514.24 Q1608.16 1513.66 1610.2 1513.66 Q1615.57 1513.66 1618.76 1516.35 Q1621.96 1519.03 1621.96 1523.52 Q1621.96 1525.65 1621.15 1527.57 Q1620.36 1529.47 1618.25 1532.07 Q1617.68 1532.74 1614.57 1535.95 Q1611.47 1539.15 1605.82 1544.91 Z\" fill=\"#000000\" fill-rule=\"evenodd\" fill-opacity=\"1\" /><path clip-path=\"url(#clip500)\" d=\"M1749.71 1518.36 L1737.91 1536.81 L1749.71 1536.81 L1749.71 1518.36 M1748.49 1514.29 L1754.36 1514.29 L1754.36 1536.81 L1759.3 1536.81 L1759.3 1540.7 L1754.36 1540.7 L1754.36 1548.85 L1749.71 1548.85 L1749.71 1540.7 L1734.11 1540.7 L1734.11 1536.19 L1748.49 1514.29 Z\" fill=\"#000000\" fill-rule=\"evenodd\" fill-opacity=\"1\" /><path clip-path=\"url(#clip500)\" d=\"M1882.64 1529.7 Q1879.49 1529.7 1877.64 1531.86 Q1875.81 1534.01 1875.81 1537.76 Q1875.81 1541.49 1877.64 1543.66 Q1879.49 1545.82 1882.64 1545.82 Q1885.79 1545.82 1887.62 1543.66 Q1889.47 1541.49 1889.47 1537.76 Q1889.47 1534.01 1887.62 1531.86 Q1885.79 1529.7 1882.64 1529.7 M1891.92 1515.05 L1891.92 1519.31 Q1890.16 1518.48 1888.36 1518.04 Q1886.57 1517.6 1884.82 1517.6 Q1880.19 1517.6 1877.73 1520.72 Q1875.3 1523.85 1874.95 1530.17 Q1876.32 1528.15 1878.38 1527.09 Q1880.44 1526 1882.92 1526 Q1888.13 1526 1891.13 1529.17 Q1894.17 1532.32 1894.17 1537.76 Q1894.17 1543.08 1891.02 1546.3 Q1887.87 1549.52 1882.64 1549.52 Q1876.64 1549.52 1873.47 1544.94 Q1870.3 1540.33 1870.3 1531.6 Q1870.3 1523.41 1874.19 1518.55 Q1878.08 1513.66 1884.63 1513.66 Q1886.39 1513.66 1888.17 1514.01 Q1889.98 1514.36 1891.92 1515.05 Z\" fill=\"#000000\" fill-rule=\"evenodd\" fill-opacity=\"1\" /><path clip-path=\"url(#clip500)\" d=\"M2017.77 1532.44 Q2014.43 1532.44 2012.51 1534.22 Q2010.61 1536 2010.61 1539.13 Q2010.61 1542.25 2012.51 1544.03 Q2014.43 1545.82 2017.77 1545.82 Q2021.1 1545.82 2023.02 1544.03 Q2024.94 1542.23 2024.94 1539.13 Q2024.94 1536 2023.02 1534.22 Q2021.12 1532.44 2017.77 1532.44 M2013.09 1530.45 Q2010.08 1529.7 2008.39 1527.64 Q2006.72 1525.58 2006.72 1522.62 Q2006.72 1518.48 2009.66 1516.07 Q2012.63 1513.66 2017.77 1513.66 Q2022.93 1513.66 2025.87 1516.07 Q2028.81 1518.48 2028.81 1522.62 Q2028.81 1525.58 2027.12 1527.64 Q2025.45 1529.7 2022.46 1530.45 Q2025.84 1531.23 2027.72 1533.52 Q2029.62 1535.82 2029.62 1539.13 Q2029.62 1544.15 2026.54 1546.83 Q2023.48 1549.52 2017.77 1549.52 Q2012.05 1549.52 2008.97 1546.83 Q2005.91 1544.15 2005.91 1539.13 Q2005.91 1535.82 2007.81 1533.52 Q2009.71 1531.23 2013.09 1530.45 M2011.38 1523.06 Q2011.38 1525.75 2013.04 1527.25 Q2014.73 1528.76 2017.77 1528.76 Q2020.77 1528.76 2022.46 1527.25 Q2024.18 1525.75 2024.18 1523.06 Q2024.18 1520.38 2022.46 1518.87 Q2020.77 1517.37 2017.77 1517.37 Q2014.73 1517.37 2013.04 1518.87 Q2011.38 1520.38 2011.38 1523.06 Z\" fill=\"#000000\" fill-rule=\"evenodd\" fill-opacity=\"1\" /><path clip-path=\"url(#clip500)\" d=\"M2127.98 1544.91 L2135.62 1544.91 L2135.62 1518.55 L2127.31 1520.21 L2127.31 1515.95 L2135.58 1514.29 L2140.25 1514.29 L2140.25 1544.91 L2147.89 1544.91 L2147.89 1548.85 L2127.98 1548.85 L2127.98 1544.91 Z\" fill=\"#000000\" fill-rule=\"evenodd\" fill-opacity=\"1\" /><path clip-path=\"url(#clip500)\" d=\"M2167.34 1517.37 Q2163.73 1517.37 2161.9 1520.93 Q2160.09 1524.47 2160.09 1531.6 Q2160.09 1538.71 2161.9 1542.27 Q2163.73 1545.82 2167.34 1545.82 Q2170.97 1545.82 2172.78 1542.27 Q2174.6 1538.71 2174.6 1531.6 Q2174.6 1524.47 2172.78 1520.93 Q2170.97 1517.37 2167.34 1517.37 M2167.34 1513.66 Q2173.15 1513.66 2176.2 1518.27 Q2179.28 1522.85 2179.28 1531.6 Q2179.28 1540.33 2176.2 1544.94 Q2173.15 1549.52 2167.34 1549.52 Q2161.53 1549.52 2158.45 1544.94 Q2155.39 1540.33 2155.39 1531.6 Q2155.39 1522.85 2158.45 1518.27 Q2161.53 1513.66 2167.34 1513.66 Z\" fill=\"#000000\" fill-rule=\"evenodd\" fill-opacity=\"1\" /><path clip-path=\"url(#clip500)\" d=\"M2264.31 1544.91 L2271.95 1544.91 L2271.95 1518.55 L2263.64 1520.21 L2263.64 1515.95 L2271.91 1514.29 L2276.58 1514.29 L2276.58 1544.91 L2284.22 1544.91 L2284.22 1548.85 L2264.31 1548.85 L2264.31 1544.91 Z\" fill=\"#000000\" fill-rule=\"evenodd\" fill-opacity=\"1\" /><path clip-path=\"url(#clip500)\" d=\"M2297.69 1544.91 L2314.01 1544.91 L2314.01 1548.85 L2292.07 1548.85 L2292.07 1544.91 Q2294.73 1542.16 2299.31 1537.53 Q2303.92 1532.88 2305.1 1531.53 Q2307.35 1529.01 2308.23 1527.27 Q2309.13 1525.51 2309.13 1523.82 Q2309.13 1521.07 2307.18 1519.33 Q2305.26 1517.6 2302.16 1517.6 Q2299.96 1517.6 2297.51 1518.36 Q2295.08 1519.13 2292.3 1520.68 L2292.3 1515.95 Q2295.12 1514.82 2297.58 1514.24 Q2300.03 1513.66 2302.07 1513.66 Q2307.44 1513.66 2310.63 1516.35 Q2313.83 1519.03 2313.83 1523.52 Q2313.83 1525.65 2313.02 1527.57 Q2312.23 1529.47 2310.12 1532.07 Q2309.55 1532.74 2306.44 1535.95 Q2303.34 1539.15 2297.69 1544.91 Z\" fill=\"#000000\" fill-rule=\"evenodd\" fill-opacity=\"1\" /><polyline clip-path=\"url(#clip505)\" style=\"stroke:#000000; stroke-linecap:butt; stroke-linejoin:round; stroke-width:2; stroke-opacity:0.1; fill:none\" points=\"\n",
       "  1450.09,1468.36 2352.76,1468.36 \n",
       "  \"/>\n",
       "<polyline clip-path=\"url(#clip505)\" style=\"stroke:#000000; stroke-linecap:butt; stroke-linejoin:round; stroke-width:2; stroke-opacity:0.1; fill:none\" points=\"\n",
       "  1450.09,1363.21 2352.76,1363.21 \n",
       "  \"/>\n",
       "<polyline clip-path=\"url(#clip505)\" style=\"stroke:#000000; stroke-linecap:butt; stroke-linejoin:round; stroke-width:2; stroke-opacity:0.1; fill:none\" points=\"\n",
       "  1450.09,1258.06 2352.76,1258.06 \n",
       "  \"/>\n",
       "<polyline clip-path=\"url(#clip505)\" style=\"stroke:#000000; stroke-linecap:butt; stroke-linejoin:round; stroke-width:2; stroke-opacity:0.1; fill:none\" points=\"\n",
       "  1450.09,1152.92 2352.76,1152.92 \n",
       "  \"/>\n",
       "<polyline clip-path=\"url(#clip505)\" style=\"stroke:#000000; stroke-linecap:butt; stroke-linejoin:round; stroke-width:2; stroke-opacity:0.1; fill:none\" points=\"\n",
       "  1450.09,1047.77 2352.76,1047.77 \n",
       "  \"/>\n",
       "<polyline clip-path=\"url(#clip505)\" style=\"stroke:#000000; stroke-linecap:butt; stroke-linejoin:round; stroke-width:2; stroke-opacity:0.1; fill:none\" points=\"\n",
       "  1450.09,942.621 2352.76,942.621 \n",
       "  \"/>\n",
       "<polyline clip-path=\"url(#clip500)\" style=\"stroke:#000000; stroke-linecap:butt; stroke-linejoin:round; stroke-width:4; stroke-opacity:1; fill:none\" points=\"\n",
       "  1450.09,1486.45 1450.09,847.244 \n",
       "  \"/>\n",
       "<polyline clip-path=\"url(#clip500)\" style=\"stroke:#000000; stroke-linecap:butt; stroke-linejoin:round; stroke-width:4; stroke-opacity:1; fill:none\" points=\"\n",
       "  1450.09,1468.36 1468.99,1468.36 \n",
       "  \"/>\n",
       "<polyline clip-path=\"url(#clip500)\" style=\"stroke:#000000; stroke-linecap:butt; stroke-linejoin:round; stroke-width:4; stroke-opacity:1; fill:none\" points=\"\n",
       "  1450.09,1363.21 1468.99,1363.21 \n",
       "  \"/>\n",
       "<polyline clip-path=\"url(#clip500)\" style=\"stroke:#000000; stroke-linecap:butt; stroke-linejoin:round; stroke-width:4; stroke-opacity:1; fill:none\" points=\"\n",
       "  1450.09,1258.06 1468.99,1258.06 \n",
       "  \"/>\n",
       "<polyline clip-path=\"url(#clip500)\" style=\"stroke:#000000; stroke-linecap:butt; stroke-linejoin:round; stroke-width:4; stroke-opacity:1; fill:none\" points=\"\n",
       "  1450.09,1152.92 1468.99,1152.92 \n",
       "  \"/>\n",
       "<polyline clip-path=\"url(#clip500)\" style=\"stroke:#000000; stroke-linecap:butt; stroke-linejoin:round; stroke-width:4; stroke-opacity:1; fill:none\" points=\"\n",
       "  1450.09,1047.77 1468.99,1047.77 \n",
       "  \"/>\n",
       "<polyline clip-path=\"url(#clip500)\" style=\"stroke:#000000; stroke-linecap:butt; stroke-linejoin:round; stroke-width:4; stroke-opacity:1; fill:none\" points=\"\n",
       "  1450.09,942.621 1468.99,942.621 \n",
       "  \"/>\n",
       "<path clip-path=\"url(#clip500)\" d=\"M1402.15 1454.16 Q1398.54 1454.16 1396.71 1457.72 Q1394.9 1461.26 1394.9 1468.39 Q1394.9 1475.5 1396.71 1479.07 Q1398.54 1482.61 1402.15 1482.61 Q1405.78 1482.61 1407.59 1479.07 Q1409.42 1475.5 1409.42 1468.39 Q1409.42 1461.26 1407.59 1457.72 Q1405.78 1454.16 1402.15 1454.16 M1402.15 1450.45 Q1407.96 1450.45 1411.01 1455.06 Q1414.09 1459.64 1414.09 1468.39 Q1414.09 1477.12 1411.01 1481.73 Q1407.96 1486.31 1402.15 1486.31 Q1396.34 1486.31 1393.26 1481.73 Q1390.2 1477.12 1390.2 1468.39 Q1390.2 1459.64 1393.26 1455.06 Q1396.34 1450.45 1402.15 1450.45 Z\" fill=\"#000000\" fill-rule=\"evenodd\" fill-opacity=\"1\" /><path clip-path=\"url(#clip500)\" d=\"M1196.29 1352.38 L1214.65 1352.38 L1214.65 1356.31 L1200.58 1356.31 L1200.58 1364.79 Q1201.59 1364.44 1202.61 1364.28 Q1203.63 1364.09 1204.65 1364.09 Q1210.44 1364.09 1213.82 1367.26 Q1217.2 1370.43 1217.2 1375.85 Q1217.2 1381.43 1213.72 1384.53 Q1210.25 1387.61 1203.93 1387.61 Q1201.76 1387.61 1199.49 1387.24 Q1197.24 1386.87 1194.84 1386.13 L1194.84 1381.43 Q1196.92 1382.56 1199.14 1383.12 Q1201.36 1383.68 1203.84 1383.68 Q1207.84 1383.68 1210.18 1381.57 Q1212.52 1379.46 1212.52 1375.85 Q1212.52 1372.24 1210.18 1370.13 Q1207.84 1368.03 1203.84 1368.03 Q1201.96 1368.03 1200.09 1368.44 Q1198.24 1368.86 1196.29 1369.74 L1196.29 1352.38 Z\" fill=\"#000000\" fill-rule=\"evenodd\" fill-opacity=\"1\" /><path clip-path=\"url(#clip500)\" d=\"M1226.41 1381.06 L1231.29 1381.06 L1231.29 1386.94 L1226.41 1386.94 L1226.41 1381.06 Z\" fill=\"#000000\" fill-rule=\"evenodd\" fill-opacity=\"1\" /><path clip-path=\"url(#clip500)\" d=\"M1251.48 1355.46 Q1247.87 1355.46 1246.04 1359.02 Q1244.23 1362.56 1244.23 1369.69 Q1244.23 1376.8 1246.04 1380.37 Q1247.87 1383.91 1251.48 1383.91 Q1255.11 1383.91 1256.92 1380.37 Q1258.75 1376.8 1258.75 1369.69 Q1258.75 1362.56 1256.92 1359.02 Q1255.11 1355.46 1251.48 1355.46 M1251.48 1351.75 Q1257.29 1351.75 1260.34 1356.36 Q1263.42 1360.94 1263.42 1369.69 Q1263.42 1378.42 1260.34 1383.03 Q1257.29 1387.61 1251.48 1387.61 Q1245.67 1387.61 1242.59 1383.03 Q1239.53 1378.42 1239.53 1369.69 Q1239.53 1360.94 1242.59 1356.36 Q1245.67 1351.75 1251.48 1351.75 Z\" fill=\"#000000\" fill-rule=\"evenodd\" fill-opacity=\"1\" /><path clip-path=\"url(#clip500)\" d=\"M1281.64 1355.46 Q1278.03 1355.46 1276.2 1359.02 Q1274.39 1362.56 1274.39 1369.69 Q1274.39 1376.8 1276.2 1380.37 Q1278.03 1383.91 1281.64 1383.91 Q1285.27 1383.91 1287.08 1380.37 Q1288.91 1376.8 1288.91 1369.69 Q1288.91 1362.56 1287.08 1359.02 Q1285.27 1355.46 1281.64 1355.46 M1281.64 1351.75 Q1287.45 1351.75 1290.51 1356.36 Q1293.58 1360.94 1293.58 1369.69 Q1293.58 1378.42 1290.51 1383.03 Q1287.45 1387.61 1281.64 1387.61 Q1275.83 1387.61 1272.75 1383.03 Q1269.7 1378.42 1269.7 1369.69 Q1269.7 1360.94 1272.75 1356.36 Q1275.83 1351.75 1281.64 1351.75 Z\" fill=\"#000000\" fill-rule=\"evenodd\" fill-opacity=\"1\" /><path clip-path=\"url(#clip500)\" d=\"M1329.97 1361.48 L1319.39 1372.1 L1329.97 1382.68 L1327.22 1385.48 L1316.59 1374.86 L1305.97 1385.48 L1303.24 1382.68 L1313.79 1372.1 L1303.24 1361.48 L1305.97 1358.68 L1316.59 1369.3 L1327.22 1358.68 L1329.97 1361.48 Z\" fill=\"#000000\" fill-rule=\"evenodd\" fill-opacity=\"1\" /><path clip-path=\"url(#clip500)\" d=\"M1342.33 1383 L1349.97 1383 L1349.97 1356.64 L1341.66 1358.31 L1341.66 1354.05 L1349.93 1352.38 L1354.6 1352.38 L1354.6 1383 L1362.24 1383 L1362.24 1386.94 L1342.33 1386.94 L1342.33 1383 Z\" fill=\"#000000\" fill-rule=\"evenodd\" fill-opacity=\"1\" /><path clip-path=\"url(#clip500)\" d=\"M1381.69 1355.46 Q1378.07 1355.46 1376.25 1359.02 Q1374.44 1362.56 1374.44 1369.69 Q1374.44 1376.8 1376.25 1380.37 Q1378.07 1383.91 1381.69 1383.91 Q1385.32 1383.91 1387.13 1380.37 Q1388.95 1376.8 1388.95 1369.69 Q1388.95 1362.56 1387.13 1359.02 Q1385.32 1355.46 1381.69 1355.46 M1381.69 1351.75 Q1387.5 1351.75 1390.55 1356.36 Q1393.63 1360.94 1393.63 1369.69 Q1393.63 1378.42 1390.55 1383.03 Q1387.5 1387.61 1381.69 1387.61 Q1375.88 1387.61 1372.8 1383.03 Q1369.74 1378.42 1369.74 1369.69 Q1369.74 1360.94 1372.8 1356.36 Q1375.88 1351.75 1381.69 1351.75 Z\" fill=\"#000000\" fill-rule=\"evenodd\" fill-opacity=\"1\" /><path clip-path=\"url(#clip500)\" d=\"M1406.31 1334.76 L1396.71 1349.75 L1406.31 1349.75 L1406.31 1334.76 M1405.31 1331.45 L1410.09 1331.45 L1410.09 1349.75 L1414.09 1349.75 L1414.09 1352.91 L1410.09 1352.91 L1410.09 1359.53 L1406.31 1359.53 L1406.31 1352.91 L1393.63 1352.91 L1393.63 1349.24 L1405.31 1331.45 Z\" fill=\"#000000\" fill-rule=\"evenodd\" fill-opacity=\"1\" /><path clip-path=\"url(#clip500)\" d=\"M1199.35 1277.86 L1206.99 1277.86 L1206.99 1251.49 L1198.68 1253.16 L1198.68 1248.9 L1206.94 1247.23 L1211.62 1247.23 L1211.62 1277.86 L1219.26 1277.86 L1219.26 1281.79 L1199.35 1281.79 L1199.35 1277.86 Z\" fill=\"#000000\" fill-rule=\"evenodd\" fill-opacity=\"1\" /><path clip-path=\"url(#clip500)\" d=\"M1228.7 1275.91 L1233.59 1275.91 L1233.59 1281.79 L1228.7 1281.79 L1228.7 1275.91 Z\" fill=\"#000000\" fill-rule=\"evenodd\" fill-opacity=\"1\" /><path clip-path=\"url(#clip500)\" d=\"M1253.77 1250.31 Q1250.16 1250.31 1248.33 1253.88 Q1246.53 1257.42 1246.53 1264.55 Q1246.53 1271.65 1248.33 1275.22 Q1250.16 1278.76 1253.77 1278.76 Q1257.41 1278.76 1259.21 1275.22 Q1261.04 1271.65 1261.04 1264.55 Q1261.04 1257.42 1259.21 1253.88 Q1257.41 1250.31 1253.77 1250.31 M1253.77 1246.61 Q1259.58 1246.61 1262.64 1251.21 Q1265.72 1255.8 1265.72 1264.55 Q1265.72 1273.27 1262.64 1277.88 Q1259.58 1282.46 1253.77 1282.46 Q1247.96 1282.46 1244.88 1277.88 Q1241.83 1273.27 1241.83 1264.55 Q1241.83 1255.8 1244.88 1251.21 Q1247.96 1246.61 1253.77 1246.61 Z\" fill=\"#000000\" fill-rule=\"evenodd\" fill-opacity=\"1\" /><path clip-path=\"url(#clip500)\" d=\"M1283.93 1250.31 Q1280.32 1250.31 1278.49 1253.88 Q1276.69 1257.42 1276.69 1264.55 Q1276.69 1271.65 1278.49 1275.22 Q1280.32 1278.76 1283.93 1278.76 Q1287.57 1278.76 1289.37 1275.22 Q1291.2 1271.65 1291.2 1264.55 Q1291.2 1257.42 1289.37 1253.88 Q1287.57 1250.31 1283.93 1250.31 M1283.93 1246.61 Q1289.74 1246.61 1292.8 1251.21 Q1295.88 1255.8 1295.88 1264.55 Q1295.88 1273.27 1292.8 1277.88 Q1289.74 1282.46 1283.93 1282.46 Q1278.12 1282.46 1275.05 1277.88 Q1271.99 1273.27 1271.99 1264.55 Q1271.99 1255.8 1275.05 1251.21 Q1278.12 1246.61 1283.93 1246.61 Z\" fill=\"#000000\" fill-rule=\"evenodd\" fill-opacity=\"1\" /><path clip-path=\"url(#clip500)\" d=\"M1332.27 1256.33 L1321.69 1266.95 L1332.27 1277.53 L1329.51 1280.33 L1318.89 1269.71 L1308.26 1280.33 L1305.53 1277.53 L1316.09 1266.95 L1305.53 1256.33 L1308.26 1253.53 L1318.89 1264.15 L1329.51 1253.53 L1332.27 1256.33 Z\" fill=\"#000000\" fill-rule=\"evenodd\" fill-opacity=\"1\" /><path clip-path=\"url(#clip500)\" d=\"M1344.63 1277.86 L1352.27 1277.86 L1352.27 1251.49 L1343.96 1253.16 L1343.96 1248.9 L1352.22 1247.23 L1356.9 1247.23 L1356.9 1277.86 L1364.54 1277.86 L1364.54 1281.79 L1344.63 1281.79 L1344.63 1277.86 Z\" fill=\"#000000\" fill-rule=\"evenodd\" fill-opacity=\"1\" /><path clip-path=\"url(#clip500)\" d=\"M1383.98 1250.31 Q1380.37 1250.31 1378.54 1253.88 Q1376.74 1257.42 1376.74 1264.55 Q1376.74 1271.65 1378.54 1275.22 Q1380.37 1278.76 1383.98 1278.76 Q1387.61 1278.76 1389.42 1275.22 Q1391.25 1271.65 1391.25 1264.55 Q1391.25 1257.42 1389.42 1253.88 Q1387.61 1250.31 1383.98 1250.31 M1383.98 1246.61 Q1389.79 1246.61 1392.85 1251.21 Q1395.92 1255.8 1395.92 1264.55 Q1395.92 1273.27 1392.85 1277.88 Q1389.79 1282.46 1383.98 1282.46 Q1378.17 1282.46 1375.09 1277.88 Q1372.04 1273.27 1372.04 1264.55 Q1372.04 1255.8 1375.09 1251.21 Q1378.17 1246.61 1383.98 1246.61 Z\" fill=\"#000000\" fill-rule=\"evenodd\" fill-opacity=\"1\" /><path clip-path=\"url(#clip500)\" d=\"M1397.11 1226.3 L1412.02 1226.3 L1412.02 1229.5 L1400.59 1229.5 L1400.59 1236.38 Q1401.42 1236.1 1402.24 1235.97 Q1403.07 1235.82 1403.9 1235.82 Q1408.6 1235.82 1411.35 1238.39 Q1414.09 1240.97 1414.09 1245.37 Q1414.09 1249.9 1411.27 1252.43 Q1408.45 1254.93 1403.32 1254.93 Q1401.55 1254.93 1399.71 1254.63 Q1397.88 1254.32 1395.92 1253.72 L1395.92 1249.9 Q1397.62 1250.83 1399.42 1251.28 Q1401.23 1251.73 1403.24 1251.73 Q1406.49 1251.73 1408.39 1250.02 Q1410.29 1248.31 1410.29 1245.37 Q1410.29 1242.44 1408.39 1240.73 Q1406.49 1239.02 1403.24 1239.02 Q1401.72 1239.02 1400.19 1239.35 Q1398.69 1239.69 1397.11 1240.41 L1397.11 1226.3 Z\" fill=\"#000000\" fill-rule=\"evenodd\" fill-opacity=\"1\" /><path clip-path=\"url(#clip500)\" d=\"M1199.35 1172.71 L1206.99 1172.71 L1206.99 1146.34 L1198.68 1148.01 L1198.68 1143.75 L1206.94 1142.08 L1211.62 1142.08 L1211.62 1172.71 L1219.26 1172.71 L1219.26 1176.64 L1199.35 1176.64 L1199.35 1172.71 Z\" fill=\"#000000\" fill-rule=\"evenodd\" fill-opacity=\"1\" /><path clip-path=\"url(#clip500)\" d=\"M1228.7 1170.76 L1233.59 1170.76 L1233.59 1176.64 L1228.7 1176.64 L1228.7 1170.76 Z\" fill=\"#000000\" fill-rule=\"evenodd\" fill-opacity=\"1\" /><path clip-path=\"url(#clip500)\" d=\"M1243.82 1142.08 L1262.18 1142.08 L1262.18 1146.02 L1248.1 1146.02 L1248.1 1154.49 Q1249.12 1154.14 1250.14 1153.98 Q1251.16 1153.8 1252.18 1153.8 Q1257.96 1153.8 1261.34 1156.97 Q1264.72 1160.14 1264.72 1165.56 Q1264.72 1171.13 1261.25 1174.24 Q1257.78 1177.32 1251.46 1177.32 Q1249.28 1177.32 1247.01 1176.94 Q1244.77 1176.57 1242.36 1175.83 L1242.36 1171.13 Q1244.44 1172.27 1246.67 1172.82 Q1248.89 1173.38 1251.37 1173.38 Q1255.37 1173.38 1257.71 1171.27 Q1260.05 1169.17 1260.05 1165.56 Q1260.05 1161.94 1257.71 1159.84 Q1255.37 1157.73 1251.37 1157.73 Q1249.49 1157.73 1247.62 1158.15 Q1245.76 1158.57 1243.82 1159.44 L1243.82 1142.08 Z\" fill=\"#000000\" fill-rule=\"evenodd\" fill-opacity=\"1\" /><path clip-path=\"url(#clip500)\" d=\"M1283.93 1145.16 Q1280.32 1145.16 1278.49 1148.73 Q1276.69 1152.27 1276.69 1159.4 Q1276.69 1166.51 1278.49 1170.07 Q1280.32 1173.61 1283.93 1173.61 Q1287.57 1173.61 1289.37 1170.07 Q1291.2 1166.51 1291.2 1159.4 Q1291.2 1152.27 1289.37 1148.73 Q1287.57 1145.16 1283.93 1145.16 M1283.93 1141.46 Q1289.74 1141.46 1292.8 1146.07 Q1295.88 1150.65 1295.88 1159.4 Q1295.88 1168.13 1292.8 1172.73 Q1289.74 1177.32 1283.93 1177.32 Q1278.12 1177.32 1275.05 1172.73 Q1271.99 1168.13 1271.99 1159.4 Q1271.99 1150.65 1275.05 1146.07 Q1278.12 1141.46 1283.93 1141.46 Z\" fill=\"#000000\" fill-rule=\"evenodd\" fill-opacity=\"1\" /><path clip-path=\"url(#clip500)\" d=\"M1332.27 1151.18 L1321.69 1161.81 L1332.27 1172.38 L1329.51 1175.19 L1318.89 1164.56 L1308.26 1175.19 L1305.53 1172.38 L1316.09 1161.81 L1305.53 1151.18 L1308.26 1148.38 L1318.89 1159.01 L1329.51 1148.38 L1332.27 1151.18 Z\" fill=\"#000000\" fill-rule=\"evenodd\" fill-opacity=\"1\" /><path clip-path=\"url(#clip500)\" d=\"M1344.63 1172.71 L1352.27 1172.71 L1352.27 1146.34 L1343.96 1148.01 L1343.96 1143.75 L1352.22 1142.08 L1356.9 1142.08 L1356.9 1172.71 L1364.54 1172.71 L1364.54 1176.64 L1344.63 1176.64 L1344.63 1172.71 Z\" fill=\"#000000\" fill-rule=\"evenodd\" fill-opacity=\"1\" /><path clip-path=\"url(#clip500)\" d=\"M1383.98 1145.16 Q1380.37 1145.16 1378.54 1148.73 Q1376.74 1152.27 1376.74 1159.4 Q1376.74 1166.51 1378.54 1170.07 Q1380.37 1173.61 1383.98 1173.61 Q1387.61 1173.61 1389.42 1170.07 Q1391.25 1166.51 1391.25 1159.4 Q1391.25 1152.27 1389.42 1148.73 Q1387.61 1145.16 1383.98 1145.16 M1383.98 1141.46 Q1389.79 1141.46 1392.85 1146.07 Q1395.92 1150.65 1395.92 1159.4 Q1395.92 1168.13 1392.85 1172.73 Q1389.79 1177.32 1383.98 1177.32 Q1378.17 1177.32 1375.09 1172.73 Q1372.04 1168.13 1372.04 1159.4 Q1372.04 1150.65 1375.09 1146.07 Q1378.17 1141.46 1383.98 1141.46 Z\" fill=\"#000000\" fill-rule=\"evenodd\" fill-opacity=\"1\" /><path clip-path=\"url(#clip500)\" d=\"M1397.11 1121.15 L1412.02 1121.15 L1412.02 1124.35 L1400.59 1124.35 L1400.59 1131.23 Q1401.42 1130.95 1402.24 1130.82 Q1403.07 1130.67 1403.9 1130.67 Q1408.6 1130.67 1411.35 1133.25 Q1414.09 1135.82 1414.09 1140.22 Q1414.09 1144.76 1411.27 1147.28 Q1408.45 1149.78 1403.32 1149.78 Q1401.55 1149.78 1399.71 1149.48 Q1397.88 1149.18 1395.92 1148.58 L1395.92 1144.76 Q1397.62 1145.68 1399.42 1146.13 Q1401.23 1146.58 1403.24 1146.58 Q1406.49 1146.58 1408.39 1144.87 Q1410.29 1143.16 1410.29 1140.22 Q1410.29 1137.29 1408.39 1135.58 Q1406.49 1133.87 1403.24 1133.87 Q1401.72 1133.87 1400.19 1134.21 Q1398.69 1134.54 1397.11 1135.26 L1397.11 1121.15 Z\" fill=\"#000000\" fill-rule=\"evenodd\" fill-opacity=\"1\" /><path clip-path=\"url(#clip500)\" d=\"M1202.57 1067.56 L1218.89 1067.56 L1218.89 1071.5 L1196.94 1071.5 L1196.94 1067.56 Q1199.61 1064.81 1204.19 1060.18 Q1208.8 1055.52 1209.98 1054.18 Q1212.22 1051.66 1213.1 1049.92 Q1214 1048.16 1214 1046.47 Q1214 1043.72 1212.06 1041.98 Q1210.14 1040.25 1207.04 1040.25 Q1204.84 1040.25 1202.38 1041.01 Q1199.95 1041.77 1197.18 1043.33 L1197.18 1038.6 Q1200 1037.47 1202.45 1036.89 Q1204.91 1036.31 1206.94 1036.31 Q1212.31 1036.31 1215.51 1039 Q1218.7 1041.68 1218.7 1046.17 Q1218.7 1048.3 1217.89 1050.22 Q1217.11 1052.12 1215 1054.71 Q1214.42 1055.39 1211.32 1058.6 Q1208.22 1061.8 1202.57 1067.56 Z\" fill=\"#000000\" fill-rule=\"evenodd\" fill-opacity=\"1\" /><path clip-path=\"url(#clip500)\" d=\"M1228.7 1065.62 L1233.59 1065.62 L1233.59 1071.5 L1228.7 1071.5 L1228.7 1065.62 Z\" fill=\"#000000\" fill-rule=\"evenodd\" fill-opacity=\"1\" /><path clip-path=\"url(#clip500)\" d=\"M1253.77 1040.01 Q1250.16 1040.01 1248.33 1043.58 Q1246.53 1047.12 1246.53 1054.25 Q1246.53 1061.36 1248.33 1064.92 Q1250.16 1068.46 1253.77 1068.46 Q1257.41 1068.46 1259.21 1064.92 Q1261.04 1061.36 1261.04 1054.25 Q1261.04 1047.12 1259.21 1043.58 Q1257.41 1040.01 1253.77 1040.01 M1253.77 1036.31 Q1259.58 1036.31 1262.64 1040.92 Q1265.72 1045.5 1265.72 1054.25 Q1265.72 1062.98 1262.64 1067.58 Q1259.58 1072.17 1253.77 1072.17 Q1247.96 1072.17 1244.88 1067.58 Q1241.83 1062.98 1241.83 1054.25 Q1241.83 1045.5 1244.88 1040.92 Q1247.96 1036.31 1253.77 1036.31 Z\" fill=\"#000000\" fill-rule=\"evenodd\" fill-opacity=\"1\" /><path clip-path=\"url(#clip500)\" d=\"M1283.93 1040.01 Q1280.32 1040.01 1278.49 1043.58 Q1276.69 1047.12 1276.69 1054.25 Q1276.69 1061.36 1278.49 1064.92 Q1280.32 1068.46 1283.93 1068.46 Q1287.57 1068.46 1289.37 1064.92 Q1291.2 1061.36 1291.2 1054.25 Q1291.2 1047.12 1289.37 1043.58 Q1287.57 1040.01 1283.93 1040.01 M1283.93 1036.31 Q1289.74 1036.31 1292.8 1040.92 Q1295.88 1045.5 1295.88 1054.25 Q1295.88 1062.98 1292.8 1067.58 Q1289.74 1072.17 1283.93 1072.17 Q1278.12 1072.17 1275.05 1067.58 Q1271.99 1062.98 1271.99 1054.25 Q1271.99 1045.5 1275.05 1040.92 Q1278.12 1036.31 1283.93 1036.31 Z\" fill=\"#000000\" fill-rule=\"evenodd\" fill-opacity=\"1\" /><path clip-path=\"url(#clip500)\" d=\"M1332.27 1046.03 L1321.69 1056.66 L1332.27 1067.24 L1329.51 1070.04 L1318.89 1059.41 L1308.26 1070.04 L1305.53 1067.24 L1316.09 1056.66 L1305.53 1046.03 L1308.26 1043.23 L1318.89 1053.86 L1329.51 1043.23 L1332.27 1046.03 Z\" fill=\"#000000\" fill-rule=\"evenodd\" fill-opacity=\"1\" /><path clip-path=\"url(#clip500)\" d=\"M1344.63 1067.56 L1352.27 1067.56 L1352.27 1041.2 L1343.96 1042.86 L1343.96 1038.6 L1352.22 1036.94 L1356.9 1036.94 L1356.9 1067.56 L1364.54 1067.56 L1364.54 1071.5 L1344.63 1071.5 L1344.63 1067.56 Z\" fill=\"#000000\" fill-rule=\"evenodd\" fill-opacity=\"1\" /><path clip-path=\"url(#clip500)\" d=\"M1383.98 1040.01 Q1380.37 1040.01 1378.54 1043.58 Q1376.74 1047.12 1376.74 1054.25 Q1376.74 1061.36 1378.54 1064.92 Q1380.37 1068.46 1383.98 1068.46 Q1387.61 1068.46 1389.42 1064.92 Q1391.25 1061.36 1391.25 1054.25 Q1391.25 1047.12 1389.42 1043.58 Q1387.61 1040.01 1383.98 1040.01 M1383.98 1036.31 Q1389.79 1036.31 1392.85 1040.92 Q1395.92 1045.5 1395.92 1054.25 Q1395.92 1062.98 1392.85 1067.58 Q1389.79 1072.17 1383.98 1072.17 Q1378.17 1072.17 1375.09 1067.58 Q1372.04 1062.98 1372.04 1054.25 Q1372.04 1045.5 1375.09 1040.92 Q1378.17 1036.31 1383.98 1036.31 Z\" fill=\"#000000\" fill-rule=\"evenodd\" fill-opacity=\"1\" /><path clip-path=\"url(#clip500)\" d=\"M1397.11 1016.01 L1412.02 1016.01 L1412.02 1019.2 L1400.59 1019.2 L1400.59 1026.09 Q1401.42 1025.8 1402.24 1025.67 Q1403.07 1025.52 1403.9 1025.52 Q1408.6 1025.52 1411.35 1028.1 Q1414.09 1030.68 1414.09 1035.08 Q1414.09 1039.61 1411.27 1042.13 Q1408.45 1044.63 1403.32 1044.63 Q1401.55 1044.63 1399.71 1044.33 Q1397.88 1044.03 1395.92 1043.43 L1395.92 1039.61 Q1397.62 1040.53 1399.42 1040.98 Q1401.23 1041.43 1403.24 1041.43 Q1406.49 1041.43 1408.39 1039.72 Q1410.29 1038.01 1410.29 1035.08 Q1410.29 1032.14 1408.39 1030.43 Q1406.49 1028.72 1403.24 1028.72 Q1401.72 1028.72 1400.19 1029.06 Q1398.69 1029.4 1397.11 1030.11 L1397.11 1016.01 Z\" fill=\"#000000\" fill-rule=\"evenodd\" fill-opacity=\"1\" /><path clip-path=\"url(#clip500)\" d=\"M1202.57 962.413 L1218.89 962.413 L1218.89 966.349 L1196.94 966.349 L1196.94 962.413 Q1199.61 959.659 1204.19 955.029 Q1208.8 950.377 1209.98 949.034 Q1212.22 946.511 1213.1 944.775 Q1214 943.015 1214 941.326 Q1214 938.571 1212.06 936.835 Q1210.14 935.099 1207.04 935.099 Q1204.84 935.099 1202.38 935.863 Q1199.95 936.627 1197.18 938.178 L1197.18 933.455 Q1200 932.321 1202.45 931.742 Q1204.91 931.164 1206.94 931.164 Q1212.31 931.164 1215.51 933.849 Q1218.7 936.534 1218.7 941.025 Q1218.7 943.154 1217.89 945.076 Q1217.11 946.974 1215 949.566 Q1214.42 950.238 1211.32 953.455 Q1208.22 956.65 1202.57 962.413 Z\" fill=\"#000000\" fill-rule=\"evenodd\" fill-opacity=\"1\" /><path clip-path=\"url(#clip500)\" d=\"M1228.7 960.469 L1233.59 960.469 L1233.59 966.349 L1228.7 966.349 L1228.7 960.469 Z\" fill=\"#000000\" fill-rule=\"evenodd\" fill-opacity=\"1\" /><path clip-path=\"url(#clip500)\" d=\"M1243.82 931.789 L1262.18 931.789 L1262.18 935.724 L1248.1 935.724 L1248.1 944.196 Q1249.12 943.849 1250.14 943.687 Q1251.16 943.502 1252.18 943.502 Q1257.96 943.502 1261.34 946.673 Q1264.72 949.844 1264.72 955.261 Q1264.72 960.839 1261.25 963.941 Q1257.78 967.02 1251.46 967.02 Q1249.28 967.02 1247.01 966.65 Q1244.77 966.279 1242.36 965.538 L1242.36 960.839 Q1244.44 961.974 1246.67 962.529 Q1248.89 963.085 1251.37 963.085 Q1255.37 963.085 1257.71 960.978 Q1260.05 958.872 1260.05 955.261 Q1260.05 951.65 1257.71 949.543 Q1255.37 947.437 1251.37 947.437 Q1249.49 947.437 1247.62 947.853 Q1245.76 948.27 1243.82 949.15 L1243.82 931.789 Z\" fill=\"#000000\" fill-rule=\"evenodd\" fill-opacity=\"1\" /><path clip-path=\"url(#clip500)\" d=\"M1283.93 934.867 Q1280.32 934.867 1278.49 938.432 Q1276.69 941.974 1276.69 949.103 Q1276.69 956.21 1278.49 959.775 Q1280.32 963.316 1283.93 963.316 Q1287.57 963.316 1289.37 959.775 Q1291.2 956.21 1291.2 949.103 Q1291.2 941.974 1289.37 938.432 Q1287.57 934.867 1283.93 934.867 M1283.93 931.164 Q1289.74 931.164 1292.8 935.77 Q1295.88 940.353 1295.88 949.103 Q1295.88 957.83 1292.8 962.437 Q1289.74 967.02 1283.93 967.02 Q1278.12 967.02 1275.05 962.437 Q1271.99 957.83 1271.99 949.103 Q1271.99 940.353 1275.05 935.77 Q1278.12 931.164 1283.93 931.164 Z\" fill=\"#000000\" fill-rule=\"evenodd\" fill-opacity=\"1\" /><path clip-path=\"url(#clip500)\" d=\"M1332.27 940.886 L1321.69 951.511 L1332.27 962.089 L1329.51 964.89 L1318.89 954.265 L1308.26 964.89 L1305.53 962.089 L1316.09 951.511 L1305.53 940.886 L1308.26 938.085 L1318.89 948.71 L1329.51 938.085 L1332.27 940.886 Z\" fill=\"#000000\" fill-rule=\"evenodd\" fill-opacity=\"1\" /><path clip-path=\"url(#clip500)\" d=\"M1344.63 962.413 L1352.27 962.413 L1352.27 936.048 L1343.96 937.715 L1343.96 933.455 L1352.22 931.789 L1356.9 931.789 L1356.9 962.413 L1364.54 962.413 L1364.54 966.349 L1344.63 966.349 L1344.63 962.413 Z\" fill=\"#000000\" fill-rule=\"evenodd\" fill-opacity=\"1\" /><path clip-path=\"url(#clip500)\" d=\"M1383.98 934.867 Q1380.37 934.867 1378.54 938.432 Q1376.74 941.974 1376.74 949.103 Q1376.74 956.21 1378.54 959.775 Q1380.37 963.316 1383.98 963.316 Q1387.61 963.316 1389.42 959.775 Q1391.25 956.21 1391.25 949.103 Q1391.25 941.974 1389.42 938.432 Q1387.61 934.867 1383.98 934.867 M1383.98 931.164 Q1389.79 931.164 1392.85 935.77 Q1395.92 940.353 1395.92 949.103 Q1395.92 957.83 1392.85 962.437 Q1389.79 967.02 1383.98 967.02 Q1378.17 967.02 1375.09 962.437 Q1372.04 957.83 1372.04 949.103 Q1372.04 940.353 1375.09 935.77 Q1378.17 931.164 1383.98 931.164 Z\" fill=\"#000000\" fill-rule=\"evenodd\" fill-opacity=\"1\" /><path clip-path=\"url(#clip500)\" d=\"M1397.11 910.858 L1412.02 910.858 L1412.02 914.056 L1400.59 914.056 L1400.59 920.939 Q1401.42 920.657 1402.24 920.525 Q1403.07 920.375 1403.9 920.375 Q1408.6 920.375 1411.35 922.952 Q1414.09 925.528 1414.09 929.929 Q1414.09 934.462 1411.27 936.982 Q1408.45 939.484 1403.32 939.484 Q1401.55 939.484 1399.71 939.183 Q1397.88 938.882 1395.92 938.28 L1395.92 934.462 Q1397.62 935.384 1399.42 935.835 Q1401.23 936.286 1403.24 936.286 Q1406.49 936.286 1408.39 934.575 Q1410.29 932.863 1410.29 929.929 Q1410.29 926.995 1408.39 925.284 Q1406.49 923.572 1403.24 923.572 Q1401.72 923.572 1400.19 923.911 Q1398.69 924.249 1397.11 924.964 L1397.11 910.858 Z\" fill=\"#000000\" fill-rule=\"evenodd\" fill-opacity=\"1\" /><polyline clip-path=\"url(#clip505)\" style=\"stroke:#008000; stroke-linecap:butt; stroke-linejoin:round; stroke-width:4; stroke-opacity:1; fill:none\" points=\"\n",
       "  1475.64,1468.36 1493.38,1468.36 1511.12,1468.36 1528.86,1468.35 1546.6,1468.35 1564.35,1468.35 1582.09,1468.35 1599.83,1468.35 1617.57,1468.34 1635.31,1468.34 \n",
       "  1653.05,1468.33 1670.79,1468.32 1688.53,1468.31 1706.27,1468.3 1724.01,1468.28 1741.76,1468.25 1759.5,1468.22 1777.24,1468.18 1794.98,1468.13 1812.72,1468.06 \n",
       "  1830.46,1467.96 1848.2,1467.85 1865.94,1467.69 1883.68,1467.49 1901.42,1467.23 1919.17,1466.9 1936.91,1466.46 1954.65,1465.89 1972.39,1465.15 1990.13,1464.19 \n",
       "  2007.87,1462.94 2025.61,1461.32 2043.35,1459.21 2061.09,1456.48 2078.83,1452.92 2096.58,1448.3 2114.32,1442.3 2132.06,1434.5 2149.8,1424.37 2167.54,1411.2 \n",
       "  2185.28,1394.1 2203.02,1371.88 2220.76,1343 2238.5,1305.49 2256.24,1256.75 2273.99,1193.42 2291.73,1111.14 2309.47,1004.23 2327.21,865.335 \n",
       "  \"/>\n",
       "<path clip-path=\"url(#clip500)\" d=\"\n",
       "M2077.53 972.231 L2322.67 972.231 L2322.67 868.551 L2077.53 868.551  Z\n",
       "  \" fill=\"#ffffff\" fill-rule=\"evenodd\" fill-opacity=\"1\"/>\n",
       "<polyline clip-path=\"url(#clip500)\" style=\"stroke:#000000; stroke-linecap:butt; stroke-linejoin:round; stroke-width:4; stroke-opacity:1; fill:none\" points=\"\n",
       "  2077.53,972.231 2322.67,972.231 2322.67,868.551 2077.53,868.551 2077.53,972.231 \n",
       "  \"/>\n",
       "<polyline clip-path=\"url(#clip500)\" style=\"stroke:#008000; stroke-linecap:butt; stroke-linejoin:round; stroke-width:4; stroke-opacity:1; fill:none\" points=\"\n",
       "  2087.56,920.391 2147.74,920.391 \n",
       "  \"/>\n",
       "<path clip-path=\"url(#clip500)\" d=\"M2181.8 923.643 L2181.8 925.727 L2162.22 925.727 Q2162.49 930.125 2164.85 932.439 Q2167.24 934.731 2171.47 934.731 Q2173.93 934.731 2176.22 934.129 Q2178.53 933.527 2180.8 932.324 L2180.8 936.351 Q2178.51 937.324 2176.1 937.833 Q2173.7 938.342 2171.22 938.342 Q2165.02 938.342 2161.38 934.731 Q2157.77 931.12 2157.77 924.963 Q2157.77 918.597 2161.2 914.87 Q2164.65 911.12 2170.48 911.12 Q2175.71 911.12 2178.74 914.5 Q2181.8 917.856 2181.8 923.643 M2177.54 922.393 Q2177.49 918.898 2175.57 916.815 Q2173.67 914.731 2170.53 914.731 Q2166.96 914.731 2164.81 916.745 Q2162.68 918.759 2162.35 922.416 L2177.54 922.393 Z\" fill=\"#000000\" fill-rule=\"evenodd\" fill-opacity=\"1\" /><path clip-path=\"url(#clip500)\" d=\"M2209.51 911.745 L2200.13 924.361 L2209.99 937.671 L2204.97 937.671 L2197.42 927.486 L2189.88 937.671 L2184.85 937.671 L2194.92 924.106 L2185.71 911.745 L2190.73 911.745 L2197.61 920.981 L2204.48 911.745 L2209.51 911.745 Z\" fill=\"#000000\" fill-rule=\"evenodd\" fill-opacity=\"1\" /><path clip-path=\"url(#clip500)\" d=\"M2220.13 933.782 L2220.13 947.532 L2215.85 947.532 L2215.85 911.745 L2220.13 911.745 L2220.13 915.68 Q2221.47 913.365 2223.51 912.254 Q2225.57 911.12 2228.42 911.12 Q2233.14 911.12 2236.08 914.87 Q2239.04 918.62 2239.04 924.731 Q2239.04 930.842 2236.08 934.592 Q2233.14 938.342 2228.42 938.342 Q2225.57 938.342 2223.51 937.231 Q2221.47 936.097 2220.13 933.782 M2234.62 924.731 Q2234.62 920.032 2232.68 917.37 Q2230.76 914.685 2227.38 914.685 Q2224 914.685 2222.05 917.37 Q2220.13 920.032 2220.13 924.731 Q2220.13 929.43 2222.05 932.115 Q2224 934.777 2227.38 934.777 Q2230.76 934.777 2232.68 932.115 Q2234.62 929.43 2234.62 924.731 Z\" fill=\"#000000\" fill-rule=\"evenodd\" fill-opacity=\"1\" /><path clip-path=\"url(#clip500)\" d=\"M2256.34 901.699 Q2253.23 907.023 2251.73 912.231 Q2250.22 917.44 2250.22 922.787 Q2250.22 928.134 2251.73 933.389 Q2253.26 938.62 2256.34 943.921 L2252.63 943.921 Q2249.16 938.481 2247.42 933.226 Q2245.71 927.972 2245.71 922.787 Q2245.71 917.625 2247.42 912.393 Q2249.14 907.162 2252.63 901.699 L2256.34 901.699 Z\" fill=\"#000000\" fill-rule=\"evenodd\" fill-opacity=\"1\" /><path clip-path=\"url(#clip500)\" d=\"M2286.15 911.745 L2276.77 924.361 L2286.64 937.671 L2281.61 937.671 L2274.07 927.486 L2266.52 937.671 L2261.5 937.671 L2271.57 924.106 L2262.35 911.745 L2267.38 911.745 L2274.25 920.981 L2281.13 911.745 L2286.15 911.745 Z\" fill=\"#000000\" fill-rule=\"evenodd\" fill-opacity=\"1\" /><path clip-path=\"url(#clip500)\" d=\"M2291.98 901.699 L2295.69 901.699 Q2299.16 907.162 2300.87 912.393 Q2302.61 917.625 2302.61 922.787 Q2302.61 927.972 2300.87 933.226 Q2299.16 938.481 2295.69 943.921 L2291.98 943.921 Q2295.06 938.62 2296.57 933.389 Q2298.09 928.134 2298.09 922.787 Q2298.09 917.44 2296.57 912.231 Q2295.06 907.023 2291.98 901.699 Z\" fill=\"#000000\" fill-rule=\"evenodd\" fill-opacity=\"1\" /></svg>\n"
      ]
     },
     "execution_count": 41,
     "metadata": {},
     "output_type": "execute_result"
    }
   ],
   "source": [
    "y3 = atan.(x)\n",
    "y4 = exp.(x)\n",
    "\n",
    "p1 = plot(x, y1, label=\"sin(x)\", color=\"dodgerblue\")\n",
    "p2 = plot(x, y2, label=\"cos(x)\", color=\"red\")\n",
    "p3 = plot(x, y3, label=\"atan(x)\", color=\"orange\")\n",
    "p4 = plot(x, y4, label=\"exp(x)\", color=\"green\")\n",
    "\n",
    "plot(p1, p2, p3, p4, layout=(2,2), legend=true)"
   ]
  }
 ],
 "metadata": {
  "kernelspec": {
   "display_name": "Julia 1.7.2",
   "language": "julia",
   "name": "julia-1.7"
  },
  "language_info": {
   "file_extension": ".jl",
   "mimetype": "application/julia",
   "name": "julia",
   "version": "1.7.2"
  },
  "toc": {
   "base_numbering": 1,
   "nav_menu": {},
   "number_sections": false,
   "sideBar": true,
   "skip_h1_title": true,
   "title_cell": "Table of Contents",
   "title_sidebar": "Contents",
   "toc_cell": false,
   "toc_position": {},
   "toc_section_display": true,
   "toc_window_display": false
  }
 },
 "nbformat": 4,
 "nbformat_minor": 2
}
