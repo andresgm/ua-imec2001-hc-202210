{
 "cells": [
  {
   "cell_type": "markdown",
   "metadata": {},
   "source": [
    "# IMEC2201 Herramientas Computacionales \n",
    "## Taller Semana 6: Optimización\n",
    "### Fecha Límite Entrega (Bloque Neón): <font color=\"#FF5733\">23.59h de Mayo 22, 2022</font>\n",
    "\n",
    "Universidad de los Andes — Mayo 11, 2022.\n",
    "___\n",
    "### Tener en Cuenta\n",
    "La entrega del Taller 6 se puede realizar de tres maneras:\n",
    "1. Cargar la solución en su repositorio en GitHub y enviar el enlace del mismo vía Bloque Neón.\n",
    "2. Enviar vía Bloque Neón el archivo en Jupyter Notebook (extensión '.ipynb').\n",
    "3. Enviar vía Bloque Neón el archivo PDF del Jupyter Notebook.\n",
    "___\n",
    "\n",
    "# Semana 6: Optimizacion\n",
    "\n",
    "En esta semana se trabajaran diferentes casos de optimización, desde bombas hasta turbinas eólicas. Este tipo de ejercicios se realizan en ingeniería mecánica para el diseño de diferentes sistemas de bombeo o de conversión de energía. En complemento a lo visto en clase, se dejara un taller práctico con el fin de optimizar diferentes parámetros de bombas y turbinas eólicas. "
   ]
  },
  {
   "cell_type": "code",
   "execution_count": 2,
   "metadata": {},
   "outputs": [],
   "source": [
    "# Importar paquetes\n",
    "using JuMP\n",
    "using GLPK\n",
    "using Ipopt\n",
    "using Plots\n",
    "using Dierckx\n",
    "using DataFrames\n",
    "using Interpolations\n",
    "using Roots \n",
    "using NLsolve"
   ]
  },
  {
   "cell_type": "markdown",
   "metadata": {},
   "source": [
    "# Bomba Centrifuga\n",
    "\n",
    "Se necesita conocer la cabeza máxima de una bomba ficticia, cuya eficiencia es constante en un 30%. Opera entre 1000 y 2000 RPM, y el diámetro mínimo es de 10 centímetros. \n",
    "\n",
    "**Nota:** Buscar las propiedades hidráulicas del agua a temperatura ambiente.\n",
    "\n",
    "#### Detalles\n",
    "Recuerden que la eficiencia de la bomba es la relación entre estos parámetros, es decir:\n",
    "\n",
    "$$\n",
    "\\eta = \\frac{P_w}{P_f} = \\frac{\\rho g Q H}{w T}\n",
    "$$\n",
    "\n",
    "Donde la potencia que la bomba centrífuga le añade al fluido (conocida como **potencia hidráulica** $P_w$), es:\n",
    "\n",
    "$$\n",
    "P_w = \\rho g Q H\n",
    "$$\n",
    "\n",
    "Y para que la bomba centrífuga le añada energía al fluido, debe haber un recurso que, asimismo, le suministre energía al dispositivo. Esto último es conocido como **potencia mecánica** $P_f$ y es el producto entre la velocidad de rotación del eje de la bomba $w$ y el torque en el mismo $T$.\n",
    "\n",
    "$$\n",
    "P_f = w T\n",
    "$$\n",
    "\n",
    "También:\n",
    "\n",
    "$$\n",
    "Q = VA\n",
    "$$\n",
    "\n",
    "y\n",
    "\n",
    "$$\n",
    "A = \\frac{\\pi D^2}{4}\n",
    "$$"
   ]
  },
  {
   "cell_type": "code",
   "execution_count": 3,
   "metadata": {},
   "outputs": [
    {
     "data": {
      "text/plain": [
       "bomba_centrifuga (generic function with 1 method)"
      ]
     },
     "execution_count": 3,
     "metadata": {},
     "output_type": "execute_result"
    }
   ],
   "source": [
    "function bomba_centrifuga()\n",
    "    # No poner argumentos, escribir el codigo aqui para evitar sanciones en la calificación\n",
    "    return # Poner respuesta final aqui\n",
    "end"
   ]
  },
  {
   "cell_type": "markdown",
   "metadata": {},
   "source": [
    "# Turbina Eólica\n",
    "\n",
    "Para un parque eólico en La Guajira, se tomaron medidas de velocidad del viento, las cuales, segun el sitio https://www.windy.com/ oscilan entre 15 y 22 nudos. Si se planea que la velocidad angular de la turbina no supere las 3000 RPM, encontrar el mínimo diámetro posible con el fin de extraer 60 GW de potencia del viento. \n",
    "\n",
    "**Nota:** Tener en cuenta que la potencia eólica es: $P_w = \\frac{1}{2}\\rho A v^3$ donde $\\rho$ es la densidad del aire. \n",
    "\n",
    "#### Detalles\n",
    "Recuerde que:\n",
    "- 1 nudo equivale a 0.51 m/s.\n",
    "- La densidad $\\rho$ del aire es 1.225 kg/m$^3$.\n",
    "\n",
    "También, el área $A$ es:\n",
    "\n",
    "$$\n",
    "A = \\frac{\\pi D^2}{4}\n",
    "$$"
   ]
  },
  {
   "cell_type": "code",
   "execution_count": 4,
   "metadata": {},
   "outputs": [
    {
     "data": {
      "text/plain": [
       "turbina_eolica (generic function with 1 method)"
      ]
     },
     "execution_count": 4,
     "metadata": {},
     "output_type": "execute_result"
    }
   ],
   "source": [
    "function turbina_eolica()\n",
    "    return # De nuevo, escribir la respuesta final aquí\n",
    "end"
   ]
  }
 ],
 "metadata": {
  "kernelspec": {
   "display_name": "Julia 1.7.2",
   "language": "julia",
   "name": "julia-1.7"
  },
  "language_info": {
   "file_extension": ".jl",
   "mimetype": "application/julia",
   "name": "julia",
   "version": "1.7.2"
  }
 },
 "nbformat": 4,
 "nbformat_minor": 5
}
