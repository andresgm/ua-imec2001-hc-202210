{
 "cells": [
  {
   "cell_type": "markdown",
   "metadata": {},
   "source": [
    "# IMEC2201 Herramientas Computacionales \n",
    "## Semana 3: Interpolación y Curva de Bomba\n",
    "### Clase 4: Ajuste de Datos e Incertidumbre\n",
    "\n",
    "Universidad de los Andes — Abril 18, 2022.\n",
    "\n",
    "---\n",
    "\n",
    "## TABLA DE CONTENIDO\n",
    "\n",
    "### Sección 1: Interpolación [→](#section1)\n",
    "- 1.1. Cargar Librerías\n",
    "- 1.2. Mínimos Cuadrados Ordinarios (OLS)\n",
    "    - 1.2.1. Gráfica MBHP vs Masa\n",
    "    - 1.2.2. Ajuste Lineal\n",
    "    - 1.2.3. Coeficiente de Correlación\n",
    "    - 1.2.4. Caso Práctico\n",
    "- 1.3. Histogramas\n",
    "\n",
    "### Sección 2: Incertidumbre [→](#section2)\n",
    "- 2.1. Error Aleatorio\n",
    "- 2.2. Barras de Error\n",
    "- 2.3. Librería Measurements.jl\n",
    "    - 2.3.1. Barras de Error\n",
    "    - 2.3.2. Propagación de Error\n",
    "___"
   ]
  },
  {
   "cell_type": "markdown",
   "metadata": {},
   "source": [
    "**¡Importante!** Note que la carpeta **week3** contiene dos archivos: `Project.toml` y `Manifest.toml`. Estos configuran el <font color=\"#FF5733\">*ambiente de trabajo*</font> y facilitan el manejo de <font color=\"#FF5733\">librerías</font>.\n",
    "\n",
    "Para inicializar el ambiente desde Julia REPL, dentro de la carpeta **week2**, ejecute lo siguiente:\n",
    "\n",
    "```shell\n",
    "$ (v1.7) pkg > activate .\n",
    "$ (week2) pkg> instantiate\n",
    "```\n",
    "\n",
    "**Nota:** Para acceder al Pkg REPL, escriba el corchete derecho `]` en el Julia REPL. Note que el REPL cambie de color de verde (Julia REPL) a azul (Pkg REPL). Una vez ejecutado el código `activate .`, el prefijo entre paréntesis indica el ambiente activo: cambia de `v1.7` a `week2`.\n",
    "\n",
    "O, desde Jupyter Notebook, ejecute:\n",
    "\n",
    "```julia\n",
    "$ using Pkg\n",
    "$ Pkg.activate()\n",
    "$ Pkg.instantiate()\n",
    "```\n",
    "\n",
    "**Nota:** La activación del ambiente <font color=\"#FF5733\">*precompila*</font> las librerías por lo que puede tardar un momento su ejecución completa.\n",
    "\n",
    "<div class=\"alert alert-block alert-info\">\n",
    "    \n",
    "<i class=\"fa fa-info-circle\" aria-hidden=\"true\"></i>\n",
    "Puede obtener más información en la documentación oficial de la librería [`Pkg.jl`](https://pkgdocs.julialang.org/v1/environments/) y en el documento dando clic [aquí](https://towardsdatascience.com/how-to-setup-project-environments-in-julia-ec8ae73afe9c).\n",
    "</div>"
   ]
  },
  {
   "cell_type": "code",
   "execution_count": null,
   "metadata": {},
   "outputs": [],
   "source": [
    "using Pkg\n",
    "Pkg.activate(pwd())\n",
    "Pkg.instantiate()"
   ]
  },
  {
   "cell_type": "code",
   "execution_count": null,
   "metadata": {},
   "outputs": [],
   "source": [
    "Pkg.status()"
   ]
  },
  {
   "cell_type": "markdown",
   "metadata": {},
   "source": [
    "<a id=\"section1\"></a>\n",
    "# Sección 1: Interpolación\n",
    "\n",
    "La interpolación es el ejercicio de determinar una función $ f(x) $ que pase por un conjunto de puntos.\n",
    "\n",
    "Típicamente, en los laboratorios de los cursos de Ingeniería Mecánica, se dispone de un número de datos obtenidos por muestreo a partir de un experimento y se pretende construir una función que los ajuste para así obtener nuevos puntos y precisar/expander el análisis.\n",
    "\n",
    "**Nota:** La interpolación es diferente a la *regresión* dado que la última busca determinar una función que **describa** el modelo físico particular; es decir, una tendencia.\n",
    "\n",
    "En general, vamos a utilizar la librería `Interpolations.jl` para explorar diferentes tipos de interpolación."
   ]
  },
  {
   "cell_type": "markdown",
   "metadata": {},
   "source": [
    "## 1.1. Cargar Librerías"
   ]
  },
  {
   "cell_type": "code",
   "execution_count": null,
   "metadata": {},
   "outputs": [],
   "source": [
    "using Plots\n",
    "using Interpolations"
   ]
  },
  {
   "cell_type": "markdown",
   "metadata": {},
   "source": [
    "# 1.2. Interpolación Lineal\n",
    "\n",
    "En este escenario, tenemos un par de puntos $(x_k,\\:y_k)$ y se quiere conocer el valor de $y$ para un valor cualquiera de $x$ en el intervalo $[x_0, x_1, ..., x_n]$.\n",
    "\n",
    "El ejercicio consiste en determinar la recta que pasa por dos puntos continuos, es decir, en el intervalo $[x_k, \\:x_{k+1}]$.\n",
    "\n",
    "El modelo matemático para un par de puntos $(x_a,\\:y_a)$ y $(x_b,\\:y_b)$ es:\n",
    "\n",
    "$$\n",
    "y = y_a + (x - x_a) \\cdot \\frac{y_b - y_a}{x_b - x_a}\n",
    "$$\n",
    "\n",
    "Con la librería `Interpolations.jl` utilizamos la función `LinearInterpolation`. La sintaxis de esta función consiste en:\n",
    "\n",
    "1. Definir el interpolador mediante `LinearInterpolation(x,y)`.\n",
    "2. Ejecutar la función determinada por el interpolador en el conjunto de puntos independiente mediante."
   ]
  },
  {
   "cell_type": "code",
   "execution_count": null,
   "metadata": {},
   "outputs": [],
   "source": [
    "# Límite inferior y superior del intervalo\n",
    "a = 0.0\n",
    "b = 2π\n",
    "ndatos = 7\n",
    "\n",
    "# Definición del intervalo\n",
    "x = collect(range(a, stop=b, length=ndatos))\n",
    "\n",
    "# Función que originalmente desconocemos\n",
    "y = sin.(x)\n",
    "\n",
    "# Interpolación lineal\n",
    "itp_lineal = LinearInterpolation(x, y)\n",
    "\n",
    "# Ejecución del interpolador\n",
    "f_lineal(x) = itp_lineal(x)\n",
    "\n",
    "# Gráficas\n",
    "plot(x, y, seriestype=:scatter, m=:circle, ms=5, mc=:dodgerblue, label=\"Datos Conocidos\", legend=true)\n",
    "plot!(x, f_lineal, seriestype=:line, ls=:dash, w=2, m=:none, ms=5, label=\"Interpolación Lineal\", legend=true)"
   ]
  },
  {
   "cell_type": "markdown",
   "metadata": {},
   "source": [
    "En este caso, si quisiera conocer el valor en un punto dado, debo utilizar la misma función, indicando el valor de interés, es decir: `LinearInterpolation(x)`."
   ]
  },
  {
   "cell_type": "code",
   "execution_count": null,
   "metadata": {},
   "outputs": [],
   "source": [
    "x"
   ]
  },
  {
   "cell_type": "code",
   "execution_count": null,
   "metadata": {},
   "outputs": [],
   "source": [
    "x_interes = 2.5\n",
    "y_interes = itp_lineal(x_interes)\n",
    "\n",
    "println(\"Para x = $(x_interes), el valor de y es $(round(y_interes, digits=2)).\")\n",
    "\n",
    "plot!([x_interes], [y_interes], seriestype=:scatter, m=:circle, ms=5, label=\"Dato Interés\", legend=true)"
   ]
  },
  {
   "cell_type": "markdown",
   "metadata": {},
   "source": [
    "Note lo que sucede si se aumenta el número de puntos del conjunto de datos conocidos."
   ]
  },
  {
   "cell_type": "code",
   "execution_count": null,
   "metadata": {},
   "outputs": [],
   "source": [
    "# Intervalo para X_interes\n",
    "function x_i(a, b, ndatos)\n",
    "    Xs = range(a, stop=b, length=ndatos)\n",
    "    xs = []\n",
    "    \n",
    "    for i in Xs\n",
    "        push!(xs, i)\n",
    "    end\n",
    "    \n",
    "    return xs\n",
    "end\n",
    "\n",
    "# Intervalo para Y_interes\n",
    "function y_i(funct, a, b, ndatos)\n",
    "    Xs = range(a, stop=b, length=ndatos)\n",
    "    ys = []\n",
    "    \n",
    "    for i in Xs\n",
    "        y = funct(i)\n",
    "        push!(ys, y)\n",
    "    end\n",
    "    \n",
    "    return ys\n",
    "end\n",
    "\n",
    "function funct(x)\n",
    "    return sin.(x)\n",
    "end"
   ]
  },
  {
   "cell_type": "code",
   "execution_count": null,
   "metadata": {},
   "outputs": [],
   "source": [
    "ndatos = 7\n",
    "\n",
    "# Definición del intervalo\n",
    "x = collect(range(a, stop=b, length=ndatos))\n",
    "\n",
    "# Función que originalmente desconocemos\n",
    "y = sin.(x)\n",
    "\n",
    "# Gráfica teórica\n",
    "plot(x, y, seriestype=:scatter, m=:circle, ms=5, mc=:dodgerblue, label=\"Datos Conocidos\", legend=true)\n",
    "\n",
    "# Interés\n",
    "ndat = 15\n",
    "x_int = x_i(a, b, ndat)\n",
    "y_int = y_i(funct, a, b, ndat)\n",
    "\n",
    "# Interpolación lineal\n",
    "itp_lineal = LinearInterpolation(x_int, y_int)\n",
    "\n",
    "# Ejecución del interpolador\n",
    "f_lineal(x) = itp_lineal(x)\n",
    "\n",
    "plot(x, y, seriestype=:scatter, m=:circle, ms=5, mc=:dodgerblue, label=\"Datos Conocidos\", legend=true)\n",
    "plot!(x, f_lineal, seriestype=:line, ls=:dash, w=1, m=:none, ms=5, label=\"Int. Lin. Pocos Puntos\", legend=true)\n",
    "plot!(x_int, f_lineal, seriestype=:line, ls=:solid, w=1, m=:rect, ms=3, label=\"Int. Lin. Muchos Puntos\", legend=true)"
   ]
  },
  {
   "cell_type": "markdown",
   "metadata": {},
   "source": [
    "Ahora, si en lugar de partir de una función utilizamos una nube de puntos (como típicamente es en un laboratorio), ¿cómo lo haríamos y qué obtendríamos?"
   ]
  },
  {
   "cell_type": "code",
   "execution_count": null,
   "metadata": {},
   "outputs": [],
   "source": [
    "xx = [0.97, 1.12, 2.92, 3.00, 3.33, 3.97, 6.10, 8.39, 8.56, 9.44]\n",
    "yy = [2.58, 0.43, 0.06, 5.74, 7.44, 8.07, 6.37, 2.51, 1.44, 0.52]\n",
    "\n",
    "# Interpolación lineal\n",
    "itp_lineal = LinearInterpolation(xx, yy)\n",
    "\n",
    "# Ejecución del interpolador\n",
    "f_lineal(x) = itp_lineal(x)\n",
    "\n",
    "# Gráficas\n",
    "plot(xx, yy, seriestype=:scatter, m=:circle, ms=5, mc=:dodgerblue, label=\"Datos Conocidos\", legend=true)\n",
    "plot!(xx, f_lineal, seriestype=:line, ls=:dash, w=2, m=:none, ms=5, label=\"Interpolación Lineal\", legend=true)"
   ]
  },
  {
   "cell_type": "markdown",
   "metadata": {},
   "source": [
    "# 1.3. Interpolación con Splines\n",
    "\n",
    "Un *spline* es una curva suave definida en partes mediante diferentes polinomios.\n",
    "\n",
    "En interpolación, los *splines* dan lugar a buenos resultados para formas complicadas requiriendo solamente el uso de polinomios de bajo grado, evitando así las oscilaciones indeseables que se dan al interpolar mediante polinomios de grado elevado.\n",
    "\n",
    "Con la librería `Interpolations.jl` utilizamos la función `BSplines`. Como mencionamos que los *splines* se definen a partir de polinomios, es necesario establecer el grado de la función (equivalente al grado del polinomio). Con la librería `Interpolations.jl` podemos definir los siguientes grados a los *splines*: `Constant`, `Linear`, `Quadratic`, y `Cubic`, correspondiendo a grados 0, 1, 2 y 3, respectivamente."
   ]
  },
  {
   "cell_type": "code",
   "execution_count": null,
   "metadata": {},
   "outputs": [],
   "source": [
    "# Límite inferior y superior del intervalo\n",
    "a = 0.0\n",
    "b = 2π\n",
    "ndatos = 7\n",
    "\n",
    "# Definición del intervalo\n",
    "x = collect(range(a, stop=b, length=ndatos))\n",
    "\n",
    "# Función que originalmente desconocemos\n",
    "y = sin.(x)\n",
    "\n",
    "# Interpolación lineal\n",
    "itp_cubic = CubicSplineInterpolation(range(a, stop=b, length=ndatos), y)\n",
    "\n",
    "# Ejecución del interpolador\n",
    "f_cubic(x) = itp_cubic(x)\n",
    "\n",
    "# Gráficas\n",
    "plot(x, y, seriestype=:scatter, m=:circle, ms=5, mc=:dodgerblue, label=\"Datos Conocidos\", legend=true)\n",
    "plot!(range(a, stop=b, length=15), f_cubic, seriestype=:line, ls=:dash, w=2, m=:none, ms=5, label=\"Interpolación Lineal\", legend=true)"
   ]
  },
  {
   "cell_type": "code",
   "execution_count": null,
   "metadata": {},
   "outputs": [],
   "source": [
    "x_interes = 2.5\n",
    "y_interes = itp_cubic(x_interes)\n",
    "\n",
    "println(\"Para x = $(x_interes), el valor de y es $(round(y_interes, digits=2)).\")\n",
    "\n",
    "plot!([x_interes], [y_interes], seriestype=:scatter, m=:circle, ms=5, label=\"Dato Interés\", legend=true)"
   ]
  },
  {
   "cell_type": "markdown",
   "metadata": {},
   "source": [
    "## 1.4. Splines 1D "
   ]
  },
  {
   "cell_type": "code",
   "execution_count": null,
   "metadata": {},
   "outputs": [],
   "source": [
    "using Dierckx\n",
    "\n",
    "# Límite inferior y superior del intervalo\n",
    "a = 0.0\n",
    "b = 2π\n",
    "ndatos = 7\n",
    "\n",
    "# Definición del intervalo\n",
    "x = collect(range(a, stop=b, length=ndatos))\n",
    "\n",
    "# Función que originalmente desconocemos\n",
    "y = sin.(x)\n",
    "\n",
    "# Spline 1D\n",
    "spl = Spline1D(x, y)\n",
    "\n",
    "spl(2.5)"
   ]
  },
  {
   "cell_type": "markdown",
   "metadata": {},
   "source": [
    "## 1.5. ¿Matemáticamente?"
   ]
  },
  {
   "cell_type": "code",
   "execution_count": null,
   "metadata": {},
   "outputs": [],
   "source": [
    "xlst = collect(range(0, stop=2π, length=7));\n",
    "flst = sin.(xlst);\n",
    "\n",
    "# receives number of points n (odd) to interpolate # and the original data via x and f\n",
    "function interp1(n, x, f)\n",
    "    xnew = collect(range(x[1], stop=x[end], length=n)); # creates new axes\n",
    "    fnew = zeros(n); # and initialize new data as zero\n",
    "    \n",
    "    i = 1; # label new sites\n",
    "    for j=1:(length(x)-1) # runs over old sites\n",
    "        xa = x[j]; # known points\n",
    "        xb = x[j+1];\n",
    "        \n",
    "        fa = f[j]; # known data\n",
    "        fb = f[j+1];\n",
    "        \n",
    "        # matrix form to find the coefficients\n",
    "        M = [xa 1.0; xb 1.0];\n",
    "        C1, C0 = inv(M)*[fa; fb];\n",
    "        # calculate the new data within every two points interval\n",
    "        while i <= n && xnew[i] <= xb\n",
    "            fnew[i] = C1*xnew[i] + C0;\n",
    "            i += 1;\n",
    "        end\n",
    "    end\n",
    "    return xnew, fnew; # return interpolated data\n",
    "end\n",
    "\n",
    "# calls function to interpolate\n",
    "xnew, fnew = interp1(50, xlst, flst);\n",
    "\n",
    "# plot old data, new data, and exact function\n",
    "plot(xlst, flst, seriestype=:scatter, m=:circle, ms=4, label=\"Original points\")\n",
    "plot!(xnew, fnew, seriestype=:line, ls=:dot, m=:rect, ms=2.5, label=\"Interpolated points\")\n",
    "plot!(xnew, sin.(xnew), seriestype=:line, m=:none, ms=4, label=\"sin(x)\")"
   ]
  }
 ],
 "metadata": {
  "kernelspec": {
   "display_name": "Julia 1.7.2",
   "language": "julia",
   "name": "julia-1.7"
  },
  "language_info": {
   "file_extension": ".jl",
   "mimetype": "application/julia",
   "name": "julia",
   "version": "1.7.2"
  },
  "toc": {
   "base_numbering": 1,
   "nav_menu": {},
   "number_sections": false,
   "sideBar": true,
   "skip_h1_title": true,
   "title_cell": "Table of Contents",
   "title_sidebar": "Contents",
   "toc_cell": false,
   "toc_position": {},
   "toc_section_display": true,
   "toc_window_display": false
  }
 },
 "nbformat": 4,
 "nbformat_minor": 2
}
